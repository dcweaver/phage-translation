{
 "cells": [
  {
   "cell_type": "code",
   "execution_count": 1,
   "metadata": {},
   "outputs": [],
   "source": [
    "%matplotlib inline\n",
    "%load_ext autoreload\n",
    "\n",
    "%autoreload 2"
   ]
  },
  {
   "cell_type": "markdown",
   "metadata": {},
   "source": [
    "# Notebook summary\n",
    "\n",
    "The purpose of this notebook is to create a set of `.tsv` files from various sources for both host and viral genomes. It is expected that the project organization follows the relative path where all initial files are located within `../Data`. "
   ]
  },
  {
   "cell_type": "markdown",
   "metadata": {},
   "source": [
    "# Imports"
   ]
  },
  {
   "cell_type": "code",
   "execution_count": 2,
   "metadata": {},
   "outputs": [],
   "source": [
    "import json\n",
    "import gff3_parsing ###A separate .py library that should be available in the python path\n",
    "import pandas as pd\n",
    "import glob"
   ]
  },
  {
   "cell_type": "markdown",
   "metadata": {},
   "source": [
    "# Custom function definitions"
   ]
  },
  {
   "cell_type": "code",
   "execution_count": 3,
   "metadata": {},
   "outputs": [],
   "source": [
    "def add_RBS_energy(dataframe, energy_dict, col_name=\"RBS_energy\",\\\n",
    "                   gaps=(4,10), expected_len=30, RBS_len=6):\n",
    "    \"\"\"\n",
    "    This function adds a ribosome binding site (RBS) energy column to the dataframe based off of \n",
    "    free energy values pre-computed and stored in the corresponding energy_dict. \n",
    "    \n",
    "    Inputs:\n",
    "        dataframe - \n",
    "        energy_dict - \n",
    "        gaps - \n",
    "        expected_len - \n",
    "    \n",
    "    Outputs:\n",
    "        dataframe - the transformed dataframe object now containing the energy_binding column\n",
    "    \n",
    "    \"\"\"\n",
    "    for index in dataframe.index:\n",
    "        upstream = dataframe.loc[index,\"upstream_sequence\"]\n",
    "        test_string = upstream.replace(\"T\", \"U\")\n",
    "        ###Ensure that the sequence is the proper expected length\n",
    "        if len(test_string) != expected_len:\n",
    "            continue\n",
    "        ###Ensure that the sequence has no abnormal bases\n",
    "        if test_string.count(\"A\") + test_string.count(\"U\") +\\\n",
    "                                    test_string.count(\"C\") + test_string.count(\"G\") != expected_len:\n",
    "            continue\n",
    "            \n",
    "        ###Calculate the energy for the indicated gap offsets\n",
    "        energy_list = []\n",
    "        for gap in range(gaps[0],gaps[1]+1):\n",
    "             energy_list.append(energy_dict[test_string[-gap - RBS_len: -gap]])\n",
    "\n",
    "        dataframe.at[index, col_name] = min(energy_list)        \n",
    "    return dataframe"
   ]
  },
  {
   "cell_type": "markdown",
   "metadata": {},
   "source": [
    "# Notebook-wide parameters "
   ]
  },
  {
   "cell_type": "code",
   "execution_count": 4,
   "metadata": {},
   "outputs": [],
   "source": [
    "sep = \"\\t\"\n",
    "upstream_len = 30\n",
    "\n",
    "with open('../Data/energy_files/energyRef_CCUCCU_ensemble_noneConstraint.json', 'r') as infile:\n",
    "       energy_dict = json.load(infile)"
   ]
  },
  {
   "cell_type": "markdown",
   "metadata": {},
   "source": [
    "# Creating `.tsv` files for host genomes"
   ]
  },
  {
   "cell_type": "code",
   "execution_count": 5,
   "metadata": {},
   "outputs": [],
   "source": [
    "host_ids = [36809,\\\n",
    "           717959,\\\n",
    "           305,\\\n",
    "           1590,\\\n",
    "           435591,\\\n",
    "           90371,\\\n",
    "           1314,\\\n",
    "           357276,\\\n",
    "           657318,\\\n",
    "           1639,\\\n",
    "           1428,\\\n",
    "           470,\\\n",
    "           573,\\\n",
    "           1280,\\\n",
    "           287,\\\n",
    "           562]\n",
    "\n",
    "for host_id in host_ids:\n",
    "    ###Creates the dataframe based off a gff3 and fasta file\n",
    "    host_df, host_genome = gff3_parsing.compile_sequences([\"../Data/host_genomes/{}.gff3\".format(host_id)],\n",
    "                                                        [\"../Data/host_genomes/{}.fasta\".format(host_id)], upstream_len)\n",
    "    ###Adds the ribosome binding site energy column\n",
    "    host_df = add_RBS_energy(host_df, energy_dict, col_name=\"RBS_energy\", gaps=(4,10))\n",
    "    host_df = add_RBS_energy(host_df, energy_dict, col_name=\"RBS_energy_upstream\", gaps=(11,17))\n",
    "\n",
    "    \n",
    "    ###Writes to a file\n",
    "    host_df.to_csv(\"../Data/host_genomes/{}.tsv\".format(host_id), sep = sep )"
   ]
  },
  {
   "cell_type": "markdown",
   "metadata": {},
   "source": [
    "## Treat the 2 chromosome hosts slightly differently to ensure no errors occur\n",
    "\n",
    "(There is currently only one of these)"
   ]
  },
  {
   "cell_type": "code",
   "execution_count": 6,
   "metadata": {},
   "outputs": [],
   "source": [
    "host_ids_2chrom = [28450]\n",
    "\n",
    "for host_id in host_ids_2chrom:\n",
    "    gffs = [\"../Data/host_genomes/{}.1.gff3\".format(host_id),\\\n",
    "            \"../Data/host_genomes/{}.2.gff3\".format(host_id)]\n",
    "\n",
    "    fastas = [\"../Data/host_genomes/{}.1.fasta\".format(host_id),\\\n",
    "              \"../Data/host_genomes/{}.2.fasta\".format(host_id)]\n",
    "\n",
    "    host_df, host_genome = gff3_parsing.compile_sequences(gffs, fastas, upstream_len)\n",
    "    ###Adds the ribosome binding site energy column\n",
    "    host_df = add_RBS_energy(host_df, energy_dict, col_name=\"RBS_energy\", gaps=(4,10))\n",
    "    host_df = add_RBS_energy(host_df, energy_dict, col_name=\"RBS_energy_upstream\", gaps=(11,17))\n",
    "\n",
    "\n",
    "    host_df.to_csv(\"../Data/host_genomes/{}.tsv\".format(host_id), sep=sep)"
   ]
  },
  {
   "cell_type": "code",
   "execution_count": null,
   "metadata": {},
   "outputs": [],
   "source": []
  },
  {
   "cell_type": "markdown",
   "metadata": {},
   "source": [
    "# Creating `.tsv` files for viral genomes\n",
    "\n",
    "Note that somewhat annoyingly I made these viral files end in `.gff` whereas the hosts end in `.gff3`."
   ]
  },
  {
   "cell_type": "code",
   "execution_count": 7,
   "metadata": {},
   "outputs": [],
   "source": [
    "###Concatenate the two existing host lists\n",
    "host_ids = host_ids + host_ids_2chrom\n",
    "for host_id in host_ids:\n",
    "    for gff_file in glob.glob(\"../Data/{}_rep_viruses/*.gff\".format(host_id)):\n",
    "        fasta_file = gff_file.replace(\".gff\", \".fasta\")\n",
    "        tsv_file = gff_file.replace(\".gff\", \".tsv\")\n",
    "        \n",
    "        viral_df, viral_genome = gff3_parsing.compile_sequences([gff_file], [fasta_file], upstream_len)\n",
    "        viral_df = add_RBS_energy(viral_df, energy_dict, col_name=\"RBS_energy\", gaps=(4,10))\n",
    "        viral_df = add_RBS_energy(viral_df, energy_dict, col_name=\"RBS_energy_upstream\", gaps=(11,17))\n",
    "        viral_df.to_csv(tsv_file, sep=sep)"
   ]
  },
  {
   "cell_type": "code",
   "execution_count": null,
   "metadata": {},
   "outputs": [],
   "source": []
  },
  {
   "cell_type": "code",
   "execution_count": null,
   "metadata": {},
   "outputs": [],
   "source": []
  }
 ],
 "metadata": {
  "kernelspec": {
   "display_name": "Python 3",
   "language": "python",
   "name": "python3"
  },
  "language_info": {
   "codemirror_mode": {
    "name": "ipython",
    "version": 3
   },
   "file_extension": ".py",
   "mimetype": "text/x-python",
   "name": "python",
   "nbconvert_exporter": "python",
   "pygments_lexer": "ipython3",
   "version": "3.7.1"
  },
  "toc": {
   "colors": {
    "hover_highlight": "#DAA520",
    "navigate_num": "#000000",
    "navigate_text": "#333333",
    "running_highlight": "#FF0000",
    "selected_highlight": "#FFD700",
    "sidebar_border": "#EEEEEE",
    "wrapper_background": "#FFFFFF"
   },
   "moveMenuLeft": true,
   "nav_menu": {
    "height": "66px",
    "width": "252px"
   },
   "navigate_menu": true,
   "number_sections": true,
   "sideBar": true,
   "threshold": 4,
   "toc_cell": false,
   "toc_section_display": "block",
   "toc_window_display": false,
   "widenNotebook": false
  }
 },
 "nbformat": 4,
 "nbformat_minor": 2
}

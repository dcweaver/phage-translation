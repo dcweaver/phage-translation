{
 "cells": [
  {
   "cell_type": "code",
   "execution_count": 1,
   "metadata": {},
   "outputs": [],
   "source": [
    "%matplotlib inline\n",
    "%load_ext autoreload\n",
    "\n",
    "%autoreload 2"
   ]
  },
  {
   "cell_type": "code",
   "execution_count": 2,
   "metadata": {},
   "outputs": [],
   "source": [
    "import pandas as pd\n",
    "from Bio import SeqIO\n",
    "from matplotlib import pyplot as plt\n",
    "import numpy as np\n",
    "\n",
    "from collections import defaultdict, Counter"
   ]
  },
  {
   "cell_type": "code",
   "execution_count": 3,
   "metadata": {},
   "outputs": [],
   "source": [
    "df = pd.read_csv('../Data/examples_for_testing/ecoli.gff3', sep='\\t', skiprows=2, header=None)\n",
    "df.columns = [\"genome_id\", \"source\", \"type\", \"start\", \"stop\", \"idk\", \"strand\", \"trash\", \"qualifiers\"]\n",
    "df = df[df[\"type\"]=='CDS']"
   ]
  },
  {
   "cell_type": "code",
   "execution_count": null,
   "metadata": {},
   "outputs": [],
   "source": []
  },
  {
   "cell_type": "code",
   "execution_count": null,
   "metadata": {},
   "outputs": [],
   "source": [
    "df.iloc[4]"
   ]
  },
  {
   "cell_type": "code",
   "execution_count": null,
   "metadata": {
    "scrolled": true
   },
   "outputs": [],
   "source": [
    "\n",
    "df"
   ]
  },
  {
   "cell_type": "code",
   "execution_count": null,
   "metadata": {},
   "outputs": [],
   "source": [
    "df[6]"
   ]
  },
  {
   "cell_type": "code",
   "execution_count": 4,
   "metadata": {},
   "outputs": [
    {
     "name": "stdout",
     "output_type": "stream",
     "text": [
      "ID: NC_000913.3\n",
      "Name: NC_000913.3\n",
      "Description: NC_000913.3 Escherichia coli str. K-12 substr. MG1655, complete genome\n",
      "Number of features: 0\n",
      "Seq('AGCTTTTCATTCTGACTGCAACGGGCAATATGTCTCTGTGTGGATTAAAAAAAG...TTC', SingleLetterAlphabet())\n"
     ]
    }
   ],
   "source": [
    "genome = list(SeqIO.parse('../Data/examples_for_testing/ecoli.fasta', \"fasta\"))[0]\n",
    "#print(genome)\n",
    "\n",
    "print(genome)\n"
   ]
  },
  {
   "cell_type": "code",
   "execution_count": null,
   "metadata": {},
   "outputs": [],
   "source": [
    "genome[0:10]"
   ]
  },
  {
   "cell_type": "code",
   "execution_count": null,
   "metadata": {},
   "outputs": [],
   "source": [
    "genome_seq = list()\n",
    "for genome in SeqIO.parse('../Data/examples_for_testing/ecoli.fasta', \"fasta\"):\n",
    "    genome_seq.append(genome.seq)\n",
    "\n",
    "\n",
    "genome = str(genome_seq[0])\n",
    "print(genome)"
   ]
  },
  {
   "cell_type": "code",
   "execution_count": null,
   "metadata": {},
   "outputs": [],
   "source": [
    "# ecoli_seq = SeqIO.index(\"../Data/examples_for_testing/ecoli.fasta\", \"fasta\")\n",
    "\n",
    "# full_seq = ecoli_seq.get_raw(\"NC_000913.3\").decode()[72:]"
   ]
  },
  {
   "cell_type": "code",
   "execution_count": null,
   "metadata": {},
   "outputs": [],
   "source": [
    "print(full_seq)"
   ]
  },
  {
   "cell_type": "code",
   "execution_count": 9,
   "metadata": {},
   "outputs": [
    {
     "data": {
      "text/plain": [
       "{'a', 'b', 'c'}"
      ]
     },
     "execution_count": 9,
     "metadata": {},
     "output_type": "execute_result"
    }
   ],
   "source": [
    "set([\"a\",\"b\",\"c\",\"a\"])"
   ]
  },
  {
   "cell_type": "code",
   "execution_count": 10,
   "metadata": {},
   "outputs": [
    {
     "data": {
      "text/plain": [
       "1"
      ]
     },
     "execution_count": 10,
     "metadata": {},
     "output_type": "execute_result"
    }
   ],
   "source": [
    "len(set(df[\"genome_id\"]))"
   ]
  },
  {
   "cell_type": "code",
   "execution_count": 15,
   "metadata": {},
   "outputs": [],
   "source": [
    "assert(df.iloc[0][\"genome_id\"] == genome.id)"
   ]
  },
  {
   "cell_type": "code",
   "execution_count": null,
   "metadata": {},
   "outputs": [],
   "source": [
    "df.head()"
   ]
  },
  {
   "cell_type": "code",
   "execution_count": null,
   "metadata": {},
   "outputs": [],
   "source": [
    "# for i in df.iterrows():\n",
    "#     print(df[1])\n",
    "start_codon = []\n",
    "\n",
    "for index in df.index:\n",
    "    \n",
    "    if df.loc[index][\"strand\"] == \"+\":\n",
    "        temp_start = df.loc[index][\"start\"]\n",
    "        #temp_stop = df.iloc[index][\"stop\"]\n",
    "        start_seq = genome.seq[temp_start-1: temp_start+2]\n",
    "    \n",
    "    elif df.loc[index][\"strand\"] == \"-\":\n",
    "        temp_start = df.loc[index][\"stop\"]\n",
    "        #temp_stop = df.iloc[index][\"start\"]\n",
    "        \n",
    "        start_seq = genome.seq[temp_start - 3 : temp_start]\n",
    "        start_seq = str(start_seq.reverse_complement())\n",
    "    \n",
    "    start_codon.append(str(start_seq))   \n",
    "    \n",
    "    \n",
    "Counter(start_codon)"
   ]
  },
  {
   "cell_type": "code",
   "execution_count": null,
   "metadata": {},
   "outputs": [],
   "source": []
  },
  {
   "cell_type": "code",
   "execution_count": null,
   "metadata": {},
   "outputs": [],
   "source": [
    "neg_strand = []\n",
    "\n",
    "for index in df.head(100).index:\n",
    "    \n",
    "    if df.loc[index][\"strand\"] == \"-\":\n",
    "        temp_start_2 = df.loc[index][\"stop\"]\n",
    "        #temp_stop_2 = df.iloc[index][\"start\"]\n",
    "    \n",
    "        neg_start_seq = genome.seq[temp_start_2 - 3 : temp_start_2]\n",
    "    \n",
    "        neg_strand.append(str(neg_start_seq.reverse_complement()))\n",
    "        \n",
    "Counter(neg_strand)"
   ]
  },
  {
   "cell_type": "code",
   "execution_count": null,
   "metadata": {},
   "outputs": [],
   "source": []
  },
  {
   "cell_type": "code",
   "execution_count": null,
   "metadata": {},
   "outputs": [],
   "source": []
  },
  {
   "cell_type": "code",
   "execution_count": null,
   "metadata": {},
   "outputs": [],
   "source": []
  },
  {
   "cell_type": "code",
   "execution_count": null,
   "metadata": {},
   "outputs": [],
   "source": [
    "upstream = []\n",
    "upstream_len = 11\n",
    "\n",
    "\n",
    "for index in df.head(100).index:\n",
    "    \n",
    "    if df.loc[index][\"strand\"] == \"+\":\n",
    "        temp_start = df.loc[index][\"start\"]\n",
    "        #temp_stop = df.iloc[index][\"stop\"]\n",
    "        upstream_seq = genome.seq[temp_start - upstream_len: temp_start + 2]\n",
    "    \n",
    "    elif df.loc[index][\"strand\"] == \"-\":\n",
    "        temp_start = df.loc[index][\"stop\"]\n",
    "        #temp_stop = df.iloc[index][\"start\"]\n",
    "        \n",
    "        upstream_seq = genome.seq[temp_start - 3 : temp_start + 10]\n",
    "        upstream_seq = str(upstream_seq.reverse_complement())\n",
    "    \n",
    "    upstream.append(str(upstream_seq))\n",
    "    \n",
    "print(upstream)\n",
    "    "
   ]
  },
  {
   "cell_type": "code",
   "execution_count": null,
   "metadata": {},
   "outputs": [],
   "source": []
  },
  {
   "cell_type": "code",
   "execution_count": null,
   "metadata": {
    "scrolled": true
   },
   "outputs": [],
   "source": [
    "start_loc = str(df[3].astype(int))\n",
    "\n",
    "\n",
    "print(start_loc)"
   ]
  },
  {
   "cell_type": "code",
   "execution_count": null,
   "metadata": {},
   "outputs": [],
   "source": []
  },
  {
   "cell_type": "code",
   "execution_count": null,
   "metadata": {},
   "outputs": [],
   "source": []
  },
  {
   "cell_type": "markdown",
   "metadata": {},
   "source": [
    "# Compiling useful bits of notebook"
   ]
  },
  {
   "cell_type": "code",
   "execution_count": null,
   "metadata": {},
   "outputs": [],
   "source": [
    "#setting up dataframe\n",
    "df = pd.read_csv('../Data/examples_for_testing/ecoli.gff3', sep='\\t', skiprows=2, header=None)\n",
    "df.columns = [\"genome_id\", \"source\", \"type\", \"start\", \"stop\", \"idk\", \"strand\", \"trash\", \"qualifiers\"]\n",
    "df = df[df[\"type\"]=='CDS']\n",
    "\n",
    "\n",
    "#read in genome \n",
    "genome = list(SeqIO.parse('../Data/examples_for_testing/ecoli.fasta', \"fasta\"))[0]\n",
    "\n",
    "\n",
    "#getting coding sequences\n",
    "upstream_len = 20\n",
    "\n",
    "for index in df.index:\n",
    "    #Getting coding sequence\n",
    "    temp_start = df.loc[index][\"start\"]\n",
    "    temp_stop = df.loc[index][\"stop\"]\n",
    "    coding_seq = genome.seq[temp_start-1: temp_stop]\n",
    "        \n",
    "    if df.loc[index][\"strand\"] == \"-\":\n",
    "        coding_seq = coding_seq.reverse_complement()\n",
    "        \n",
    "        \n",
    "    coding_seq = str(coding_seq)\n",
    "    \n",
    "    df.at[index, \"coding_sequence\"] = coding_seq\n",
    "    \n",
    "    #getting upstream seequence\n",
    "    \n",
    "    if df.loc[index][\"strand\"] == \"+\":\n",
    "        \n",
    "        upstream_seq = genome.seq[temp_start - upstream_len - 1: temp_start -1]\n",
    "    \n",
    "    elif df.loc[index][\"strand\"] == \"-\":\n",
    "    \n",
    "        upstream_seq = genome.seq[temp_stop : temp_stop + upstream_len]\n",
    "        upstream_seq = upstream_seq.reverse_complement()\n",
    "    \n",
    "    upstream_seq = str(upstream_seq)\n",
    "    \n",
    "    df.at[index, \"upstream_sequence\"] = upstream_seq\n",
    "    "
   ]
  },
  {
   "cell_type": "code",
   "execution_count": null,
   "metadata": {},
   "outputs": [],
   "source": [
    "for index in df.index:\n",
    "    if len(df.at[index, \"coding_sequence\"])%3 != 0 : \n",
    "        print(index)"
   ]
  },
  {
   "cell_type": "code",
   "execution_count": null,
   "metadata": {},
   "outputs": [],
   "source": [
    "df[\"coding_sequence\"]"
   ]
  },
  {
   "cell_type": "code",
   "execution_count": null,
   "metadata": {},
   "outputs": [],
   "source": []
  },
  {
   "cell_type": "code",
   "execution_count": null,
   "metadata": {},
   "outputs": [],
   "source": []
  },
  {
   "cell_type": "markdown",
   "metadata": {},
   "source": [
    "# Testing Library"
   ]
  },
  {
   "cell_type": "code",
   "execution_count": 2,
   "metadata": {},
   "outputs": [],
   "source": [
    "import gff3_parsing\n",
    "\n",
    "from gff3_parsing import compile_sequences"
   ]
  },
  {
   "cell_type": "code",
   "execution_count": 3,
   "metadata": {},
   "outputs": [],
   "source": [
    "new_df, new_genome = gff3_parsing.compile_sequences(\"../Data/examples_for_testing/ecoli.gff3\",\\\n",
    "                                                    \"../Data/examples_for_testing/ecoli.fasta\", 20)"
   ]
  },
  {
   "cell_type": "code",
   "execution_count": 4,
   "metadata": {},
   "outputs": [
    {
     "data": {
      "text/html": [
       "<div>\n",
       "<style scoped>\n",
       "    .dataframe tbody tr th:only-of-type {\n",
       "        vertical-align: middle;\n",
       "    }\n",
       "\n",
       "    .dataframe tbody tr th {\n",
       "        vertical-align: top;\n",
       "    }\n",
       "\n",
       "    .dataframe thead th {\n",
       "        text-align: right;\n",
       "    }\n",
       "</style>\n",
       "<table border=\"1\" class=\"dataframe\">\n",
       "  <thead>\n",
       "    <tr style=\"text-align: right;\">\n",
       "      <th></th>\n",
       "      <th>genome_id</th>\n",
       "      <th>source</th>\n",
       "      <th>type</th>\n",
       "      <th>start</th>\n",
       "      <th>stop</th>\n",
       "      <th>idk</th>\n",
       "      <th>strand</th>\n",
       "      <th>trash</th>\n",
       "      <th>qualifiers</th>\n",
       "      <th>coding_sequence</th>\n",
       "      <th>upstream_sequence</th>\n",
       "    </tr>\n",
       "  </thead>\n",
       "  <tbody>\n",
       "    <tr>\n",
       "      <th>2</th>\n",
       "      <td>NC_000913.3</td>\n",
       "      <td>RefSeq</td>\n",
       "      <td>CDS</td>\n",
       "      <td>190</td>\n",
       "      <td>255</td>\n",
       "      <td>.</td>\n",
       "      <td>+</td>\n",
       "      <td>0</td>\n",
       "      <td>ID=cds-NP_414542.1;Parent=gene-b0001;Dbxref=Un...</td>\n",
       "      <td>ATGAAACGCATTAGCACCACCATTACCACCACCATCACCATTACCA...</td>\n",
       "      <td>TTACAGAGTACACAACATCC</td>\n",
       "    </tr>\n",
       "    <tr>\n",
       "      <th>4</th>\n",
       "      <td>NC_000913.3</td>\n",
       "      <td>RefSeq</td>\n",
       "      <td>CDS</td>\n",
       "      <td>337</td>\n",
       "      <td>2799</td>\n",
       "      <td>.</td>\n",
       "      <td>+</td>\n",
       "      <td>0</td>\n",
       "      <td>ID=cds-NP_414543.1;Parent=gene-b0002;Dbxref=Un...</td>\n",
       "      <td>ATGCGAGTGTTGAAGTTCGGCGGTACATCAGTGGCAAATGCAGAAC...</td>\n",
       "      <td>AAGGTAACGAGGTAACAACC</td>\n",
       "    </tr>\n",
       "    <tr>\n",
       "      <th>6</th>\n",
       "      <td>NC_000913.3</td>\n",
       "      <td>RefSeq</td>\n",
       "      <td>CDS</td>\n",
       "      <td>2801</td>\n",
       "      <td>3733</td>\n",
       "      <td>.</td>\n",
       "      <td>+</td>\n",
       "      <td>0</td>\n",
       "      <td>ID=cds-NP_414544.1;Parent=gene-b0003;Dbxref=Un...</td>\n",
       "      <td>ATGGTTAAAGTTTATGCCCCGGCTTCCAGTGCCAATATGAGCGTCG...</td>\n",
       "      <td>ATGGAAGTTAGGAGTCTGAC</td>\n",
       "    </tr>\n",
       "    <tr>\n",
       "      <th>8</th>\n",
       "      <td>NC_000913.3</td>\n",
       "      <td>RefSeq</td>\n",
       "      <td>CDS</td>\n",
       "      <td>3734</td>\n",
       "      <td>5020</td>\n",
       "      <td>.</td>\n",
       "      <td>+</td>\n",
       "      <td>0</td>\n",
       "      <td>ID=cds-NP_414545.1;Parent=gene-b0004;Dbxref=Un...</td>\n",
       "      <td>ATGAAACTCTACAATCTGAAAGATCACAACGAGCAGGTCAGCTTTG...</td>\n",
       "      <td>CACGAGTACTGGAAAACTAA</td>\n",
       "    </tr>\n",
       "    <tr>\n",
       "      <th>10</th>\n",
       "      <td>NC_000913.3</td>\n",
       "      <td>RefSeq</td>\n",
       "      <td>CDS</td>\n",
       "      <td>5234</td>\n",
       "      <td>5530</td>\n",
       "      <td>.</td>\n",
       "      <td>+</td>\n",
       "      <td>0</td>\n",
       "      <td>ID=cds-NP_414546.1;Parent=gene-b0005;Dbxref=Un...</td>\n",
       "      <td>GTGAAAAAGATGCAATCTATCGTACTCGCACTTTCCCTGGTTCTGG...</td>\n",
       "      <td>AATGATAAAAGGAGTAACCT</td>\n",
       "    </tr>\n",
       "    <tr>\n",
       "      <th>14</th>\n",
       "      <td>NC_000913.3</td>\n",
       "      <td>RefSeq</td>\n",
       "      <td>CDS</td>\n",
       "      <td>5683</td>\n",
       "      <td>6459</td>\n",
       "      <td>.</td>\n",
       "      <td>-</td>\n",
       "      <td>0</td>\n",
       "      <td>ID=cds-NP_414547.1;Parent=gene-b0006;Dbxref=Un...</td>\n",
       "      <td>ATGCTGATTCTTATTTCACCTGCGAAAACGCTTGATTACCAAAGCC...</td>\n",
       "      <td>ATTTCCTGCAAGGACTGGAT</td>\n",
       "    </tr>\n",
       "    <tr>\n",
       "      <th>16</th>\n",
       "      <td>NC_000913.3</td>\n",
       "      <td>RefSeq</td>\n",
       "      <td>CDS</td>\n",
       "      <td>6529</td>\n",
       "      <td>7959</td>\n",
       "      <td>.</td>\n",
       "      <td>-</td>\n",
       "      <td>0</td>\n",
       "      <td>ID=cds-NP_414548.1;Parent=gene-b0007;Dbxref=Un...</td>\n",
       "      <td>ATGCCAGATTTTTTCTCCTTCATTAACAGCGTCCTTTGGGGATCGG...</td>\n",
       "      <td>CGGCAATAAGAGGGATATGC</td>\n",
       "    </tr>\n",
       "    <tr>\n",
       "      <th>18</th>\n",
       "      <td>NC_000913.3</td>\n",
       "      <td>RefSeq</td>\n",
       "      <td>CDS</td>\n",
       "      <td>8238</td>\n",
       "      <td>9191</td>\n",
       "      <td>.</td>\n",
       "      <td>+</td>\n",
       "      <td>0</td>\n",
       "      <td>ID=cds-NP_414549.1;Parent=gene-b0008;Dbxref=Un...</td>\n",
       "      <td>ATGACGGACAAATTGACCTCCCTTCGTCAGTACACCACCGTAGTGG...</td>\n",
       "      <td>GTTTAAAGAGAAATACTATC</td>\n",
       "    </tr>\n",
       "    <tr>\n",
       "      <th>20</th>\n",
       "      <td>NC_000913.3</td>\n",
       "      <td>RefSeq</td>\n",
       "      <td>CDS</td>\n",
       "      <td>9306</td>\n",
       "      <td>9893</td>\n",
       "      <td>.</td>\n",
       "      <td>+</td>\n",
       "      <td>0</td>\n",
       "      <td>ID=cds-NP_414550.1;Parent=gene-b0009;Dbxref=Un...</td>\n",
       "      <td>ATGAATACTTTACGTATTGGCTTAGTTTCCATCTCTGATCGCGCAT...</td>\n",
       "      <td>GTTTAAACGGAAAAATCTTG</td>\n",
       "    </tr>\n",
       "    <tr>\n",
       "      <th>22</th>\n",
       "      <td>NC_000913.3</td>\n",
       "      <td>RefSeq</td>\n",
       "      <td>CDS</td>\n",
       "      <td>9928</td>\n",
       "      <td>10494</td>\n",
       "      <td>.</td>\n",
       "      <td>-</td>\n",
       "      <td>0</td>\n",
       "      <td>ID=cds-NP_414551.1;Parent=gene-b0010;Dbxref=Un...</td>\n",
       "      <td>ATGGGCAACACTAAGTTGGCTAATCCGGCACCGCTGGGCCTGATGG...</td>\n",
       "      <td>ATGATGATTTTTGAGGAATT</td>\n",
       "    </tr>\n",
       "  </tbody>\n",
       "</table>\n",
       "</div>"
      ],
      "text/plain": [
       "      genome_id  source type  start   stop idk strand trash  \\\n",
       "2   NC_000913.3  RefSeq  CDS    190    255   .      +     0   \n",
       "4   NC_000913.3  RefSeq  CDS    337   2799   .      +     0   \n",
       "6   NC_000913.3  RefSeq  CDS   2801   3733   .      +     0   \n",
       "8   NC_000913.3  RefSeq  CDS   3734   5020   .      +     0   \n",
       "10  NC_000913.3  RefSeq  CDS   5234   5530   .      +     0   \n",
       "14  NC_000913.3  RefSeq  CDS   5683   6459   .      -     0   \n",
       "16  NC_000913.3  RefSeq  CDS   6529   7959   .      -     0   \n",
       "18  NC_000913.3  RefSeq  CDS   8238   9191   .      +     0   \n",
       "20  NC_000913.3  RefSeq  CDS   9306   9893   .      +     0   \n",
       "22  NC_000913.3  RefSeq  CDS   9928  10494   .      -     0   \n",
       "\n",
       "                                           qualifiers  \\\n",
       "2   ID=cds-NP_414542.1;Parent=gene-b0001;Dbxref=Un...   \n",
       "4   ID=cds-NP_414543.1;Parent=gene-b0002;Dbxref=Un...   \n",
       "6   ID=cds-NP_414544.1;Parent=gene-b0003;Dbxref=Un...   \n",
       "8   ID=cds-NP_414545.1;Parent=gene-b0004;Dbxref=Un...   \n",
       "10  ID=cds-NP_414546.1;Parent=gene-b0005;Dbxref=Un...   \n",
       "14  ID=cds-NP_414547.1;Parent=gene-b0006;Dbxref=Un...   \n",
       "16  ID=cds-NP_414548.1;Parent=gene-b0007;Dbxref=Un...   \n",
       "18  ID=cds-NP_414549.1;Parent=gene-b0008;Dbxref=Un...   \n",
       "20  ID=cds-NP_414550.1;Parent=gene-b0009;Dbxref=Un...   \n",
       "22  ID=cds-NP_414551.1;Parent=gene-b0010;Dbxref=Un...   \n",
       "\n",
       "                                      coding_sequence     upstream_sequence  \n",
       "2   ATGAAACGCATTAGCACCACCATTACCACCACCATCACCATTACCA...  TTACAGAGTACACAACATCC  \n",
       "4   ATGCGAGTGTTGAAGTTCGGCGGTACATCAGTGGCAAATGCAGAAC...  AAGGTAACGAGGTAACAACC  \n",
       "6   ATGGTTAAAGTTTATGCCCCGGCTTCCAGTGCCAATATGAGCGTCG...  ATGGAAGTTAGGAGTCTGAC  \n",
       "8   ATGAAACTCTACAATCTGAAAGATCACAACGAGCAGGTCAGCTTTG...  CACGAGTACTGGAAAACTAA  \n",
       "10  GTGAAAAAGATGCAATCTATCGTACTCGCACTTTCCCTGGTTCTGG...  AATGATAAAAGGAGTAACCT  \n",
       "14  ATGCTGATTCTTATTTCACCTGCGAAAACGCTTGATTACCAAAGCC...  ATTTCCTGCAAGGACTGGAT  \n",
       "16  ATGCCAGATTTTTTCTCCTTCATTAACAGCGTCCTTTGGGGATCGG...  CGGCAATAAGAGGGATATGC  \n",
       "18  ATGACGGACAAATTGACCTCCCTTCGTCAGTACACCACCGTAGTGG...  GTTTAAAGAGAAATACTATC  \n",
       "20  ATGAATACTTTACGTATTGGCTTAGTTTCCATCTCTGATCGCGCAT...  GTTTAAACGGAAAAATCTTG  \n",
       "22  ATGGGCAACACTAAGTTGGCTAATCCGGCACCGCTGGGCCTGATGG...  ATGATGATTTTTGAGGAATT  "
      ]
     },
     "execution_count": 4,
     "metadata": {},
     "output_type": "execute_result"
    }
   ],
   "source": [
    "new_df.head(10)"
   ]
  },
  {
   "cell_type": "code",
   "execution_count": null,
   "metadata": {},
   "outputs": [],
   "source": []
  }
 ],
 "metadata": {
  "kernelspec": {
   "display_name": "Python 3",
   "language": "python",
   "name": "python3"
  },
  "language_info": {
   "codemirror_mode": {
    "name": "ipython",
    "version": 3
   },
   "file_extension": ".py",
   "mimetype": "text/x-python",
   "name": "python",
   "nbconvert_exporter": "python",
   "pygments_lexer": "ipython3",
   "version": "3.7.1"
  }
 },
 "nbformat": 4,
 "nbformat_minor": 2
}

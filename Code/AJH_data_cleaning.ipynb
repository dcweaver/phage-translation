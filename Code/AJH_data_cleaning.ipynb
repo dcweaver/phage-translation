{
 "cells": [
  {
   "cell_type": "code",
   "execution_count": 1,
   "metadata": {},
   "outputs": [],
   "source": [
    "%matplotlib inline"
   ]
  },
  {
   "cell_type": "code",
   "execution_count": 2,
   "metadata": {},
   "outputs": [],
   "source": [
    "import pandas as pd\n",
    "import glob"
   ]
  },
  {
   "cell_type": "markdown",
   "metadata": {},
   "source": [
    "# We should consider filtering our data a bit because it's a bit messy currently\n",
    "\n",
    "**I've written this scaffold to make things easier but code similar to what I've written below should be written as a function or two and run for every host and every virus probably saving as a new \"tsv\" file called \"yadayada.clean.tsv\"**\n",
    "\n",
    "**This currently works on E. coli but it's possible that there will be some weird genomes that something in here screws up on so we'll need to think about double checking things to make sure that we never remove too much data. Which is to say that df.shape shouldn't change *that* dramatically from beginning to end and if it does it's likely that there is a bug in the code that needs to be investigated**"
   ]
  },
  {
   "cell_type": "code",
   "execution_count": 18,
   "metadata": {},
   "outputs": [
    {
     "name": "stdout",
     "output_type": "stream",
     "text": [
      "(3466, 12)\n"
     ]
    },
    {
     "data": {
      "text/html": [
       "<div>\n",
       "<style scoped>\n",
       "    .dataframe tbody tr th:only-of-type {\n",
       "        vertical-align: middle;\n",
       "    }\n",
       "\n",
       "    .dataframe tbody tr th {\n",
       "        vertical-align: top;\n",
       "    }\n",
       "\n",
       "    .dataframe thead th {\n",
       "        text-align: right;\n",
       "    }\n",
       "</style>\n",
       "<table border=\"1\" class=\"dataframe\">\n",
       "  <thead>\n",
       "    <tr style=\"text-align: right;\">\n",
       "      <th></th>\n",
       "      <th>genome_id</th>\n",
       "      <th>source</th>\n",
       "      <th>type</th>\n",
       "      <th>start</th>\n",
       "      <th>stop</th>\n",
       "      <th>idk</th>\n",
       "      <th>strand</th>\n",
       "      <th>trash</th>\n",
       "      <th>qualifiers</th>\n",
       "      <th>coding_sequence</th>\n",
       "      <th>upstream_sequence</th>\n",
       "      <th>energy_binding</th>\n",
       "    </tr>\n",
       "  </thead>\n",
       "  <tbody>\n",
       "    <tr>\n",
       "      <th>0</th>\n",
       "      <td>NC_003295.1</td>\n",
       "      <td>Protein Homology</td>\n",
       "      <td>CDS</td>\n",
       "      <td>486</td>\n",
       "      <td>620</td>\n",
       "      <td>.</td>\n",
       "      <td>+</td>\n",
       "      <td>0</td>\n",
       "      <td>ID=cds-WP_003262958.1;Parent=gene-RS_RS25220;D...</td>\n",
       "      <td>ATGAAACGTACCTATCAACCTTCCGTTACCCGTCGCAAGCGCACCC...</td>\n",
       "      <td>CATTAACCAGAGAGTGCATC</td>\n",
       "      <td>-3.18</td>\n",
       "    </tr>\n",
       "    <tr>\n",
       "      <th>1</th>\n",
       "      <td>NC_003295.1</td>\n",
       "      <td>Protein Homology</td>\n",
       "      <td>CDS</td>\n",
       "      <td>682</td>\n",
       "      <td>1113</td>\n",
       "      <td>.</td>\n",
       "      <td>+</td>\n",
       "      <td>0</td>\n",
       "      <td>ID=cds-WP_019717302.1;Parent=gene-RS_RS00005;D...</td>\n",
       "      <td>ATGGGCCCGCACGCCTACCCCAAGGCCGCAAGGCTTGTGAAAACGG...</td>\n",
       "      <td>GTGTTCGCGGCAATTCGGCG</td>\n",
       "      <td>-1.74</td>\n",
       "    </tr>\n",
       "    <tr>\n",
       "      <th>2</th>\n",
       "      <td>NC_003295.1</td>\n",
       "      <td>Protein Homology</td>\n",
       "      <td>CDS</td>\n",
       "      <td>1110</td>\n",
       "      <td>1424</td>\n",
       "      <td>.</td>\n",
       "      <td>+</td>\n",
       "      <td>0</td>\n",
       "      <td>ID=cds-WP_010999971.1;Parent=gene-RS_RS00010;D...</td>\n",
       "      <td>ATGACGCGCGTGCTGCTGTTCCTGCTGCGTGTCTACAAGGTGGCGT...</td>\n",
       "      <td>CCCTCCGACGGAGCCGCGCC</td>\n",
       "      <td>-5.82</td>\n",
       "    </tr>\n",
       "    <tr>\n",
       "      <th>3</th>\n",
       "      <td>NC_003295.1</td>\n",
       "      <td>Protein Homology</td>\n",
       "      <td>CDS</td>\n",
       "      <td>1431</td>\n",
       "      <td>3092</td>\n",
       "      <td>.</td>\n",
       "      <td>+</td>\n",
       "      <td>0</td>\n",
       "      <td>ID=cds-WP_010999972.1;Parent=gene-RS_RS00015;D...</td>\n",
       "      <td>ATGGATATCAAACGCACCATTCTCTGGGTGATCTTCTCGCTGTCGG...</td>\n",
       "      <td>TTCCCAGACCGTAATCCGAC</td>\n",
       "      <td>-0.58</td>\n",
       "    </tr>\n",
       "    <tr>\n",
       "      <th>4</th>\n",
       "      <td>NC_003295.1</td>\n",
       "      <td>Protein Homology</td>\n",
       "      <td>CDS</td>\n",
       "      <td>3222</td>\n",
       "      <td>4667</td>\n",
       "      <td>.</td>\n",
       "      <td>+</td>\n",
       "      <td>0</td>\n",
       "      <td>ID=cds-WP_010999973.1;Parent=gene-RS_RS00020;D...</td>\n",
       "      <td>ATGACCGCCTCTTCCCACGCCATGACTTCGCCGACTGTTTCCGATG...</td>\n",
       "      <td>GCTGCCGCACAATACCGCCC</td>\n",
       "      <td>-0.07</td>\n",
       "    </tr>\n",
       "  </tbody>\n",
       "</table>\n",
       "</div>"
      ],
      "text/plain": [
       "     genome_id            source type  start  stop idk strand  trash  \\\n",
       "0  NC_003295.1  Protein Homology  CDS    486   620   .      +      0   \n",
       "1  NC_003295.1  Protein Homology  CDS    682  1113   .      +      0   \n",
       "2  NC_003295.1  Protein Homology  CDS   1110  1424   .      +      0   \n",
       "3  NC_003295.1  Protein Homology  CDS   1431  3092   .      +      0   \n",
       "4  NC_003295.1  Protein Homology  CDS   3222  4667   .      +      0   \n",
       "\n",
       "                                          qualifiers  \\\n",
       "0  ID=cds-WP_003262958.1;Parent=gene-RS_RS25220;D...   \n",
       "1  ID=cds-WP_019717302.1;Parent=gene-RS_RS00005;D...   \n",
       "2  ID=cds-WP_010999971.1;Parent=gene-RS_RS00010;D...   \n",
       "3  ID=cds-WP_010999972.1;Parent=gene-RS_RS00015;D...   \n",
       "4  ID=cds-WP_010999973.1;Parent=gene-RS_RS00020;D...   \n",
       "\n",
       "                                     coding_sequence     upstream_sequence  \\\n",
       "0  ATGAAACGTACCTATCAACCTTCCGTTACCCGTCGCAAGCGCACCC...  CATTAACCAGAGAGTGCATC   \n",
       "1  ATGGGCCCGCACGCCTACCCCAAGGCCGCAAGGCTTGTGAAAACGG...  GTGTTCGCGGCAATTCGGCG   \n",
       "2  ATGACGCGCGTGCTGCTGTTCCTGCTGCGTGTCTACAAGGTGGCGT...  CCCTCCGACGGAGCCGCGCC   \n",
       "3  ATGGATATCAAACGCACCATTCTCTGGGTGATCTTCTCGCTGTCGG...  TTCCCAGACCGTAATCCGAC   \n",
       "4  ATGACCGCCTCTTCCCACGCCATGACTTCGCCGACTGTTTCCGATG...  GCTGCCGCACAATACCGCCC   \n",
       "\n",
       "   energy_binding  \n",
       "0           -3.18  \n",
       "1           -1.74  \n",
       "2           -5.82  \n",
       "3           -0.58  \n",
       "4           -0.07  "
      ]
     },
     "execution_count": 18,
     "metadata": {},
     "output_type": "execute_result"
    }
   ],
   "source": [
    "###Read in the starting TSV\n",
    "df = pd.read_csv('../Data/host_genomes/305.tsv', sep=',', index_col=0)\n",
    "###Reset the index so that it runs from zero to whatever\n",
    "df = df.reset_index(drop=True)\n",
    "print(df.shape)\n",
    "df.head()"
   ]
  },
  {
   "cell_type": "markdown",
   "metadata": {},
   "source": [
    "**First, make sure the table only uses each `locus_tag` once. These should be unique identifiers for the hosts and should therefore only appear once. If they appear more than once I have no idea what's happening. The virus dataframes won't be able to run this part of the code, however.**"
   ]
  },
  {
   "cell_type": "code",
   "execution_count": 19,
   "metadata": {},
   "outputs": [],
   "source": [
    "df['locus_tag'] = df['qualifiers'].str.split('Parent=gene-', n=1, expand=True)[1]\\\n",
    "                            .str.split(';', n=1, expand=True)[0]"
   ]
  },
  {
   "cell_type": "code",
   "execution_count": 20,
   "metadata": {},
   "outputs": [],
   "source": [
    "test_string = df.loc[0][\"qualifiers\"]"
   ]
  },
  {
   "cell_type": "code",
   "execution_count": 21,
   "metadata": {},
   "outputs": [
    {
     "data": {
      "text/plain": [
       "'ID=cds-WP_003262958.1;Parent=gene-RS_RS25220;Dbxref=Genbank:WP_003262958.1,GeneID:31479960;Name=WP_003262958.1;gbkey=CDS;gene=rpmH;inference=COORDINATES: similar to AA sequence:RefSeq:WP_003816025.1;locus_tag=RS_RS25220;product=50S ribosomal protein L34;protein_id=WP_003262958.1;transl_table=11'"
      ]
     },
     "execution_count": 21,
     "metadata": {},
     "output_type": "execute_result"
    }
   ],
   "source": [
    "test_string"
   ]
  },
  {
   "cell_type": "code",
   "execution_count": 22,
   "metadata": {},
   "outputs": [
    {
     "data": {
      "text/plain": [
       "RS_RS07500    2\n",
       "RS_RS07225    2\n",
       "RS_RS25525    2\n",
       "RS_RS07245    2\n",
       "RS_RS11380    2\n",
       "RS_RS04135    2\n",
       "RS_RS26580    2\n",
       "RS_RS25540    2\n",
       "RS_RS09230    2\n",
       "RS_RS26610    2\n",
       "Name: locus_tag, dtype: int64"
      ]
     },
     "execution_count": 22,
     "metadata": {},
     "output_type": "execute_result"
    }
   ],
   "source": [
    "df['locus_tag'].value_counts()[:10]"
   ]
  },
  {
   "cell_type": "markdown",
   "metadata": {},
   "source": [
    "**Oooof, let's get rid of those**"
   ]
  },
  {
   "cell_type": "code",
   "execution_count": 23,
   "metadata": {},
   "outputs": [
    {
     "name": "stdout",
     "output_type": "stream",
     "text": [
      "(3432, 13)\n"
     ]
    }
   ],
   "source": [
    "df = df.drop_duplicates(subset=['locus_tag'], keep=False)\n",
    "print(df.shape)"
   ]
  },
  {
   "cell_type": "code",
   "execution_count": 24,
   "metadata": {},
   "outputs": [
    {
     "data": {
      "text/plain": [
       "RS_RS11035    1\n",
       "RS_RS08945    1\n",
       "RS_RS16780    1\n",
       "RS_RS00940    1\n",
       "RS_RS14325    1\n",
       "RS_RS10380    1\n",
       "RS_RS06340    1\n",
       "RS_RS25705    1\n",
       "RS_RS00770    1\n",
       "RS_RS16440    1\n",
       "Name: locus_tag, dtype: int64"
      ]
     },
     "execution_count": 24,
     "metadata": {},
     "output_type": "execute_result"
    }
   ],
   "source": [
    "df['locus_tag'].value_counts()[:10]"
   ]
  },
  {
   "cell_type": "markdown",
   "metadata": {},
   "source": [
    "**Voila!**"
   ]
  },
  {
   "cell_type": "markdown",
   "metadata": {},
   "source": [
    "**How about any weird length genes? This should be checked and removed for all genomes (host and virus)**"
   ]
  },
  {
   "cell_type": "code",
   "execution_count": 25,
   "metadata": {},
   "outputs": [
    {
     "data": {
      "text/plain": [
       "2    3385\n",
       "1      24\n",
       "0      23\n",
       "dtype: int64"
      ]
     },
     "execution_count": 25,
     "metadata": {},
     "output_type": "execute_result"
    }
   ],
   "source": [
    "((df['stop']-df['start']) %3).value_counts()"
   ]
  },
  {
   "cell_type": "markdown",
   "metadata": {},
   "source": [
    "**Clean them up too**"
   ]
  },
  {
   "cell_type": "code",
   "execution_count": 26,
   "metadata": {},
   "outputs": [
    {
     "name": "stdout",
     "output_type": "stream",
     "text": [
      "(3385, 13)\n"
     ]
    }
   ],
   "source": [
    "df = df[(df['stop']-df['start']) %3 == 2]\n",
    "print(df.shape)"
   ]
  },
  {
   "cell_type": "markdown",
   "metadata": {},
   "source": [
    "**Remove phage/prophage genes from descriptors. This again should only be run for the host genomes so you can see maybe we'll want separate functions like \"def clean_host(...)\" and \"def clean_virus(...)\"**"
   ]
  },
  {
   "cell_type": "code",
   "execution_count": 30,
   "metadata": {},
   "outputs": [
    {
     "name": "stdout",
     "output_type": "stream",
     "text": [
      "(31, 13)\n"
     ]
    }
   ],
   "source": [
    "filter_word = 'phage'\n",
    "# filter_word = 'phage'\n",
    "virus_genes = df[(df['qualifiers'].str.contains(filter_word)==True)]\n",
    "print(virus_genes.shape)"
   ]
  },
  {
   "cell_type": "code",
   "execution_count": 34,
   "metadata": {},
   "outputs": [
    {
     "data": {
      "text/plain": [
       "(3354, 13)"
      ]
     },
     "execution_count": 34,
     "metadata": {},
     "output_type": "execute_result"
    }
   ],
   "source": [
    "df = df[(df['qualifiers'].str.contains(filter_word)==False)]\n",
    "df.shape"
   ]
  },
  {
   "cell_type": "code",
   "execution_count": 35,
   "metadata": {},
   "outputs": [
    {
     "data": {
      "text/plain": [
       "0.9676860934795153"
      ]
     },
     "execution_count": 35,
     "metadata": {},
     "output_type": "execute_result"
    }
   ],
   "source": []
  },
  {
   "cell_type": "code",
   "execution_count": 33,
   "metadata": {},
   "outputs": [
    {
     "data": {
      "text/plain": [
       "'ID=cds-WP_011000059.1;Parent=gene-RS_RS00465;Dbxref=Genbank:WP_011000059.1,GeneID:1218895;Name=WP_011000059.1;gbkey=CDS;inference=COORDINATES: similar to AA sequence:RefSeq:WP_003261510.1;locus_tag=RS_RS00465;product=phage holin family protein;protein_id=WP_011000059.1;transl_table=11'"
      ]
     },
     "execution_count": 33,
     "metadata": {},
     "output_type": "execute_result"
    }
   ],
   "source": [
    "virus_genes.loc[93][\"qualifiers\"]"
   ]
  },
  {
   "cell_type": "markdown",
   "metadata": {},
   "source": [
    "# Add in knowledge of codon usage bias\n",
    "\n",
    "** This is an important control and you'll have to install this \"iCUB\" software to make this run. I worked on this project with a former graduate student in my PhD lab and the code is here: https://github.com/amarallab/iCUB **\n",
    "\n",
    "**The major bug that I can anticipate cropping up is if the organism uses a \"non-standard\" genetic code but we'll cross that bridge when we get there. This will also probably cause an error if any \"non-standard\" nucleotides appear in a given genome which will almost certainly occur and need to be fixed**"
   ]
  },
  {
   "cell_type": "code",
   "execution_count": 40,
   "metadata": {},
   "outputs": [],
   "source": [
    "import sys\n",
    "sys.path.append('/Users/ChaseWeaver/Desktop/Projects/iCUB-master/')\n",
    "import iCUB"
   ]
  },
  {
   "cell_type": "code",
   "execution_count": 84,
   "metadata": {},
   "outputs": [
    {
     "ename": "KeyboardInterrupt",
     "evalue": "",
     "output_type": "error",
     "traceback": [
      "\u001b[0;31m---------------------------------------------------------------------------\u001b[0m",
      "\u001b[0;31mKeyboardInterrupt\u001b[0m                         Traceback (most recent call last)",
      "\u001b[0;32m<ipython-input-84-4e2e3bd53402>\u001b[0m in \u001b[0;36m<module>\u001b[0;34m\u001b[0m\n\u001b[1;32m      2\u001b[0m     \u001b[0mnt_seq\u001b[0m \u001b[0;34m=\u001b[0m \u001b[0mdf\u001b[0m\u001b[0;34m.\u001b[0m\u001b[0mat\u001b[0m\u001b[0;34m[\u001b[0m\u001b[0mindex\u001b[0m\u001b[0;34m,\u001b[0m \u001b[0;34m\"coding_sequence\"\u001b[0m\u001b[0;34m]\u001b[0m\u001b[0;34m\u001b[0m\u001b[0;34m\u001b[0m\u001b[0m\n\u001b[1;32m      3\u001b[0m     \u001b[0;32mif\u001b[0m \u001b[0mlen\u001b[0m\u001b[0;34m(\u001b[0m\u001b[0mnt_seq\u001b[0m\u001b[0;34m)\u001b[0m\u001b[0;34m%\u001b[0m\u001b[0;36m3\u001b[0m \u001b[0;34m==\u001b[0m \u001b[0;36m0\u001b[0m\u001b[0;34m:\u001b[0m\u001b[0;34m\u001b[0m\u001b[0;34m\u001b[0m\u001b[0m\n\u001b[0;32m----> 4\u001b[0;31m         \u001b[0mdf\u001b[0m\u001b[0;34m.\u001b[0m\u001b[0mat\u001b[0m\u001b[0;34m[\u001b[0m\u001b[0mindex\u001b[0m\u001b[0;34m,\u001b[0m \u001b[0;34m\"iCUB\"\u001b[0m\u001b[0;34m]\u001b[0m \u001b[0;34m=\u001b[0m \u001b[0miCUB\u001b[0m\u001b[0;34m.\u001b[0m\u001b[0miCUB_Calculator\u001b[0m\u001b[0;34m(\u001b[0m\u001b[0mnt_seq\u001b[0m\u001b[0;34m)\u001b[0m\u001b[0;34m.\u001b[0m\u001b[0mget_iCUB\u001b[0m\u001b[0;34m(\u001b[0m\u001b[0;34m)\u001b[0m\u001b[0;34m\u001b[0m\u001b[0;34m\u001b[0m\u001b[0m\n\u001b[0m",
      "\u001b[0;32m~/Desktop/Projects/iCUB-master/iCUB.py\u001b[0m in \u001b[0;36mget_iCUB\u001b[0;34m(self)\u001b[0m\n\u001b[1;32m    447\u001b[0m \u001b[0;34m\u001b[0m\u001b[0m\n\u001b[1;32m    448\u001b[0m         \u001b[0mNc\u001b[0m \u001b[0;34m=\u001b[0m \u001b[0mself\u001b[0m\u001b[0;34m.\u001b[0m\u001b[0mget_Info\u001b[0m\u001b[0;34m(\u001b[0m\u001b[0;34m)\u001b[0m\u001b[0;34m\u001b[0m\u001b[0;34m\u001b[0m\u001b[0m\n\u001b[0;32m--> 449\u001b[0;31m         \u001b[0mNcnull\u001b[0m \u001b[0;34m=\u001b[0m \u001b[0mself\u001b[0m\u001b[0;34m.\u001b[0m\u001b[0mget_Info\u001b[0m\u001b[0;34m(\u001b[0m\u001b[0mprob\u001b[0m\u001b[0;34m=\u001b[0m\u001b[0mProbability_Given_Beta\u001b[0m\u001b[0;34m(\u001b[0m\u001b[0mself\u001b[0m\u001b[0;34m.\u001b[0m\u001b[0mget_beta\u001b[0m\u001b[0;34m(\u001b[0m\u001b[0;34m)\u001b[0m\u001b[0;34m,\u001b[0m \u001b[0mself\u001b[0m\u001b[0;34m.\u001b[0m\u001b[0mn\u001b[0m\u001b[0;34m)\u001b[0m\u001b[0;34m)\u001b[0m\u001b[0;34m\u001b[0m\u001b[0;34m\u001b[0m\u001b[0m\n\u001b[0m\u001b[1;32m    450\u001b[0m         \u001b[0mgamma\u001b[0m \u001b[0;34m=\u001b[0m \u001b[0mNc\u001b[0m\u001b[0;34m/\u001b[0m\u001b[0mNcnull\u001b[0m\u001b[0;34m\u001b[0m\u001b[0;34m\u001b[0m\u001b[0m\n\u001b[1;32m    451\u001b[0m         \u001b[0miCUB\u001b[0m \u001b[0;34m=\u001b[0m \u001b[0;36m20\u001b[0m \u001b[0;34m+\u001b[0m \u001b[0mgamma\u001b[0m\u001b[0;34m*\u001b[0m\u001b[0;34m(\u001b[0m\u001b[0;36m61\u001b[0m\u001b[0;34m-\u001b[0m\u001b[0;36m20\u001b[0m\u001b[0;34m)\u001b[0m\u001b[0;34m\u001b[0m\u001b[0;34m\u001b[0m\u001b[0m\n",
      "\u001b[0;32m~/Desktop/Projects/iCUB-master/iCUB.py\u001b[0m in \u001b[0;36mget_beta\u001b[0;34m(self, given)\u001b[0m\n\u001b[1;32m    392\u001b[0m                     \u001b[0mrr\u001b[0m \u001b[0;34m=\u001b[0m \u001b[0mrm\u001b[0m\u001b[0;34m\u001b[0m\u001b[0;34m\u001b[0m\u001b[0m\n\u001b[1;32m    393\u001b[0m                 \u001b[0mrm\u001b[0m \u001b[0;34m=\u001b[0m  \u001b[0;36m0.5\u001b[0m\u001b[0;34m*\u001b[0m\u001b[0;34m(\u001b[0m\u001b[0mrl\u001b[0m\u001b[0;34m+\u001b[0m\u001b[0mrr\u001b[0m\u001b[0;34m)\u001b[0m\u001b[0;34m\u001b[0m\u001b[0;34m\u001b[0m\u001b[0m\n\u001b[0;32m--> 394\u001b[0;31m                 \u001b[0mavv\u001b[0m \u001b[0;34m=\u001b[0m \u001b[0mself\u001b[0m\u001b[0;34m.\u001b[0m\u001b[0mcompute_average_GC\u001b[0m\u001b[0;34m(\u001b[0m\u001b[0mrm\u001b[0m\u001b[0;34m)\u001b[0m \u001b[0;34m-\u001b[0m \u001b[0mm\u001b[0m\u001b[0;34m\u001b[0m\u001b[0;34m\u001b[0m\u001b[0m\n\u001b[0m\u001b[1;32m    395\u001b[0m \u001b[0;34m\u001b[0m\u001b[0m\n\u001b[1;32m    396\u001b[0m         \u001b[0;32mreturn\u001b[0m \u001b[0mrm\u001b[0m\u001b[0;34m\u001b[0m\u001b[0;34m\u001b[0m\u001b[0m\n",
      "\u001b[0;32m~/Desktop/Projects/iCUB-master/iCUB.py\u001b[0m in \u001b[0;36mcompute_average_GC\u001b[0;34m(self, b, given)\u001b[0m\n\u001b[1;32m    331\u001b[0m         '''\n\u001b[1;32m    332\u001b[0m \u001b[0;34m\u001b[0m\u001b[0m\n\u001b[0;32m--> 333\u001b[0;31m         \u001b[0mCodonGC\u001b[0m \u001b[0;34m=\u001b[0m \u001b[0mGC_Content_for_Codons\u001b[0m\u001b[0;34m(\u001b[0m\u001b[0mself\u001b[0m\u001b[0;34m.\u001b[0m\u001b[0mn\u001b[0m\u001b[0;34m)\u001b[0m\u001b[0;34m\u001b[0m\u001b[0;34m\u001b[0m\u001b[0m\n\u001b[0m\u001b[1;32m    334\u001b[0m         \u001b[0mGCnumber\u001b[0m \u001b[0;34m=\u001b[0m \u001b[0;34m[\u001b[0m\u001b[0;34m]\u001b[0m\u001b[0;34m\u001b[0m\u001b[0;34m\u001b[0m\u001b[0m\n\u001b[1;32m    335\u001b[0m         \u001b[0mlength\u001b[0m \u001b[0;34m=\u001b[0m \u001b[0;34m(\u001b[0m\u001b[0mlen\u001b[0m\u001b[0;34m(\u001b[0m\u001b[0mself\u001b[0m\u001b[0;34m.\u001b[0m\u001b[0msequence\u001b[0m\u001b[0;34m)\u001b[0m\u001b[0;34m/\u001b[0m\u001b[0;36m3\u001b[0m\u001b[0;34m)\u001b[0m\u001b[0;34m-\u001b[0m\u001b[0;36m2\u001b[0m\u001b[0;34m\u001b[0m\u001b[0;34m\u001b[0m\u001b[0m\n",
      "\u001b[0;32m~/Desktop/Projects/iCUB-master/iCUB.py\u001b[0m in \u001b[0;36mGC_Content_for_Codons\u001b[0;34m(n)\u001b[0m\n\u001b[1;32m     71\u001b[0m     \u001b[0;32mfor\u001b[0m \u001b[0mAA\u001b[0m \u001b[0;32min\u001b[0m \u001b[0mCodonforAA\u001b[0m\u001b[0;34m:\u001b[0m\u001b[0;34m\u001b[0m\u001b[0;34m\u001b[0m\u001b[0m\n\u001b[1;32m     72\u001b[0m         \u001b[0;32mfor\u001b[0m \u001b[0mcodon\u001b[0m \u001b[0;32min\u001b[0m \u001b[0mCodonforAA\u001b[0m\u001b[0;34m[\u001b[0m\u001b[0mAA\u001b[0m\u001b[0;34m]\u001b[0m\u001b[0;34m:\u001b[0m\u001b[0;34m\u001b[0m\u001b[0;34m\u001b[0m\u001b[0m\n\u001b[0;32m---> 73\u001b[0;31m             \u001b[0mcodonusage\u001b[0m \u001b[0;34m=\u001b[0m \u001b[0mcollections\u001b[0m\u001b[0;34m.\u001b[0m\u001b[0mCounter\u001b[0m\u001b[0;34m(\u001b[0m\u001b[0mcodon\u001b[0m\u001b[0;34m)\u001b[0m\u001b[0;34m\u001b[0m\u001b[0;34m\u001b[0m\u001b[0m\n\u001b[0m\u001b[1;32m     74\u001b[0m             \u001b[0mCodonGCContent\u001b[0m\u001b[0;34m[\u001b[0m\u001b[0mcodon\u001b[0m\u001b[0;34m]\u001b[0m \u001b[0;34m=\u001b[0m \u001b[0mcodonusage\u001b[0m\u001b[0;34m[\u001b[0m\u001b[0;34m'G'\u001b[0m\u001b[0;34m]\u001b[0m \u001b[0;34m+\u001b[0m \u001b[0mcodonusage\u001b[0m\u001b[0;34m[\u001b[0m\u001b[0;34m'C'\u001b[0m\u001b[0;34m]\u001b[0m\u001b[0;34m\u001b[0m\u001b[0;34m\u001b[0m\u001b[0m\n\u001b[1;32m     75\u001b[0m \u001b[0;34m\u001b[0m\u001b[0m\n",
      "\u001b[0;32m~/anaconda3/lib/python3.7/collections/__init__.py\u001b[0m in \u001b[0;36m__init__\u001b[0;34m(*args, **kwds)\u001b[0m\n\u001b[1;32m    563\u001b[0m         \u001b[0;32mif\u001b[0m \u001b[0mlen\u001b[0m\u001b[0;34m(\u001b[0m\u001b[0margs\u001b[0m\u001b[0;34m)\u001b[0m \u001b[0;34m>\u001b[0m \u001b[0;36m1\u001b[0m\u001b[0;34m:\u001b[0m\u001b[0;34m\u001b[0m\u001b[0;34m\u001b[0m\u001b[0m\n\u001b[1;32m    564\u001b[0m             \u001b[0;32mraise\u001b[0m \u001b[0mTypeError\u001b[0m\u001b[0;34m(\u001b[0m\u001b[0;34m'expected at most 1 arguments, got %d'\u001b[0m \u001b[0;34m%\u001b[0m \u001b[0mlen\u001b[0m\u001b[0;34m(\u001b[0m\u001b[0margs\u001b[0m\u001b[0;34m)\u001b[0m\u001b[0;34m)\u001b[0m\u001b[0;34m\u001b[0m\u001b[0;34m\u001b[0m\u001b[0m\n\u001b[0;32m--> 565\u001b[0;31m         \u001b[0msuper\u001b[0m\u001b[0;34m(\u001b[0m\u001b[0mCounter\u001b[0m\u001b[0;34m,\u001b[0m \u001b[0mself\u001b[0m\u001b[0;34m)\u001b[0m\u001b[0;34m.\u001b[0m\u001b[0m__init__\u001b[0m\u001b[0;34m(\u001b[0m\u001b[0;34m)\u001b[0m\u001b[0;34m\u001b[0m\u001b[0;34m\u001b[0m\u001b[0m\n\u001b[0m\u001b[1;32m    566\u001b[0m         \u001b[0mself\u001b[0m\u001b[0;34m.\u001b[0m\u001b[0mupdate\u001b[0m\u001b[0;34m(\u001b[0m\u001b[0;34m*\u001b[0m\u001b[0margs\u001b[0m\u001b[0;34m,\u001b[0m \u001b[0;34m**\u001b[0m\u001b[0mkwds\u001b[0m\u001b[0;34m)\u001b[0m\u001b[0;34m\u001b[0m\u001b[0;34m\u001b[0m\u001b[0m\n\u001b[1;32m    567\u001b[0m \u001b[0;34m\u001b[0m\u001b[0m\n",
      "\u001b[0;31mKeyboardInterrupt\u001b[0m: "
     ]
    }
   ],
   "source": [
    "for index in df.index:\n",
    "    nt_seq = df.at[index, \"coding_sequence\"]\n",
    "    if len(nt_seq)%3 == 0:\n",
    "        df.at[index, \"iCUB\"] = iCUB.iCUB_Calculator(nt_seq).get_iCUB()"
   ]
  },
  {
   "cell_type": "markdown",
   "metadata": {},
   "source": [
    "**If our genes are clean and good then we shouldn't have any null values in either of these categories and we can then write this new dataframe**"
   ]
  },
  {
   "cell_type": "code",
   "execution_count": 85,
   "metadata": {},
   "outputs": [
    {
     "name": "stdout",
     "output_type": "stream",
     "text": [
      "(3820, 14)\n",
      "(0, 14)\n"
     ]
    }
   ],
   "source": [
    "print(df[df['iCUB'].isnull()==True].shape)\n",
    "print(df[df['energy_binding'].isnull()==True].shape)"
   ]
  },
  {
   "cell_type": "markdown",
   "metadata": {
    "collapsed": true
   },
   "source": [
    "# Final notes:\n",
    "\n",
    "**As I mentioned, we aren't going to want to step through this code for every genome so your task is to write this up into some functions that you can then put into for loops and run for everyone. I'm imagining something like:**\n",
    "\n",
    "<code>\n",
    "for host_tsv_file in glob.glob('blahblah/\\*.tsv): \n",
    "    clean_host_tsv(host_tsv_file)\n",
    "</code>\n",
    "    \n",
    "**where `clean_host_tsv()` will read the tsv, clean it up, check that no problems occurred, and write the new tsv. Something along the lines of:**\n",
    "\n",
    "<code>\n",
    "def clean_host_tsv(tsv_location):\n",
    "\n",
    "    df = pd.read_tsv(tsv_location...)\n",
    "    starting_shape = df.shape\n",
    "    #Code that does the work goes here\n",
    "    ending_shape = df.shape\n",
    "    #Code that compares ending and starting shapes to make sure things look reasonable goes here\n",
    "    df.to_csv(tsv_location.replace('.tsv', '.clean.tsv'))\n",
    "</code>\n",
    "\n",
    "\n",
    "**And then again we'll have something like this for the viruses:**\n",
    "\n",
    "<code>\n",
    "for virus_folder in glob.glob('blahblah/\\*\\_rep\\_viruses/'):\n",
    "    for virus_tsv_file in glob.glob(virus_folder + '\\*.tsv'):\n",
    "        clean_virus_tsv(virus_tsv_file)\n",
    "</code>\n"
   ]
  },
  {
   "cell_type": "code",
   "execution_count": null,
   "metadata": {},
   "outputs": [],
   "source": [
    "df = pd.read_csv('../Data/host_genomes/562.tsv', sep = \"\\t\", index_col = 0)\n",
    "print(df.shape)"
   ]
  },
  {
   "cell_type": "code",
   "execution_count": 57,
   "metadata": {},
   "outputs": [],
   "source": [
    "def clean_host_tsv(df):\n",
    "    \"\"\"\n",
    "    \n",
    "    \"\"\"\n",
    "    \n",
    "    initial_shape = df.shape\n",
    "    df = df.reset_index(drop = True)\n",
    "    \n",
    "    #Ensure each locus tag is only used once\n",
    "    df['locus_tag'] = df['qualifiers'].str.split('locus_tag=', n=1, expand=True)[1]\\\n",
    "                            .str.split(';', n=1, expand=True)[0]\n",
    "    df = df.drop_duplicates(subset = [\"locus_tag\"], keep = False)\n",
    "    \n",
    "    #ensure that only genes with a total length divisible by 3 are used\n",
    "    df = df[(df['stop']-df['start']) %3 == 2]\n",
    "    \n",
    "    #filter out prophages from dataframe\n",
    "    filter_word = 'phage'\n",
    "    virus_genes = df[(df['qualifiers'].str.contains(filter_word)==True)]\n",
    "    df = df[(df['qualifiers'].str.contains(filter_word)==False)]\n",
    "    \n",
    "    #adjust for codon bias\n",
    "    for index in df.index[]:\n",
    "        nt_seq = df.at[index, \"coding_sequence\"]\n",
    "        if len(nt_seq)%3 == 0:\n",
    "            df.at[index, \"iCUB\"] = iCUB.iCUB_Calculator(nt_seq).get_iCUB()\n",
    "    \n",
    "    \n",
    "    \n",
    "    \n",
    "    \n",
    "    return df"
   ]
  },
  {
   "cell_type": "code",
   "execution_count": 78,
   "metadata": {},
   "outputs": [
    {
     "name": "stdout",
     "output_type": "stream",
     "text": [
      "(4059, 14)\n"
     ]
    }
   ],
   "source": [
    "for tsv_location in glob.glob(\"../Data/host_genomes/*.tsv\"):\n",
    "     \n",
    "    df = pd.read_csv(tsv_location, sep = \"\\t\", index_col = 0)\n",
    "    initial_shape = df.shape\n",
    "    df = clean_host_tsv(df)\n",
    "    final_shape = df.shape\n",
    "    gene_ratio = final_shape[0]/initial_shape[0]\n",
    "    if gene_ratio <= .8 or gene_ratio == 1:\n",
    "        print(tsv_location)\n",
    "        break\n",
    "    \n",
    "    clean_tsv_loc = tsv_location.replace(\".tsv\",\".clean.tsv\")\n",
    "    df.to_csv(clean_tsv_loc, sep = \"\\t\")\n",
    "    \n"
   ]
  },
  {
   "cell_type": "code",
   "execution_count": 79,
   "metadata": {},
   "outputs": [],
   "source": [
    "\n"
   ]
  },
  {
   "cell_type": "code",
   "execution_count": 83,
   "metadata": {},
   "outputs": [
    {
     "ename": "SyntaxError",
     "evalue": "'break' outside loop (cell_name, line 7)",
     "output_type": "error",
     "traceback": [
      "\u001b[0;36m  File \u001b[0;32m\"cell_name\"\u001b[0;36m, line \u001b[0;32m7\u001b[0m\n\u001b[0;31mSyntaxError\u001b[0m\u001b[0;31m:\u001b[0m 'break' outside loop\n"
     ]
    }
   ],
   "source": []
  }
 ],
 "metadata": {
  "kernelspec": {
   "display_name": "Python 3",
   "language": "python",
   "name": "python3"
  },
  "language_info": {
   "codemirror_mode": {
    "name": "ipython",
    "version": 3
   },
   "file_extension": ".py",
   "mimetype": "text/x-python",
   "name": "python",
   "nbconvert_exporter": "python",
   "pygments_lexer": "ipython3",
   "version": "3.7.1"
  },
  "toc": {
   "colors": {
    "hover_highlight": "#DAA520",
    "navigate_num": "#000000",
    "navigate_text": "#333333",
    "running_highlight": "#FF0000",
    "selected_highlight": "#FFD700",
    "sidebar_border": "#EEEEEE",
    "wrapper_background": "#FFFFFF"
   },
   "moveMenuLeft": true,
   "nav_menu": {
    "height": "102px",
    "width": "252px"
   },
   "navigate_menu": true,
   "number_sections": true,
   "sideBar": true,
   "threshold": 4,
   "toc_cell": false,
   "toc_section_display": "block",
   "toc_window_display": false,
   "widenNotebook": false
  }
 },
 "nbformat": 4,
 "nbformat_minor": 2
}

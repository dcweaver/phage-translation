{
 "cells": [
  {
   "cell_type": "code",
   "execution_count": 1,
   "metadata": {},
   "outputs": [],
   "source": [
    "%matplotlib inline"
   ]
  },
  {
   "cell_type": "code",
   "execution_count": 2,
   "metadata": {},
   "outputs": [],
   "source": [
    "import pandas as pd\n",
    "import glob"
   ]
  },
  {
   "cell_type": "markdown",
   "metadata": {},
   "source": [
    "# We should consider filtering our data a bit because it's a bit messy currently\n",
    "\n",
    "**I've written this scaffold to make things easier but code similar to what I've written below should be written as a function or two and run for every host and every virus probably saving as a new \"tsv\" file called \"yadayada.clean.tsv\"**\n",
    "\n",
    "**This currently works on E. coli but it's possible that there will be some weird genomes that something in here screws up on so we'll need to think about double checking things to make sure that we never remove too much data. Which is to say that df.shape shouldn't change *that* dramatically from beginning to end and if it does it's likely that there is a bug in the code that needs to be investigated**"
   ]
  },
  {
   "cell_type": "code",
   "execution_count": 3,
   "metadata": {},
   "outputs": [
    {
     "name": "stdout",
     "output_type": "stream",
     "text": [
      "(4379, 12)\n"
     ]
    },
    {
     "data": {
      "text/plain": [
       "'ID=cds-NP_414543.1;Parent=gene-b0002;Dbxref=UniProtKB/Swiss-Prot:P00561,Genbank:NP_414543.1,ASAP:ABE-0000008,ECOCYC:EG10998,EcoGene:EG10998,GeneID:945803;Name=NP_414543.1;gbkey=CDS;gene=thrA;locus_tag=b0002;orig_transcript_id=gnl|b0002|mrna.b0002;product=fused aspartate kinase/homoserine dehydrogenase 1;protein_id=NP_414543.1;transl_table=11'"
      ]
     },
     "execution_count": 3,
     "metadata": {},
     "output_type": "execute_result"
    }
   ],
   "source": [
    "###Read in the starting TSV\n",
    "df = pd.read_csv('../Data/host_genomes/562.tsv', sep='\\t', index_col=0)\n",
    "###Reset the index so that it runs from zero to whatever\n",
    "df = df.reset_index(drop=True)\n",
    "print(df.shape)\n",
    "df.head()\n",
    "df[\"qualifiers\"][1]\n",
    "#df.head()"
   ]
  },
  {
   "cell_type": "markdown",
   "metadata": {},
   "source": [
    "**First, make sure the table only uses each `locus_tag` once. These should be unique identifiers for the hosts and should therefore only appear once. If they appear more than once I have no idea what's happening. The virus dataframes won't be able to run this part of the code, however.**"
   ]
  },
  {
   "cell_type": "code",
   "execution_count": 4,
   "metadata": {},
   "outputs": [],
   "source": [
    "df['locus_tag'] = df['qualifiers'].str.split('Parent=gene-', n=1, expand=True)[1]\\\n",
    "                            .str.split(';', n=1, expand=True)[0]"
   ]
  },
  {
   "cell_type": "code",
   "execution_count": 5,
   "metadata": {},
   "outputs": [],
   "source": [
    "test_string = df.loc[0][\"qualifiers\"]"
   ]
  },
  {
   "cell_type": "code",
   "execution_count": 6,
   "metadata": {},
   "outputs": [
    {
     "data": {
      "text/plain": [
       "'ID=cds-NP_414542.1;Parent=gene-b0001;Dbxref=UniProtKB/Swiss-Prot:P0AD86,Genbank:NP_414542.1,ASAP:ABE-0000006,ECOCYC:EG11277,EcoGene:EG11277,GeneID:944742;Name=NP_414542.1;gbkey=CDS;gene=thrL;locus_tag=b0001;orig_transcript_id=gnl|b0001|mrna.b0001;product=thr operon leader peptide;protein_id=NP_414542.1;transl_table=11'"
      ]
     },
     "execution_count": 6,
     "metadata": {},
     "output_type": "execute_result"
    }
   ],
   "source": [
    "test_string"
   ]
  },
  {
   "cell_type": "code",
   "execution_count": 7,
   "metadata": {},
   "outputs": [
    {
     "data": {
      "text/plain": [
       "b0470    3\n",
       "b4623    3\n",
       "b4492    3\n",
       "b0484    3\n",
       "b4579    2\n",
       "b4580    2\n",
       "b4587    2\n",
       "b3443    2\n",
       "b4569    2\n",
       "b4571    2\n",
       "Name: locus_tag, dtype: int64"
      ]
     },
     "execution_count": 7,
     "metadata": {},
     "output_type": "execute_result"
    }
   ],
   "source": [
    "df['locus_tag'].value_counts()[:10]"
   ]
  },
  {
   "cell_type": "markdown",
   "metadata": {},
   "source": [
    "**Oooof, let's get rid of those**"
   ]
  },
  {
   "cell_type": "code",
   "execution_count": 8,
   "metadata": {},
   "outputs": [
    {
     "name": "stdout",
     "output_type": "stream",
     "text": [
      "(4335, 13)\n"
     ]
    }
   ],
   "source": [
    "df = df.drop_duplicates(subset=['locus_tag'], keep=False)\n",
    "print(df.shape)"
   ]
  },
  {
   "cell_type": "code",
   "execution_count": 9,
   "metadata": {},
   "outputs": [
    {
     "data": {
      "text/plain": [
       "b2663    1\n",
       "b3882    1\n",
       "b1365    1\n",
       "b1483    1\n",
       "b1914    1\n",
       "b4300    1\n",
       "b3404    1\n",
       "b0546    1\n",
       "b4342    1\n",
       "b3344    1\n",
       "Name: locus_tag, dtype: int64"
      ]
     },
     "execution_count": 9,
     "metadata": {},
     "output_type": "execute_result"
    }
   ],
   "source": [
    "df['locus_tag'].value_counts()[:10]"
   ]
  },
  {
   "cell_type": "markdown",
   "metadata": {},
   "source": [
    "**Voila!**"
   ]
  },
  {
   "cell_type": "markdown",
   "metadata": {},
   "source": [
    "**How about any weird length genes? This should be checked and removed for all genomes (host and virus)**"
   ]
  },
  {
   "cell_type": "code",
   "execution_count": 28,
   "metadata": {},
   "outputs": [
    {
     "data": {
      "text/plain": [
       "2    4305\n",
       "1      22\n",
       "0       8\n",
       "dtype: int64"
      ]
     },
     "execution_count": 28,
     "metadata": {},
     "output_type": "execute_result"
    }
   ],
   "source": [
    "((df['stop']-df['start']) %3).value_counts()"
   ]
  },
  {
   "cell_type": "markdown",
   "metadata": {},
   "source": [
    "**Clean them up too**"
   ]
  },
  {
   "cell_type": "code",
   "execution_count": 29,
   "metadata": {},
   "outputs": [
    {
     "name": "stdout",
     "output_type": "stream",
     "text": [
      "(4305, 13)\n"
     ]
    }
   ],
   "source": [
    "df = df[(df['stop']-df['start']) %3 == 2]\n",
    "print(df.shape)"
   ]
  },
  {
   "cell_type": "markdown",
   "metadata": {},
   "source": [
    "**Remove phage/prophage genes from descriptors. This again should only be run for the host genomes so you can see maybe we'll want separate functions like \"def clean_host(...)\" and \"def clean_virus(...)\"**"
   ]
  },
  {
   "cell_type": "code",
   "execution_count": 30,
   "metadata": {},
   "outputs": [
    {
     "name": "stdout",
     "output_type": "stream",
     "text": [
      "(246, 13)\n"
     ]
    }
   ],
   "source": [
    "filter_word = 'phage'\n",
    "# filter_word = 'phage'\n",
    "virus_genes = df[(df['qualifiers'].str.contains(filter_word)==True)]\n",
    "print(virus_genes.shape)"
   ]
  },
  {
   "cell_type": "code",
   "execution_count": 31,
   "metadata": {},
   "outputs": [
    {
     "data": {
      "text/plain": [
       "(4059, 13)"
      ]
     },
     "execution_count": 31,
     "metadata": {},
     "output_type": "execute_result"
    }
   ],
   "source": [
    "df = df[(df['qualifiers'].str.contains(filter_word)==False)]\n",
    "df.shape"
   ]
  },
  {
   "cell_type": "code",
   "execution_count": 35,
   "metadata": {},
   "outputs": [
    {
     "data": {
      "text/plain": [
       "0.9676860934795153"
      ]
     },
     "execution_count": 35,
     "metadata": {},
     "output_type": "execute_result"
    }
   ],
   "source": []
  },
  {
   "cell_type": "code",
   "execution_count": 33,
   "metadata": {},
   "outputs": [
    {
     "data": {
      "text/plain": [
       "'ID=cds-WP_011000059.1;Parent=gene-RS_RS00465;Dbxref=Genbank:WP_011000059.1,GeneID:1218895;Name=WP_011000059.1;gbkey=CDS;inference=COORDINATES: similar to AA sequence:RefSeq:WP_003261510.1;locus_tag=RS_RS00465;product=phage holin family protein;protein_id=WP_011000059.1;transl_table=11'"
      ]
     },
     "execution_count": 33,
     "metadata": {},
     "output_type": "execute_result"
    }
   ],
   "source": [
    "virus_genes.loc[93][\"qualifiers\"]"
   ]
  },
  {
   "cell_type": "markdown",
   "metadata": {},
   "source": [
    "# Add in knowledge of codon usage bias\n",
    "\n",
    "** This is an important control and you'll have to install this \"iCUB\" software to make this run. I worked on this project with a former graduate student in my PhD lab and the code is here: https://github.com/amarallab/iCUB **\n",
    "\n",
    "**The major bug that I can anticipate cropping up is if the organism uses a \"non-standard\" genetic code but we'll cross that bridge when we get there. This will also probably cause an error if any \"non-standard\" nucleotides appear in a given genome which will almost certainly occur and need to be fixed**"
   ]
  },
  {
   "cell_type": "code",
   "execution_count": 22,
   "metadata": {},
   "outputs": [],
   "source": [
    "import sys\n",
    "sys.path.append('/Users/ChaseWeaver/Desktop/Projects/iCUB-master/')\n",
    "import iCUB"
   ]
  },
  {
   "cell_type": "code",
   "execution_count": 23,
   "metadata": {},
   "outputs": [],
   "source": [
    "for index in df.index:\n",
    "    nt_seq = df.at[index, \"coding_sequence\"]\n",
    "    if len(nt_seq)%3 == 0:\n",
    "        df.at[index, \"iCUB\"] = iCUB.iCUB_Calculator(nt_seq).get_iCUB()"
   ]
  },
  {
   "cell_type": "markdown",
   "metadata": {},
   "source": [
    "**If our genes are clean and good then we shouldn't have any null values in either of these categories and we can then write this new dataframe**"
   ]
  },
  {
   "cell_type": "code",
   "execution_count": 24,
   "metadata": {},
   "outputs": [
    {
     "name": "stdout",
     "output_type": "stream",
     "text": [
      "(0, 13)\n",
      "(0, 13)\n"
     ]
    }
   ],
   "source": [
    "print(df[df['iCUB'].isnull()==True].shape)\n",
    "print(df[df['energy_binding'].isnull()==True].shape)"
   ]
  },
  {
   "cell_type": "markdown",
   "metadata": {
    "collapsed": true
   },
   "source": [
    "# Final notes:\n",
    "\n",
    "**As I mentioned, we aren't going to want to step through this code for every genome so your task is to write this up into some functions that you can then put into for loops and run for everyone. I'm imagining something like:**\n",
    "\n",
    "<code>\n",
    "for host_tsv_file in glob.glob('blahblah/\\*.tsv): \n",
    "    clean_host_tsv(host_tsv_file)\n",
    "</code>\n",
    "    \n",
    "**where `clean_host_tsv()` will read the tsv, clean it up, check that no problems occurred, and write the new tsv. Something along the lines of:**\n",
    "\n",
    "<code>\n",
    "def clean_host_tsv(tsv_location):\n",
    "\n",
    "    df = pd.read_tsv(tsv_location...)\n",
    "    starting_shape = df.shape\n",
    "    #Code that does the work goes here\n",
    "    ending_shape = df.shape\n",
    "    #Code that compares ending and starting shapes to make sure things look reasonable goes here\n",
    "    df.to_csv(tsv_location.replace('.tsv', '.clean.tsv'))\n",
    "</code>\n",
    "\n",
    "\n",
    "**And then again we'll have something like this for the viruses:**\n",
    "\n",
    "<code>\n",
    "for virus_folder in glob.glob('blahblah/\\*\\_rep\\_viruses/'):\n",
    "    for virus_tsv_file in glob.glob(virus_folder + '\\*.tsv'):\n",
    "        clean_virus_tsv(virus_tsv_file)\n",
    "</code>\n"
   ]
  },
  {
   "cell_type": "code",
   "execution_count": null,
   "metadata": {},
   "outputs": [],
   "source": [
    "df = pd.read_csv('../Data/host_genomes/562.tsv', sep = \"\\t\", index_col = 0)\n",
    "print(df.shape)"
   ]
  },
  {
   "cell_type": "code",
   "execution_count": 10,
   "metadata": {},
   "outputs": [],
   "source": [
    "def clean_host_tsv(df):\n",
    "    \"\"\"\n",
    "    \n",
    "    \"\"\"\n",
    "    \n",
    "    initial_shape = df.shape\n",
    "    df = df.reset_index(drop = True)\n",
    "    \n",
    "    #Ensure each locus tag is only used once\n",
    "    df['locus_tag'] = df['qualifiers'].str.split('locus_tag=', n=1, expand=True)[1]\\\n",
    "                            .str.split(';', n=1, expand=True)[0]\n",
    "    df = df.drop_duplicates(subset = [\"locus_tag\"], keep = False)\n",
    "    \n",
    "    #ensure that only genes with a total length divisible by 3 are used\n",
    "    df = df[(df['stop']-df['start']) %3 == 2]\n",
    "    \n",
    "    #filter out prophages from dataframe\n",
    "    filter_word = 'phage'\n",
    "    virus_genes = df[(df['qualifiers'].str.contains(filter_word)==True)]\n",
    "    df = df[(df['qualifiers'].str.contains(filter_word)==False)]\n",
    "    \n",
    "    #adjust for codon bias\n",
    "    for index in df.index:\n",
    "        nt_seq = df.at[index, \"coding_sequence\"]\n",
    "        if len(nt_seq)%3 == 0:\n",
    "            df.at[index, \"iCUB\"] = iCUB.iCUB_Calculator(nt_seq).get_iCUB()\n",
    "    \n",
    "    \n",
    "    \n",
    "    \n",
    "    \n",
    "    return df"
   ]
  },
  {
   "cell_type": "code",
   "execution_count": 16,
   "metadata": {},
   "outputs": [],
   "source": [
    "# for tsv_location in glob.glob(\"../Data/host_genomes/*.tsv\"):\n",
    "#     print(tsv_location)"
   ]
  },
  {
   "cell_type": "code",
   "execution_count": 35,
   "metadata": {},
   "outputs": [],
   "source": [
    "for tsv_location in glob.glob(\"../Data/host_genomes/*.tsv\"):\n",
    "    if \"clean\" in tsv_location:\n",
    "        continue\n",
    "    df = pd.read_csv(tsv_location, sep = \"\\t\", index_col = 0)\n",
    "    initial_shape = df.shape\n",
    "    df = clean_host_tsv(df)\n",
    "    final_shape = df.shape\n",
    "    gene_ratio = final_shape[0]/initial_shape[0]\n",
    "    if gene_ratio <= .8 or gene_ratio == 1:\n",
    "        print(tsv_location)\n",
    "        break\n",
    "    \n",
    "    clean_tsv_loc = tsv_location.replace(\".tsv\",\".clean.tsv\")\n",
    "    df.to_csv(clean_tsv_loc, sep = \"\\t\")\n",
    "    \n"
   ]
  },
  {
   "cell_type": "code",
   "execution_count": 15,
   "metadata": {},
   "outputs": [],
   "source": [
    "#df['qualifiers'].str.split('ID=')"
   ]
  },
  {
   "cell_type": "code",
   "execution_count": 41,
   "metadata": {},
   "outputs": [],
   "source": [
    "tsv_location =\"../Data/host_genomes/717959.tsv\"\n",
    "     \n",
    "df = pd.read_csv(tsv_location, sep = \"\\t\", index_col = 0)\n",
    "initial_shape = df.shape\n",
    "df = clean_host_tsv(df)\n",
    "final_shape = df.shape\n",
    "gene_ratio = final_shape[0]/initial_shape[0]\n",
    "if gene_ratio <= .8 or gene_ratio == 1:\n",
    "    print(tsv_location)\n",
    "    #break\n",
    "\n",
    "clean_tsv_loc = tsv_location.replace(\".tsv\",\".clean.tsv\")\n",
    "df.to_csv(clean_tsv_loc, sep = \"\\t\")"
   ]
  },
  {
   "cell_type": "code",
   "execution_count": 31,
   "metadata": {},
   "outputs": [
    {
     "name": "stdout",
     "output_type": "stream",
     "text": [
      "0.9971290148932352\n"
     ]
    }
   ],
   "source": [
    "print(gene_ratio)"
   ]
  },
  {
   "cell_type": "code",
   "execution_count": 13,
   "metadata": {},
   "outputs": [],
   "source": [
    "df['viral_id'] = df['qualifiers'].str.split('ID=', n=1, expand=True)[1]\\\n",
    "                            .str.split(';', n=1, expand=True)[0]"
   ]
  },
  {
   "cell_type": "code",
   "execution_count": 29,
   "metadata": {},
   "outputs": [],
   "source": [
    "#df[\"viral_id\"]"
   ]
  },
  {
   "cell_type": "code",
   "execution_count": 12,
   "metadata": {},
   "outputs": [],
   "source": [
    "def clean_virus_tsv(df):\n",
    "    \"\"\"\n",
    "    \n",
    "    \"\"\"\n",
    "    \n",
    "    initial_shape = df.shape\n",
    "    df = df.reset_index(drop = True)\n",
    "    \n",
    "    #Ensure each locus tag is only used once\n",
    "    df['viral_id'] = df['qualifiers'].str.split('ID=', n=1, expand=True)[1]\\\n",
    "                            .str.split(';', n=1, expand=True)[0]\n",
    "    df = df.drop_duplicates(subset = [\"viral_id\"], keep = False)\n",
    "    \n",
    "    #ensure that only genes with a total length divisible by 3 are used\n",
    "    df = df[(df['stop']-df['start']) %3 == 2]\n",
    "    \n",
    "    #filter out prophages from dataframe\n",
    "#     filter_word = 'phage'\n",
    "#     virus_genes = df[(df['qualifiers'].str.contains(filter_word)==True)]\n",
    "#     df = df[(df['qualifiers'].str.contains(filter_word)==False)]\n",
    "    \n",
    "    #adjust for codon bias\n",
    "    for index in df.index:\n",
    "        nt_seq = df.at[index, \"coding_sequence\"]\n",
    "        if len(nt_seq)%3 == 0:\n",
    "            df.at[index, \"iCUB\"] = iCUB.iCUB_Calculator(nt_seq).get_iCUB()\n",
    "    \n",
    "    return df"
   ]
  },
  {
   "cell_type": "code",
   "execution_count": 31,
   "metadata": {},
   "outputs": [],
   "source": [
    "for virus_folder in glob.glob('../Data/*_rep_viruses'):\n",
    "    for virus_tsv_file in glob.glob(virus_folder + '*.tsv'):\n",
    "        \n",
    "        if \"clean\" in virus_tsv_file:\n",
    "            continue\n",
    "        df = pd.read_csv(virus_tsv_file, sep = \"\\t\", index_col = 0)\n",
    "        \n",
    "        initial_shape = df.shape\n",
    "        \n",
    "        df = clean_virus_tsv(virus_tsv_file)\n",
    "        final_shape = df.shape\n",
    "#         gene_ratio = final_shape[0]/initial_shape[0]\n",
    "#         if gene_ratio <= .8 or gene_ratio == 1:\n",
    "#             print(tsv_location)\n",
    "#             break\n",
    "    \n",
    "        clean_tsv_loc = tsv_location.replace(\".tsv\",\".clean.tsv\")\n",
    "        df.to_csv(clean_tsv_loc, sep = \"\\t\")"
   ]
  },
  {
   "cell_type": "code",
   "execution_count": null,
   "metadata": {},
   "outputs": [],
   "source": []
  },
  {
   "cell_type": "code",
   "execution_count": null,
   "metadata": {},
   "outputs": [],
   "source": []
  },
  {
   "cell_type": "code",
   "execution_count": 26,
   "metadata": {},
   "outputs": [],
   "source": [
    "tsv_location =\"../Data/287_rep_viruses/32.tsv\"\n",
    "     \n",
    "df = pd.read_csv(tsv_location, sep = \"\\t\", index_col = 0)\n",
    "initial_shape = df.shape\n",
    "df = clean_virus_tsv(df)\n",
    "final_shape = df.shape\n",
    "# gene_ratio = final_shape[0]/initial_shape[0]\n",
    "# if gene_ratio <= .8 or gene_ratio == 1:\n",
    "#     print(tsv_location)\n",
    "#     #break\n",
    "\n",
    "clean_tsv_loc = tsv_location.replace(\".tsv\",\".clean.tsv\")\n",
    "df.to_csv(clean_tsv_loc, sep = \"\\t\")"
   ]
  },
  {
   "cell_type": "code",
   "execution_count": 27,
   "metadata": {},
   "outputs": [
    {
     "data": {
      "text/plain": [
       "(291, 12)"
      ]
     },
     "execution_count": 27,
     "metadata": {},
     "output_type": "execute_result"
    }
   ],
   "source": [
    "initial_shape"
   ]
  },
  {
   "cell_type": "code",
   "execution_count": 28,
   "metadata": {},
   "outputs": [
    {
     "data": {
      "text/plain": [
       "(291, 14)"
      ]
     },
     "execution_count": 28,
     "metadata": {},
     "output_type": "execute_result"
    }
   ],
   "source": [
    "final_shape"
   ]
  },
  {
   "cell_type": "code",
   "execution_count": null,
   "metadata": {},
   "outputs": [],
   "source": []
  }
 ],
 "metadata": {
  "kernelspec": {
   "display_name": "Python 3",
   "language": "python",
   "name": "python3"
  },
  "language_info": {
   "codemirror_mode": {
    "name": "ipython",
    "version": 3
   },
   "file_extension": ".py",
   "mimetype": "text/x-python",
   "name": "python",
   "nbconvert_exporter": "python",
   "pygments_lexer": "ipython3",
   "version": "3.7.1"
  },
  "toc": {
   "colors": {
    "hover_highlight": "#DAA520",
    "navigate_num": "#000000",
    "navigate_text": "#333333",
    "running_highlight": "#FF0000",
    "selected_highlight": "#FFD700",
    "sidebar_border": "#EEEEEE",
    "wrapper_background": "#FFFFFF"
   },
   "moveMenuLeft": true,
   "nav_menu": {
    "height": "102px",
    "width": "252px"
   },
   "navigate_menu": true,
   "number_sections": true,
   "sideBar": true,
   "threshold": 4,
   "toc_cell": false,
   "toc_section_display": "block",
   "toc_window_display": false,
   "widenNotebook": false
  }
 },
 "nbformat": 4,
 "nbformat_minor": 2
}

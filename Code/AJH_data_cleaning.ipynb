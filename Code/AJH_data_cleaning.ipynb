{
 "cells": [
  {
   "cell_type": "code",
   "execution_count": 1,
   "metadata": {},
   "outputs": [],
   "source": [
    "%matplotlib inline"
   ]
  },
  {
   "cell_type": "code",
   "execution_count": 2,
   "metadata": {},
   "outputs": [],
   "source": [
    "import pandas as pd"
   ]
  },
  {
   "cell_type": "markdown",
   "metadata": {},
   "source": [
    "# We should consider filtering our data a bit because it's a bit messy currently\n",
    "\n",
    "**I've written this scaffold to make things easier but code similar to what I've written below should be written as a function or two and run for every host and every virus probably saving as a new \"tsv\" file called \"yadayada.clean.tsv\"**\n",
    "\n",
    "**This currently works on E. coli but it's possible that there will be some weird genomes that something in here screws up on so we'll need to think about double checking things to make sure that we never remove too much data. Which is to say that df.shape shouldn't change *that* dramatically from beginning to end and if it does it's likely that there is a bug in the code that needs to be investigated**"
   ]
  },
  {
   "cell_type": "code",
   "execution_count": 16,
   "metadata": {},
   "outputs": [
    {
     "name": "stdout",
     "output_type": "stream",
     "text": [
      "(4379, 12)\n"
     ]
    },
    {
     "data": {
      "text/html": [
       "<div>\n",
       "<style>\n",
       "    .dataframe thead tr:only-child th {\n",
       "        text-align: right;\n",
       "    }\n",
       "\n",
       "    .dataframe thead th {\n",
       "        text-align: left;\n",
       "    }\n",
       "\n",
       "    .dataframe tbody tr th {\n",
       "        vertical-align: top;\n",
       "    }\n",
       "</style>\n",
       "<table border=\"1\" class=\"dataframe\">\n",
       "  <thead>\n",
       "    <tr style=\"text-align: right;\">\n",
       "      <th></th>\n",
       "      <th>genome_id</th>\n",
       "      <th>source</th>\n",
       "      <th>type</th>\n",
       "      <th>start</th>\n",
       "      <th>stop</th>\n",
       "      <th>idk</th>\n",
       "      <th>strand</th>\n",
       "      <th>trash</th>\n",
       "      <th>qualifiers</th>\n",
       "      <th>coding_sequence</th>\n",
       "      <th>upstream_sequence</th>\n",
       "      <th>energy_binding</th>\n",
       "    </tr>\n",
       "  </thead>\n",
       "  <tbody>\n",
       "    <tr>\n",
       "      <th>0</th>\n",
       "      <td>NC_000913.3</td>\n",
       "      <td>RefSeq</td>\n",
       "      <td>CDS</td>\n",
       "      <td>190</td>\n",
       "      <td>255</td>\n",
       "      <td>.</td>\n",
       "      <td>+</td>\n",
       "      <td>0</td>\n",
       "      <td>ID=cds-NP_414542.1;Parent=gene-b0001;Dbxref=Un...</td>\n",
       "      <td>ATGAAACGCATTAGCACCACCATTACCACCACCATCACCATTACCA...</td>\n",
       "      <td>TTACAGAGTACACAACATCC</td>\n",
       "      <td>-2.4</td>\n",
       "    </tr>\n",
       "    <tr>\n",
       "      <th>1</th>\n",
       "      <td>NC_000913.3</td>\n",
       "      <td>RefSeq</td>\n",
       "      <td>CDS</td>\n",
       "      <td>337</td>\n",
       "      <td>2799</td>\n",
       "      <td>.</td>\n",
       "      <td>+</td>\n",
       "      <td>0</td>\n",
       "      <td>ID=cds-NP_414543.1;Parent=gene-b0002;Dbxref=Un...</td>\n",
       "      <td>ATGCGAGTGTTGAAGTTCGGCGGTACATCAGTGGCAAATGCAGAAC...</td>\n",
       "      <td>AAGGTAACGAGGTAACAACC</td>\n",
       "      <td>-5.4</td>\n",
       "    </tr>\n",
       "    <tr>\n",
       "      <th>2</th>\n",
       "      <td>NC_000913.3</td>\n",
       "      <td>RefSeq</td>\n",
       "      <td>CDS</td>\n",
       "      <td>2801</td>\n",
       "      <td>3733</td>\n",
       "      <td>.</td>\n",
       "      <td>+</td>\n",
       "      <td>0</td>\n",
       "      <td>ID=cds-NP_414544.1;Parent=gene-b0003;Dbxref=Un...</td>\n",
       "      <td>ATGGTTAAAGTTTATGCCCCGGCTTCCAGTGCCAATATGAGCGTCG...</td>\n",
       "      <td>ATGGAAGTTAGGAGTCTGAC</td>\n",
       "      <td>-6.3</td>\n",
       "    </tr>\n",
       "    <tr>\n",
       "      <th>3</th>\n",
       "      <td>NC_000913.3</td>\n",
       "      <td>RefSeq</td>\n",
       "      <td>CDS</td>\n",
       "      <td>3734</td>\n",
       "      <td>5020</td>\n",
       "      <td>.</td>\n",
       "      <td>+</td>\n",
       "      <td>0</td>\n",
       "      <td>ID=cds-NP_414545.1;Parent=gene-b0004;Dbxref=Un...</td>\n",
       "      <td>ATGAAACTCTACAATCTGAAAGATCACAACGAGCAGGTCAGCTTTG...</td>\n",
       "      <td>CACGAGTACTGGAAAACTAA</td>\n",
       "      <td>-3.3</td>\n",
       "    </tr>\n",
       "    <tr>\n",
       "      <th>4</th>\n",
       "      <td>NC_000913.3</td>\n",
       "      <td>RefSeq</td>\n",
       "      <td>CDS</td>\n",
       "      <td>5234</td>\n",
       "      <td>5530</td>\n",
       "      <td>.</td>\n",
       "      <td>+</td>\n",
       "      <td>0</td>\n",
       "      <td>ID=cds-NP_414546.1;Parent=gene-b0005;Dbxref=Un...</td>\n",
       "      <td>GTGAAAAAGATGCAATCTATCGTACTCGCACTTTCCCTGGTTCTGG...</td>\n",
       "      <td>AATGATAAAAGGAGTAACCT</td>\n",
       "      <td>-6.3</td>\n",
       "    </tr>\n",
       "  </tbody>\n",
       "</table>\n",
       "</div>"
      ],
      "text/plain": [
       "     genome_id  source type  start  stop idk strand  trash  \\\n",
       "0  NC_000913.3  RefSeq  CDS    190   255   .      +      0   \n",
       "1  NC_000913.3  RefSeq  CDS    337  2799   .      +      0   \n",
       "2  NC_000913.3  RefSeq  CDS   2801  3733   .      +      0   \n",
       "3  NC_000913.3  RefSeq  CDS   3734  5020   .      +      0   \n",
       "4  NC_000913.3  RefSeq  CDS   5234  5530   .      +      0   \n",
       "\n",
       "                                          qualifiers  \\\n",
       "0  ID=cds-NP_414542.1;Parent=gene-b0001;Dbxref=Un...   \n",
       "1  ID=cds-NP_414543.1;Parent=gene-b0002;Dbxref=Un...   \n",
       "2  ID=cds-NP_414544.1;Parent=gene-b0003;Dbxref=Un...   \n",
       "3  ID=cds-NP_414545.1;Parent=gene-b0004;Dbxref=Un...   \n",
       "4  ID=cds-NP_414546.1;Parent=gene-b0005;Dbxref=Un...   \n",
       "\n",
       "                                     coding_sequence     upstream_sequence  \\\n",
       "0  ATGAAACGCATTAGCACCACCATTACCACCACCATCACCATTACCA...  TTACAGAGTACACAACATCC   \n",
       "1  ATGCGAGTGTTGAAGTTCGGCGGTACATCAGTGGCAAATGCAGAAC...  AAGGTAACGAGGTAACAACC   \n",
       "2  ATGGTTAAAGTTTATGCCCCGGCTTCCAGTGCCAATATGAGCGTCG...  ATGGAAGTTAGGAGTCTGAC   \n",
       "3  ATGAAACTCTACAATCTGAAAGATCACAACGAGCAGGTCAGCTTTG...  CACGAGTACTGGAAAACTAA   \n",
       "4  GTGAAAAAGATGCAATCTATCGTACTCGCACTTTCCCTGGTTCTGG...  AATGATAAAAGGAGTAACCT   \n",
       "\n",
       "   energy_binding  \n",
       "0            -2.4  \n",
       "1            -5.4  \n",
       "2            -6.3  \n",
       "3            -3.3  \n",
       "4            -6.3  "
      ]
     },
     "execution_count": 16,
     "metadata": {},
     "output_type": "execute_result"
    }
   ],
   "source": [
    "###Read in the starting TSV\n",
    "df = pd.read_csv('../Data/host_genomes/562.tsv', sep='\\t', index_col=0)\n",
    "###Reset the index so that it runs from zero to whatever\n",
    "df = df.reset_index(drop=True)\n",
    "print(df.shape)\n",
    "df.head()"
   ]
  },
  {
   "cell_type": "markdown",
   "metadata": {},
   "source": [
    "**First, make sure the table only uses each `locus_tag` once. These should be unique identifiers for the hosts and should therefore only appear once. If they appear more than once I have no idea what's happening. The virus dataframes won't be able to run this part of the code, however.**"
   ]
  },
  {
   "cell_type": "code",
   "execution_count": 17,
   "metadata": {
    "collapsed": true
   },
   "outputs": [],
   "source": [
    "df['locus_tag'] = df['qualifiers'].str.split('Parent=gene-', n=1, expand=True)[1]\\\n",
    "                            .str.split(';', n=1, expand=True)[0]"
   ]
  },
  {
   "cell_type": "code",
   "execution_count": 18,
   "metadata": {},
   "outputs": [
    {
     "data": {
      "text/plain": [
       "b0470    3\n",
       "b4492    3\n",
       "b0484    3\n",
       "b4623    3\n",
       "b3046    2\n",
       "b0240    2\n",
       "b4569    2\n",
       "b2891    2\n",
       "b3443    2\n",
       "b4579    2\n",
       "Name: locus_tag, dtype: int64"
      ]
     },
     "execution_count": 18,
     "metadata": {},
     "output_type": "execute_result"
    }
   ],
   "source": [
    "df['locus_tag'].value_counts()[:10]"
   ]
  },
  {
   "cell_type": "markdown",
   "metadata": {},
   "source": [
    "**Oooof, let's get rid of those**"
   ]
  },
  {
   "cell_type": "code",
   "execution_count": 19,
   "metadata": {},
   "outputs": [
    {
     "name": "stdout",
     "output_type": "stream",
     "text": [
      "(4335, 13)\n"
     ]
    }
   ],
   "source": [
    "df = df.drop_duplicates(subset=['locus_tag'], keep=False)\n",
    "print(df.shape)"
   ]
  },
  {
   "cell_type": "code",
   "execution_count": 20,
   "metadata": {},
   "outputs": [
    {
     "data": {
      "text/plain": [
       "b2023    1\n",
       "b3785    1\n",
       "b2424    1\n",
       "b2734    1\n",
       "b2625    1\n",
       "b2825    1\n",
       "b2137    1\n",
       "b2075    1\n",
       "b3655    1\n",
       "b2948    1\n",
       "Name: locus_tag, dtype: int64"
      ]
     },
     "execution_count": 20,
     "metadata": {},
     "output_type": "execute_result"
    }
   ],
   "source": [
    "df['locus_tag'].value_counts()[:10]"
   ]
  },
  {
   "cell_type": "markdown",
   "metadata": {},
   "source": [
    "**Voila!**"
   ]
  },
  {
   "cell_type": "markdown",
   "metadata": {},
   "source": [
    "**How about any weird length genes? This should be checked and removed for all genomes (host and virus)**"
   ]
  },
  {
   "cell_type": "code",
   "execution_count": 21,
   "metadata": {},
   "outputs": [
    {
     "data": {
      "text/plain": [
       "2    4305\n",
       "1      22\n",
       "0       8\n",
       "dtype: int64"
      ]
     },
     "execution_count": 21,
     "metadata": {},
     "output_type": "execute_result"
    }
   ],
   "source": [
    "((df['stop']-df['start']) %3).value_counts()"
   ]
  },
  {
   "cell_type": "markdown",
   "metadata": {},
   "source": [
    "**Clean them up too**"
   ]
  },
  {
   "cell_type": "code",
   "execution_count": 22,
   "metadata": {},
   "outputs": [
    {
     "name": "stdout",
     "output_type": "stream",
     "text": [
      "(4305, 13)\n"
     ]
    }
   ],
   "source": [
    "df = df[(df['stop']-df['start']) %3 == 2]\n",
    "print(df.shape)"
   ]
  },
  {
   "cell_type": "markdown",
   "metadata": {},
   "source": [
    "**Remove phage/prophage genes from descriptors. This again should only be run for the host genomes so you can see maybe we'll want separate functions like \"def clean_host(...)\" and \"def clean_virus(...)\"**"
   ]
  },
  {
   "cell_type": "code",
   "execution_count": 23,
   "metadata": {},
   "outputs": [
    {
     "name": "stdout",
     "output_type": "stream",
     "text": [
      "(205, 13)\n"
     ]
    }
   ],
   "source": [
    "filter_word = 'prophage'\n",
    "# filter_word = 'phage'\n",
    "virus_genes = df[(df['qualifiers'].str.contains(filter_word)==True)]\n",
    "print(virus_genes.shape)"
   ]
  },
  {
   "cell_type": "code",
   "execution_count": 24,
   "metadata": {},
   "outputs": [
    {
     "data": {
      "text/plain": [
       "(4100, 13)"
      ]
     },
     "execution_count": 24,
     "metadata": {},
     "output_type": "execute_result"
    }
   ],
   "source": [
    "df = df[(df['qualifiers'].str.contains(filter_word)==False)]\n",
    "df.shape"
   ]
  },
  {
   "cell_type": "code",
   "execution_count": null,
   "metadata": {
    "collapsed": true
   },
   "outputs": [],
   "source": []
  },
  {
   "cell_type": "markdown",
   "metadata": {},
   "source": [
    "# Add in knowledge of codon usage bias\n",
    "\n",
    "** This is an important control and you'll have to install this \"iCUB\" software to make this run. I worked on this project with a former graduate student in my PhD lab and the code is here: https://github.com/amarallab/iCUB **\n",
    "\n",
    "**The major bug that I can anticipate cropping up is if the organism uses a \"non-standard\" genetic code but we'll cross that bridge when we get there. This will also probably cause an error if any \"non-standard\" nucleotides appear in a given genome which will almost certainly occur and need to be fixed**"
   ]
  },
  {
   "cell_type": "code",
   "execution_count": 3,
   "metadata": {},
   "outputs": [],
   "source": [
    "import sys\n",
    "sys.path.append('/Users/ChaseWeaver/Desktop/Projects/iCUB-master/')\n",
    "import iCUB"
   ]
  },
  {
   "cell_type": "code",
   "execution_count": 14,
   "metadata": {},
   "outputs": [],
   "source": [
    "for index in df.index:\n",
    "    nt_seq = df.at[index, \"coding_sequence\"]\n",
    "    if len(nt_seq)%3 == 0:\n",
    "        df.at[index, \"iCUB\"] = iCUB.iCUB_Calculator(nt_seq).get_iCUB()"
   ]
  },
  {
   "cell_type": "markdown",
   "metadata": {},
   "source": [
    "**If our genes are clean and good then we shouldn't have any null values in either of these categories and we can then write this new dataframe**"
   ]
  },
  {
   "cell_type": "code",
   "execution_count": 15,
   "metadata": {},
   "outputs": [
    {
     "name": "stdout",
     "output_type": "stream",
     "text": [
      "(0, 14)\n",
      "(0, 14)\n"
     ]
    }
   ],
   "source": [
    "print(df[df['iCUB'].isnull()==True].shape)\n",
    "print(df[df['energy_binding'].isnull()==True].shape)"
   ]
  },
  {
   "cell_type": "markdown",
   "metadata": {
    "collapsed": true
   },
   "source": [
    "# Final notes:\n",
    "\n",
    "**As I mentioned, we aren't going to want to step through this code for every genome so your task is to write this up into some functions that you can then put into for loops and run for everyone. I'm imagining something like:**\n",
    "\n",
    "<code>\n",
    "for host_tsv_file in glob.glob('blahblah/\\*.tsv): \n",
    "    clean_host_tsv(host_tsv_file)\n",
    "</code>\n",
    "    \n",
    "**where `clean_host_tsv()` will read the tsv, clean it up, check that no problems occurred, and write the new tsv. Something along the lines of:**\n",
    "\n",
    "<code>\n",
    "def clean_host_tsv(tsv_location):\n",
    "\n",
    "    df = pd.read_tsv(tsv_location...)\n",
    "    starting_shape = df.shape\n",
    "    #Code that does the work goes here\n",
    "    ending_shape = df.shape\n",
    "    #Code that compares ending and starting shapes to make sure things look reasonable goes here\n",
    "    df.to_csv(tsv_location.replace('.tsv', '.clean.tsv'))\n",
    "</code>\n",
    "\n",
    "\n",
    "**And then again we'll have something like this for the viruses:**\n",
    "\n",
    "<code>\n",
    "for virus_folder in glob.glob('blahblah/\\*\\_rep\\_viruses/'):\n",
    "    for virus_tsv_file in glob.glob(virus_folder + '\\*.tsv'):\n",
    "        clean_virus_tsv(virus_tsv_file)\n",
    "</code>\n"
   ]
  },
  {
   "cell_type": "code",
   "execution_count": 16,
   "metadata": {},
   "outputs": [
    {
     "name": "stdout",
     "output_type": "stream",
     "text": [
      "(5573, 12)\n"
     ]
    }
   ],
   "source": [
    "df = pd.read_csv('../Data/host_genomes/287.tsv', sep = \",\", index_col = 0)\n",
    "print(df.shape)"
   ]
  },
  {
   "cell_type": "code",
   "execution_count": 18,
   "metadata": {},
   "outputs": [],
   "source": [
    "def clean_host_tsv(tsv_location):\n",
    "    \n",
    "    df = pd.read_csv(tsv_location, sep = \",\", index_col = 0)\n",
    "    initial_shape = df.shape\n",
    "    df = df.reset_index(drop = True)\n",
    "    \n",
    "    df['locus_tag'] = df['qualifiers'].str.split('Parent=gene-', n=1, expand=True)[1]\\\n",
    "                            .str.split(';', n=1, expand=True)[0]\n",
    "    df = df.drop_duplicates(subset = [\"locus_tag\"], keep = False)\n",
    "    df = df[(df['stop']-df['start']) %3 == 2]\n",
    "    filter_word = 'prophage'\n",
    "    virus_genes = df[(df['qualifiers'].str.contains(filter_word)==True)]\n",
    "    df = df[(df['qualifiers'].str.contains(filter_word)==False)]\n",
    "    \n",
    "    for index in df.index:\n",
    "        nt_seq = df.at[index, \"coding_sequence\"]\n",
    "        if len(nt_seq)%3 == 0:\n",
    "            df.at[index, \"iCUB\"] = iCUB.iCUB_Calculator(nt_seq).get_iCUB()\n",
    "    \n",
    "    return df.shape\n",
    "    "
   ]
  },
  {
   "cell_type": "code",
   "execution_count": 19,
   "metadata": {},
   "outputs": [
    {
     "data": {
      "text/plain": [
       "(5571, 14)"
      ]
     },
     "execution_count": 19,
     "metadata": {},
     "output_type": "execute_result"
    }
   ],
   "source": [
    "clean_host_tsv(\"../Data/host_genomes/287.tsv\")"
   ]
  },
  {
   "cell_type": "code",
   "execution_count": 15,
   "metadata": {},
   "outputs": [
    {
     "name": "stdout",
     "output_type": "stream",
     "text": [
      "(5573, 12)\n"
     ]
    }
   ],
   "source": [
    "print(df.shape)"
   ]
  },
  {
   "cell_type": "code",
   "execution_count": null,
   "metadata": {},
   "outputs": [],
   "source": []
  }
 ],
 "metadata": {
  "kernelspec": {
   "display_name": "Python 3",
   "language": "python",
   "name": "python3"
  },
  "language_info": {
   "codemirror_mode": {
    "name": "ipython",
    "version": 3
   },
   "file_extension": ".py",
   "mimetype": "text/x-python",
   "name": "python",
   "nbconvert_exporter": "python",
   "pygments_lexer": "ipython3",
   "version": "3.7.1"
  },
  "toc": {
   "colors": {
    "hover_highlight": "#DAA520",
    "navigate_num": "#000000",
    "navigate_text": "#333333",
    "running_highlight": "#FF0000",
    "selected_highlight": "#FFD700",
    "sidebar_border": "#EEEEEE",
    "wrapper_background": "#FFFFFF"
   },
   "moveMenuLeft": true,
   "nav_menu": {
    "height": "102px",
    "width": "252px"
   },
   "navigate_menu": true,
   "number_sections": true,
   "sideBar": true,
   "threshold": 4,
   "toc_cell": false,
   "toc_section_display": "block",
   "toc_window_display": false,
   "widenNotebook": false
  }
 },
 "nbformat": 4,
 "nbformat_minor": 2
}

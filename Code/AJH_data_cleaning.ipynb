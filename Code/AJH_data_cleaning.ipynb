{
 "cells": [
  {
   "cell_type": "code",
   "execution_count": 2,
   "metadata": {},
   "outputs": [],
   "source": [
    "%matplotlib inline"
   ]
  },
  {
   "cell_type": "code",
   "execution_count": 1,
   "metadata": {},
   "outputs": [],
   "source": [
    "import pandas as pd\n",
    "import glob"
   ]
  },
  {
   "cell_type": "markdown",
   "metadata": {},
   "source": [
    "# We should consider filtering our data a bit because it's a bit messy currently\n",
    "\n",
    "**I've written this scaffold to make things easier but code similar to what I've written below should be written as a function or two and run for every host and every virus probably saving as a new \"tsv\" file called \"yadayada.clean.tsv\"**\n",
    "\n",
    "**This currently works on E. coli but it's possible that there will be some weird genomes that something in here screws up on so we'll need to think about double checking things to make sure that we never remove too much data. Which is to say that df.shape shouldn't change *that* dramatically from beginning to end and if it does it's likely that there is a bug in the code that needs to be investigated**"
   ]
  },
  {
   "cell_type": "code",
   "execution_count": 19,
   "metadata": {},
   "outputs": [
    {
     "name": "stdout",
     "output_type": "stream",
     "text": [
      "(4379, 12)\n"
     ]
    },
    {
     "data": {
      "text/plain": [
       "'ID=cds-NP_414543.1;Parent=gene-b0002;Dbxref=UniProtKB/Swiss-Prot:P00561,Genbank:NP_414543.1,ASAP:ABE-0000008,ECOCYC:EG10998,EcoGene:EG10998,GeneID:945803;Name=NP_414543.1;gbkey=CDS;gene=thrA;locus_tag=b0002;orig_transcript_id=gnl|b0002|mrna.b0002;product=fused aspartate kinase/homoserine dehydrogenase 1;protein_id=NP_414543.1;transl_table=11'"
      ]
     },
     "execution_count": 19,
     "metadata": {},
     "output_type": "execute_result"
    }
   ],
   "source": [
    "###Read in the starting TSV\n",
    "df = pd.read_csv('../Data/host_genomes/562.tsv', sep='\\t', index_col=0)\n",
    "###Reset the index so that it runs from zero to whatever\n",
    "df = df.reset_index(drop=True)\n",
    "print(df.shape)\n",
    "df.head()\n",
    "df[\"qualifiers\"][1]\n",
    "#df.head()"
   ]
  },
  {
   "cell_type": "markdown",
   "metadata": {},
   "source": [
    "**First, make sure the table only uses each `locus_tag` once. These should be unique identifiers for the hosts and should therefore only appear once. If they appear more than once I have no idea what's happening. The virus dataframes won't be able to run this part of the code, however.**"
   ]
  },
  {
   "cell_type": "code",
   "execution_count": 20,
   "metadata": {},
   "outputs": [],
   "source": [
    "df['locus_tag'] = df['qualifiers'].str.split('Parent=gene-', n=1, expand=True)[1]\\\n",
    "                            .str.split(';', n=1, expand=True)[0]"
   ]
  },
  {
   "cell_type": "code",
   "execution_count": 21,
   "metadata": {},
   "outputs": [],
   "source": [
    "test_string = df.loc[0][\"qualifiers\"]"
   ]
  },
  {
   "cell_type": "code",
   "execution_count": 22,
   "metadata": {},
   "outputs": [
    {
     "data": {
      "text/plain": [
       "'ID=cds-NP_414542.1;Parent=gene-b0001;Dbxref=UniProtKB/Swiss-Prot:P0AD86,Genbank:NP_414542.1,ASAP:ABE-0000006,ECOCYC:EG11277,EcoGene:EG11277,GeneID:944742;Name=NP_414542.1;gbkey=CDS;gene=thrL;locus_tag=b0001;orig_transcript_id=gnl|b0001|mrna.b0001;product=thr operon leader peptide;protein_id=NP_414542.1;transl_table=11'"
      ]
     },
     "execution_count": 22,
     "metadata": {},
     "output_type": "execute_result"
    }
   ],
   "source": [
    "test_string"
   ]
  },
  {
   "cell_type": "code",
   "execution_count": 23,
   "metadata": {},
   "outputs": [
    {
     "data": {
      "text/plain": [
       "b0484    3\n",
       "b4623    3\n",
       "b0470    3\n",
       "b4492    3\n",
       "b3504    2\n",
       "b4580    2\n",
       "b4587    2\n",
       "b3046    2\n",
       "b4569    2\n",
       "b4498    2\n",
       "Name: locus_tag, dtype: int64"
      ]
     },
     "execution_count": 23,
     "metadata": {},
     "output_type": "execute_result"
    }
   ],
   "source": [
    "df['locus_tag'].value_counts()[:10]"
   ]
  },
  {
   "cell_type": "markdown",
   "metadata": {},
   "source": [
    "**Oooof, let's get rid of those**"
   ]
  },
  {
   "cell_type": "code",
   "execution_count": 25,
   "metadata": {},
   "outputs": [
    {
     "name": "stdout",
     "output_type": "stream",
     "text": [
      "(4335, 13)\n"
     ]
    }
   ],
   "source": [
    "df = df.drop_duplicates(subset=['locus_tag'], keep=False)\n",
    "print(df.shape)"
   ]
  },
  {
   "cell_type": "code",
   "execution_count": 26,
   "metadata": {},
   "outputs": [
    {
     "data": {
      "text/plain": [
       "b2380    1\n",
       "b3540    1\n",
       "b2257    1\n",
       "b1886    1\n",
       "b1041    1\n",
       "b0888    1\n",
       "b0329    1\n",
       "b0471    1\n",
       "b1092    1\n",
       "b0712    1\n",
       "Name: locus_tag, dtype: int64"
      ]
     },
     "execution_count": 26,
     "metadata": {},
     "output_type": "execute_result"
    }
   ],
   "source": [
    "df['locus_tag'].value_counts()[:10]"
   ]
  },
  {
   "cell_type": "markdown",
   "metadata": {},
   "source": [
    "**Voila!**"
   ]
  },
  {
   "cell_type": "markdown",
   "metadata": {},
   "source": [
    "**How about any weird length genes? This should be checked and removed for all genomes (host and virus)**"
   ]
  },
  {
   "cell_type": "code",
   "execution_count": 28,
   "metadata": {},
   "outputs": [
    {
     "data": {
      "text/plain": [
       "2    4305\n",
       "1      22\n",
       "0       8\n",
       "dtype: int64"
      ]
     },
     "execution_count": 28,
     "metadata": {},
     "output_type": "execute_result"
    }
   ],
   "source": [
    "((df['stop']-df['start']) %3).value_counts()"
   ]
  },
  {
   "cell_type": "markdown",
   "metadata": {},
   "source": [
    "**Clean them up too**"
   ]
  },
  {
   "cell_type": "code",
   "execution_count": 29,
   "metadata": {},
   "outputs": [
    {
     "name": "stdout",
     "output_type": "stream",
     "text": [
      "(4305, 13)\n"
     ]
    }
   ],
   "source": [
    "df = df[(df['stop']-df['start']) %3 == 2]\n",
    "print(df.shape)"
   ]
  },
  {
   "cell_type": "markdown",
   "metadata": {},
   "source": [
    "**Remove phage/prophage genes from descriptors. This again should only be run for the host genomes so you can see maybe we'll want separate functions like \"def clean_host(...)\" and \"def clean_virus(...)\"**"
   ]
  },
  {
   "cell_type": "code",
   "execution_count": 30,
   "metadata": {},
   "outputs": [
    {
     "name": "stdout",
     "output_type": "stream",
     "text": [
      "(246, 13)\n"
     ]
    }
   ],
   "source": [
    "filter_word = 'phage'\n",
    "# filter_word = 'phage'\n",
    "virus_genes = df[(df['qualifiers'].str.contains(filter_word)==True)]\n",
    "print(virus_genes.shape)"
   ]
  },
  {
   "cell_type": "code",
   "execution_count": 31,
   "metadata": {},
   "outputs": [
    {
     "data": {
      "text/plain": [
       "(4059, 13)"
      ]
     },
     "execution_count": 31,
     "metadata": {},
     "output_type": "execute_result"
    }
   ],
   "source": [
    "df = df[(df['qualifiers'].str.contains(filter_word)==False)]\n",
    "df.shape"
   ]
  },
  {
   "cell_type": "code",
   "execution_count": 35,
   "metadata": {},
   "outputs": [
    {
     "data": {
      "text/plain": [
       "0.9676860934795153"
      ]
     },
     "execution_count": 35,
     "metadata": {},
     "output_type": "execute_result"
    }
   ],
   "source": []
  },
  {
   "cell_type": "code",
   "execution_count": 33,
   "metadata": {},
   "outputs": [
    {
     "data": {
      "text/plain": [
       "'ID=cds-WP_011000059.1;Parent=gene-RS_RS00465;Dbxref=Genbank:WP_011000059.1,GeneID:1218895;Name=WP_011000059.1;gbkey=CDS;inference=COORDINATES: similar to AA sequence:RefSeq:WP_003261510.1;locus_tag=RS_RS00465;product=phage holin family protein;protein_id=WP_011000059.1;transl_table=11'"
      ]
     },
     "execution_count": 33,
     "metadata": {},
     "output_type": "execute_result"
    }
   ],
   "source": [
    "virus_genes.loc[93][\"qualifiers\"]"
   ]
  },
  {
   "cell_type": "markdown",
   "metadata": {},
   "source": [
    "# Add in knowledge of codon usage bias\n",
    "\n",
    "** This is an important control and you'll have to install this \"iCUB\" software to make this run. I worked on this project with a former graduate student in my PhD lab and the code is here: https://github.com/amarallab/iCUB **\n",
    "\n",
    "**The major bug that I can anticipate cropping up is if the organism uses a \"non-standard\" genetic code but we'll cross that bridge when we get there. This will also probably cause an error if any \"non-standard\" nucleotides appear in a given genome which will almost certainly occur and need to be fixed**"
   ]
  },
  {
   "cell_type": "code",
   "execution_count": 32,
   "metadata": {},
   "outputs": [],
   "source": [
    "import sys\n",
    "sys.path.append('/Users/ChaseWeaver/Desktop/Projects/iCUB-master/')\n",
    "import iCUB"
   ]
  },
  {
   "cell_type": "code",
   "execution_count": 33,
   "metadata": {},
   "outputs": [],
   "source": [
    "for index in df.index:\n",
    "    nt_seq = df.at[index, \"coding_sequence\"]\n",
    "    if len(nt_seq)%3 == 0:\n",
    "        df.at[index, \"iCUB\"] = iCUB.iCUB_Calculator(nt_seq).get_iCUB()"
   ]
  },
  {
   "cell_type": "markdown",
   "metadata": {},
   "source": [
    "**If our genes are clean and good then we shouldn't have any null values in either of these categories and we can then write this new dataframe**"
   ]
  },
  {
   "cell_type": "code",
   "execution_count": 85,
   "metadata": {},
   "outputs": [
    {
     "name": "stdout",
     "output_type": "stream",
     "text": [
      "(3820, 14)\n",
      "(0, 14)\n"
     ]
    }
   ],
   "source": [
    "print(df[df['iCUB'].isnull()==True].shape)\n",
    "print(df[df['energy_binding'].isnull()==True].shape)"
   ]
  },
  {
   "cell_type": "markdown",
   "metadata": {
    "collapsed": true
   },
   "source": [
    "# Final notes:\n",
    "\n",
    "**As I mentioned, we aren't going to want to step through this code for every genome so your task is to write this up into some functions that you can then put into for loops and run for everyone. I'm imagining something like:**\n",
    "\n",
    "<code>\n",
    "for host_tsv_file in glob.glob('blahblah/\\*.tsv): \n",
    "    clean_host_tsv(host_tsv_file)\n",
    "</code>\n",
    "    \n",
    "**where `clean_host_tsv()` will read the tsv, clean it up, check that no problems occurred, and write the new tsv. Something along the lines of:**\n",
    "\n",
    "<code>\n",
    "def clean_host_tsv(tsv_location):\n",
    "\n",
    "    df = pd.read_tsv(tsv_location...)\n",
    "    starting_shape = df.shape\n",
    "    #Code that does the work goes here\n",
    "    ending_shape = df.shape\n",
    "    #Code that compares ending and starting shapes to make sure things look reasonable goes here\n",
    "    df.to_csv(tsv_location.replace('.tsv', '.clean.tsv'))\n",
    "</code>\n",
    "\n",
    "\n",
    "**And then again we'll have something like this for the viruses:**\n",
    "\n",
    "<code>\n",
    "for virus_folder in glob.glob('blahblah/\\*\\_rep\\_viruses/'):\n",
    "    for virus_tsv_file in glob.glob(virus_folder + '\\*.tsv'):\n",
    "        clean_virus_tsv(virus_tsv_file)\n",
    "</code>\n"
   ]
  },
  {
   "cell_type": "code",
   "execution_count": null,
   "metadata": {},
   "outputs": [],
   "source": [
    "df = pd.read_csv('../Data/host_genomes/562.tsv', sep = \"\\t\", index_col = 0)\n",
    "print(df.shape)"
   ]
  },
  {
   "cell_type": "code",
   "execution_count": 34,
   "metadata": {},
   "outputs": [],
   "source": [
    "def clean_host_tsv(df):\n",
    "    \"\"\"\n",
    "    \n",
    "    \"\"\"\n",
    "    \n",
    "    initial_shape = df.shape\n",
    "    df = df.reset_index(drop = True)\n",
    "    \n",
    "    #Ensure each locus tag is only used once\n",
    "    df['locus_tag'] = df['qualifiers'].str.split('locus_tag=', n=1, expand=True)[1]\\\n",
    "                            .str.split(';', n=1, expand=True)[0]\n",
    "    df = df.drop_duplicates(subset = [\"locus_tag\"], keep = False)\n",
    "    \n",
    "    #ensure that only genes with a total length divisible by 3 are used\n",
    "    df = df[(df['stop']-df['start']) %3 == 2]\n",
    "    \n",
    "    #filter out prophages from dataframe\n",
    "    filter_word = 'phage'\n",
    "    virus_genes = df[(df['qualifiers'].str.contains(filter_word)==True)]\n",
    "    df = df[(df['qualifiers'].str.contains(filter_word)==False)]\n",
    "    \n",
    "    #adjust for codon bias\n",
    "    for index in df.index:\n",
    "        nt_seq = df.at[index, \"coding_sequence\"]\n",
    "        if len(nt_seq)%3 == 0:\n",
    "            df.at[index, \"iCUB\"] = iCUB.iCUB_Calculator(nt_seq).get_iCUB()\n",
    "    \n",
    "    \n",
    "    \n",
    "    \n",
    "    \n",
    "    return df"
   ]
  },
  {
   "cell_type": "code",
   "execution_count": 3,
   "metadata": {},
   "outputs": [
    {
     "name": "stdout",
     "output_type": "stream",
     "text": [
      "../Data/host_genomes/28450.tsv\n",
      "../Data/host_genomes/357276.clean.tsv\n",
      "../Data/host_genomes/1590.tsv\n",
      "../Data/host_genomes/562.tsv\n",
      "../Data/host_genomes/357276.tsv\n",
      "../Data/host_genomes/657318.tsv\n",
      "../Data/host_genomes/573.tsv\n",
      "../Data/host_genomes/1280.clean.tsv\n",
      "../Data/host_genomes/28450.clean.tsv\n",
      "../Data/host_genomes/562.clean.tsv\n",
      "../Data/host_genomes/1280.tsv\n",
      "../Data/host_genomes/435591.clean.tsv\n",
      "../Data/host_genomes/305.tsv\n",
      "../Data/host_genomes/28450.1.tsv\n",
      "../Data/host_genomes/28450.2.tsv\n",
      "../Data/host_genomes/717959.clean.tsv\n",
      "../Data/host_genomes/435591.tsv\n",
      "../Data/host_genomes/470.tsv\n",
      "../Data/host_genomes/1590.clean.tsv\n",
      "../Data/host_genomes/287.tsv\n",
      "../Data/host_genomes/1314.tsv\n",
      "../Data/host_genomes/36809.tsv\n",
      "../Data/host_genomes/717959.tsv\n",
      "../Data/host_genomes/470.clean.tsv\n",
      "../Data/host_genomes/1314.clean.tsv\n",
      "../Data/host_genomes/90371.tsv\n",
      "../Data/host_genomes/1639.clean.tsv\n",
      "../Data/host_genomes/1639.tsv\n",
      "../Data/host_genomes/90371.clean.tsv\n",
      "../Data/host_genomes/305.clean.tsv\n",
      "../Data/host_genomes/36809.clean.tsv\n",
      "../Data/host_genomes/573.clean.tsv\n",
      "../Data/host_genomes/657318.clean.tsv\n",
      "../Data/host_genomes/287.clean.tsv\n",
      "../Data/host_genomes/1428.clean.tsv\n",
      "../Data/host_genomes/1428.tsv\n"
     ]
    }
   ],
   "source": [
    "for tsv_location in glob.glob(\"../Data/host_genomes/*.tsv\"):\n",
    "    print(tsv_location)"
   ]
  },
  {
   "cell_type": "code",
   "execution_count": 35,
   "metadata": {},
   "outputs": [],
   "source": [
    "for tsv_location in glob.glob(\"../Data/host_genomes/*.tsv\"):\n",
    "    if \"clean\" in tsv_location:\n",
    "        continue\n",
    "    df = pd.read_csv(tsv_location, sep = \"\\t\", index_col = 0)\n",
    "    initial_shape = df.shape\n",
    "    df = clean_host_tsv(df)\n",
    "    final_shape = df.shape\n",
    "    gene_ratio = final_shape[0]/initial_shape[0]\n",
    "    if gene_ratio <= .8 or gene_ratio == 1:\n",
    "        print(tsv_location)\n",
    "        break\n",
    "    \n",
    "    clean_tsv_loc = tsv_location.replace(\".tsv\",\".clean.tsv\")\n",
    "    df.to_csv(clean_tsv_loc, sep = \"\\t\")\n",
    "    \n"
   ]
  },
  {
   "cell_type": "code",
   "execution_count": 28,
   "metadata": {},
   "outputs": [
    {
     "data": {
      "text/plain": [
       "0       [, cds-NP_414542.1;Parent=gene-b0001;Dbxref=Un...\n",
       "1       [, cds-NP_414543.1;Parent=gene-b0002;Dbxref=Un...\n",
       "2       [, cds-NP_414544.1;Parent=gene-b0003;Dbxref=Un...\n",
       "3       [, cds-NP_414545.1;Parent=gene-b0004;Dbxref=Un...\n",
       "4       [, cds-NP_414546.1;Parent=gene-b0005;Dbxref=Un...\n",
       "5       [, cds-NP_414547.1;Parent=gene-b0006;Dbxref=Un...\n",
       "6       [, cds-NP_414548.1;Parent=gene-b0007;Dbxref=Un...\n",
       "7       [, cds-NP_414549.1;Parent=gene-b0008;Dbxref=Un...\n",
       "8       [, cds-NP_414550.1;Parent=gene-b0009;Dbxref=Un...\n",
       "9       [, cds-NP_414551.1;Parent=gene-b0010;Dbxref=Un...\n",
       "10      [, cds-NP_414552.1;Parent=gene-b0011;Dbxref=Un...\n",
       "11      [, cds-YP_009518733.1;Parent=gene-b0012;Dbxref...\n",
       "12      [, cds-NP_414554.1;Parent=gene-b0013;Dbxref=Un...\n",
       "13      [, cds-NP_414555.1;Parent=gene-b0014;Dbxref=Un...\n",
       "14      [, cds-NP_414556.1;Parent=gene-b0015;Dbxref=Un...\n",
       "15      [, cds-NP_414557.1;Parent=gene-b0016;Dbxref=Un...\n",
       "16      [, cds-NP_414559.1;Parent=gene-b0018;Dbxref=Un...\n",
       "17      [, cds-YP_025292.1;Parent=gene-b4412;Dbxref=Un...\n",
       "18      [, cds-NP_414560.1;Parent=gene-b0019;Dbxref=Un...\n",
       "19      [, cds-NP_414561.1;Parent=gene-b0020;Dbxref=Un...\n",
       "20      [, cds-NP_414562.1;Parent=gene-b0021;Dbxref=Un...\n",
       "21      [, cds-NP_414563.1;Parent=gene-b0022;Dbxref=Un...\n",
       "22      [, cds-NP_414564.1;Parent=gene-b0023;Dbxref=Un...\n",
       "23      [, cds-NP_414565.1;Parent=gene-b0024;Dbxref=Un...\n",
       "24      [, cds-NP_414566.1;Parent=gene-b0025;Dbxref=Un...\n",
       "25      [, cds-NP_414567.1;Parent=gene-b0026;Dbxref=Un...\n",
       "26      [, cds-NP_414568.1;Parent=gene-b0027;Dbxref=Un...\n",
       "27      [, cds-NP_414569.1;Parent=gene-b0028;Dbxref=Un...\n",
       "28      [, cds-NP_414570.1;Parent=gene-b0029;Dbxref=Un...\n",
       "29      [, cds-NP_414571.1;Parent=gene-b0030;Dbxref=Un...\n",
       "                              ...                        \n",
       "4029    [, cds-NP_418792.1;Parent=gene-b4375;Dbxref=Un...\n",
       "4030    [, cds-NP_418793.1;Parent=gene-b4376;Dbxref=Un...\n",
       "4031    [, cds-YP_588479.2;Parent=gene-b4568;Dbxref=Un...\n",
       "4032    [, cds-NP_418794.1;Parent=gene-b4377;Dbxref=Un...\n",
       "4033    [, cds-YP_026291.2;Parent=gene-b4378;Dbxref=Un...\n",
       "4034    [, cds-NP_418796.1;Parent=gene-b4379;Dbxref=Un...\n",
       "4035    [, cds-NP_418797.1;Parent=gene-b4380;Dbxref=Un...\n",
       "4036    [, cds-NP_418798.1;Parent=gene-b4381;Dbxref=Un...\n",
       "4037    [, cds-NP_418799.1;Parent=gene-b4382;Dbxref=Un...\n",
       "4038    [, cds-NP_418800.1;Parent=gene-b4383;Dbxref=Un...\n",
       "4039    [, cds-NP_418801.1;Parent=gene-b4384;Dbxref=Un...\n",
       "4040    [, cds-NP_418802.1;Parent=gene-b4385;Dbxref=Un...\n",
       "4041    [, cds-NP_418803.1;Parent=gene-b4386;Dbxref=Un...\n",
       "4042    [, cds-NP_418804.1;Parent=gene-b4387;Dbxref=Un...\n",
       "4043    [, cds-NP_418805.1;Parent=gene-b4388;Dbxref=Un...\n",
       "4044    [, cds-NP_418806.1;Parent=gene-b4389;Dbxref=Un...\n",
       "4045    [, cds-NP_418807.4;Parent=gene-b4390;Dbxref=Un...\n",
       "4046    [, cds-NP_418808.1;Parent=gene-b4391;Dbxref=Un...\n",
       "4047    [, cds-NP_418809.4;Parent=gene-b4392;Dbxref=Un...\n",
       "4048    [, cds-NP_418810.1;Parent=gene-b4393;Dbxref=Un...\n",
       "4049    [, cds-NP_418811.2;Parent=gene-b4394;Dbxref=Un...\n",
       "4050    [, cds-NP_418812.1;Parent=gene-b4395;Dbxref=Un...\n",
       "4051    [, cds-NP_418813.1;Parent=gene-b4396;Dbxref=Un...\n",
       "4052    [, cds-NP_418814.1;Parent=gene-b4397;Dbxref=Un...\n",
       "4053    [, cds-NP_418815.1;Parent=gene-b4398;Dbxref=Un...\n",
       "4054    [, cds-NP_418816.1;Parent=gene-b4399;Dbxref=Un...\n",
       "4055    [, cds-NP_418817.1;Parent=gene-b4400;Dbxref=Un...\n",
       "4056    [, cds-NP_418818.1;Parent=gene-b4401;Dbxref=Un...\n",
       "4057    [, cds-NP_418819.1;Parent=gene-b4402;Dbxref=Un...\n",
       "4058    [, cds-NP_418820.1;Parent=gene-b4403;Dbxref=Un...\n",
       "Name: qualifiers, Length: 4059, dtype: object"
      ]
     },
     "execution_count": 28,
     "metadata": {},
     "output_type": "execute_result"
    }
   ],
   "source": [
    "df['qualifiers'].str.split('ID=')"
   ]
  },
  {
   "cell_type": "code",
   "execution_count": 41,
   "metadata": {},
   "outputs": [],
   "source": [
    "tsv_location =\"../Data/host_genomes/717959.tsv\"\n",
    "     \n",
    "df = pd.read_csv(tsv_location, sep = \"\\t\", index_col = 0)\n",
    "initial_shape = df.shape\n",
    "df = clean_host_tsv(df)\n",
    "final_shape = df.shape\n",
    "gene_ratio = final_shape[0]/initial_shape[0]\n",
    "if gene_ratio <= .8 or gene_ratio == 1:\n",
    "    print(tsv_location)\n",
    "    #break\n",
    "\n",
    "clean_tsv_loc = tsv_location.replace(\".tsv\",\".clean.tsv\")\n",
    "df.to_csv(clean_tsv_loc, sep = \"\\t\")"
   ]
  },
  {
   "cell_type": "code",
   "execution_count": 31,
   "metadata": {},
   "outputs": [
    {
     "name": "stdout",
     "output_type": "stream",
     "text": [
      "0.9971290148932352\n"
     ]
    }
   ],
   "source": [
    "print(gene_ratio)"
   ]
  },
  {
   "cell_type": "code",
   "execution_count": 22,
   "metadata": {},
   "outputs": [],
   "source": [
    "df['viral_id'] = df['qualifiers'].str.split('ID=', n=1, expand=True)[1]\\\n",
    "                            .str.split(';', n=1, expand=True)[0]"
   ]
  },
  {
   "cell_type": "code",
   "execution_count": 23,
   "metadata": {},
   "outputs": [
    {
     "data": {
      "text/html": [
       "<div>\n",
       "<style scoped>\n",
       "    .dataframe tbody tr th:only-of-type {\n",
       "        vertical-align: middle;\n",
       "    }\n",
       "\n",
       "    .dataframe tbody tr th {\n",
       "        vertical-align: top;\n",
       "    }\n",
       "\n",
       "    .dataframe thead th {\n",
       "        text-align: right;\n",
       "    }\n",
       "</style>\n",
       "<table border=\"1\" class=\"dataframe\">\n",
       "  <thead>\n",
       "    <tr style=\"text-align: right;\">\n",
       "      <th></th>\n",
       "      <th>genome_id</th>\n",
       "      <th>source</th>\n",
       "      <th>type</th>\n",
       "      <th>start</th>\n",
       "      <th>stop</th>\n",
       "      <th>idk</th>\n",
       "      <th>strand</th>\n",
       "      <th>trash</th>\n",
       "      <th>qualifiers</th>\n",
       "      <th>coding_sequence</th>\n",
       "      <th>upstream_sequence</th>\n",
       "      <th>energy_binding</th>\n",
       "      <th>id</th>\n",
       "      <th>viral_id</th>\n",
       "    </tr>\n",
       "  </thead>\n",
       "  <tbody>\n",
       "    <tr>\n",
       "      <th>0</th>\n",
       "      <td>NC_028957|1567029</td>\n",
       "      <td>Prodigal_v2.6.3</td>\n",
       "      <td>CDS</td>\n",
       "      <td>1</td>\n",
       "      <td>2235</td>\n",
       "      <td>272.7</td>\n",
       "      <td>-</td>\n",
       "      <td>0</td>\n",
       "      <td>ID=357_1;partial=00;start_type=ATG;rbs_motif=G...</td>\n",
       "      <td>ATGATTTTAGAAACTGAAAAAGAAACAATCCTTGGTAATGGCGCAA...</td>\n",
       "      <td>TAATATAAAGTGAGAAAAAC</td>\n",
       "      <td>-3.10</td>\n",
       "      <td>357_1</td>\n",
       "      <td>357_1</td>\n",
       "    </tr>\n",
       "    <tr>\n",
       "      <th>1</th>\n",
       "      <td>NC_028957|1567029</td>\n",
       "      <td>Prodigal_v2.6.3</td>\n",
       "      <td>CDS</td>\n",
       "      <td>2243</td>\n",
       "      <td>2446</td>\n",
       "      <td>35.0</td>\n",
       "      <td>-</td>\n",
       "      <td>0</td>\n",
       "      <td>ID=357_2;partial=00;start_type=ATG;rbs_motif=A...</td>\n",
       "      <td>ATGACAAACTTCAAAGTGAATCTGGAGCTGTTTGACAAGGTCGTTC...</td>\n",
       "      <td>AATATTGCAGGAGATTGGAA</td>\n",
       "      <td>-7.00</td>\n",
       "      <td>357_2</td>\n",
       "      <td>357_2</td>\n",
       "    </tr>\n",
       "    <tr>\n",
       "      <th>2</th>\n",
       "      <td>NC_028957|1567029</td>\n",
       "      <td>Prodigal_v2.6.3</td>\n",
       "      <td>CDS</td>\n",
       "      <td>2412</td>\n",
       "      <td>2711</td>\n",
       "      <td>24.4</td>\n",
       "      <td>-</td>\n",
       "      <td>0</td>\n",
       "      <td>ID=357_3;partial=00;start_type=ATG;rbs_motif=G...</td>\n",
       "      <td>ATGATTATGTCTGACGGAAGTTTAGTTAATCTGCAGAATGTCGCGC...</td>\n",
       "      <td>GATGTCCTTGAGGTGAAAAT</td>\n",
       "      <td>-5.13</td>\n",
       "      <td>357_3</td>\n",
       "      <td>357_3</td>\n",
       "    </tr>\n",
       "    <tr>\n",
       "      <th>3</th>\n",
       "      <td>NC_028957|1567029</td>\n",
       "      <td>Prodigal_v2.6.3</td>\n",
       "      <td>CDS</td>\n",
       "      <td>2787</td>\n",
       "      <td>2939</td>\n",
       "      <td>17.3</td>\n",
       "      <td>-</td>\n",
       "      <td>0</td>\n",
       "      <td>ID=357_4;partial=00;start_type=ATG;rbs_motif=A...</td>\n",
       "      <td>ATGAAAAAGTGGTGGGTTACGTTGTCAAATGGCGAATACGGTTATC...</td>\n",
       "      <td>CCGTCTTATAGGAGAAGTCC</td>\n",
       "      <td>-7.00</td>\n",
       "      <td>357_4</td>\n",
       "      <td>357_4</td>\n",
       "    </tr>\n",
       "    <tr>\n",
       "      <th>4</th>\n",
       "      <td>NC_028957|1567029</td>\n",
       "      <td>Prodigal_v2.6.3</td>\n",
       "      <td>CDS</td>\n",
       "      <td>2982</td>\n",
       "      <td>4814</td>\n",
       "      <td>225.2</td>\n",
       "      <td>-</td>\n",
       "      <td>0</td>\n",
       "      <td>ID=357_5;partial=00;start_type=ATG;rbs_motif=A...</td>\n",
       "      <td>ATGATTGAAAATAAAATTGAACTGCTTTCAGATAAAGACCATTGTT...</td>\n",
       "      <td>AAAGTAAGGAATAATTGATT</td>\n",
       "      <td>-4.24</td>\n",
       "      <td>357_5</td>\n",
       "      <td>357_5</td>\n",
       "    </tr>\n",
       "  </tbody>\n",
       "</table>\n",
       "</div>"
      ],
      "text/plain": [
       "           genome_id           source type  start  stop    idk strand  trash  \\\n",
       "0  NC_028957|1567029  Prodigal_v2.6.3  CDS      1  2235  272.7      -      0   \n",
       "1  NC_028957|1567029  Prodigal_v2.6.3  CDS   2243  2446   35.0      -      0   \n",
       "2  NC_028957|1567029  Prodigal_v2.6.3  CDS   2412  2711   24.4      -      0   \n",
       "3  NC_028957|1567029  Prodigal_v2.6.3  CDS   2787  2939   17.3      -      0   \n",
       "4  NC_028957|1567029  Prodigal_v2.6.3  CDS   2982  4814  225.2      -      0   \n",
       "\n",
       "                                          qualifiers  \\\n",
       "0  ID=357_1;partial=00;start_type=ATG;rbs_motif=G...   \n",
       "1  ID=357_2;partial=00;start_type=ATG;rbs_motif=A...   \n",
       "2  ID=357_3;partial=00;start_type=ATG;rbs_motif=G...   \n",
       "3  ID=357_4;partial=00;start_type=ATG;rbs_motif=A...   \n",
       "4  ID=357_5;partial=00;start_type=ATG;rbs_motif=A...   \n",
       "\n",
       "                                     coding_sequence     upstream_sequence  \\\n",
       "0  ATGATTTTAGAAACTGAAAAAGAAACAATCCTTGGTAATGGCGCAA...  TAATATAAAGTGAGAAAAAC   \n",
       "1  ATGACAAACTTCAAAGTGAATCTGGAGCTGTTTGACAAGGTCGTTC...  AATATTGCAGGAGATTGGAA   \n",
       "2  ATGATTATGTCTGACGGAAGTTTAGTTAATCTGCAGAATGTCGCGC...  GATGTCCTTGAGGTGAAAAT   \n",
       "3  ATGAAAAAGTGGTGGGTTACGTTGTCAAATGGCGAATACGGTTATC...  CCGTCTTATAGGAGAAGTCC   \n",
       "4  ATGATTGAAAATAAAATTGAACTGCTTTCAGATAAAGACCATTGTT...  AAAGTAAGGAATAATTGATT   \n",
       "\n",
       "   energy_binding     id viral_id  \n",
       "0           -3.10  357_1    357_1  \n",
       "1           -7.00  357_2    357_2  \n",
       "2           -5.13  357_3    357_3  \n",
       "3           -7.00  357_4    357_4  \n",
       "4           -4.24  357_5    357_5  "
      ]
     },
     "execution_count": 23,
     "metadata": {},
     "output_type": "execute_result"
    }
   ],
   "source": [
    "df.head()"
   ]
  },
  {
   "cell_type": "code",
   "execution_count": 25,
   "metadata": {},
   "outputs": [],
   "source": [
    "def clean_virus_tsv(df):\n",
    "    \"\"\"\n",
    "    \n",
    "    \"\"\"\n",
    "    \n",
    "    initial_shape = df.shape\n",
    "    df = df.reset_index(drop = True)\n",
    "    \n",
    "    #Ensure each locus tag is only used once\n",
    "    df['viral_id'] = df['qualifiers'].str.split('ID=', n=1, expand=True)[1]\\\n",
    "                            .str.split(';', n=1, expand=True)[0]\n",
    "    df = df.drop_duplicates(subset = [\"viral_id\"], keep = False)\n",
    "    \n",
    "    #ensure that only genes with a total length divisible by 3 are used\n",
    "    df = df[(df['stop']-df['start']) %3 == 2]\n",
    "    \n",
    "    #filter out prophages from dataframe\n",
    "#     filter_word = 'phage'\n",
    "#     virus_genes = df[(df['qualifiers'].str.contains(filter_word)==True)]\n",
    "#     df = df[(df['qualifiers'].str.contains(filter_word)==False)]\n",
    "    \n",
    "    #adjust for codon bias\n",
    "    for index in df.index:\n",
    "        nt_seq = df.at[index, \"coding_sequence\"]\n",
    "        if len(nt_seq)%3 == 0:\n",
    "            df.at[index, \"iCUB\"] = iCUB.iCUB_Calculator(nt_seq).get_iCUB()\n",
    "    \n",
    "    \n",
    "    \n",
    "    \n",
    "    \n",
    "    return df"
   ]
  },
  {
   "cell_type": "code",
   "execution_count": null,
   "metadata": {},
   "outputs": [],
   "source": []
  }
 ],
 "metadata": {
  "kernelspec": {
   "display_name": "Python 3",
   "language": "python",
   "name": "python3"
  },
  "language_info": {
   "codemirror_mode": {
    "name": "ipython",
    "version": 3
   },
   "file_extension": ".py",
   "mimetype": "text/x-python",
   "name": "python",
   "nbconvert_exporter": "python",
   "pygments_lexer": "ipython3",
   "version": "3.7.1"
  },
  "toc": {
   "colors": {
    "hover_highlight": "#DAA520",
    "navigate_num": "#000000",
    "navigate_text": "#333333",
    "running_highlight": "#FF0000",
    "selected_highlight": "#FFD700",
    "sidebar_border": "#EEEEEE",
    "wrapper_background": "#FFFFFF"
   },
   "moveMenuLeft": true,
   "nav_menu": {
    "height": "102px",
    "width": "252px"
   },
   "navigate_menu": true,
   "number_sections": true,
   "sideBar": true,
   "threshold": 4,
   "toc_cell": false,
   "toc_section_display": "block",
   "toc_window_display": false,
   "widenNotebook": false
  }
 },
 "nbformat": 4,
 "nbformat_minor": 2
}

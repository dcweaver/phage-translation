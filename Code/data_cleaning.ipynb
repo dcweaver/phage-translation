{
 "cells": [
  {
   "cell_type": "code",
   "execution_count": 1,
   "metadata": {},
   "outputs": [],
   "source": [
    "%matplotlib inline"
   ]
  },
  {
   "cell_type": "code",
   "execution_count": 2,
   "metadata": {},
   "outputs": [],
   "source": [
    "import pandas as pd\n",
    "import glob\n",
    "import sys\n",
    "sys.path.append('/Users/ChaseWeaver/Desktop/Projects/iCUB-master/') \n",
    "import iCUB"
   ]
  },
  {
   "cell_type": "markdown",
   "metadata": {},
   "source": [
    "# Cleaning Host Data"
   ]
  },
  {
   "cell_type": "code",
   "execution_count": 3,
   "metadata": {},
   "outputs": [],
   "source": [
    "def clean_host_tsv(df):\n",
    "    \"\"\"\n",
    "    \n",
    "    \"\"\"\n",
    "    \n",
    "    initial_shape = df.shape\n",
    "    df = df.reset_index(drop = True)\n",
    "    \n",
    "    #Ensure each locus tag is only used once\n",
    "    df['locus_tag'] = df['qualifiers'].str.split('locus_tag=', n=1, expand=True)[1]\\\n",
    "                            .str.split(';', n=1, expand=True)[0]\n",
    "    df = df.drop_duplicates(subset = [\"locus_tag\"], keep = False)\n",
    "    \n",
    "    #ensure that only genes with a total length divisible by 3 are used\n",
    "    df = df[(df['stop']-df['start']) %3 == 2]\n",
    "    \n",
    "    #filter out prophages from dataframe\n",
    "    filter_word = 'phage'\n",
    "    virus_genes = df[(df['qualifiers'].str.contains(filter_word)==True)]\n",
    "    df = df[(df['qualifiers'].str.contains(filter_word)==False)]\n",
    "    \n",
    "    #adjust for codon bias\n",
    "    for index in df.index:\n",
    "        nt_seq = df.at[index, \"coding_sequence\"]\n",
    "        if len(nt_seq)%3 == 0:\n",
    "            df.at[index, \"iCUB\"] = iCUB.iCUB_Calculator(nt_seq).get_iCUB()\n",
    "    \n",
    "    df = df[df['iCUB'].isnull()==False]\n",
    "    df =df[df['energy_binding'].isnull()==False]\n",
    "    \n",
    "    return df"
   ]
  },
  {
   "cell_type": "markdown",
   "metadata": {},
   "source": [
    "# Clean Virus data"
   ]
  },
  {
   "cell_type": "code",
   "execution_count": 3,
   "metadata": {},
   "outputs": [],
   "source": [
    "def clean_virus_tsv(df):\n",
    "    \"\"\"\n",
    "    \n",
    "    \"\"\"  \n",
    "    initial_shape = df.shape\n",
    "    df = df.reset_index(drop = True)\n",
    "    \n",
    "    #Ensure each locus tag is only used once\n",
    "    df['viral_id'] = df['qualifiers'].str.split('ID=', n=1, expand=True)[1]\\\n",
    "                            .str.split(';', n=1, expand=True)[0]\n",
    "    \n",
    "    df = df.drop_duplicates(subset = [\"viral_id\"], keep = False)\n",
    "    \n",
    "    #ensure that only genes with a total length divisible by 3 are used\n",
    "    df = df[(df['stop']-df['start']) %3 == 2]\n",
    "    \n",
    "    #adjust for codon bias\n",
    "    for index in df.index:\n",
    "        nt_seq = df.at[index, \"coding_sequence\"]\n",
    "        if len(nt_seq) != nt_seq.count('A') + nt_seq.count('T') + nt_seq.count('C') + nt_seq.count('G'):\n",
    "            continue\n",
    "        \n",
    "        if len(nt_seq)%3 != 0:\n",
    "            continue\n",
    "            \n",
    "        df.at[index, \"iCUB\"] = iCUB.iCUB_Calculator(nt_seq).get_iCUB()           \n",
    "\n",
    "    df = df[df['iCUB'].isnull()==False]\n",
    "    df = df[df['energy_binding'].isnull()==False]\n",
    "    return df"
   ]
  },
  {
   "cell_type": "code",
   "execution_count": 5,
   "metadata": {},
   "outputs": [
    {
     "name": "stdout",
     "output_type": "stream",
     "text": [
      "../Data/90371_rep_viruses/\n",
      "../Data/90371_rep_viruses/10087.tsv\n",
      "../Data/90371_rep_viruses/18747.tsv\n",
      "../Data/90371_rep_viruses/17138.tsv\n",
      "../Data/90371_rep_viruses/760.tsv\n",
      "../Data/90371_rep_viruses/995.tsv\n",
      "../Data/90371_rep_viruses/5524.tsv\n",
      "../Data/90371_rep_viruses/1622.tsv\n",
      "../Data/90371_rep_viruses/10069.tsv\n",
      "../Data/90371_rep_viruses/14297.tsv\n",
      "../Data/90371_rep_viruses/4933.tsv\n",
      "../Data/90371_rep_viruses/3085.tsv\n",
      "../Data/90371_rep_viruses/9036.tsv\n",
      "../Data/90371_rep_viruses/5618.tsv\n",
      "../Data/90371_rep_viruses/6846.tsv\n",
      "../Data/90371_rep_viruses/6271.tsv\n",
      "../Data/90371_rep_viruses/4466.tsv\n",
      "../Data/90371_rep_viruses/15006.tsv\n",
      "../Data/90371_rep_viruses/894.tsv\n",
      "../Data/90371_rep_viruses/13728.tsv\n",
      "../Data/90371_rep_viruses/3111.tsv\n",
      "../Data/90371_rep_viruses/1060.tsv\n",
      "../Data/90371_rep_viruses/7388.tsv\n",
      "../Data/90371_rep_viruses/1061.tsv\n",
      "../Data/90371_rep_viruses/13929.tsv\n",
      "../Data/90371_rep_viruses/9826.tsv\n",
      "../Data/90371_rep_viruses/5417.tsv\n",
      "../Data/90371_rep_viruses/12955.tsv\n",
      "../Data/90371_rep_viruses/1300.tsv\n",
      "../Data/90371_rep_viruses/3852.tsv\n",
      "../Data/90371_rep_viruses/12429.tsv\n",
      "../Data/90371_rep_viruses/10884.tsv\n",
      "../Data/90371_rep_viruses/3575.tsv\n",
      "../Data/90371_rep_viruses/4596.tsv\n",
      "../Data/90371_rep_viruses/5071.tsv\n",
      "../Data/90371_rep_viruses/3389.tsv\n",
      "../Data/90371_rep_viruses/7702.tsv\n",
      "../Data/90371_rep_viruses/2096.tsv\n",
      "../Data/90371_rep_viruses/3188.tsv\n",
      "../Data/90371_rep_viruses/2081.tsv\n"
     ]
    }
   ],
   "source": [
    "for virus_folder in glob.glob('../Data/*_rep_viruses/'):\n",
    "    if '90371' not in virus_folder:\n",
    "        continue \n",
    "    print(virus_folder)\n",
    "    for virus_tsv_file in glob.glob(virus_folder + '*.tsv'):\n",
    "        print(virus_tsv_file)\n",
    "        \n",
    "        if \"clean\" in virus_tsv_file:\n",
    "            continue\n",
    "            \n",
    "        df = pd.read_csv(virus_tsv_file, sep = \"\\t\", index_col = 0)\n",
    "\n",
    "        initial_shape = df.shape\n",
    "        #print(initial_shape)\n",
    "        \n",
    "        df = clean_virus_tsv(df)\n",
    "        final_shape = df.shape\n",
    "        gene_ratio = final_shape[0]/initial_shape[0]\n",
    "        if gene_ratio <= .8:\n",
    "            print(tsv_location)\n",
    "            break\n",
    "    \n",
    "        clean_tsv_loc = virus_tsv_file.replace(\".tsv\",\".clean.tsv\")\n",
    "        df.to_csv(clean_tsv_loc, sep = \"\\t\")"
   ]
  },
  {
   "cell_type": "code",
   "execution_count": null,
   "metadata": {},
   "outputs": [],
   "source": []
  }
 ],
 "metadata": {
  "kernelspec": {
   "display_name": "Python 3",
   "language": "python",
   "name": "python3"
  },
  "language_info": {
   "codemirror_mode": {
    "name": "ipython",
    "version": 3
   },
   "file_extension": ".py",
   "mimetype": "text/x-python",
   "name": "python",
   "nbconvert_exporter": "python",
   "pygments_lexer": "ipython3",
   "version": "3.7.1"
  }
 },
 "nbformat": 4,
 "nbformat_minor": 2
}

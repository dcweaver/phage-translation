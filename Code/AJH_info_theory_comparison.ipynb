{
 "cells": [
  {
   "cell_type": "code",
   "execution_count": 1,
   "metadata": {
    "collapsed": true
   },
   "outputs": [],
   "source": [
    "%matplotlib inline"
   ]
  },
  {
   "cell_type": "code",
   "execution_count": 12,
   "metadata": {
    "collapsed": true
   },
   "outputs": [],
   "source": [
    "import json\n",
    "import gff3_parsing\n",
    "# from matplotlib import pyplot as plt\n",
    "# import pandas as pd\n",
    "import numpy as np\n",
    "from scipy import stats\n",
    "import glob"
   ]
  },
  {
   "cell_type": "code",
   "execution_count": 6,
   "metadata": {
    "collapsed": true
   },
   "outputs": [],
   "source": [
    "def analyze_genome(dataframe, energy_dict, gaps = (4,10), expected_len = 20):\n",
    "    \n",
    "    for index in dataframe.index:\n",
    "        upstream = dataframe.loc[index,\"upstream_sequence\"]\n",
    "        test_string = upstream.replace(\"T\", \"U\")\n",
    "        if len(test_string) != expected_len:\n",
    "            continue\n",
    "        if test_string.count(\"A\") + test_string.count(\"U\") +\\\n",
    "                                    test_string.count(\"C\") + test_string.count(\"G\") != expected_len:\n",
    "            continue\n",
    "            \n",
    "        energy_list = []\n",
    "        for gap in range(gaps[0],gaps[1]+1):\n",
    "             energy_list.append(energy_dict[test_string[-gap - 6: -gap]])\n",
    "\n",
    "        dataframe.at[index, \"energy_binding\"] = min(energy_list)\n",
    "    return dataframe"
   ]
  },
  {
   "cell_type": "code",
   "execution_count": 7,
   "metadata": {
    "collapsed": false
   },
   "outputs": [],
   "source": [
    "with open('../Data/examples_for_testing/energyRef_CCUCCU_mfe.json', 'r') as infile:\n",
    "       energy_dict = json.load(infile)\n",
    "\n",
    "\n",
    "host_df, host_genome = gff3_parsing.compile_sequences(\"../Data/examples_for_testing/ecoli.gff3\",\\\n",
    "                                                    \"../Data/examples_for_testing/ecoli.fasta\", 20)\n",
    "\n",
    "host_df = analyze_genome(host_df, energy_dict)"
   ]
  },
  {
   "cell_type": "code",
   "execution_count": 13,
   "metadata": {
    "collapsed": false
   },
   "outputs": [],
   "source": [
    "mean_difs = []\n",
    "\n",
    "p_values = []\n",
    "for gff_file in glob.glob(\"../Data/ecoli_viruses/562_rep_viruses_concat/*.gff\"):\n",
    "    #print(gff_file)\n",
    "    fasta_file = \"../Data/ecoli_viruses/562_rep_viruses/\" + gff_file.split(\"/\")[-1].replace(\"gff\", \"fasta\")\n",
    "    \n",
    "    viral_df, viral_genome = gff3_parsing.compile_sequences(gff_file,fasta_file, 20)\n",
    "    viral_df = analyze_genome(viral_df, energy_dict)\n",
    "\n",
    "    #print(stats.ranksums(host_df[\"energy_binding\"], viral_df[\"energy_binding\"]))\n",
    "    rstat, p_value = stats.ranksums(host_df[\"energy_binding\"], viral_df[\"energy_binding\"])\n",
    "    p_values.append(p_value)\n",
    "    \n",
    "    mean_difs.append(np.mean(viral_df[\"energy_binding\"]) - np.mean(host_df[\"energy_binding\"]))\n",
    "    "
   ]
  },
  {
   "cell_type": "code",
   "execution_count": 16,
   "metadata": {
    "collapsed": false
   },
   "outputs": [
    {
     "data": {
      "text/plain": [
       "(373, 157)"
      ]
     },
     "execution_count": 16,
     "metadata": {},
     "output_type": "execute_result"
    }
   ],
   "source": [
    "len(p_values), len([i for i in p_values if i < 0.01])"
   ]
  },
  {
   "cell_type": "code",
   "execution_count": null,
   "metadata": {
    "collapsed": true
   },
   "outputs": [],
   "source": []
  },
  {
   "cell_type": "markdown",
   "metadata": {},
   "source": [
    "# Info theory stuff"
   ]
  },
  {
   "cell_type": "code",
   "execution_count": 21,
   "metadata": {
    "collapsed": true
   },
   "outputs": [],
   "source": [
    "def get_info_theory_init(sequence_list, randomize=False):\n",
    "    positional_entropies = []\n",
    "    matrix = np.array([list(i) for i in sequence_list])\n",
    "    if randomize:\n",
    "        for i in matrix:\n",
    "            np.random.shuffle(i)\n",
    "    seqs, lengths = np.shape(matrix)\n",
    "    bool_A = matrix == 'A'\n",
    "    bool_T = matrix == 'T'\n",
    "    bool_G = matrix == 'G'\n",
    "    bool_C = matrix == 'C'\n",
    "\n",
    "    A_counts = bool_A.sum(axis=0)\n",
    "    T_counts = bool_T.sum(axis=0)\n",
    "    G_counts = bool_G.sum(axis=0)\n",
    "    C_counts = bool_C.sum(axis=0)\n",
    "    p_A = A_counts/float(seqs)\n",
    "    p_T = T_counts/float(seqs)\n",
    "    p_G = G_counts/float(seqs)\n",
    "    p_C = C_counts/float(seqs)\n",
    "    positional_entropies = np.log2(4) - stats.entropy([p_A, p_T, p_G, p_C], base=2)\n",
    "    return positional_entropies\n",
    "\n",
    "def get_delta_I(sequence_list, randomizations=20):\n",
    "    positional_data = get_info_theory_init(sequence_list)\n",
    "    I_actual = np.sum(positional_data)\n",
    "    \n",
    "    randomized_list = []\n",
    "    for i in range(randomizations):\n",
    "        positions_random = get_info_theory_init(sequence_list, randomize=True)\n",
    "        randomized_list.append(np.sum(positions_random))\n",
    "    return I_actual, I_actual - np.mean(randomized_list)"
   ]
  },
  {
   "cell_type": "code",
   "execution_count": 22,
   "metadata": {
    "collapsed": false
   },
   "outputs": [
    {
     "data": {
      "text/plain": [
       "(2.1997334813704663, 1.3776474156696548)"
      ]
     },
     "execution_count": 22,
     "metadata": {},
     "output_type": "execute_result"
    }
   ],
   "source": [
    "get_delta_I(list(host_df['upstream_sequence']))"
   ]
  },
  {
   "cell_type": "code",
   "execution_count": 24,
   "metadata": {
    "collapsed": false
   },
   "outputs": [
    {
     "data": {
      "text/plain": [
       "(2.855252839806277, 0.8252228309332739)"
      ]
     },
     "execution_count": 24,
     "metadata": {},
     "output_type": "execute_result"
    }
   ],
   "source": [
    "get_delta_I(list(viral_df['upstream_sequence']))"
   ]
  },
  {
   "cell_type": "code",
   "execution_count": 25,
   "metadata": {
    "collapsed": false
   },
   "outputs": [
    {
     "data": {
      "text/plain": [
       "0.05440718457820569"
      ]
     },
     "execution_count": 25,
     "metadata": {},
     "output_type": "execute_result"
    }
   ],
   "source": [
    "p_value"
   ]
  },
  {
   "cell_type": "code",
   "execution_count": null,
   "metadata": {
    "collapsed": true
   },
   "outputs": [],
   "source": []
  },
  {
   "cell_type": "code",
   "execution_count": 43,
   "metadata": {
    "collapsed": true
   },
   "outputs": [],
   "source": [
    "with open('../Data/examples_for_testing/energyRef_CCUCCU_mfe.json', 'r') as infile:\n",
    "       energy_dict = json.load(infile)\n",
    "\n",
    "\n",
    "host_df, host_genome = gff3_parsing.compile_sequences(\"../Data/examples_for_testing/ecoli.gff3\",\\\n",
    "                                                    \"../Data/examples_for_testing/ecoli.fasta\", 30)\n",
    "\n",
    "host_df = analyze_genome(host_df, energy_dict)\n",
    "host_I, host_Idiff = get_delta_I(list(host_df['upstream_sequence']))"
   ]
  },
  {
   "cell_type": "code",
   "execution_count": 44,
   "metadata": {
    "collapsed": false
   },
   "outputs": [],
   "source": [
    "a, b = [], []\n",
    "for gff_file in glob.glob(\"../Data/ecoli_viruses/562_rep_viruses_concat/*.gff\")[:]:\n",
    "    #print(gff_file)\n",
    "    fasta_file = \"../Data/ecoli_viruses/562_rep_viruses/\" + gff_file.split(\"/\")[-1].replace(\"gff\", \"fasta\")\n",
    "    \n",
    "    viral_df, viral_genome = gff3_parsing.compile_sequences(gff_file,fasta_file, 30)\n",
    "    viral_df = analyze_genome(viral_df, energy_dict)\n",
    "    viral_df = viral_df[viral_df['upstream_sequence'].str.len() == 30]\n",
    "\n",
    "    temp_a, temp_b = get_delta_I(list(viral_df['upstream_sequence']))\n",
    "    a.append(temp_a)\n",
    "    b.append(temp_b)\n",
    "    #print(stats.ranksums(host_df[\"energy_binding\"], viral_df[\"energy_binding\"]))\n",
    "#     rstat, p_value = stats.ranksums(host_df[\"energy_binding\"], viral_df[\"energy_binding\"])\n",
    "#     p_values.append(p_value)\n",
    "    \n",
    "#     mean_difs.append(np.mean(viral_df[\"energy_binding\"]) - np.mean(host_df[\"energy_binding\"]))\n",
    "    "
   ]
  },
  {
   "cell_type": "code",
   "execution_count": 45,
   "metadata": {
    "collapsed": false
   },
   "outputs": [
    {
     "data": {
      "text/plain": [
       "(367, 165)"
      ]
     },
     "execution_count": 45,
     "metadata": {},
     "output_type": "execute_result"
    }
   ],
   "source": [
    "len([i for i in a if i > host_I]), len([i for i in b if i > host_Idiff])"
   ]
  },
  {
   "cell_type": "code",
   "execution_count": 35,
   "metadata": {
    "collapsed": false
   },
   "outputs": [
    {
     "data": {
      "text/plain": [
       "[1.1896242714773755,\n",
       " 1.009867843670647,\n",
       " 0.7806178579410419,\n",
       " 0.9676170612992911,\n",
       " 1.1714052951356086]"
      ]
     },
     "execution_count": 35,
     "metadata": {},
     "output_type": "execute_result"
    }
   ],
   "source": [
    "b"
   ]
  },
  {
   "cell_type": "code",
   "execution_count": null,
   "metadata": {
    "collapsed": true
   },
   "outputs": [],
   "source": []
  }
 ],
 "metadata": {
  "kernelspec": {
   "display_name": "Python 3",
   "language": "python",
   "name": "python3"
  },
  "language_info": {
   "codemirror_mode": {
    "name": "ipython",
    "version": 3
   },
   "file_extension": ".py",
   "mimetype": "text/x-python",
   "name": "python",
   "nbconvert_exporter": "python",
   "pygments_lexer": "ipython3",
   "version": "3.4.5"
  },
  "toc": {
   "colors": {
    "hover_highlight": "#DAA520",
    "navigate_num": "#000000",
    "navigate_text": "#333333",
    "running_highlight": "#FF0000",
    "selected_highlight": "#FFD700",
    "sidebar_border": "#EEEEEE",
    "wrapper_background": "#FFFFFF"
   },
   "moveMenuLeft": true,
   "nav_menu": {
    "height": "30px",
    "width": "252px"
   },
   "navigate_menu": true,
   "number_sections": true,
   "sideBar": true,
   "threshold": 4,
   "toc_cell": false,
   "toc_section_display": "block",
   "toc_window_display": false,
   "widenNotebook": false
  }
 },
 "nbformat": 4,
 "nbformat_minor": 2
}

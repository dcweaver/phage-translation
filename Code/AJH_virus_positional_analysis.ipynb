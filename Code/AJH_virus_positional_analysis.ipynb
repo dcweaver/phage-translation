{
 "cells": [
  {
   "cell_type": "code",
   "execution_count": 1,
   "metadata": {},
   "outputs": [],
   "source": [
    "%matplotlib inline"
   ]
  },
  {
   "cell_type": "code",
   "execution_count": 34,
   "metadata": {},
   "outputs": [],
   "source": [
    "import pandas as pd\n",
    "import glob\n",
    "import numpy as np\n",
    "from matplotlib import pyplot as plt\n",
    "from scipy import stats"
   ]
  },
  {
   "cell_type": "markdown",
   "metadata": {},
   "source": [
    "# Testing the degree to which SD sequence strength varies as a function of linear position within the viral genomes\n",
    "\n",
    "**The hypothesis here is that genes expressed early during infection really need to \"hijack\" ribosomes. Once the ball is rolling down hill, perhaps other mechanisms kick in to degrade host transcripts for instance.**"
   ]
  },
  {
   "cell_type": "code",
   "execution_count": 211,
   "metadata": {},
   "outputs": [
    {
     "name": "stdout",
     "output_type": "stream",
     "text": [
      "357 357\n"
     ]
    }
   ],
   "source": [
    "first_list = []\n",
    "second_list = []\n",
    "\n",
    "for vir_file in glob.glob('../Data/562_rep_viruses/*.tsv')[:]:\n",
    "    virus_df = pd.read_csv(vir_file, sep='\\t', index_col=0)\n",
    "    n_seq = virus_df.shape[0]\n",
    "    \n",
    "    ###Unclear whether I want to limit strange viruses that are tiny or huge \n",
    "    ###but this is here just in case\n",
    "    if n_seq < 20 or n_seq > 200:\n",
    "        continue\n",
    "    first_half = virus_df.iloc[:n_seq//2]\n",
    "    second_half = virus_df.iloc[n_seq//2:]\n",
    "    first_list.append(first_half['energy_binding'].mean())\n",
    "    second_list.append(second_half['energy_binding'].mean())\n",
    "print(len(first_list), len(second_list))"
   ]
  },
  {
   "cell_type": "code",
   "execution_count": null,
   "metadata": {},
   "outputs": [],
   "source": []
  },
  {
   "cell_type": "markdown",
   "metadata": {},
   "source": [
    "\n",
    "**The problem, of course, is that the orientation of the viral sequences is unknown. So I have a free parameter here to basically say \"find the orientation with the most number of genes going in that direction\". It's unclear if this will always/sometimes work but seems reasonable and the results are *fairly* robust.**"
   ]
  },
  {
   "cell_type": "code",
   "execution_count": 205,
   "metadata": {},
   "outputs": [
    {
     "name": "stdout",
     "output_type": "stream",
     "text": [
      "215 215\n"
     ]
    }
   ],
   "source": [
    "first_list = []\n",
    "second_list = []\n",
    "\n",
    "orientation_param = 0.7\n",
    "\n",
    "for vir_file in glob.glob('../Data/562_rep_viruses/*.tsv')[:]:\n",
    "    virus_df = pd.read_csv(vir_file, sep='\\t', index_col=0)\n",
    "    n_seq = virus_df.shape[0]\n",
    "    \n",
    "    ###Unclear whether I want to limit strange viruses that are tiny or huge \n",
    "    ###but this is here just in case\n",
    "    if n_seq < 20 or n_seq > 200:\n",
    "        continue\n",
    "\n",
    "    ###Check if there are any negative strand sequences and if so count them up\n",
    "    if '-' in virus_df['strand'].value_counts():\n",
    "        neg_counts = virus_df['strand'].value_counts()['-']\n",
    "    else:\n",
    "        neg_counts = 0\n",
    "        \n",
    "    ###Remove ones whose orientation I'm not confident about\n",
    "    if neg_counts/n_seq < orientation_param and neg_counts/n_seq > 1-orientation_param:\n",
    "        continue\n",
    "    \n",
    "    ###If there are more negative strand genes, assume that the virus orientation is reversed\n",
    "    if neg_counts / n_seq >= orientation_param:\n",
    "        second_half = virus_df.iloc[:n_seq//2]\n",
    "        first_half = virus_df.iloc[n_seq//2:]\n",
    "    ###Otherwise proceed as would be intuitive\n",
    "    else:\n",
    "        first_half = virus_df.iloc[:n_seq//2]\n",
    "        second_half = virus_df.iloc[n_seq//2:]\n",
    "    first_list.append(first_half['energy_binding'].mean())\n",
    "    second_list.append(second_half['energy_binding'].mean())\n",
    "print(len(first_list), len(second_list))"
   ]
  },
  {
   "cell_type": "code",
   "execution_count": null,
   "metadata": {},
   "outputs": [],
   "source": []
  },
  {
   "cell_type": "markdown",
   "metadata": {},
   "source": [
    "# Visualization and statistics"
   ]
  },
  {
   "cell_type": "code",
   "execution_count": 213,
   "metadata": {},
   "outputs": [
    {
     "data": {
      "text/plain": [
       "[<matplotlib.lines.Line2D at 0x1a26edc9d0>]"
      ]
     },
     "execution_count": 213,
     "metadata": {},
     "output_type": "execute_result"
    },
    {
     "data": {
      "image/png": "[encoded data removed]",
      "text/plain": [
       "<Figure size 432x288 with 1 Axes>"
      ]
     },
     "metadata": {
      "needs_background": "light"
     },
     "output_type": "display_data"
    }
   ],
   "source": [
    "fig, ax = plt.subplots()\n",
    "ax.scatter(first_list, second_list)\n",
    "ax.plot([-7, -3], [-7, -3])"
   ]
  },
  {
   "cell_type": "code",
   "execution_count": 214,
   "metadata": {},
   "outputs": [
    {
     "name": "stdout",
     "output_type": "stream",
     "text": [
      "WilcoxonResult(statistic=27464.5, pvalue=0.021476666807472206)\n",
      "\n",
      "-5.261455028740893 -5.196563752316978 -0.0648912764239145\n"
     ]
    },
    {
     "data": {
      "image/png": "[encoded data removed]",
      "text/plain": [
       "<Figure size 432x288 with 1 Axes>"
      ]
     },
     "metadata": {
      "needs_background": "light"
     },
     "output_type": "display_data"
    }
   ],
   "source": [
    "fig, ax = plt.subplots()\n",
    "ax.hist(np.array(first_list)-np.array(second_list), 20, alpha=0.5)\n",
    "print(stats.wilcoxon(first_list, second_list))\n",
    "print()\n",
    "print(np.mean(first_list), np.mean(second_list), np.mean(np.array(first_list)-np.array(second_list)))"
   ]
  },
  {
   "cell_type": "code",
   "execution_count": null,
   "metadata": {},
   "outputs": [],
   "source": []
  },
  {
   "cell_type": "code",
   "execution_count": null,
   "metadata": {},
   "outputs": [],
   "source": []
  },
  {
   "cell_type": "code",
   "execution_count": null,
   "metadata": {},
   "outputs": [],
   "source": []
  },
  {
   "cell_type": "code",
   "execution_count": null,
   "metadata": {},
   "outputs": [],
   "source": []
  }
 ],
 "metadata": {
  "kernelspec": {
   "display_name": "Python 3",
   "language": "python",
   "name": "python3"
  },
  "language_info": {
   "codemirror_mode": {
    "name": "ipython",
    "version": 3
   },
   "file_extension": ".py",
   "mimetype": "text/x-python",
   "name": "python",
   "nbconvert_exporter": "python",
   "pygments_lexer": "ipython3",
   "version": "3.7.1"
  },
  "toc": {
   "colors": {
    "hover_highlight": "#DAA520",
    "navigate_num": "#000000",
    "navigate_text": "#333333",
    "running_highlight": "#FF0000",
    "selected_highlight": "#FFD700",
    "sidebar_border": "#EEEEEE",
    "wrapper_background": "#FFFFFF"
   },
   "moveMenuLeft": true,
   "nav_menu": {
    "height": "48px",
    "width": "252px"
   },
   "navigate_menu": true,
   "number_sections": true,
   "sideBar": true,
   "threshold": 4,
   "toc_cell": false,
   "toc_section_display": "block",
   "toc_window_display": false,
   "widenNotebook": false
  }
 },
 "nbformat": 4,
 "nbformat_minor": 2
}

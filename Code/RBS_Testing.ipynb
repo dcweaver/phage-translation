{
 "cells": [
  {
   "cell_type": "code",
   "execution_count": 1,
   "metadata": {},
   "outputs": [],
   "source": [
    "%matplotlib inline"
   ]
  },
  {
   "cell_type": "code",
   "execution_count": 2,
   "metadata": {},
   "outputs": [],
   "source": [
    "import json\n",
    "import gff3_parsing\n",
    "from matplotlib import pyplot as plt"
   ]
  },
  {
   "cell_type": "code",
   "execution_count": 9,
   "metadata": {},
   "outputs": [],
   "source": [
    "'''imports a dictionary and lets us see binding strength of the shine-dalgarno sequences'''\n",
    "# with open('../Data/examples_for_testing/energyRef_CCUCCU_ensemble.json', 'r') as infile:\n",
    "#        energy_dict = json.load(infile)\n",
    "        \n",
    "with open('../Data/examples_for_testing/energyRef_CCUCCU_mfe.json', 'r') as infile:\n",
    "       energy_dict = json.load(infile)"
   ]
  },
  {
   "cell_type": "code",
   "execution_count": 4,
   "metadata": {},
   "outputs": [
    {
     "data": {
      "text/plain": [
       "-2.9"
      ]
     },
     "execution_count": 4,
     "metadata": {},
     "output_type": "execute_result"
    }
   ],
   "source": [
    "#example of how to see binding strength(must use 6nt length)\n",
    "energy_dict[\"ACGAGU\"]"
   ]
  },
  {
   "cell_type": "code",
   "execution_count": 10,
   "metadata": {},
   "outputs": [],
   "source": [
    "new_df, new_genome = gff3_parsing.compile_sequences(\"../Data/examples_for_testing/ecoli.gff3\",\\\n",
    "                                                    \"../Data/examples_for_testing/ecoli.fasta\", 20)"
   ]
  },
  {
   "cell_type": "code",
   "execution_count": null,
   "metadata": {},
   "outputs": [],
   "source": [
    "new_df.head(10)"
   ]
  },
  {
   "cell_type": "code",
   "execution_count": null,
   "metadata": {},
   "outputs": [],
   "source": []
  },
  {
   "cell_type": "code",
   "execution_count": 24,
   "metadata": {},
   "outputs": [
    {
     "data": {
      "text/plain": [
       "5"
      ]
     },
     "execution_count": 24,
     "metadata": {},
     "output_type": "execute_result"
    }
   ],
   "source": []
  },
  {
   "cell_type": "code",
   "execution_count": null,
   "metadata": {},
   "outputs": [],
   "source": []
  },
  {
   "cell_type": "code",
   "execution_count": 28,
   "metadata": {},
   "outputs": [],
   "source": [
    "test_string = 'TTACAGAGTACACAACATCC'.replace(\"T\", \"U\")"
   ]
  },
  {
   "cell_type": "code",
   "execution_count": 32,
   "metadata": {},
   "outputs": [
    {
     "name": "stdout",
     "output_type": "stream",
     "text": [
      "GUACAC -0.01\n"
     ]
    }
   ],
   "source": [
    "fragment = test_string[7:13]\n",
    "print(fragment,energy_dict[fragment])"
   ]
  },
  {
   "cell_type": "code",
   "execution_count": null,
   "metadata": {},
   "outputs": [],
   "source": [
    "energy_dict[\"ACACAA\"]"
   ]
  },
  {
   "cell_type": "code",
   "execution_count": 11,
   "metadata": {},
   "outputs": [
    {
     "data": {
      "text/html": [
       "<div>\n",
       "<style scoped>\n",
       "    .dataframe tbody tr th:only-of-type {\n",
       "        vertical-align: middle;\n",
       "    }\n",
       "\n",
       "    .dataframe tbody tr th {\n",
       "        vertical-align: top;\n",
       "    }\n",
       "\n",
       "    .dataframe thead th {\n",
       "        text-align: right;\n",
       "    }\n",
       "</style>\n",
       "<table border=\"1\" class=\"dataframe\">\n",
       "  <thead>\n",
       "    <tr style=\"text-align: right;\">\n",
       "      <th></th>\n",
       "      <th>genome_id</th>\n",
       "      <th>source</th>\n",
       "      <th>type</th>\n",
       "      <th>start</th>\n",
       "      <th>stop</th>\n",
       "      <th>idk</th>\n",
       "      <th>strand</th>\n",
       "      <th>trash</th>\n",
       "      <th>qualifiers</th>\n",
       "      <th>coding_sequence</th>\n",
       "      <th>upstream_sequence</th>\n",
       "      <th>energy_binding</th>\n",
       "    </tr>\n",
       "  </thead>\n",
       "  <tbody>\n",
       "    <tr>\n",
       "      <th>10161</th>\n",
       "      <td>NC_000913.3</td>\n",
       "      <td>RefSeq</td>\n",
       "      <td>CDS</td>\n",
       "      <td>4636696</td>\n",
       "      <td>4638120</td>\n",
       "      <td>.</td>\n",
       "      <td>+</td>\n",
       "      <td>0</td>\n",
       "      <td>ID=cds-NP_418816.1;Parent=gene-b4399;Dbxref=Un...</td>\n",
       "      <td>ATGCGTATCGGCATGCGGTTGTTGCTGGGCTATTTTTTACTGGTGG...</td>\n",
       "      <td>TATAGCCTGAGGGGCCTGTA</td>\n",
       "      <td>-5.90</td>\n",
       "    </tr>\n",
       "    <tr>\n",
       "      <th>10163</th>\n",
       "      <td>NC_000913.3</td>\n",
       "      <td>RefSeq</td>\n",
       "      <td>CDS</td>\n",
       "      <td>4638178</td>\n",
       "      <td>4639530</td>\n",
       "      <td>.</td>\n",
       "      <td>+</td>\n",
       "      <td>0</td>\n",
       "      <td>ID=cds-NP_418817.1;Parent=gene-b4400;Dbxref=Un...</td>\n",
       "      <td>ATGTTGAAATCCCCCCTGTTCTGGAAAATGACTAGCCTGTTTGGTG...</td>\n",
       "      <td>CCATTGCAAAGGAGAAGACT</td>\n",
       "      <td>-7.23</td>\n",
       "    </tr>\n",
       "    <tr>\n",
       "      <th>10165</th>\n",
       "      <td>NC_000913.3</td>\n",
       "      <td>RefSeq</td>\n",
       "      <td>CDS</td>\n",
       "      <td>4639590</td>\n",
       "      <td>4640306</td>\n",
       "      <td>.</td>\n",
       "      <td>-</td>\n",
       "      <td>0</td>\n",
       "      <td>ID=cds-NP_418818.1;Parent=gene-b4401;Dbxref=Un...</td>\n",
       "      <td>ATGCAGACCCCGCACATTCTTATCGTTGAAGACGAGTTGGTAACAC...</td>\n",
       "      <td>TGGCAATTTAGGTAGCAAAC</td>\n",
       "      <td>-3.30</td>\n",
       "    </tr>\n",
       "    <tr>\n",
       "      <th>10167</th>\n",
       "      <td>NC_000913.3</td>\n",
       "      <td>RefSeq</td>\n",
       "      <td>CDS</td>\n",
       "      <td>4640402</td>\n",
       "      <td>4640542</td>\n",
       "      <td>.</td>\n",
       "      <td>+</td>\n",
       "      <td>0</td>\n",
       "      <td>ID=cds-NP_418819.1;Parent=gene-b4402;Dbxref=Un...</td>\n",
       "      <td>ATGACTAAAGTACGTAATTGCGTTCTTGATGCACTTTCCATCAACG...</td>\n",
       "      <td>ATTAACATGATCGGCGTAAC</td>\n",
       "      <td>-0.34</td>\n",
       "    </tr>\n",
       "    <tr>\n",
       "      <th>10169</th>\n",
       "      <td>NC_000913.3</td>\n",
       "      <td>RefSeq</td>\n",
       "      <td>CDS</td>\n",
       "      <td>4640942</td>\n",
       "      <td>4641628</td>\n",
       "      <td>.</td>\n",
       "      <td>+</td>\n",
       "      <td>0</td>\n",
       "      <td>ID=cds-NP_418820.1;Parent=gene-b4403;Dbxref=Un...</td>\n",
       "      <td>ATGCGTATAACGATTATTCTGGTCGCACCCGCCAGAGCAGAAAATA...</td>\n",
       "      <td>TGATCAAGAAGAGTGGCAAT</td>\n",
       "      <td>-0.55</td>\n",
       "    </tr>\n",
       "  </tbody>\n",
       "</table>\n",
       "</div>"
      ],
      "text/plain": [
       "         genome_id  source type    start     stop idk strand trash  \\\n",
       "10161  NC_000913.3  RefSeq  CDS  4636696  4638120   .      +     0   \n",
       "10163  NC_000913.3  RefSeq  CDS  4638178  4639530   .      +     0   \n",
       "10165  NC_000913.3  RefSeq  CDS  4639590  4640306   .      -     0   \n",
       "10167  NC_000913.3  RefSeq  CDS  4640402  4640542   .      +     0   \n",
       "10169  NC_000913.3  RefSeq  CDS  4640942  4641628   .      +     0   \n",
       "\n",
       "                                              qualifiers  \\\n",
       "10161  ID=cds-NP_418816.1;Parent=gene-b4399;Dbxref=Un...   \n",
       "10163  ID=cds-NP_418817.1;Parent=gene-b4400;Dbxref=Un...   \n",
       "10165  ID=cds-NP_418818.1;Parent=gene-b4401;Dbxref=Un...   \n",
       "10167  ID=cds-NP_418819.1;Parent=gene-b4402;Dbxref=Un...   \n",
       "10169  ID=cds-NP_418820.1;Parent=gene-b4403;Dbxref=Un...   \n",
       "\n",
       "                                         coding_sequence  \\\n",
       "10161  ATGCGTATCGGCATGCGGTTGTTGCTGGGCTATTTTTTACTGGTGG...   \n",
       "10163  ATGTTGAAATCCCCCCTGTTCTGGAAAATGACTAGCCTGTTTGGTG...   \n",
       "10165  ATGCAGACCCCGCACATTCTTATCGTTGAAGACGAGTTGGTAACAC...   \n",
       "10167  ATGACTAAAGTACGTAATTGCGTTCTTGATGCACTTTCCATCAACG...   \n",
       "10169  ATGCGTATAACGATTATTCTGGTCGCACCCGCCAGAGCAGAAAATA...   \n",
       "\n",
       "          upstream_sequence  energy_binding  \n",
       "10161  TATAGCCTGAGGGGCCTGTA           -5.90  \n",
       "10163  CCATTGCAAAGGAGAAGACT           -7.23  \n",
       "10165  TGGCAATTTAGGTAGCAAAC           -3.30  \n",
       "10167  ATTAACATGATCGGCGTAAC           -0.34  \n",
       "10169  TGATCAAGAAGAGTGGCAAT           -0.55  "
      ]
     },
     "execution_count": 11,
     "metadata": {},
     "output_type": "execute_result"
    }
   ],
   "source": [
    "# for upstream in new_df[\"upstream_sequence\"][:10]:\n",
    "#     test_string = upstream.replace(\"T\", \"U\")\n",
    "#     energy = energy_dict[test_string[9:15]]\n",
    "    \n",
    "#     new_df.at[upstream, \"energy_binding\"] = energy\n",
    "\n",
    "# new_df.head(10)   \n",
    "\n",
    "for index in new_df.index:\n",
    "    upstream = new_df.loc[index,\"upstream_sequence\"]\n",
    "    test_string = upstream.replace(\"T\", \"U\")\n",
    "    energy = energy_dict[test_string[9:15]]\n",
    "    \n",
    "    new_df.at[index, \"energy_binding\"] = energy\n",
    "\n",
    "new_df.tail()"
   ]
  },
  {
   "cell_type": "code",
   "execution_count": 12,
   "metadata": {},
   "outputs": [
    {
     "data": {
      "text/plain": [
       "<matplotlib.axes._subplots.AxesSubplot at 0x11586ef60>"
      ]
     },
     "execution_count": 12,
     "metadata": {},
     "output_type": "execute_result"
    },
    {
     "data": {
      "image/png": "[encoded data removed]",
      "text/plain": [
       "<Figure size 432x288 with 1 Axes>"
      ]
     },
     "metadata": {
      "needs_background": "light"
     },
     "output_type": "display_data"
    }
   ],
   "source": [
    "new_df[\"energy_binding\"].hist()"
   ]
  },
  {
   "cell_type": "code",
   "execution_count": 13,
   "metadata": {},
   "outputs": [
    {
     "data": {
      "text/plain": [
       "(array([  70.,  130.,  218.,  246.,  248.,  203.,  400.,  297.,  370.,\n",
       "        2197.]),\n",
       " array([-8.83 , -7.947, -7.064, -6.181, -5.298, -4.415, -3.532, -2.649,\n",
       "        -1.766, -0.883, -0.   ]),\n",
       " <a list of 10 Patch objects>)"
      ]
     },
     "execution_count": 13,
     "metadata": {},
     "output_type": "execute_result"
    },
    {
     "data": {
      "image/png": "[encoded data removed]",
      "text/plain": [
       "<Figure size 432x288 with 1 Axes>"
      ]
     },
     "metadata": {
      "needs_background": "light"
     },
     "output_type": "display_data"
    }
   ],
   "source": [
    "fig, ax = plt.subplots()\n",
    "ax.hist(new_df[\"energy_binding\"])"
   ]
  },
  {
   "cell_type": "code",
   "execution_count": null,
   "metadata": {},
   "outputs": [],
   "source": []
  },
  {
   "cell_type": "code",
   "execution_count": null,
   "metadata": {},
   "outputs": [],
   "source": []
  },
  {
   "cell_type": "code",
   "execution_count": null,
   "metadata": {},
   "outputs": [],
   "source": []
  },
  {
   "cell_type": "code",
   "execution_count": null,
   "metadata": {},
   "outputs": [],
   "source": [
    "test_string = 'TTACAGAGTACACAACATCC'\n",
    "\n"
   ]
  }
 ],
 "metadata": {
  "kernelspec": {
   "display_name": "Python 3",
   "language": "python",
   "name": "python3"
  },
  "language_info": {
   "codemirror_mode": {
    "name": "ipython",
    "version": 3
   },
   "file_extension": ".py",
   "mimetype": "text/x-python",
   "name": "python",
   "nbconvert_exporter": "python",
   "pygments_lexer": "ipython3",
   "version": "3.7.1"
  }
 },
 "nbformat": 4,
 "nbformat_minor": 2
}

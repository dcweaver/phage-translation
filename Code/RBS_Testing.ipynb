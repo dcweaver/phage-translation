{
 "cells": [
  {
   "cell_type": "code",
   "execution_count": 1,
   "metadata": {},
   "outputs": [],
   "source": [
    "%matplotlib inline"
   ]
  },
  {
   "cell_type": "code",
   "execution_count": 2,
   "metadata": {},
   "outputs": [],
   "source": [
    "import json\n",
    "import gff3_parsing\n",
    "from matplotlib import pyplot as plt"
   ]
  },
  {
   "cell_type": "code",
   "execution_count": 3,
   "metadata": {},
   "outputs": [],
   "source": [
    "'''imports a dictionary and lets us see binding strength of the shine-dalgarno sequences'''\n",
    "# with open('../Data/examples_for_testing/energyRef_CCUCCU_ensemble.json', 'r') as infile:\n",
    "#        energy_dict = json.load(infile)\n",
    "        \n",
    "with open('../Data/examples_for_testing/energyRef_CCUCCU_mfe.json', 'r') as infile:\n",
    "       energy_dict = json.load(infile)"
   ]
  },
  {
   "cell_type": "code",
   "execution_count": null,
   "metadata": {},
   "outputs": [],
   "source": [
    "#example of how to see binding strength(must use 6nt length)\n",
    "energy_dict[\"ACGAGU\"]"
   ]
  },
  {
   "cell_type": "code",
   "execution_count": 4,
   "metadata": {},
   "outputs": [],
   "source": [
    "new_df, new_genome = gff3_parsing.compile_sequences(\"../Data/examples_for_testing/ecoli.gff3\",\\\n",
    "                                                    \"../Data/examples_for_testing/ecoli.fasta\", 20)"
   ]
  },
  {
   "cell_type": "code",
   "execution_count": null,
   "metadata": {},
   "outputs": [],
   "source": [
    "new_df.head(10)"
   ]
  },
  {
   "cell_type": "code",
   "execution_count": null,
   "metadata": {},
   "outputs": [],
   "source": []
  },
  {
   "cell_type": "code",
   "execution_count": null,
   "metadata": {},
   "outputs": [],
   "source": []
  },
  {
   "cell_type": "code",
   "execution_count": null,
   "metadata": {},
   "outputs": [],
   "source": []
  },
  {
   "cell_type": "code",
   "execution_count": null,
   "metadata": {},
   "outputs": [],
   "source": [
    "test_string = 'TTACAGAGTACACAACATCC'.replace(\"T\", \"U\")"
   ]
  },
  {
   "cell_type": "code",
   "execution_count": null,
   "metadata": {},
   "outputs": [],
   "source": [
    "fragment = test_string[7:13]\n",
    "print(fragment,energy_dict[fragment])"
   ]
  },
  {
   "cell_type": "code",
   "execution_count": null,
   "metadata": {},
   "outputs": [],
   "source": [
    "energy_dict[\"ACACAA\"]"
   ]
  },
  {
   "cell_type": "code",
   "execution_count": null,
   "metadata": {},
   "outputs": [],
   "source": [
    "# for upstream in new_df[\"upstream_sequence\"][:10]:\n",
    "#     test_string = upstream.replace(\"T\", \"U\")\n",
    "#     energy = energy_dict[test_string[9:15]]\n",
    "    \n",
    "#     new_df.at[upstream, \"energy_binding\"] = energy\n",
    "\n",
    "# new_df.head(10)   \n",
    "\n",
    "for index in new_df.index:\n",
    "    upstream = new_df.loc[index,\"upstream_sequence\"]\n",
    "    test_string = upstream.replace(\"T\", \"U\")\n",
    "    energy = energy_dict[test_string[9:15]]\n",
    "    \n",
    "    new_df.at[index, \"energy_binding\"] = energy\n",
    "\n",
    "new_df.tail()"
   ]
  },
  {
   "cell_type": "code",
   "execution_count": null,
   "metadata": {},
   "outputs": [],
   "source": [
    "new_df[\"energy_binding\"].hist()"
   ]
  },
  {
   "cell_type": "code",
   "execution_count": null,
   "metadata": {},
   "outputs": [],
   "source": [
    "fig, ax = plt.subplots()\n",
    "ax.hist(new_df[\"energy_binding\"])"
   ]
  },
  {
   "cell_type": "code",
   "execution_count": null,
   "metadata": {},
   "outputs": [],
   "source": []
  },
  {
   "cell_type": "code",
   "execution_count": null,
   "metadata": {},
   "outputs": [],
   "source": []
  },
  {
   "cell_type": "code",
   "execution_count": null,
   "metadata": {},
   "outputs": [],
   "source": []
  },
  {
   "cell_type": "code",
   "execution_count": null,
   "metadata": {},
   "outputs": [],
   "source": [
    "test_string = 'TTACAGAGTACACAACATCC'\n",
    "\n"
   ]
  },
  {
   "cell_type": "code",
   "execution_count": null,
   "metadata": {},
   "outputs": [],
   "source": []
  },
  {
   "cell_type": "code",
   "execution_count": 7,
   "metadata": {},
   "outputs": [],
   "source": [
    "for index in new_df.index:\n",
    "    upstream = new_df.loc[index,\"upstream_sequence\"]\n",
    "    test_string = upstream.replace(\"T\", \"U\")\n",
    "    energy_4gap = energy_dict[test_string[10:16]]\n",
    "    energy_5gap = energy_dict[test_string[9:15]]\n",
    "    energy_6gap = energy_dict[test_string[8:14]]\n",
    "    energy_7gap = energy_dict[test_string[7:13]]\n",
    "    \n",
    "    #print(min(energy_4gap,energy_5gap,energy_6gap,energy_7gap))\n",
    "    new_df.at[index, \"energy_binding\"] = min(energy_4gap,energy_5gap,energy_6gap,energy_7gap)\n",
    "    "
   ]
  },
  {
   "cell_type": "code",
   "execution_count": 8,
   "metadata": {},
   "outputs": [
    {
     "data": {
      "text/html": [
       "<div>\n",
       "<style scoped>\n",
       "    .dataframe tbody tr th:only-of-type {\n",
       "        vertical-align: middle;\n",
       "    }\n",
       "\n",
       "    .dataframe tbody tr th {\n",
       "        vertical-align: top;\n",
       "    }\n",
       "\n",
       "    .dataframe thead th {\n",
       "        text-align: right;\n",
       "    }\n",
       "</style>\n",
       "<table border=\"1\" class=\"dataframe\">\n",
       "  <thead>\n",
       "    <tr style=\"text-align: right;\">\n",
       "      <th></th>\n",
       "      <th>genome_id</th>\n",
       "      <th>source</th>\n",
       "      <th>type</th>\n",
       "      <th>start</th>\n",
       "      <th>stop</th>\n",
       "      <th>idk</th>\n",
       "      <th>strand</th>\n",
       "      <th>trash</th>\n",
       "      <th>qualifiers</th>\n",
       "      <th>coding_sequence</th>\n",
       "      <th>upstream_sequence</th>\n",
       "      <th>energy_binding</th>\n",
       "    </tr>\n",
       "  </thead>\n",
       "  <tbody>\n",
       "    <tr>\n",
       "      <th>2</th>\n",
       "      <td>NC_000913.3</td>\n",
       "      <td>RefSeq</td>\n",
       "      <td>CDS</td>\n",
       "      <td>190</td>\n",
       "      <td>255</td>\n",
       "      <td>.</td>\n",
       "      <td>+</td>\n",
       "      <td>0</td>\n",
       "      <td>ID=cds-NP_414542.1;Parent=gene-b0001;Dbxref=Un...</td>\n",
       "      <td>ATGAAACGCATTAGCACCACCATTACCACCACCATCACCATTACCA...</td>\n",
       "      <td>TTACAGAGTACACAACATCC</td>\n",
       "      <td>-0.04</td>\n",
       "    </tr>\n",
       "    <tr>\n",
       "      <th>4</th>\n",
       "      <td>NC_000913.3</td>\n",
       "      <td>RefSeq</td>\n",
       "      <td>CDS</td>\n",
       "      <td>337</td>\n",
       "      <td>2799</td>\n",
       "      <td>.</td>\n",
       "      <td>+</td>\n",
       "      <td>0</td>\n",
       "      <td>ID=cds-NP_414543.1;Parent=gene-b0002;Dbxref=Un...</td>\n",
       "      <td>ATGCGAGTGTTGAAGTTCGGCGGTACATCAGTGGCAAATGCAGAAC...</td>\n",
       "      <td>AAGGTAACGAGGTAACAACC</td>\n",
       "      <td>-2.97</td>\n",
       "    </tr>\n",
       "    <tr>\n",
       "      <th>6</th>\n",
       "      <td>NC_000913.3</td>\n",
       "      <td>RefSeq</td>\n",
       "      <td>CDS</td>\n",
       "      <td>2801</td>\n",
       "      <td>3733</td>\n",
       "      <td>.</td>\n",
       "      <td>+</td>\n",
       "      <td>0</td>\n",
       "      <td>ID=cds-NP_414544.1;Parent=gene-b0003;Dbxref=Un...</td>\n",
       "      <td>ATGGTTAAAGTTTATGCCCCGGCTTCCAGTGCCAATATGAGCGTCG...</td>\n",
       "      <td>ATGGAAGTTAGGAGTCTGAC</td>\n",
       "      <td>-6.93</td>\n",
       "    </tr>\n",
       "    <tr>\n",
       "      <th>8</th>\n",
       "      <td>NC_000913.3</td>\n",
       "      <td>RefSeq</td>\n",
       "      <td>CDS</td>\n",
       "      <td>3734</td>\n",
       "      <td>5020</td>\n",
       "      <td>.</td>\n",
       "      <td>+</td>\n",
       "      <td>0</td>\n",
       "      <td>ID=cds-NP_414545.1;Parent=gene-b0004;Dbxref=Un...</td>\n",
       "      <td>ATGAAACTCTACAATCTGAAAGATCACAACGAGCAGGTCAGCTTTG...</td>\n",
       "      <td>CACGAGTACTGGAAAACTAA</td>\n",
       "      <td>-4.29</td>\n",
       "    </tr>\n",
       "    <tr>\n",
       "      <th>10</th>\n",
       "      <td>NC_000913.3</td>\n",
       "      <td>RefSeq</td>\n",
       "      <td>CDS</td>\n",
       "      <td>5234</td>\n",
       "      <td>5530</td>\n",
       "      <td>.</td>\n",
       "      <td>+</td>\n",
       "      <td>0</td>\n",
       "      <td>ID=cds-NP_414546.1;Parent=gene-b0005;Dbxref=Un...</td>\n",
       "      <td>GTGAAAAAGATGCAATCTATCGTACTCGCACTTTCCCTGGTTCTGG...</td>\n",
       "      <td>AATGATAAAAGGAGTAACCT</td>\n",
       "      <td>-6.93</td>\n",
       "    </tr>\n",
       "    <tr>\n",
       "      <th>14</th>\n",
       "      <td>NC_000913.3</td>\n",
       "      <td>RefSeq</td>\n",
       "      <td>CDS</td>\n",
       "      <td>5683</td>\n",
       "      <td>6459</td>\n",
       "      <td>.</td>\n",
       "      <td>-</td>\n",
       "      <td>0</td>\n",
       "      <td>ID=cds-NP_414547.1;Parent=gene-b0006;Dbxref=Un...</td>\n",
       "      <td>ATGCTGATTCTTATTTCACCTGCGAAAACGCTTGATTACCAAAGCC...</td>\n",
       "      <td>ATTTCCTGCAAGGACTGGAT</td>\n",
       "      <td>-4.38</td>\n",
       "    </tr>\n",
       "    <tr>\n",
       "      <th>16</th>\n",
       "      <td>NC_000913.3</td>\n",
       "      <td>RefSeq</td>\n",
       "      <td>CDS</td>\n",
       "      <td>6529</td>\n",
       "      <td>7959</td>\n",
       "      <td>.</td>\n",
       "      <td>-</td>\n",
       "      <td>0</td>\n",
       "      <td>ID=cds-NP_414548.1;Parent=gene-b0007;Dbxref=Un...</td>\n",
       "      <td>ATGCCAGATTTTTTCTCCTTCATTAACAGCGTCCTTTGGGGATCGG...</td>\n",
       "      <td>CGGCAATAAGAGGGATATGC</td>\n",
       "      <td>-5.79</td>\n",
       "    </tr>\n",
       "    <tr>\n",
       "      <th>18</th>\n",
       "      <td>NC_000913.3</td>\n",
       "      <td>RefSeq</td>\n",
       "      <td>CDS</td>\n",
       "      <td>8238</td>\n",
       "      <td>9191</td>\n",
       "      <td>.</td>\n",
       "      <td>+</td>\n",
       "      <td>0</td>\n",
       "      <td>ID=cds-NP_414549.1;Parent=gene-b0008;Dbxref=Un...</td>\n",
       "      <td>ATGACGGACAAATTGACCTCCCTTCGTCAGTACACCACCGTAGTGG...</td>\n",
       "      <td>GTTTAAAGAGAAATACTATC</td>\n",
       "      <td>-1.32</td>\n",
       "    </tr>\n",
       "    <tr>\n",
       "      <th>20</th>\n",
       "      <td>NC_000913.3</td>\n",
       "      <td>RefSeq</td>\n",
       "      <td>CDS</td>\n",
       "      <td>9306</td>\n",
       "      <td>9893</td>\n",
       "      <td>.</td>\n",
       "      <td>+</td>\n",
       "      <td>0</td>\n",
       "      <td>ID=cds-NP_414550.1;Parent=gene-b0009;Dbxref=Un...</td>\n",
       "      <td>ATGAATACTTTACGTATTGGCTTAGTTTCCATCTCTGATCGCGCAT...</td>\n",
       "      <td>GTTTAAACGGAAAAATCTTG</td>\n",
       "      <td>-4.42</td>\n",
       "    </tr>\n",
       "    <tr>\n",
       "      <th>22</th>\n",
       "      <td>NC_000913.3</td>\n",
       "      <td>RefSeq</td>\n",
       "      <td>CDS</td>\n",
       "      <td>9928</td>\n",
       "      <td>10494</td>\n",
       "      <td>.</td>\n",
       "      <td>-</td>\n",
       "      <td>0</td>\n",
       "      <td>ID=cds-NP_414551.1;Parent=gene-b0010;Dbxref=Un...</td>\n",
       "      <td>ATGGGCAACACTAAGTTGGCTAATCCGGCACCGCTGGGCCTGATGG...</td>\n",
       "      <td>ATGATGATTTTTGAGGAATT</td>\n",
       "      <td>-5.36</td>\n",
       "    </tr>\n",
       "  </tbody>\n",
       "</table>\n",
       "</div>"
      ],
      "text/plain": [
       "      genome_id  source type  start   stop idk strand trash  \\\n",
       "2   NC_000913.3  RefSeq  CDS    190    255   .      +     0   \n",
       "4   NC_000913.3  RefSeq  CDS    337   2799   .      +     0   \n",
       "6   NC_000913.3  RefSeq  CDS   2801   3733   .      +     0   \n",
       "8   NC_000913.3  RefSeq  CDS   3734   5020   .      +     0   \n",
       "10  NC_000913.3  RefSeq  CDS   5234   5530   .      +     0   \n",
       "14  NC_000913.3  RefSeq  CDS   5683   6459   .      -     0   \n",
       "16  NC_000913.3  RefSeq  CDS   6529   7959   .      -     0   \n",
       "18  NC_000913.3  RefSeq  CDS   8238   9191   .      +     0   \n",
       "20  NC_000913.3  RefSeq  CDS   9306   9893   .      +     0   \n",
       "22  NC_000913.3  RefSeq  CDS   9928  10494   .      -     0   \n",
       "\n",
       "                                           qualifiers  \\\n",
       "2   ID=cds-NP_414542.1;Parent=gene-b0001;Dbxref=Un...   \n",
       "4   ID=cds-NP_414543.1;Parent=gene-b0002;Dbxref=Un...   \n",
       "6   ID=cds-NP_414544.1;Parent=gene-b0003;Dbxref=Un...   \n",
       "8   ID=cds-NP_414545.1;Parent=gene-b0004;Dbxref=Un...   \n",
       "10  ID=cds-NP_414546.1;Parent=gene-b0005;Dbxref=Un...   \n",
       "14  ID=cds-NP_414547.1;Parent=gene-b0006;Dbxref=Un...   \n",
       "16  ID=cds-NP_414548.1;Parent=gene-b0007;Dbxref=Un...   \n",
       "18  ID=cds-NP_414549.1;Parent=gene-b0008;Dbxref=Un...   \n",
       "20  ID=cds-NP_414550.1;Parent=gene-b0009;Dbxref=Un...   \n",
       "22  ID=cds-NP_414551.1;Parent=gene-b0010;Dbxref=Un...   \n",
       "\n",
       "                                      coding_sequence     upstream_sequence  \\\n",
       "2   ATGAAACGCATTAGCACCACCATTACCACCACCATCACCATTACCA...  TTACAGAGTACACAACATCC   \n",
       "4   ATGCGAGTGTTGAAGTTCGGCGGTACATCAGTGGCAAATGCAGAAC...  AAGGTAACGAGGTAACAACC   \n",
       "6   ATGGTTAAAGTTTATGCCCCGGCTTCCAGTGCCAATATGAGCGTCG...  ATGGAAGTTAGGAGTCTGAC   \n",
       "8   ATGAAACTCTACAATCTGAAAGATCACAACGAGCAGGTCAGCTTTG...  CACGAGTACTGGAAAACTAA   \n",
       "10  GTGAAAAAGATGCAATCTATCGTACTCGCACTTTCCCTGGTTCTGG...  AATGATAAAAGGAGTAACCT   \n",
       "14  ATGCTGATTCTTATTTCACCTGCGAAAACGCTTGATTACCAAAGCC...  ATTTCCTGCAAGGACTGGAT   \n",
       "16  ATGCCAGATTTTTTCTCCTTCATTAACAGCGTCCTTTGGGGATCGG...  CGGCAATAAGAGGGATATGC   \n",
       "18  ATGACGGACAAATTGACCTCCCTTCGTCAGTACACCACCGTAGTGG...  GTTTAAAGAGAAATACTATC   \n",
       "20  ATGAATACTTTACGTATTGGCTTAGTTTCCATCTCTGATCGCGCAT...  GTTTAAACGGAAAAATCTTG   \n",
       "22  ATGGGCAACACTAAGTTGGCTAATCCGGCACCGCTGGGCCTGATGG...  ATGATGATTTTTGAGGAATT   \n",
       "\n",
       "    energy_binding  \n",
       "2            -0.04  \n",
       "4            -2.97  \n",
       "6            -6.93  \n",
       "8            -4.29  \n",
       "10           -6.93  \n",
       "14           -4.38  \n",
       "16           -5.79  \n",
       "18           -1.32  \n",
       "20           -4.42  \n",
       "22           -5.36  "
      ]
     },
     "execution_count": 8,
     "metadata": {},
     "output_type": "execute_result"
    }
   ],
   "source": [
    "new_df.head(10)"
   ]
  },
  {
   "cell_type": "code",
   "execution_count": 9,
   "metadata": {},
   "outputs": [
    {
     "data": {
      "text/plain": [
       "(array([266., 384., 653., 740., 509., 489., 405., 255., 376., 302.]),\n",
       " array([-8.83 , -7.948, -7.066, -6.184, -5.302, -4.42 , -3.538, -2.656,\n",
       "        -1.774, -0.892, -0.01 ]),\n",
       " <a list of 10 Patch objects>)"
      ]
     },
     "execution_count": 9,
     "metadata": {},
     "output_type": "execute_result"
    },
    {
     "data": {
      "image/png": "[encoded data removed]",
      "text/plain": [
       "<Figure size 432x288 with 1 Axes>"
      ]
     },
     "metadata": {
      "needs_background": "light"
     },
     "output_type": "display_data"
    }
   ],
   "source": [
    "fig, ax = plt.subplots()\n",
    "ax.hist(new_df[\"energy_binding\"])"
   ]
  },
  {
   "cell_type": "code",
   "execution_count": null,
   "metadata": {},
   "outputs": [],
   "source": []
  }
 ],
 "metadata": {
  "kernelspec": {
   "display_name": "Python 3",
   "language": "python",
   "name": "python3"
  },
  "language_info": {
   "codemirror_mode": {
    "name": "ipython",
    "version": 3
   },
   "file_extension": ".py",
   "mimetype": "text/x-python",
   "name": "python",
   "nbconvert_exporter": "python",
   "pygments_lexer": "ipython3",
   "version": "3.7.1"
  }
 },
 "nbformat": 4,
 "nbformat_minor": 2
}

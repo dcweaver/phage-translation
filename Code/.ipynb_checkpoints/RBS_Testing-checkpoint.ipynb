{
 "cells": [
  {
   "cell_type": "code",
   "execution_count": 1,
   "metadata": {},
   "outputs": [],
   "source": [
    "%matplotlib inline\n",
    "%load_ext autoreload\n",
    "\n",
    "%autoreload 2"
   ]
  },
  {
   "cell_type": "code",
   "execution_count": 2,
   "metadata": {},
   "outputs": [],
   "source": [
    "import json\n",
    "import gff3_parsing\n",
    "from matplotlib import pyplot as plt\n",
    "import pandas as pd\n",
    "import numpy as np"
   ]
  },
  {
   "cell_type": "code",
   "execution_count": 3,
   "metadata": {},
   "outputs": [],
   "source": [
    "'''imports a dictionary and lets us see binding strength of the shine-dalgarno sequences'''\n",
    "# with open('../Data/examples_for_testing/energyRef_CCUCCU_ensemble.json', 'r') as infile:\n",
    "#        energy_dict = json.load(infile)\n",
    "        \n",
    "with open('../Data/examples_for_testing/energyRef_CCUCCU_mfe.json', 'r') as infile:\n",
    "       energy_dict = json.load(infile)"
   ]
  },
  {
   "cell_type": "code",
   "execution_count": 4,
   "metadata": {},
   "outputs": [
    {
     "data": {
      "text/plain": [
       "-0.01"
      ]
     },
     "execution_count": 4,
     "metadata": {},
     "output_type": "execute_result"
    }
   ],
   "source": [
    "#example of how to see binding strength(must use 6nt length)\n",
    "energy_dict[\"ACGAGU\"]\n",
    "energy_dict[\"CUAGAC\"]"
   ]
  },
  {
   "cell_type": "code",
   "execution_count": 8,
   "metadata": {},
   "outputs": [],
   "source": [
    "new_df, new_genome = gff3_parsing.compile_sequences(\"../Data/examples_for_testing/ecoli.gff3\",\\\n",
    "                                                    \"../Data/examples_for_testing/ecoli.fasta\", 20)"
   ]
  },
  {
   "cell_type": "code",
   "execution_count": 9,
   "metadata": {},
   "outputs": [
    {
     "data": {
      "text/html": [
       "<div>\n",
       "<style scoped>\n",
       "    .dataframe tbody tr th:only-of-type {\n",
       "        vertical-align: middle;\n",
       "    }\n",
       "\n",
       "    .dataframe tbody tr th {\n",
       "        vertical-align: top;\n",
       "    }\n",
       "\n",
       "    .dataframe thead th {\n",
       "        text-align: right;\n",
       "    }\n",
       "</style>\n",
       "<table border=\"1\" class=\"dataframe\">\n",
       "  <thead>\n",
       "    <tr style=\"text-align: right;\">\n",
       "      <th></th>\n",
       "      <th>genome_id</th>\n",
       "      <th>source</th>\n",
       "      <th>type</th>\n",
       "      <th>start</th>\n",
       "      <th>stop</th>\n",
       "      <th>idk</th>\n",
       "      <th>strand</th>\n",
       "      <th>trash</th>\n",
       "      <th>qualifiers</th>\n",
       "      <th>coding_sequence</th>\n",
       "      <th>upstream_sequence</th>\n",
       "    </tr>\n",
       "  </thead>\n",
       "  <tbody>\n",
       "    <tr>\n",
       "      <th>2</th>\n",
       "      <td>NC_000913.3</td>\n",
       "      <td>RefSeq</td>\n",
       "      <td>CDS</td>\n",
       "      <td>190</td>\n",
       "      <td>255</td>\n",
       "      <td>.</td>\n",
       "      <td>+</td>\n",
       "      <td>0</td>\n",
       "      <td>ID=cds-NP_414542.1;Parent=gene-b0001;Dbxref=Un...</td>\n",
       "      <td>ATGAAACGCATTAGCACCACCATTACCACCACCATCACCATTACCA...</td>\n",
       "      <td>TTACAGAGTACACAACATCC</td>\n",
       "    </tr>\n",
       "    <tr>\n",
       "      <th>4</th>\n",
       "      <td>NC_000913.3</td>\n",
       "      <td>RefSeq</td>\n",
       "      <td>CDS</td>\n",
       "      <td>337</td>\n",
       "      <td>2799</td>\n",
       "      <td>.</td>\n",
       "      <td>+</td>\n",
       "      <td>0</td>\n",
       "      <td>ID=cds-NP_414543.1;Parent=gene-b0002;Dbxref=Un...</td>\n",
       "      <td>ATGCGAGTGTTGAAGTTCGGCGGTACATCAGTGGCAAATGCAGAAC...</td>\n",
       "      <td>AAGGTAACGAGGTAACAACC</td>\n",
       "    </tr>\n",
       "    <tr>\n",
       "      <th>6</th>\n",
       "      <td>NC_000913.3</td>\n",
       "      <td>RefSeq</td>\n",
       "      <td>CDS</td>\n",
       "      <td>2801</td>\n",
       "      <td>3733</td>\n",
       "      <td>.</td>\n",
       "      <td>+</td>\n",
       "      <td>0</td>\n",
       "      <td>ID=cds-NP_414544.1;Parent=gene-b0003;Dbxref=Un...</td>\n",
       "      <td>ATGGTTAAAGTTTATGCCCCGGCTTCCAGTGCCAATATGAGCGTCG...</td>\n",
       "      <td>ATGGAAGTTAGGAGTCTGAC</td>\n",
       "    </tr>\n",
       "    <tr>\n",
       "      <th>8</th>\n",
       "      <td>NC_000913.3</td>\n",
       "      <td>RefSeq</td>\n",
       "      <td>CDS</td>\n",
       "      <td>3734</td>\n",
       "      <td>5020</td>\n",
       "      <td>.</td>\n",
       "      <td>+</td>\n",
       "      <td>0</td>\n",
       "      <td>ID=cds-NP_414545.1;Parent=gene-b0004;Dbxref=Un...</td>\n",
       "      <td>ATGAAACTCTACAATCTGAAAGATCACAACGAGCAGGTCAGCTTTG...</td>\n",
       "      <td>CACGAGTACTGGAAAACTAA</td>\n",
       "    </tr>\n",
       "    <tr>\n",
       "      <th>10</th>\n",
       "      <td>NC_000913.3</td>\n",
       "      <td>RefSeq</td>\n",
       "      <td>CDS</td>\n",
       "      <td>5234</td>\n",
       "      <td>5530</td>\n",
       "      <td>.</td>\n",
       "      <td>+</td>\n",
       "      <td>0</td>\n",
       "      <td>ID=cds-NP_414546.1;Parent=gene-b0005;Dbxref=Un...</td>\n",
       "      <td>GTGAAAAAGATGCAATCTATCGTACTCGCACTTTCCCTGGTTCTGG...</td>\n",
       "      <td>AATGATAAAAGGAGTAACCT</td>\n",
       "    </tr>\n",
       "    <tr>\n",
       "      <th>14</th>\n",
       "      <td>NC_000913.3</td>\n",
       "      <td>RefSeq</td>\n",
       "      <td>CDS</td>\n",
       "      <td>5683</td>\n",
       "      <td>6459</td>\n",
       "      <td>.</td>\n",
       "      <td>-</td>\n",
       "      <td>0</td>\n",
       "      <td>ID=cds-NP_414547.1;Parent=gene-b0006;Dbxref=Un...</td>\n",
       "      <td>ATGCTGATTCTTATTTCACCTGCGAAAACGCTTGATTACCAAAGCC...</td>\n",
       "      <td>ATTTCCTGCAAGGACTGGAT</td>\n",
       "    </tr>\n",
       "    <tr>\n",
       "      <th>16</th>\n",
       "      <td>NC_000913.3</td>\n",
       "      <td>RefSeq</td>\n",
       "      <td>CDS</td>\n",
       "      <td>6529</td>\n",
       "      <td>7959</td>\n",
       "      <td>.</td>\n",
       "      <td>-</td>\n",
       "      <td>0</td>\n",
       "      <td>ID=cds-NP_414548.1;Parent=gene-b0007;Dbxref=Un...</td>\n",
       "      <td>ATGCCAGATTTTTTCTCCTTCATTAACAGCGTCCTTTGGGGATCGG...</td>\n",
       "      <td>CGGCAATAAGAGGGATATGC</td>\n",
       "    </tr>\n",
       "    <tr>\n",
       "      <th>18</th>\n",
       "      <td>NC_000913.3</td>\n",
       "      <td>RefSeq</td>\n",
       "      <td>CDS</td>\n",
       "      <td>8238</td>\n",
       "      <td>9191</td>\n",
       "      <td>.</td>\n",
       "      <td>+</td>\n",
       "      <td>0</td>\n",
       "      <td>ID=cds-NP_414549.1;Parent=gene-b0008;Dbxref=Un...</td>\n",
       "      <td>ATGACGGACAAATTGACCTCCCTTCGTCAGTACACCACCGTAGTGG...</td>\n",
       "      <td>GTTTAAAGAGAAATACTATC</td>\n",
       "    </tr>\n",
       "    <tr>\n",
       "      <th>20</th>\n",
       "      <td>NC_000913.3</td>\n",
       "      <td>RefSeq</td>\n",
       "      <td>CDS</td>\n",
       "      <td>9306</td>\n",
       "      <td>9893</td>\n",
       "      <td>.</td>\n",
       "      <td>+</td>\n",
       "      <td>0</td>\n",
       "      <td>ID=cds-NP_414550.1;Parent=gene-b0009;Dbxref=Un...</td>\n",
       "      <td>ATGAATACTTTACGTATTGGCTTAGTTTCCATCTCTGATCGCGCAT...</td>\n",
       "      <td>GTTTAAACGGAAAAATCTTG</td>\n",
       "    </tr>\n",
       "    <tr>\n",
       "      <th>22</th>\n",
       "      <td>NC_000913.3</td>\n",
       "      <td>RefSeq</td>\n",
       "      <td>CDS</td>\n",
       "      <td>9928</td>\n",
       "      <td>10494</td>\n",
       "      <td>.</td>\n",
       "      <td>-</td>\n",
       "      <td>0</td>\n",
       "      <td>ID=cds-NP_414551.1;Parent=gene-b0010;Dbxref=Un...</td>\n",
       "      <td>ATGGGCAACACTAAGTTGGCTAATCCGGCACCGCTGGGCCTGATGG...</td>\n",
       "      <td>ATGATGATTTTTGAGGAATT</td>\n",
       "    </tr>\n",
       "  </tbody>\n",
       "</table>\n",
       "</div>"
      ],
      "text/plain": [
       "      genome_id  source type  start   stop idk strand trash  \\\n",
       "2   NC_000913.3  RefSeq  CDS    190    255   .      +     0   \n",
       "4   NC_000913.3  RefSeq  CDS    337   2799   .      +     0   \n",
       "6   NC_000913.3  RefSeq  CDS   2801   3733   .      +     0   \n",
       "8   NC_000913.3  RefSeq  CDS   3734   5020   .      +     0   \n",
       "10  NC_000913.3  RefSeq  CDS   5234   5530   .      +     0   \n",
       "14  NC_000913.3  RefSeq  CDS   5683   6459   .      -     0   \n",
       "16  NC_000913.3  RefSeq  CDS   6529   7959   .      -     0   \n",
       "18  NC_000913.3  RefSeq  CDS   8238   9191   .      +     0   \n",
       "20  NC_000913.3  RefSeq  CDS   9306   9893   .      +     0   \n",
       "22  NC_000913.3  RefSeq  CDS   9928  10494   .      -     0   \n",
       "\n",
       "                                           qualifiers  \\\n",
       "2   ID=cds-NP_414542.1;Parent=gene-b0001;Dbxref=Un...   \n",
       "4   ID=cds-NP_414543.1;Parent=gene-b0002;Dbxref=Un...   \n",
       "6   ID=cds-NP_414544.1;Parent=gene-b0003;Dbxref=Un...   \n",
       "8   ID=cds-NP_414545.1;Parent=gene-b0004;Dbxref=Un...   \n",
       "10  ID=cds-NP_414546.1;Parent=gene-b0005;Dbxref=Un...   \n",
       "14  ID=cds-NP_414547.1;Parent=gene-b0006;Dbxref=Un...   \n",
       "16  ID=cds-NP_414548.1;Parent=gene-b0007;Dbxref=Un...   \n",
       "18  ID=cds-NP_414549.1;Parent=gene-b0008;Dbxref=Un...   \n",
       "20  ID=cds-NP_414550.1;Parent=gene-b0009;Dbxref=Un...   \n",
       "22  ID=cds-NP_414551.1;Parent=gene-b0010;Dbxref=Un...   \n",
       "\n",
       "                                      coding_sequence     upstream_sequence  \n",
       "2   ATGAAACGCATTAGCACCACCATTACCACCACCATCACCATTACCA...  TTACAGAGTACACAACATCC  \n",
       "4   ATGCGAGTGTTGAAGTTCGGCGGTACATCAGTGGCAAATGCAGAAC...  AAGGTAACGAGGTAACAACC  \n",
       "6   ATGGTTAAAGTTTATGCCCCGGCTTCCAGTGCCAATATGAGCGTCG...  ATGGAAGTTAGGAGTCTGAC  \n",
       "8   ATGAAACTCTACAATCTGAAAGATCACAACGAGCAGGTCAGCTTTG...  CACGAGTACTGGAAAACTAA  \n",
       "10  GTGAAAAAGATGCAATCTATCGTACTCGCACTTTCCCTGGTTCTGG...  AATGATAAAAGGAGTAACCT  \n",
       "14  ATGCTGATTCTTATTTCACCTGCGAAAACGCTTGATTACCAAAGCC...  ATTTCCTGCAAGGACTGGAT  \n",
       "16  ATGCCAGATTTTTTCTCCTTCATTAACAGCGTCCTTTGGGGATCGG...  CGGCAATAAGAGGGATATGC  \n",
       "18  ATGACGGACAAATTGACCTCCCTTCGTCAGTACACCACCGTAGTGG...  GTTTAAAGAGAAATACTATC  \n",
       "20  ATGAATACTTTACGTATTGGCTTAGTTTCCATCTCTGATCGCGCAT...  GTTTAAACGGAAAAATCTTG  \n",
       "22  ATGGGCAACACTAAGTTGGCTAATCCGGCACCGCTGGGCCTGATGG...  ATGATGATTTTTGAGGAATT  "
      ]
     },
     "execution_count": 9,
     "metadata": {},
     "output_type": "execute_result"
    }
   ],
   "source": [
    "new_df.head(10)"
   ]
  },
  {
   "cell_type": "code",
   "execution_count": null,
   "metadata": {},
   "outputs": [],
   "source": []
  },
  {
   "cell_type": "code",
   "execution_count": null,
   "metadata": {},
   "outputs": [],
   "source": []
  },
  {
   "cell_type": "code",
   "execution_count": null,
   "metadata": {},
   "outputs": [],
   "source": []
  },
  {
   "cell_type": "code",
   "execution_count": null,
   "metadata": {},
   "outputs": [],
   "source": [
    "test_string = 'TTACAGAGTACACAACATCC'.replace(\"T\", \"U\")"
   ]
  },
  {
   "cell_type": "code",
   "execution_count": null,
   "metadata": {},
   "outputs": [],
   "source": [
    "fragment = test_string[7:13]\n",
    "print(fragment,energy_dict[fragment])"
   ]
  },
  {
   "cell_type": "code",
   "execution_count": 5,
   "metadata": {},
   "outputs": [
    {
     "data": {
      "text/plain": [
       "-0.01"
      ]
     },
     "execution_count": 5,
     "metadata": {},
     "output_type": "execute_result"
    }
   ],
   "source": [
    "energy_dict[\"ACACAA\"]"
   ]
  },
  {
   "cell_type": "code",
   "execution_count": 10,
   "metadata": {},
   "outputs": [
    {
     "data": {
      "text/html": [
       "<div>\n",
       "<style scoped>\n",
       "    .dataframe tbody tr th:only-of-type {\n",
       "        vertical-align: middle;\n",
       "    }\n",
       "\n",
       "    .dataframe tbody tr th {\n",
       "        vertical-align: top;\n",
       "    }\n",
       "\n",
       "    .dataframe thead th {\n",
       "        text-align: right;\n",
       "    }\n",
       "</style>\n",
       "<table border=\"1\" class=\"dataframe\">\n",
       "  <thead>\n",
       "    <tr style=\"text-align: right;\">\n",
       "      <th></th>\n",
       "      <th>genome_id</th>\n",
       "      <th>source</th>\n",
       "      <th>type</th>\n",
       "      <th>start</th>\n",
       "      <th>stop</th>\n",
       "      <th>idk</th>\n",
       "      <th>strand</th>\n",
       "      <th>trash</th>\n",
       "      <th>qualifiers</th>\n",
       "      <th>coding_sequence</th>\n",
       "      <th>upstream_sequence</th>\n",
       "      <th>energy_binding</th>\n",
       "    </tr>\n",
       "  </thead>\n",
       "  <tbody>\n",
       "    <tr>\n",
       "      <th>10161</th>\n",
       "      <td>NC_000913.3</td>\n",
       "      <td>RefSeq</td>\n",
       "      <td>CDS</td>\n",
       "      <td>4636696</td>\n",
       "      <td>4638120</td>\n",
       "      <td>.</td>\n",
       "      <td>+</td>\n",
       "      <td>0</td>\n",
       "      <td>ID=cds-NP_418816.1;Parent=gene-b4399;Dbxref=Un...</td>\n",
       "      <td>ATGCGTATCGGCATGCGGTTGTTGCTGGGCTATTTTTTACTGGTGG...</td>\n",
       "      <td>TATAGCCTGAGGGGCCTGTA</td>\n",
       "      <td>-5.90</td>\n",
       "    </tr>\n",
       "    <tr>\n",
       "      <th>10163</th>\n",
       "      <td>NC_000913.3</td>\n",
       "      <td>RefSeq</td>\n",
       "      <td>CDS</td>\n",
       "      <td>4638178</td>\n",
       "      <td>4639530</td>\n",
       "      <td>.</td>\n",
       "      <td>+</td>\n",
       "      <td>0</td>\n",
       "      <td>ID=cds-NP_418817.1;Parent=gene-b4400;Dbxref=Un...</td>\n",
       "      <td>ATGTTGAAATCCCCCCTGTTCTGGAAAATGACTAGCCTGTTTGGTG...</td>\n",
       "      <td>CCATTGCAAAGGAGAAGACT</td>\n",
       "      <td>-7.23</td>\n",
       "    </tr>\n",
       "    <tr>\n",
       "      <th>10165</th>\n",
       "      <td>NC_000913.3</td>\n",
       "      <td>RefSeq</td>\n",
       "      <td>CDS</td>\n",
       "      <td>4639590</td>\n",
       "      <td>4640306</td>\n",
       "      <td>.</td>\n",
       "      <td>-</td>\n",
       "      <td>0</td>\n",
       "      <td>ID=cds-NP_418818.1;Parent=gene-b4401;Dbxref=Un...</td>\n",
       "      <td>ATGCAGACCCCGCACATTCTTATCGTTGAAGACGAGTTGGTAACAC...</td>\n",
       "      <td>TGGCAATTTAGGTAGCAAAC</td>\n",
       "      <td>-3.30</td>\n",
       "    </tr>\n",
       "    <tr>\n",
       "      <th>10167</th>\n",
       "      <td>NC_000913.3</td>\n",
       "      <td>RefSeq</td>\n",
       "      <td>CDS</td>\n",
       "      <td>4640402</td>\n",
       "      <td>4640542</td>\n",
       "      <td>.</td>\n",
       "      <td>+</td>\n",
       "      <td>0</td>\n",
       "      <td>ID=cds-NP_418819.1;Parent=gene-b4402;Dbxref=Un...</td>\n",
       "      <td>ATGACTAAAGTACGTAATTGCGTTCTTGATGCACTTTCCATCAACG...</td>\n",
       "      <td>ATTAACATGATCGGCGTAAC</td>\n",
       "      <td>-0.34</td>\n",
       "    </tr>\n",
       "    <tr>\n",
       "      <th>10169</th>\n",
       "      <td>NC_000913.3</td>\n",
       "      <td>RefSeq</td>\n",
       "      <td>CDS</td>\n",
       "      <td>4640942</td>\n",
       "      <td>4641628</td>\n",
       "      <td>.</td>\n",
       "      <td>+</td>\n",
       "      <td>0</td>\n",
       "      <td>ID=cds-NP_418820.1;Parent=gene-b4403;Dbxref=Un...</td>\n",
       "      <td>ATGCGTATAACGATTATTCTGGTCGCACCCGCCAGAGCAGAAAATA...</td>\n",
       "      <td>TGATCAAGAAGAGTGGCAAT</td>\n",
       "      <td>-0.55</td>\n",
       "    </tr>\n",
       "  </tbody>\n",
       "</table>\n",
       "</div>"
      ],
      "text/plain": [
       "         genome_id  source type    start     stop idk strand trash  \\\n",
       "10161  NC_000913.3  RefSeq  CDS  4636696  4638120   .      +     0   \n",
       "10163  NC_000913.3  RefSeq  CDS  4638178  4639530   .      +     0   \n",
       "10165  NC_000913.3  RefSeq  CDS  4639590  4640306   .      -     0   \n",
       "10167  NC_000913.3  RefSeq  CDS  4640402  4640542   .      +     0   \n",
       "10169  NC_000913.3  RefSeq  CDS  4640942  4641628   .      +     0   \n",
       "\n",
       "                                              qualifiers  \\\n",
       "10161  ID=cds-NP_418816.1;Parent=gene-b4399;Dbxref=Un...   \n",
       "10163  ID=cds-NP_418817.1;Parent=gene-b4400;Dbxref=Un...   \n",
       "10165  ID=cds-NP_418818.1;Parent=gene-b4401;Dbxref=Un...   \n",
       "10167  ID=cds-NP_418819.1;Parent=gene-b4402;Dbxref=Un...   \n",
       "10169  ID=cds-NP_418820.1;Parent=gene-b4403;Dbxref=Un...   \n",
       "\n",
       "                                         coding_sequence  \\\n",
       "10161  ATGCGTATCGGCATGCGGTTGTTGCTGGGCTATTTTTTACTGGTGG...   \n",
       "10163  ATGTTGAAATCCCCCCTGTTCTGGAAAATGACTAGCCTGTTTGGTG...   \n",
       "10165  ATGCAGACCCCGCACATTCTTATCGTTGAAGACGAGTTGGTAACAC...   \n",
       "10167  ATGACTAAAGTACGTAATTGCGTTCTTGATGCACTTTCCATCAACG...   \n",
       "10169  ATGCGTATAACGATTATTCTGGTCGCACCCGCCAGAGCAGAAAATA...   \n",
       "\n",
       "          upstream_sequence  energy_binding  \n",
       "10161  TATAGCCTGAGGGGCCTGTA           -5.90  \n",
       "10163  CCATTGCAAAGGAGAAGACT           -7.23  \n",
       "10165  TGGCAATTTAGGTAGCAAAC           -3.30  \n",
       "10167  ATTAACATGATCGGCGTAAC           -0.34  \n",
       "10169  TGATCAAGAAGAGTGGCAAT           -0.55  "
      ]
     },
     "execution_count": 10,
     "metadata": {},
     "output_type": "execute_result"
    }
   ],
   "source": [
    "# for upstream in new_df[\"upstream_sequence\"][:10]:\n",
    "#     test_string = upstream.replace(\"T\", \"U\")\n",
    "#     energy = energy_dict[test_string[9:15]]\n",
    "    \n",
    "#     new_df.at[upstream, \"energy_binding\"] = energy\n",
    "\n",
    "# new_df.head(10)   \n",
    "\n",
    "for index in new_df.index:\n",
    "    upstream = new_df.loc[index,\"upstream_sequence\"]\n",
    "    test_string = upstream.replace(\"T\", \"U\")\n",
    "    energy = energy_dict[test_string[9:15]]\n",
    "    \n",
    "    new_df.at[index, \"energy_binding\"] = energy\n",
    "\n",
    "new_df.tail()"
   ]
  },
  {
   "cell_type": "code",
   "execution_count": 11,
   "metadata": {},
   "outputs": [
    {
     "data": {
      "text/plain": [
       "<matplotlib.axes._subplots.AxesSubplot at 0x11b542128>"
      ]
     },
     "execution_count": 11,
     "metadata": {},
     "output_type": "execute_result"
    },
    {
     "data": {
      "image/png": "[encoded data removed]",
      "text/plain": [
       "<Figure size 432x288 with 1 Axes>"
      ]
     },
     "metadata": {
      "needs_background": "light"
     },
     "output_type": "display_data"
    }
   ],
   "source": [
    "new_df[\"energy_binding\"].hist()"
   ]
  },
  {
   "cell_type": "code",
   "execution_count": 12,
   "metadata": {},
   "outputs": [
    {
     "data": {
      "text/plain": [
       "(array([  70.,  130.,  218.,  246.,  248.,  203.,  400.,  297.,  370.,\n",
       "        2197.]),\n",
       " array([-8.83 , -7.947, -7.064, -6.181, -5.298, -4.415, -3.532, -2.649,\n",
       "        -1.766, -0.883, -0.   ]),\n",
       " <a list of 10 Patch objects>)"
      ]
     },
     "execution_count": 12,
     "metadata": {},
     "output_type": "execute_result"
    },
    {
     "data": {
      "image/png": "[encoded data removed]",
      "text/plain": [
       "<Figure size 432x288 with 1 Axes>"
      ]
     },
     "metadata": {
      "needs_background": "light"
     },
     "output_type": "display_data"
    }
   ],
   "source": [
    "fig, ax = plt.subplots()\n",
    "ax.hist(new_df[\"energy_binding\"])"
   ]
  },
  {
   "cell_type": "code",
   "execution_count": null,
   "metadata": {},
   "outputs": [],
   "source": []
  },
  {
   "cell_type": "code",
   "execution_count": null,
   "metadata": {},
   "outputs": [],
   "source": []
  },
  {
   "cell_type": "code",
   "execution_count": null,
   "metadata": {},
   "outputs": [],
   "source": []
  },
  {
   "cell_type": "code",
   "execution_count": null,
   "metadata": {},
   "outputs": [],
   "source": [
    "test_string = 'TTACAGAGTACACAACATCC'\n",
    "\n"
   ]
  },
  {
   "cell_type": "code",
   "execution_count": null,
   "metadata": {},
   "outputs": [],
   "source": []
  },
  {
   "cell_type": "code",
   "execution_count": 13,
   "metadata": {},
   "outputs": [],
   "source": [
    "for index in new_df.index:\n",
    "    upstream = new_df.loc[index,\"upstream_sequence\"]\n",
    "    test_string = upstream.replace(\"T\", \"U\")\n",
    "    energy_4gap = energy_dict[test_string[10:16]]\n",
    "    energy_5gap = energy_dict[test_string[9:15]]\n",
    "    energy_6gap = energy_dict[test_string[8:14]]\n",
    "    energy_7gap = energy_dict[test_string[7:13]]\n",
    "    \n",
    "    #print(min(energy_4gap,energy_5gap,energy_6gap,energy_7gap))\n",
    "    new_df.at[index, \"energy_binding\"] = min(energy_4gap,energy_5gap,energy_6gap,energy_7gap)\n",
    "    "
   ]
  },
  {
   "cell_type": "code",
   "execution_count": null,
   "metadata": {},
   "outputs": [],
   "source": [
    "new_df.head(10)"
   ]
  },
  {
   "cell_type": "code",
   "execution_count": 14,
   "metadata": {},
   "outputs": [
    {
     "data": {
      "text/plain": [
       "(array([266., 384., 653., 740., 509., 489., 405., 255., 376., 302.]),\n",
       " array([-8.83 , -7.948, -7.066, -6.184, -5.302, -4.42 , -3.538, -2.656,\n",
       "        -1.774, -0.892, -0.01 ]),\n",
       " <a list of 10 Patch objects>)"
      ]
     },
     "execution_count": 14,
     "metadata": {},
     "output_type": "execute_result"
    },
    {
     "data": {
      "image/png": "[encoded data removed]",
      "text/plain": [
       "<Figure size 432x288 with 1 Axes>"
      ]
     },
     "metadata": {
      "needs_background": "light"
     },
     "output_type": "display_data"
    }
   ],
   "source": [
    "fig, ax = plt.subplots()\n",
    "ax.hist(new_df[\"energy_binding\"])"
   ]
  },
  {
   "cell_type": "code",
   "execution_count": null,
   "metadata": {},
   "outputs": [],
   "source": []
  },
  {
   "cell_type": "code",
   "execution_count": null,
   "metadata": {},
   "outputs": [],
   "source": []
  },
  {
   "cell_type": "code",
   "execution_count": null,
   "metadata": {},
   "outputs": [],
   "source": [
    "list(range(4,7))"
   ]
  },
  {
   "cell_type": "code",
   "execution_count": null,
   "metadata": {},
   "outputs": [],
   "source": [
    "gaps = (4,7)\n",
    "for index in new_df.index:\n",
    "    upstream = new_df.loc[index,\"upstream_sequence\"]\n",
    "    test_string = upstream.replace(\"T\", \"U\")\n",
    "    energy_list = []\n",
    "    for gap in range(gaps[0],gaps[1]+1):\n",
    "         energy_list.append(energy_dict[test_string[-gap - 6: -gap]])\n",
    "    \n",
    "    #print(min(energy_4gap,energy_5gap,energy_6gap,energy_7gap))\n",
    "    new_df.at[index, \"energy_binding\"] = min(energy_list)\n",
    "new_df.tail()"
   ]
  },
  {
   "cell_type": "code",
   "execution_count": null,
   "metadata": {},
   "outputs": [],
   "source": [
    "gap = 4\n",
    "test_string = \"TTACAGAGTACACAACATCC\"\n",
    "\n",
    "print(test_string[10:16], test_string[-gap - 6:-gap])"
   ]
  },
  {
   "cell_type": "markdown",
   "metadata": {},
   "source": [
    "# Compiled useful stuff into recreatable function"
   ]
  },
  {
   "cell_type": "code",
   "execution_count": 4,
   "metadata": {},
   "outputs": [],
   "source": [
    "def analyze_genome(dataframe, energy_dict, gaps = (4,7)):\n",
    "    \n",
    "    for index in dataframe.index:\n",
    "        upstream = dataframe.loc[index,\"upstream_sequence\"]\n",
    "        test_string = upstream.replace(\"T\", \"U\")\n",
    "        energy_list = []\n",
    "        for gap in range(gaps[0],gaps[1]+1):\n",
    "             energy_list.append(energy_dict[test_string[-gap - 6: -gap]])\n",
    "\n",
    "        dataframe.at[index, \"energy_binding\"] = min(energy_list)\n",
    "    return dataframe\n"
   ]
  },
  {
   "cell_type": "code",
   "execution_count": 5,
   "metadata": {},
   "outputs": [],
   "source": [
    "with open('../Data/examples_for_testing/energyRef_CCUCCU_mfe.json', 'r') as infile:\n",
    "       energy_dict = json.load(infile)\n",
    "\n",
    "\n",
    "host_df, host_genome = gff3_parsing.compile_sequences(\"../Data/examples_for_testing/ecoli.gff3\",\\\n",
    "                                                    \"../Data/examples_for_testing/ecoli.fasta\", 20)\n",
    "\n",
    "viral_df, viral_genome = gff3_parsing.compile_sequences(\"../Data/examples_for_testing/example_virus_PRODIGAL.gff3\",\\\n",
    "                                                    \"../Data/examples_for_testing/example_virus.fasta\", 20)"
   ]
  },
  {
   "cell_type": "code",
   "execution_count": 7,
   "metadata": {},
   "outputs": [],
   "source": [
    "host_df = analyze_genome(host_df, energy_dict)\n",
    "viral_df = analyze_genome(viral_df, energy_dict)"
   ]
  },
  {
   "cell_type": "code",
   "execution_count": null,
   "metadata": {},
   "outputs": [],
   "source": []
  },
  {
   "cell_type": "code",
   "execution_count": 12,
   "metadata": {},
   "outputs": [
    {
     "data": {
      "text/plain": [
       "(array([0.06887127, 0.09942319, 0.16907121, 0.19159677, 0.13178751,\n",
       "        0.12660922, 0.1048604 , 0.06602321, 0.09735187, 0.0781922 ]),\n",
       " array([-8.83 , -7.948, -7.066, -6.184, -5.302, -4.42 , -3.538, -2.656,\n",
       "        -1.774, -0.892, -0.01 ]),\n",
       " <a list of 10 Patch objects>)"
      ]
     },
     "execution_count": 12,
     "metadata": {},
     "output_type": "execute_result"
    },
    {
     "data": {
      "image/png": "[encoded data removed]",
      "text/plain": [
       "<Figure size 432x288 with 1 Axes>"
      ]
     },
     "metadata": {
      "needs_background": "light"
     },
     "output_type": "display_data"
    }
   ],
   "source": [
    "fig, ax = plt.subplots()\n",
    "ax.hist(host_df[\"energy_binding\"],10, density = True, alpha = 0.5)\n",
    "#ax.hist(viral_df[\"energy_binding\"],10,density= True, alpha = 0.5)"
   ]
  },
  {
   "cell_type": "code",
   "execution_count": 33,
   "metadata": {},
   "outputs": [
    {
     "name": "stdout",
     "output_type": "stream",
     "text": [
      "-4.669607216259407 -5.203190476190477\n",
      "-4.59 -5.505000000000001\n"
     ]
    }
   ],
   "source": [
    "print(np.mean(host_df[\"energy_binding\"]), np.mean(viral_df[\"energy_binding\"]))\n",
    "\n",
    "print(np.median(host_df[\"energy_binding\"]), np.median(viral_df[\"energy_binding\"]))"
   ]
  },
  {
   "cell_type": "code",
   "execution_count": 10,
   "metadata": {},
   "outputs": [],
   "source": [
    "from scipy import stats"
   ]
  },
  {
   "cell_type": "code",
   "execution_count": 11,
   "metadata": {},
   "outputs": [
    {
     "data": {
      "text/plain": [
       "RanksumsResult(statistic=3.2504715327858205, pvalue=0.0011521380249587816)"
      ]
     },
     "execution_count": 11,
     "metadata": {},
     "output_type": "execute_result"
    }
   ],
   "source": [
    "stats.ttest_ind(host_df[\"energy_binding\"], viral_df[\"energy_binding\"])\n",
    "\n",
    "stats.ranksums(host_df[\"energy_binding\"], viral_df[\"energy_binding\"])"
   ]
  },
  {
   "cell_type": "code",
   "execution_count": 16,
   "metadata": {},
   "outputs": [
    {
     "data": {
      "text/plain": [
       "str"
      ]
     },
     "execution_count": 16,
     "metadata": {},
     "output_type": "execute_result"
    }
   ],
   "source": [
    "type(viral_df[\"genome_id\"][0])"
   ]
  },
  {
   "cell_type": "code",
   "execution_count": 12,
   "metadata": {},
   "outputs": [],
   "source": [
    "viral_df.to_csv(\"virus_dataframe.tsv\", sep = \"\\t\")"
   ]
  },
  {
   "cell_type": "code",
   "execution_count": 10,
   "metadata": {},
   "outputs": [],
   "source": [
    "host_df.to_csv(\"host_dataframe.tsv\", sep = \"\\t\")"
   ]
  },
  {
   "cell_type": "code",
   "execution_count": null,
   "metadata": {},
   "outputs": [],
   "source": []
  },
  {
   "cell_type": "code",
   "execution_count": null,
   "metadata": {},
   "outputs": [],
   "source": []
  },
  {
   "cell_type": "code",
   "execution_count": null,
   "metadata": {},
   "outputs": [],
   "source": []
  },
  {
   "cell_type": "code",
   "execution_count": 20,
   "metadata": {},
   "outputs": [],
   "source": []
  },
  {
   "cell_type": "code",
   "execution_count": 21,
   "metadata": {},
   "outputs": [
    {
     "data": {
      "text/html": [
       "<div>\n",
       "<style scoped>\n",
       "    .dataframe tbody tr th:only-of-type {\n",
       "        vertical-align: middle;\n",
       "    }\n",
       "\n",
       "    .dataframe tbody tr th {\n",
       "        vertical-align: top;\n",
       "    }\n",
       "\n",
       "    .dataframe thead th {\n",
       "        text-align: right;\n",
       "    }\n",
       "</style>\n",
       "<table border=\"1\" class=\"dataframe\">\n",
       "  <thead>\n",
       "    <tr style=\"text-align: right;\">\n",
       "      <th></th>\n",
       "      <th>genome_id</th>\n",
       "      <th>source</th>\n",
       "      <th>type</th>\n",
       "      <th>start</th>\n",
       "      <th>stop</th>\n",
       "      <th>idk</th>\n",
       "      <th>strand</th>\n",
       "      <th>trash</th>\n",
       "      <th>qualifiers</th>\n",
       "      <th>coding_sequence</th>\n",
       "      <th>upstream_sequence</th>\n",
       "      <th>energy_binding</th>\n",
       "    </tr>\n",
       "  </thead>\n",
       "  <tbody>\n",
       "    <tr>\n",
       "      <th>0</th>\n",
       "      <td>183</td>\n",
       "      <td>Prodigal_v2.6.3</td>\n",
       "      <td>CDS</td>\n",
       "      <td>3</td>\n",
       "      <td>524</td>\n",
       "      <td>71.9</td>\n",
       "      <td>-</td>\n",
       "      <td>0</td>\n",
       "      <td>ID=1_1;partial=10;start_type=ATG;rbs_motif=AGG...</td>\n",
       "      <td>ATGATGTCTTTTGAAATCAAAGAATGGTTTAATGCGAAAGAGCTGG...</td>\n",
       "      <td>TGAAATCGCTAGGATTTTAA</td>\n",
       "      <td>-4.41</td>\n",
       "    </tr>\n",
       "    <tr>\n",
       "      <th>1</th>\n",
       "      <td>183</td>\n",
       "      <td>Prodigal_v2.6.3</td>\n",
       "      <td>CDS</td>\n",
       "      <td>710</td>\n",
       "      <td>931</td>\n",
       "      <td>6.0</td>\n",
       "      <td>+</td>\n",
       "      <td>0</td>\n",
       "      <td>ID=1_2;partial=00;start_type=ATG;rbs_motif=AGG...</td>\n",
       "      <td>ATGCATATGAATAAAAGAACTAACCGCCAAGATTGGCACAGAGCTG...</td>\n",
       "      <td>ATCTGAAAGGATTACATGAA</td>\n",
       "      <td>-4.41</td>\n",
       "    </tr>\n",
       "    <tr>\n",
       "      <th>2</th>\n",
       "      <td>183</td>\n",
       "      <td>Prodigal_v2.6.3</td>\n",
       "      <td>CDS</td>\n",
       "      <td>939</td>\n",
       "      <td>2927</td>\n",
       "      <td>251.9</td>\n",
       "      <td>+</td>\n",
       "      <td>0</td>\n",
       "      <td>ID=1_3;partial=00;start_type=ATG;rbs_motif=GGA...</td>\n",
       "      <td>ATGAAAGAATGGTATACAGCAAAAGAGTTGCTCGGTTTGGCAGGTT...</td>\n",
       "      <td>GTCTCGATACTAGGTGCGCT</td>\n",
       "      <td>-2.60</td>\n",
       "    </tr>\n",
       "    <tr>\n",
       "      <th>3</th>\n",
       "      <td>183</td>\n",
       "      <td>Prodigal_v2.6.3</td>\n",
       "      <td>CDS</td>\n",
       "      <td>2966</td>\n",
       "      <td>3925</td>\n",
       "      <td>143.0</td>\n",
       "      <td>+</td>\n",
       "      <td>0</td>\n",
       "      <td>ID=1_4;partial=00;start_type=ATG;rbs_motif=GGA...</td>\n",
       "      <td>ATGAATATTTCCGATATTCGCGCAGGACTGCGCACGCTTGTAGACA...</td>\n",
       "      <td>TTAATTACGAGGTTATTTAG</td>\n",
       "      <td>-2.83</td>\n",
       "    </tr>\n",
       "    <tr>\n",
       "      <th>4</th>\n",
       "      <td>183</td>\n",
       "      <td>Prodigal_v2.6.3</td>\n",
       "      <td>CDS</td>\n",
       "      <td>3922</td>\n",
       "      <td>4149</td>\n",
       "      <td>18.4</td>\n",
       "      <td>+</td>\n",
       "      <td>0</td>\n",
       "      <td>ID=1_5;partial=00;start_type=ATG;rbs_motif=GGA...</td>\n",
       "      <td>ATGATGTCACGGAATATCAAAATGGCAACGGAAGTAAAGAGCTGGT...</td>\n",
       "      <td>GTGCAAGGGGATGCTGAATC</td>\n",
       "      <td>-5.53</td>\n",
       "    </tr>\n",
       "    <tr>\n",
       "      <th>5</th>\n",
       "      <td>183</td>\n",
       "      <td>Prodigal_v2.6.3</td>\n",
       "      <td>CDS</td>\n",
       "      <td>4182</td>\n",
       "      <td>4451</td>\n",
       "      <td>53.6</td>\n",
       "      <td>+</td>\n",
       "      <td>0</td>\n",
       "      <td>ID=1_6;partial=00;start_type=ATG;rbs_motif=GGA...</td>\n",
       "      <td>ATGGCAAAAGTAATCTTTGAATTTAACCGCATGGAAGATGTTGAGT...</td>\n",
       "      <td>TATTTGTGAGGAATAACAAA</td>\n",
       "      <td>-4.48</td>\n",
       "    </tr>\n",
       "    <tr>\n",
       "      <th>6</th>\n",
       "      <td>183</td>\n",
       "      <td>Prodigal_v2.6.3</td>\n",
       "      <td>CDS</td>\n",
       "      <td>4472</td>\n",
       "      <td>4891</td>\n",
       "      <td>59.0</td>\n",
       "      <td>+</td>\n",
       "      <td>0</td>\n",
       "      <td>ID=1_7;partial=00;start_type=ATG;rbs_motif=AGG...</td>\n",
       "      <td>ATGAAAGCCAAAATCAGAAACGAAATTCAGGCATTAATTCGGATTA...</td>\n",
       "      <td>TTCGCAAAGGAACGCTGACA</td>\n",
       "      <td>-4.48</td>\n",
       "    </tr>\n",
       "    <tr>\n",
       "      <th>7</th>\n",
       "      <td>183</td>\n",
       "      <td>Prodigal_v2.6.3</td>\n",
       "      <td>CDS</td>\n",
       "      <td>4908</td>\n",
       "      <td>5195</td>\n",
       "      <td>37.8</td>\n",
       "      <td>+</td>\n",
       "      <td>0</td>\n",
       "      <td>ID=1_8;partial=00;start_type=ATG;rbs_motif=GGA...</td>\n",
       "      <td>ATGATAATCCCTCGCAAAAGATGGTCACGTGAAGACCGGGAATTTA...</td>\n",
       "      <td>CTGATAAGGAGGGCATCATC</td>\n",
       "      <td>-4.36</td>\n",
       "    </tr>\n",
       "    <tr>\n",
       "      <th>8</th>\n",
       "      <td>183</td>\n",
       "      <td>Prodigal_v2.6.3</td>\n",
       "      <td>CDS</td>\n",
       "      <td>5216</td>\n",
       "      <td>5740</td>\n",
       "      <td>95.7</td>\n",
       "      <td>+</td>\n",
       "      <td>0</td>\n",
       "      <td>ID=1_9;partial=00;start_type=ATG;rbs_motif=AGG...</td>\n",
       "      <td>ATGGCTAAACCAGCAAAACGAATCAGGAATGCCGCAGCAGCTTATG...</td>\n",
       "      <td>TTAACAGGAGCTTTATTTAT</td>\n",
       "      <td>-0.22</td>\n",
       "    </tr>\n",
       "    <tr>\n",
       "      <th>9</th>\n",
       "      <td>183</td>\n",
       "      <td>Prodigal_v2.6.3</td>\n",
       "      <td>CDS</td>\n",
       "      <td>5839</td>\n",
       "      <td>6381</td>\n",
       "      <td>50.2</td>\n",
       "      <td>+</td>\n",
       "      <td>0</td>\n",
       "      <td>ID=1_10;partial=00;start_type=ATG;rbs_motif=GG...</td>\n",
       "      <td>ATGATTAATACAAAAGTTCTGAGCGGCGTCAGCACATTATTACAGG...</td>\n",
       "      <td>TGATATACGGGATATAAAAA</td>\n",
       "      <td>-4.54</td>\n",
       "    </tr>\n",
       "    <tr>\n",
       "      <th>10</th>\n",
       "      <td>183</td>\n",
       "      <td>Prodigal_v2.6.3</td>\n",
       "      <td>CDS</td>\n",
       "      <td>6374</td>\n",
       "      <td>6556</td>\n",
       "      <td>10.6</td>\n",
       "      <td>+</td>\n",
       "      <td>0</td>\n",
       "      <td>ID=1_11;partial=00;start_type=ATG;rbs_motif=AG...</td>\n",
       "      <td>ATGATTAAGTCAACTGGCTTTGTCCTGCTGGTTGGCACCTGCGGGA...</td>\n",
       "      <td>AACACAGGAAGTCAGTGAAC</td>\n",
       "      <td>-0.78</td>\n",
       "    </tr>\n",
       "    <tr>\n",
       "      <th>11</th>\n",
       "      <td>183</td>\n",
       "      <td>Prodigal_v2.6.3</td>\n",
       "      <td>CDS</td>\n",
       "      <td>6549</td>\n",
       "      <td>6875</td>\n",
       "      <td>51.2</td>\n",
       "      <td>+</td>\n",
       "      <td>0</td>\n",
       "      <td>ID=1_12;partial=00;start_type=ATG;rbs_motif=GG...</td>\n",
       "      <td>ATGAATAAACCAGAGAATAAAGAAATGAAATTCACACCAGTTGATA...</td>\n",
       "      <td>TTGCGAAGAGGTATTACGAA</td>\n",
       "      <td>-2.96</td>\n",
       "    </tr>\n",
       "    <tr>\n",
       "      <th>12</th>\n",
       "      <td>183</td>\n",
       "      <td>Prodigal_v2.6.3</td>\n",
       "      <td>CDS</td>\n",
       "      <td>6802</td>\n",
       "      <td>7068</td>\n",
       "      <td>20.6</td>\n",
       "      <td>-</td>\n",
       "      <td>0</td>\n",
       "      <td>ID=1_13;partial=00;start_type=ATG;rbs_motif=GG...</td>\n",
       "      <td>ATGAAAAACAGTGAACAGCCTTATGATGTTGCAGGGTATGTCATTG...</td>\n",
       "      <td>CTAAACAGAGGAAACTTTTT</td>\n",
       "      <td>-4.59</td>\n",
       "    </tr>\n",
       "    <tr>\n",
       "      <th>13</th>\n",
       "      <td>183</td>\n",
       "      <td>Prodigal_v2.6.3</td>\n",
       "      <td>CDS</td>\n",
       "      <td>7142</td>\n",
       "      <td>7693</td>\n",
       "      <td>58.3</td>\n",
       "      <td>+</td>\n",
       "      <td>0</td>\n",
       "      <td>ID=1_14;partial=00;start_type=ATG;rbs_motif=GG...</td>\n",
       "      <td>ATGAATCGCACATCCCTGATTAAATTAATTCATGTCGCCCGTCGTG...</td>\n",
       "      <td>CCTTTTCTGGAGGTACGATA</td>\n",
       "      <td>-8.53</td>\n",
       "    </tr>\n",
       "    <tr>\n",
       "      <th>14</th>\n",
       "      <td>183</td>\n",
       "      <td>Prodigal_v2.6.3</td>\n",
       "      <td>CDS</td>\n",
       "      <td>7690</td>\n",
       "      <td>8139</td>\n",
       "      <td>70.6</td>\n",
       "      <td>+</td>\n",
       "      <td>0</td>\n",
       "      <td>ID=1_15;partial=00;start_type=ATG;rbs_motif=GG...</td>\n",
       "      <td>ATGAAACAGATGAAAGAGCAGGATTTATTCGAAGACCTTCGGGACG...</td>\n",
       "      <td>AACAGCGGGAGAATTGCTGT</td>\n",
       "      <td>-1.25</td>\n",
       "    </tr>\n",
       "    <tr>\n",
       "      <th>15</th>\n",
       "      <td>183</td>\n",
       "      <td>Prodigal_v2.6.3</td>\n",
       "      <td>CDS</td>\n",
       "      <td>8225</td>\n",
       "      <td>8821</td>\n",
       "      <td>98.5</td>\n",
       "      <td>+</td>\n",
       "      <td>0</td>\n",
       "      <td>ID=1_16;partial=00;start_type=ATG;rbs_motif=GG...</td>\n",
       "      <td>ATGGAAAATCAAAAATTCTCCCCGGCCTTTGAACATGCGCTGAATT...</td>\n",
       "      <td>TCTGCTTCACAGGTGCTTTT</td>\n",
       "      <td>-5.21</td>\n",
       "    </tr>\n",
       "    <tr>\n",
       "      <th>16</th>\n",
       "      <td>183</td>\n",
       "      <td>Prodigal_v2.6.3</td>\n",
       "      <td>CDS</td>\n",
       "      <td>8823</td>\n",
       "      <td>9074</td>\n",
       "      <td>15.1</td>\n",
       "      <td>+</td>\n",
       "      <td>0</td>\n",
       "      <td>ID=1_17;partial=00;start_type=ATG;rbs_motif=No...</td>\n",
       "      <td>ATGGGCAAAGGCTGGGATGCCTCTCTGAAAGCCGGGCGGCGCGACC...</td>\n",
       "      <td>GTCCGCCACGCGGGGGTGAT</td>\n",
       "      <td>-7.76</td>\n",
       "    </tr>\n",
       "    <tr>\n",
       "      <th>17</th>\n",
       "      <td>183</td>\n",
       "      <td>Prodigal_v2.6.3</td>\n",
       "      <td>CDS</td>\n",
       "      <td>9034</td>\n",
       "      <td>9459</td>\n",
       "      <td>14.1</td>\n",
       "      <td>+</td>\n",
       "      <td>0</td>\n",
       "      <td>ID=1_18;partial=00;start_type=ATG;rbs_motif=GG...</td>\n",
       "      <td>ATGTGGAAAAAGGTTATGAACAAAATTTTAAAACTGTGTGACTGGC...</td>\n",
       "      <td>GAAGTACAGGGAAAAATTCA</td>\n",
       "      <td>-4.59</td>\n",
       "    </tr>\n",
       "    <tr>\n",
       "      <th>18</th>\n",
       "      <td>183</td>\n",
       "      <td>Prodigal_v2.6.3</td>\n",
       "      <td>CDS</td>\n",
       "      <td>9447</td>\n",
       "      <td>10055</td>\n",
       "      <td>79.9</td>\n",
       "      <td>+</td>\n",
       "      <td>0</td>\n",
       "      <td>ID=1_19;partial=00;start_type=GTG;rbs_motif=GG...</td>\n",
       "      <td>GTGGATCCGTTAACCCTTTCAGGCATCGCCTCCGTTCTGCTGAAAG...</td>\n",
       "      <td>TATCTGTATGGAGGTTTCCC</td>\n",
       "      <td>-8.53</td>\n",
       "    </tr>\n",
       "    <tr>\n",
       "      <th>19</th>\n",
       "      <td>183</td>\n",
       "      <td>Prodigal_v2.6.3</td>\n",
       "      <td>CDS</td>\n",
       "      <td>10052</td>\n",
       "      <td>10279</td>\n",
       "      <td>20.0</td>\n",
       "      <td>+</td>\n",
       "      <td>0</td>\n",
       "      <td>ID=1_20;partial=00;start_type=ATG;rbs_motif=No...</td>\n",
       "      <td>ATGACCGATGAAATCGACCGCATCAGTGAAGTGGTTCTGAACGAGC...</td>\n",
       "      <td>AAAATGTCTGCGGGGCTGAA</td>\n",
       "      <td>-5.73</td>\n",
       "    </tr>\n",
       "  </tbody>\n",
       "</table>\n",
       "</div>"
      ],
      "text/plain": [
       "   genome_id           source type  start   stop    idk strand  trash  \\\n",
       "0        183  Prodigal_v2.6.3  CDS      3    524   71.9      -      0   \n",
       "1        183  Prodigal_v2.6.3  CDS    710    931    6.0      +      0   \n",
       "2        183  Prodigal_v2.6.3  CDS    939   2927  251.9      +      0   \n",
       "3        183  Prodigal_v2.6.3  CDS   2966   3925  143.0      +      0   \n",
       "4        183  Prodigal_v2.6.3  CDS   3922   4149   18.4      +      0   \n",
       "5        183  Prodigal_v2.6.3  CDS   4182   4451   53.6      +      0   \n",
       "6        183  Prodigal_v2.6.3  CDS   4472   4891   59.0      +      0   \n",
       "7        183  Prodigal_v2.6.3  CDS   4908   5195   37.8      +      0   \n",
       "8        183  Prodigal_v2.6.3  CDS   5216   5740   95.7      +      0   \n",
       "9        183  Prodigal_v2.6.3  CDS   5839   6381   50.2      +      0   \n",
       "10       183  Prodigal_v2.6.3  CDS   6374   6556   10.6      +      0   \n",
       "11       183  Prodigal_v2.6.3  CDS   6549   6875   51.2      +      0   \n",
       "12       183  Prodigal_v2.6.3  CDS   6802   7068   20.6      -      0   \n",
       "13       183  Prodigal_v2.6.3  CDS   7142   7693   58.3      +      0   \n",
       "14       183  Prodigal_v2.6.3  CDS   7690   8139   70.6      +      0   \n",
       "15       183  Prodigal_v2.6.3  CDS   8225   8821   98.5      +      0   \n",
       "16       183  Prodigal_v2.6.3  CDS   8823   9074   15.1      +      0   \n",
       "17       183  Prodigal_v2.6.3  CDS   9034   9459   14.1      +      0   \n",
       "18       183  Prodigal_v2.6.3  CDS   9447  10055   79.9      +      0   \n",
       "19       183  Prodigal_v2.6.3  CDS  10052  10279   20.0      +      0   \n",
       "\n",
       "                                           qualifiers  \\\n",
       "0   ID=1_1;partial=10;start_type=ATG;rbs_motif=AGG...   \n",
       "1   ID=1_2;partial=00;start_type=ATG;rbs_motif=AGG...   \n",
       "2   ID=1_3;partial=00;start_type=ATG;rbs_motif=GGA...   \n",
       "3   ID=1_4;partial=00;start_type=ATG;rbs_motif=GGA...   \n",
       "4   ID=1_5;partial=00;start_type=ATG;rbs_motif=GGA...   \n",
       "5   ID=1_6;partial=00;start_type=ATG;rbs_motif=GGA...   \n",
       "6   ID=1_7;partial=00;start_type=ATG;rbs_motif=AGG...   \n",
       "7   ID=1_8;partial=00;start_type=ATG;rbs_motif=GGA...   \n",
       "8   ID=1_9;partial=00;start_type=ATG;rbs_motif=AGG...   \n",
       "9   ID=1_10;partial=00;start_type=ATG;rbs_motif=GG...   \n",
       "10  ID=1_11;partial=00;start_type=ATG;rbs_motif=AG...   \n",
       "11  ID=1_12;partial=00;start_type=ATG;rbs_motif=GG...   \n",
       "12  ID=1_13;partial=00;start_type=ATG;rbs_motif=GG...   \n",
       "13  ID=1_14;partial=00;start_type=ATG;rbs_motif=GG...   \n",
       "14  ID=1_15;partial=00;start_type=ATG;rbs_motif=GG...   \n",
       "15  ID=1_16;partial=00;start_type=ATG;rbs_motif=GG...   \n",
       "16  ID=1_17;partial=00;start_type=ATG;rbs_motif=No...   \n",
       "17  ID=1_18;partial=00;start_type=ATG;rbs_motif=GG...   \n",
       "18  ID=1_19;partial=00;start_type=GTG;rbs_motif=GG...   \n",
       "19  ID=1_20;partial=00;start_type=ATG;rbs_motif=No...   \n",
       "\n",
       "                                      coding_sequence     upstream_sequence  \\\n",
       "0   ATGATGTCTTTTGAAATCAAAGAATGGTTTAATGCGAAAGAGCTGG...  TGAAATCGCTAGGATTTTAA   \n",
       "1   ATGCATATGAATAAAAGAACTAACCGCCAAGATTGGCACAGAGCTG...  ATCTGAAAGGATTACATGAA   \n",
       "2   ATGAAAGAATGGTATACAGCAAAAGAGTTGCTCGGTTTGGCAGGTT...  GTCTCGATACTAGGTGCGCT   \n",
       "3   ATGAATATTTCCGATATTCGCGCAGGACTGCGCACGCTTGTAGACA...  TTAATTACGAGGTTATTTAG   \n",
       "4   ATGATGTCACGGAATATCAAAATGGCAACGGAAGTAAAGAGCTGGT...  GTGCAAGGGGATGCTGAATC   \n",
       "5   ATGGCAAAAGTAATCTTTGAATTTAACCGCATGGAAGATGTTGAGT...  TATTTGTGAGGAATAACAAA   \n",
       "6   ATGAAAGCCAAAATCAGAAACGAAATTCAGGCATTAATTCGGATTA...  TTCGCAAAGGAACGCTGACA   \n",
       "7   ATGATAATCCCTCGCAAAAGATGGTCACGTGAAGACCGGGAATTTA...  CTGATAAGGAGGGCATCATC   \n",
       "8   ATGGCTAAACCAGCAAAACGAATCAGGAATGCCGCAGCAGCTTATG...  TTAACAGGAGCTTTATTTAT   \n",
       "9   ATGATTAATACAAAAGTTCTGAGCGGCGTCAGCACATTATTACAGG...  TGATATACGGGATATAAAAA   \n",
       "10  ATGATTAAGTCAACTGGCTTTGTCCTGCTGGTTGGCACCTGCGGGA...  AACACAGGAAGTCAGTGAAC   \n",
       "11  ATGAATAAACCAGAGAATAAAGAAATGAAATTCACACCAGTTGATA...  TTGCGAAGAGGTATTACGAA   \n",
       "12  ATGAAAAACAGTGAACAGCCTTATGATGTTGCAGGGTATGTCATTG...  CTAAACAGAGGAAACTTTTT   \n",
       "13  ATGAATCGCACATCCCTGATTAAATTAATTCATGTCGCCCGTCGTG...  CCTTTTCTGGAGGTACGATA   \n",
       "14  ATGAAACAGATGAAAGAGCAGGATTTATTCGAAGACCTTCGGGACG...  AACAGCGGGAGAATTGCTGT   \n",
       "15  ATGGAAAATCAAAAATTCTCCCCGGCCTTTGAACATGCGCTGAATT...  TCTGCTTCACAGGTGCTTTT   \n",
       "16  ATGGGCAAAGGCTGGGATGCCTCTCTGAAAGCCGGGCGGCGCGACC...  GTCCGCCACGCGGGGGTGAT   \n",
       "17  ATGTGGAAAAAGGTTATGAACAAAATTTTAAAACTGTGTGACTGGC...  GAAGTACAGGGAAAAATTCA   \n",
       "18  GTGGATCCGTTAACCCTTTCAGGCATCGCCTCCGTTCTGCTGAAAG...  TATCTGTATGGAGGTTTCCC   \n",
       "19  ATGACCGATGAAATCGACCGCATCAGTGAAGTGGTTCTGAACGAGC...  AAAATGTCTGCGGGGCTGAA   \n",
       "\n",
       "    energy_binding  \n",
       "0            -4.41  \n",
       "1            -4.41  \n",
       "2            -2.60  \n",
       "3            -2.83  \n",
       "4            -5.53  \n",
       "5            -4.48  \n",
       "6            -4.48  \n",
       "7            -4.36  \n",
       "8            -0.22  \n",
       "9            -4.54  \n",
       "10           -0.78  \n",
       "11           -2.96  \n",
       "12           -4.59  \n",
       "13           -8.53  \n",
       "14           -1.25  \n",
       "15           -5.21  \n",
       "16           -7.76  \n",
       "17           -4.59  \n",
       "18           -8.53  \n",
       "19           -5.73  "
      ]
     },
     "execution_count": 21,
     "metadata": {},
     "output_type": "execute_result"
    }
   ],
   "source": [
    "viral_df.head(20)"
   ]
  },
  {
   "cell_type": "code",
   "execution_count": 22,
   "metadata": {},
   "outputs": [
    {
     "data": {
      "text/plain": [
       "(array([27., 24., 25., 35., 21., 17., 24., 14., 14.,  9.]),\n",
       " array([-8.83 , -7.961, -7.092, -6.223, -5.354, -4.485, -3.616, -2.747,\n",
       "        -1.878, -1.009, -0.14 ]),\n",
       " <a list of 10 Patch objects>)"
      ]
     },
     "execution_count": 22,
     "metadata": {},
     "output_type": "execute_result"
    },
    {
     "data": {
      "image/png": "[encoded data removed]",
      "text/plain": [
       "<Figure size 432x288 with 1 Axes>"
      ]
     },
     "metadata": {
      "needs_background": "light"
     },
     "output_type": "display_data"
    }
   ],
   "source": []
  },
  {
   "cell_type": "code",
   "execution_count": null,
   "metadata": {},
   "outputs": [],
   "source": []
  }
 ],
 "metadata": {
  "kernelspec": {
   "display_name": "Python 3",
   "language": "python",
   "name": "python3"
  },
  "language_info": {
   "codemirror_mode": {
    "name": "ipython",
    "version": 3
   },
   "file_extension": ".py",
   "mimetype": "text/x-python",
   "name": "python",
   "nbconvert_exporter": "python",
   "pygments_lexer": "ipython3",
   "version": "3.7.1"
  }
 },
 "nbformat": 4,
 "nbformat_minor": 2
}

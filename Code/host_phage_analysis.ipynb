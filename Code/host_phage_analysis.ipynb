{
 "cells": [
  {
   "cell_type": "code",
   "execution_count": 2,
   "metadata": {},
   "outputs": [],
   "source": [
    "%matplotlib inline\n",
    "%load_ext autoreload\n",
    "\n",
    "%autoreload 2"
   ]
  },
  {
   "cell_type": "code",
   "execution_count": 12,
   "metadata": {},
   "outputs": [],
   "source": [
    "import json\n",
    "import gff3_parsing\n",
    "from matplotlib import pyplot as plt\n",
    "import pandas as pd\n",
    "import numpy as np\n",
    "from scipy import stats\n",
    "import glob\n",
    "import statsmodels.stats.multitest as multi"
   ]
  },
  {
   "cell_type": "code",
   "execution_count": 23,
   "metadata": {},
   "outputs": [
    {
     "name": "stdout",
     "output_type": "stream",
     "text": [
      "(5727, 13)\n"
     ]
    }
   ],
   "source": [
    "host_id = 28450\n",
    "p_values = []\n",
    "viral_means = []\n",
    "\n",
    "host_df = pd.read_csv(\"../Data/host_genomes/{}.tsv\".format(host_id))\n",
    "host_mean = np.mean(host_df[\"energy_binding\"])\n",
    "print(host_df.shape)\n",
    "for tsv_file in glob.glob(\"../Data/{}_rep_viruses/*tsv\".format(host_id)):\n",
    "    viral_df = pd.read_csv(tsv_file, sep = \"\\t\")\n",
    "    \n",
    "    rstat, p_value = stats.ranksums(host_df[\"energy_binding\"], viral_df[\"energy_binding\"])\n",
    "    p_values.append(p_value)\n",
    "    viral_means.append(np.mean(viral_df[\"energy_binding\"]))"
   ]
  },
  {
   "cell_type": "code",
   "execution_count": 20,
   "metadata": {},
   "outputs": [
    {
     "name": "stdout",
     "output_type": "stream",
     "text": [
      "19 33 0.5757575757575758\n"
     ]
    }
   ],
   "source": [
    "significant_pvalues = []\n",
    "for p in p_values:\n",
    "    if p <= 0.01:\n",
    "        significant_pvalues.append(p)\n",
    "        \n",
    "print(len(significant_pvalues), len(p_values), len(significant_pvalues)/len(p_values))\n"
   ]
  },
  {
   "cell_type": "code",
   "execution_count": 21,
   "metadata": {},
   "outputs": [
    {
     "data": {
      "text/plain": [
       "<matplotlib.lines.Line2D at 0x1a275f4198>"
      ]
     },
     "execution_count": 21,
     "metadata": {},
     "output_type": "execute_result"
    },
    {
     "data": {
      "image/png": "[encoded data removed]",
      "text/plain": [
       "<Figure size 432x288 with 1 Axes>"
      ]
     },
     "metadata": {
      "needs_background": "light"
     },
     "output_type": "display_data"
    },
    {
     "data": {
      "image/png": "[encoded data removed]",
      "text/plain": [
       "<Figure size 432x288 with 1 Axes>"
      ]
     },
     "metadata": {
      "needs_background": "light"
     },
     "output_type": "display_data"
    },
    {
     "data": {
      "image/png": "[encoded data removed]",
      "text/plain": [
       "<Figure size 432x288 with 1 Axes>"
      ]
     },
     "metadata": {
      "needs_background": "light"
     },
     "output_type": "display_data"
    }
   ],
   "source": [
    "#2\n",
    "fig, ax = plt.subplots()\n",
    "ax.hist(p_values, 20, density = True)\n",
    "ax.axvline(0.01, color = \"r\")\n",
    "\n",
    "\n",
    "fig2, ax2 = plt.subplots()\n",
    "ax2.hist(viral_means, density= True, alpha = 0.3)\n",
    "ax2.axvline(host_mean, color = \"r\")\n",
    "\n",
    "fig3, ax = plt.subplots()\n",
    "ax.set_ylabel(\"P-Values for ranked sums\")\n",
    "ax.set_xlabel(\"Mean difference in energy binding strength\")\n",
    "ax.tick_params(labelsize = 15)\n",
    "ax.semilogy(np.array(viral_means)-host_mean,p_values, marker = \"o\", linestyle = \"\")\n",
    "ax.axvline(0, color = \"r\")\n",
    "ax.axhline(.01, color = \"r\")"
   ]
  },
  {
   "cell_type": "code",
   "execution_count": 24,
   "metadata": {},
   "outputs": [
    {
     "name": "stdout",
     "output_type": "stream",
     "text": [
      "[0.19233415858946645, 0.005140729281529147, 0.0013840123040530794, 0.09860435389182294, 0.00011211186568638786, 0.0021908991510826855, 0.000256280373178642, 0.0070756538119678344, 0.0012044748823690401, 0.24538631324260296, 0.06577463914948042, 0.006199114884144814, 0.0009817609626249924, 0.023999205088891664, 0.9086375835858286, 0.0014370629121527505, 0.03876279610989025, 6.297424949397962e-08, 0.0009365587540826277, 0.007603801800384046, 0.40810376501948087, 0.08002979042381511, 0.2959212640155109, 4.4040617512440935e-06, 9.180172720217067e-06, 0.1633842038228135, 0.8184291215994062, 0.02588033161782577, 0.00015659384798812244, 0.02661216180558053, 0.0013770902587153157, 0.005856551283284666, 0.00036831149724526706] [2.26679544e-01 1.13096044e-02 3.64792893e-03 1.25151680e-01\n",
      " 9.24922892e-04 5.16426228e-03 1.40954205e-03 1.29720320e-02\n",
      " 3.64792893e-03 2.79232701e-01 9.04401288e-02 1.20335760e-02\n",
      " 3.59979020e-03 3.95986884e-02 9.08637584e-01 3.64792893e-03\n",
      " 5.56161857e-02 2.07815023e-06 3.59979020e-03 1.32066031e-02\n",
      " 4.34433040e-01 1.05639323e-01 3.25513390e-01 7.26670189e-05\n",
      " 1.00981900e-04 1.99691805e-01 8.44005032e-01 3.99182427e-02\n",
      " 1.03351940e-03 3.99182427e-02 3.64792893e-03 1.20335760e-02\n",
      " 1.73632563e-03]\n"
     ]
    }
   ],
   "source": [
    "truth_array, corrected_p_values = multi.fdrcorrection(p_values)\n",
    "\n",
    "fig, ax = plt.subplots()\n",
    "ax.hist(corrected_p_values, 20, density = True)\n",
    "ax.axvline(0.01, color = \"r\")\n",
    "\n",
    "\n",
    "significant_pvalues = []\n",
    "for p in corrected_p_values:\n",
    "    if p <= 0.01:\n",
    "        significant_pvalues.append(p)\n",
    "        \n",
    "print(len(significant_pvalues), len(corrected_p_values), len(significant_pvalues)/len(corrected_p_values))"
   ]
  },
  {
   "cell_type": "code",
   "execution_count": 27,
   "metadata": {},
   "outputs": [
    {
     "data": {
      "text/plain": [
       "(350.85934851896764, 1.948887594518697e-40)"
      ]
     },
     "execution_count": 27,
     "metadata": {},
     "output_type": "execute_result"
    }
   ],
   "source": [
    "stats.combine_pvalues(p_values)"
   ]
  }
 ],
 "metadata": {
  "kernelspec": {
   "display_name": "Python 3",
   "language": "python",
   "name": "python3"
  },
  "language_info": {
   "codemirror_mode": {
    "name": "ipython",
    "version": 3
   },
   "file_extension": ".py",
   "mimetype": "text/x-python",
   "name": "python",
   "nbconvert_exporter": "python",
   "pygments_lexer": "ipython3",
   "version": "3.7.1"
  }
 },
 "nbformat": 4,
 "nbformat_minor": 2
}

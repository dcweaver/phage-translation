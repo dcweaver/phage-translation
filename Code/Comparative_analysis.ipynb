{
 "cells": [
  {
   "cell_type": "code",
   "execution_count": 1,
   "metadata": {},
   "outputs": [],
   "source": [
    "%matplotlib inline\n",
    "%load_ext autoreload\n",
    "\n",
    "%autoreload 2"
   ]
  },
  {
   "cell_type": "code",
   "execution_count": 2,
   "metadata": {},
   "outputs": [],
   "source": [
    "import json\n",
    "import gff3_parsing\n",
    "from matplotlib import pyplot as plt\n",
    "import pandas as pd\n",
    "import numpy as np\n",
    "from scipy import stats\n",
    "import glob"
   ]
  },
  {
   "cell_type": "code",
   "execution_count": 34,
   "metadata": {},
   "outputs": [],
   "source": [
    "def analyze_genome(dataframe, energy_dict, gaps = (4,10), expected_len = 20):\n",
    "    \n",
    "    for index in dataframe.index:\n",
    "        upstream = dataframe.loc[index,\"upstream_sequence\"]\n",
    "        test_string = upstream.replace(\"T\", \"U\")\n",
    "        if len(test_string) != expected_len:\n",
    "            continue\n",
    "        if test_string.count(\"A\") + test_string.count(\"U\") +\\\n",
    "                                    test_string.count(\"C\") + test_string.count(\"G\") != expected_len:\n",
    "            continue\n",
    "            \n",
    "        energy_list = []\n",
    "        for gap in range(gaps[0],gaps[1]+1):\n",
    "             energy_list.append(energy_dict[test_string[-gap - 6: -gap]])\n",
    "\n",
    "        dataframe.at[index, \"energy_binding\"] = min(energy_list)\n",
    "    return dataframe"
   ]
  },
  {
   "cell_type": "code",
   "execution_count": 35,
   "metadata": {},
   "outputs": [],
   "source": [
    "with open('../Data/examples_for_testing/energyRef_CCUCCU_mfe.json', 'r') as infile:\n",
    "       energy_dict = json.load(infile)\n",
    "\n",
    "\n",
    "host_df, host_genome = gff3_parsing.compile_sequences(\"../Data/examples_for_testing/ecoli.gff3\",\\\n",
    "                                                    \"../Data/examples_for_testing/ecoli.fasta\", 20)\n",
    "\n",
    "host_df = analyze_genome(host_df, energy_dict)"
   ]
  },
  {
   "cell_type": "code",
   "execution_count": 44,
   "metadata": {},
   "outputs": [
    {
     "name": "stdout",
     "output_type": "stream",
     "text": [
      "ignoring one\n",
      "ignoring one\n",
      "ignoring one\n",
      "ignoring one\n",
      "ignoring one\n",
      "ignoring one\n",
      "ignoring one\n",
      "ignoring one\n",
      "ignoring one\n",
      "ignoring one\n",
      "ignoring one\n",
      "ignoring one\n",
      "ignoring one\n",
      "ignoring one\n",
      "ignoring one\n",
      "ignoring one\n",
      "ignoring one\n",
      "ignoring one\n",
      "ignoring one\n",
      "ignoring one\n",
      "ignoring one\n",
      "ignoring one\n",
      "ignoring one\n",
      "ignoring one\n",
      "ignoring one\n",
      "ignoring one\n",
      "ignoring one\n",
      "ignoring one\n",
      "ignoring one\n",
      "ignoring one\n",
      "ignoring one\n",
      "ignoring one\n",
      "ignoring one\n",
      "ignoring one\n",
      "ignoring one\n",
      "ignoring one\n",
      "ignoring one\n",
      "ignoring one\n",
      "ignoring one\n",
      "ignoring one\n",
      "ignoring one\n",
      "ignoring one\n",
      "ignoring one\n",
      "ignoring one\n",
      "ignoring one\n",
      "ignoring one\n",
      "ignoring one\n",
      "ignoring one\n",
      "ignoring one\n",
      "ignoring one\n",
      "ignoring one\n",
      "ignoring one\n",
      "ignoring one\n",
      "ignoring one\n",
      "ignoring one\n",
      "ignoring one\n",
      "ignoring one\n",
      "ignoring one\n",
      "ignoring one\n",
      "ignoring one\n",
      "ignoring one\n",
      "ignoring one\n",
      "ignoring one\n",
      "ignoring one\n",
      "ignoring one\n",
      "ignoring one\n",
      "ignoring one\n",
      "ignoring one\n",
      "ignoring one\n",
      "ignoring one\n",
      "ignoring one\n",
      "ignoring one\n",
      "ignoring one\n"
     ]
    }
   ],
   "source": [
    "mean_difs = []\n",
    "\n",
    "p_values = []\n",
    "for gff_file in glob.glob(\"../Data/ecoli_viruses/562_rep_viruses_concat/*.gff\"):\n",
    "    #print(gff_file)\n",
    "    fasta_file = \"../Data/ecoli_viruses/562_rep_viruses/\" + gff_file.split(\"/\")[-1].replace(\"gff\", \"fasta\")\n",
    "    \n",
    "    viral_df, viral_genome = gff3_parsing.compile_sequences(gff_file,fasta_file, 20)\n",
    "    \n",
    "    if viral_df.shape[0] < 50:\n",
    "        print(\"ignoring one\")\n",
    "        continue\n",
    "    viral_df = analyze_genome(viral_df, energy_dict)\n",
    "\n",
    "    #print(stats.ranksums(host_df[\"energy_binding\"], viral_df[\"energy_binding\"]))\n",
    "    rstat, p_value = stats.ranksums(host_df[\"energy_binding\"], viral_df[\"energy_binding\"])\n",
    "    p_values.append(p_value)\n",
    "    \n",
    "    mean_difs.append(np.mean(viral_df[\"energy_binding\"]) - np.mean(host_df[\"energy_binding\"]))\n",
    "    "
   ]
  },
  {
   "cell_type": "code",
   "execution_count": 42,
   "metadata": {},
   "outputs": [
    {
     "data": {
      "text/plain": [
       "(51, 12)"
      ]
     },
     "execution_count": 42,
     "metadata": {},
     "output_type": "execute_result"
    }
   ],
   "source": [
    "viral_df.shape"
   ]
  },
  {
   "cell_type": "code",
   "execution_count": 16,
   "metadata": {},
   "outputs": [],
   "source": [
    "# print(len(mean_difs))\n",
    "# print(len(p_values))\n",
    "# print(mean_difs)\n",
    "# print(p_values)\n",
    "\n",
    "combined_dict = {\"p_values\":p_values, \"mean_difs\":mean_difs}\n",
    "\n",
    "\n",
    "\n",
    "combined_df = pd.DataFrame(combined_dict)"
   ]
  },
  {
   "cell_type": "code",
   "execution_count": 18,
   "metadata": {},
   "outputs": [],
   "source": [
    "combined_df.head()\n",
    "\n",
    "combined_df.to_csv(\"stats_df.tsv\", sep = \",\")"
   ]
  },
  {
   "cell_type": "markdown",
   "metadata": {},
   "source": [
    "# To-Do: \n",
    "\n",
    "1. How many/what percent/proportion of p-values are < 0.01\n",
    "2. distribution of p-values, mean_difs\n",
    "3. Count the negatives (put as fraction /373)\n",
    "4. How many cases where host is stronger, is the p_value still significant?\n",
    "5. Scatterplot of p_values, mean_difs\n"
   ]
  },
  {
   "cell_type": "code",
   "execution_count": 46,
   "metadata": {},
   "outputs": [
    {
     "name": "stdout",
     "output_type": "stream",
     "text": [
      "147\n"
     ]
    }
   ],
   "source": [
    "#1\n",
    "significant_pvalues = []\n",
    "for p in p_values:\n",
    "    if p <= 0.01:\n",
    "        significant_pvalues.append(p)\n",
    "        \n",
    "print(len(significant_pvalues))"
   ]
  },
  {
   "cell_type": "code",
   "execution_count": 47,
   "metadata": {},
   "outputs": [
    {
     "data": {
      "text/plain": [
       "300"
      ]
     },
     "execution_count": 47,
     "metadata": {},
     "output_type": "execute_result"
    }
   ],
   "source": [
    "len(p_values)"
   ]
  },
  {
   "cell_type": "code",
   "execution_count": 48,
   "metadata": {},
   "outputs": [
    {
     "data": {
      "text/plain": [
       "0.49"
      ]
     },
     "execution_count": 48,
     "metadata": {},
     "output_type": "execute_result"
    }
   ],
   "source": [
    "#proportion of significant p-values\n",
    "len(significant_pvalues)/len(p_values)"
   ]
  },
  {
   "cell_type": "code",
   "execution_count": 50,
   "metadata": {},
   "outputs": [
    {
     "data": {
      "text/plain": [
       "4"
      ]
     },
     "execution_count": 50,
     "metadata": {},
     "output_type": "execute_result"
    }
   ],
   "source": [
    "zippy = zip(mean_difs, p_values)\n",
    "len([i for i in zippy if i[1] < 0.01 and i[0]>0])"
   ]
  },
  {
   "cell_type": "code",
   "execution_count": 33,
   "metadata": {},
   "outputs": [],
   "source": [
    "# list(zippy)"
   ]
  },
  {
   "cell_type": "code",
   "execution_count": 8,
   "metadata": {},
   "outputs": [
    {
     "data": {
      "text/plain": [
       "<matplotlib.lines.Line2D at 0x1a239c2da0>"
      ]
     },
     "execution_count": 8,
     "metadata": {},
     "output_type": "execute_result"
    },
    {
     "data": {
      "image/png": "[encoded data removed]",
      "text/plain": [
       "<Figure size 432x288 with 1 Axes>"
      ]
     },
     "metadata": {
      "needs_background": "light"
     },
     "output_type": "display_data"
    },
    {
     "data": {
      "image/png": "[encoded data removed]",
      "text/plain": [
       "<Figure size 432x288 with 1 Axes>"
      ]
     },
     "metadata": {
      "needs_background": "light"
     },
     "output_type": "display_data"
    }
   ],
   "source": [
    "#2\n",
    "fig, ax = plt.subplots()\n",
    "ax.hist(p_values, 20, density = True)\n",
    "ax.axvline(0.01, color = \"r\")\n",
    "\n",
    "\n",
    "fig2, ax2 = plt.subplots()\n",
    "ax2.hist(mean_difs, density= True, alpha = 0.3)\n",
    "ax2.axvline(0.0, color = \"r\")"
   ]
  },
  {
   "cell_type": "code",
   "execution_count": 9,
   "metadata": {},
   "outputs": [
    {
     "data": {
      "text/plain": [
       "344"
      ]
     },
     "execution_count": 9,
     "metadata": {},
     "output_type": "execute_result"
    }
   ],
   "source": [
    "#3\n",
    "\n",
    "negative_values = []\n",
    "for neg in mean_difs:\n",
    "    if neg < 0:\n",
    "        negative_values.append(neg)\n",
    "        \n",
    "len(negative_values)"
   ]
  },
  {
   "cell_type": "code",
   "execution_count": null,
   "metadata": {},
   "outputs": [],
   "source": []
  },
  {
   "cell_type": "code",
   "execution_count": 11,
   "metadata": {},
   "outputs": [
    {
     "data": {
      "text/plain": [
       "<matplotlib.lines.Line2D at 0x1a23b3ac18>"
      ]
     },
     "execution_count": 11,
     "metadata": {},
     "output_type": "execute_result"
    },
    {
     "data": {
      "image/png": "[encoded data removed]",
      "text/plain": [
       "<Figure size 432x288 with 1 Axes>"
      ]
     },
     "metadata": {
      "needs_background": "light"
     },
     "output_type": "display_data"
    }
   ],
   "source": [
    "fig, ax = plt.subplots()\n",
    "ax.set_ylabel(\"P-Values for ranked sums comparrison of example virus to E.coli\")\n",
    "ax.set_xlabel(\"Mean difference in energy binding strength\")\n",
    "ax.tick_params(labelsize = 15)\n",
    "ax.semilogy(mean_difs,p_values, marker = \"o\", linestyle = \"\")\n",
    "ax.axvline(0, color = \"r\")\n",
    "ax.axhline(.01, color = \"r\")\n",
    "#ax.set_ylim(10e-12, 10)\n",
    "\n",
    "#hides 2 data points "
   ]
  },
  {
   "cell_type": "code",
   "execution_count": null,
   "metadata": {},
   "outputs": [],
   "source": []
  }
 ],
 "metadata": {
  "kernelspec": {
   "display_name": "Python 3",
   "language": "python",
   "name": "python3"
  },
  "language_info": {
   "codemirror_mode": {
    "name": "ipython",
    "version": 3
   },
   "file_extension": ".py",
   "mimetype": "text/x-python",
   "name": "python",
   "nbconvert_exporter": "python",
   "pygments_lexer": "ipython3",
   "version": "3.7.1"
  }
 },
 "nbformat": 4,
 "nbformat_minor": 2
}

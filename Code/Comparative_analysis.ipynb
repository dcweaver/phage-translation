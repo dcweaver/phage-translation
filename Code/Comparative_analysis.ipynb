{
 "cells": [
  {
   "cell_type": "code",
   "execution_count": 1,
   "metadata": {},
   "outputs": [],
   "source": [
    "%matplotlib inline\n",
    "%load_ext autoreload\n",
    "\n",
    "%autoreload 2"
   ]
  },
  {
   "cell_type": "code",
   "execution_count": 14,
   "metadata": {},
   "outputs": [],
   "source": [
    "import json\n",
    "import gff3_parsing\n",
    "from matplotlib import pyplot as plt\n",
    "import pandas as pd\n",
    "import numpy as np\n",
    "from scipy import stats\n",
    "import glob"
   ]
  },
  {
   "cell_type": "code",
   "execution_count": 34,
   "metadata": {},
   "outputs": [],
   "source": [
    "def analyze_genome(dataframe, energy_dict, gaps = (4,8), expected_len = 20):\n",
    "    \n",
    "    for index in dataframe.index:\n",
    "        upstream = dataframe.loc[index,\"upstream_sequence\"]\n",
    "        test_string = upstream.replace(\"T\", \"U\")\n",
    "        if len(test_string) != expected_len:\n",
    "            continue\n",
    "        if test_string.count(\"A\") + test_string.count(\"U\") +\\\n",
    "                                    test_string.count(\"C\") + test_string.count(\"G\") != expected_len:\n",
    "            continue\n",
    "            \n",
    "        energy_list = []\n",
    "        for gap in range(gaps[0],gaps[1]+1):\n",
    "             energy_list.append(energy_dict[test_string[-gap - 6: -gap]])\n",
    "\n",
    "        dataframe.at[index, \"energy_binding\"] = min(energy_list)\n",
    "    return dataframe"
   ]
  },
  {
   "cell_type": "code",
   "execution_count": null,
   "metadata": {},
   "outputs": [],
   "source": [
    "with open('../Data/examples_for_testing/energyRef_CCUCCU_mfe.json', 'r') as infile:\n",
    "       energy_dict = json.load(infile)\n",
    "\n",
    "\n",
    "host_df, host_genome = gff3_parsing.compile_sequences(\"../Data/examples_for_testing/ecoli.gff3\",\\\n",
    "                                                    \"../Data/examples_for_testing/ecoli.fasta\", 20)\n",
    "\n",
    "host_df = analyze_genome(host_df, energy_dict)"
   ]
  },
  {
   "cell_type": "code",
   "execution_count": 36,
   "metadata": {},
   "outputs": [
    {
     "name": "stdout",
     "output_type": "stream",
     "text": [
      "../Data/ecoli_viruses/562_rep_viruses_concat/229.gff\n",
      "../Data/ecoli_viruses/562_rep_viruses_concat/5518.gff\n",
      "../Data/ecoli_viruses/562_rep_viruses_concat/7680.gff\n",
      "../Data/ecoli_viruses/562_rep_viruses_concat/3394.gff\n",
      "../Data/ecoli_viruses/562_rep_viruses_concat/1232.gff\n",
      "../Data/ecoli_viruses/562_rep_viruses_concat/15476.gff\n",
      "../Data/ecoli_viruses/562_rep_viruses_concat/6561.gff\n",
      "../Data/ecoli_viruses/562_rep_viruses_concat/12331.gff\n",
      "../Data/ecoli_viruses/562_rep_viruses_concat/177.gff\n",
      "../Data/ecoli_viruses/562_rep_viruses_concat/3551.gff\n",
      "../Data/ecoli_viruses/562_rep_viruses_concat/5652.gff\n",
      "../Data/ecoli_viruses/562_rep_viruses_concat/9068.gff\n",
      "../Data/ecoli_viruses/562_rep_viruses_concat/836.gff\n",
      "../Data/ecoli_viruses/562_rep_viruses_concat/188.gff\n",
      "../Data/ecoli_viruses/562_rep_viruses_concat/6159.gff\n",
      "../Data/ecoli_viruses/562_rep_viruses_concat/3752.gff\n",
      "../Data/ecoli_viruses/562_rep_viruses_concat/604.gff\n",
      "../Data/ecoli_viruses/562_rep_viruses_concat/176.gff\n",
      "../Data/ecoli_viruses/562_rep_viruses_concat/5727.gff\n",
      "../Data/ecoli_viruses/562_rep_viruses_concat/8571.gff\n",
      "../Data/ecoli_viruses/562_rep_viruses_concat/1582.gff\n",
      "../Data/ecoli_viruses/562_rep_viruses_concat/5096.gff\n",
      "../Data/ecoli_viruses/562_rep_viruses_concat/5928.gff\n",
      "../Data/ecoli_viruses/562_rep_viruses_concat/2276.gff\n",
      "../Data/ecoli_viruses/562_rep_viruses_concat/1025.gff\n",
      "../Data/ecoli_viruses/562_rep_viruses_concat/12873.gff\n",
      "../Data/ecoli_viruses/562_rep_viruses_concat/17909.gff\n",
      "../Data/ecoli_viruses/562_rep_viruses_concat/1999.gff\n",
      "../Data/ecoli_viruses/562_rep_viruses_concat/3156.gff\n",
      "../Data/ecoli_viruses/562_rep_viruses_concat/7697.gff\n",
      "../Data/ecoli_viruses/562_rep_viruses_concat/5731.gff\n",
      "../Data/ecoli_viruses/562_rep_viruses_concat/3340.gff\n",
      "../Data/ecoli_viruses/562_rep_viruses_concat/4407.gff\n",
      "../Data/ecoli_viruses/562_rep_viruses_concat/5686.gff\n",
      "../Data/ecoli_viruses/562_rep_viruses_concat/11767.gff\n",
      "../Data/ecoli_viruses/562_rep_viruses_concat/1190.gff\n",
      "../Data/ecoli_viruses/562_rep_viruses_concat/1806.gff\n",
      "../Data/ecoli_viruses/562_rep_viruses_concat/4771.gff\n",
      "../Data/ecoli_viruses/562_rep_viruses_concat/3778.gff\n",
      "../Data/ecoli_viruses/562_rep_viruses_concat/2881.gff\n",
      "../Data/ecoli_viruses/562_rep_viruses_concat/14178.gff\n",
      "../Data/ecoli_viruses/562_rep_viruses_concat/2856.gff\n",
      "../Data/ecoli_viruses/562_rep_viruses_concat/4406.gff\n",
      "../Data/ecoli_viruses/562_rep_viruses_concat/15474.gff\n",
      "../Data/ecoli_viruses/562_rep_viruses_concat/2936.gff\n",
      "../Data/ecoli_viruses/562_rep_viruses_concat/3396.gff\n",
      "../Data/ecoli_viruses/562_rep_viruses_concat/11438.gff\n",
      "../Data/ecoli_viruses/562_rep_viruses_concat/3143.gff\n",
      "../Data/ecoli_viruses/562_rep_viruses_concat/559.gff\n",
      "../Data/ecoli_viruses/562_rep_viruses_concat/4837.gff\n",
      "../Data/ecoli_viruses/562_rep_viruses_concat/3806.gff\n",
      "../Data/ecoli_viruses/562_rep_viruses_concat/10044.gff\n",
      "../Data/ecoli_viruses/562_rep_viruses_concat/2503.gff\n",
      "../Data/ecoli_viruses/562_rep_viruses_concat/1036.gff\n",
      "../Data/ecoli_viruses/562_rep_viruses_concat/1208.gff\n",
      "../Data/ecoli_viruses/562_rep_viruses_concat/3379.gff\n",
      "../Data/ecoli_viruses/562_rep_viruses_concat/3437.gff\n",
      "../Data/ecoli_viruses/562_rep_viruses_concat/18961.gff\n",
      "../Data/ecoli_viruses/562_rep_viruses_concat/7916.gff\n",
      "../Data/ecoli_viruses/562_rep_viruses_concat/3557.gff\n",
      "../Data/ecoli_viruses/562_rep_viruses_concat/7057.gff\n",
      "../Data/ecoli_viruses/562_rep_viruses_concat/401.gff\n",
      "../Data/ecoli_viruses/562_rep_viruses_concat/3033.gff\n",
      "../Data/ecoli_viruses/562_rep_viruses_concat/1619.gff\n",
      "../Data/ecoli_viruses/562_rep_viruses_concat/2462.gff\n",
      "../Data/ecoli_viruses/562_rep_viruses_concat/15277.gff\n",
      "../Data/ecoli_viruses/562_rep_viruses_concat/1355.gff\n",
      "../Data/ecoli_viruses/562_rep_viruses_concat/11993.gff\n",
      "../Data/ecoli_viruses/562_rep_viruses_concat/170.gff\n",
      "../Data/ecoli_viruses/562_rep_viruses_concat/5721.gff\n",
      "../Data/ecoli_viruses/562_rep_viruses_concat/6566.gff\n",
      "../Data/ecoli_viruses/562_rep_viruses_concat/2072.gff\n",
      "../Data/ecoli_viruses/562_rep_viruses_concat/9899.gff\n",
      "../Data/ecoli_viruses/562_rep_viruses_concat/992.gff\n",
      "../Data/ecoli_viruses/562_rep_viruses_concat/2264.gff\n",
      "../Data/ecoli_viruses/562_rep_viruses_concat/206.gff\n",
      "../Data/ecoli_viruses/562_rep_viruses_concat/12861.gff\n",
      "../Data/ecoli_viruses/562_rep_viruses_concat/1976.gff\n",
      "../Data/ecoli_viruses/562_rep_viruses_concat/7487.gff\n",
      "../Data/ecoli_viruses/562_rep_viruses_concat/9455.gff\n",
      "../Data/ecoli_viruses/562_rep_viruses_concat/2272.gff\n",
      "../Data/ecoli_viruses/562_rep_viruses_concat/1753.gff\n",
      "../Data/ecoli_viruses/562_rep_viruses_concat/4373.gff\n",
      "../Data/ecoli_viruses/562_rep_viruses_concat/1223.gff\n",
      "../Data/ecoli_viruses/562_rep_viruses_concat/614.gff\n",
      "../Data/ecoli_viruses/562_rep_viruses_concat/199.gff\n",
      "../Data/ecoli_viruses/562_rep_viruses_concat/2892.gff\n",
      "../Data/ecoli_viruses/562_rep_viruses_concat/3540.gff\n",
      "../Data/ecoli_viruses/562_rep_viruses_concat/1814.gff\n",
      "../Data/ecoli_viruses/562_rep_viruses_concat/4777.gff\n",
      "../Data/ecoli_viruses/562_rep_viruses_concat/3030.gff\n",
      "../Data/ecoli_viruses/562_rep_viruses_concat/17675.gff\n",
      "../Data/ecoli_viruses/562_rep_viruses_concat/5497.gff\n",
      "../Data/ecoli_viruses/562_rep_viruses_concat/3964.gff\n",
      "../Data/ecoli_viruses/562_rep_viruses_concat/601.gff\n",
      "../Data/ecoli_viruses/562_rep_viruses_concat/3582.gff\n",
      "../Data/ecoli_viruses/562_rep_viruses_concat/5087.gff\n",
      "../Data/ecoli_viruses/562_rep_viruses_concat/1587.gff\n",
      "../Data/ecoli_viruses/562_rep_viruses_concat/3151.gff\n",
      "../Data/ecoli_viruses/562_rep_viruses_concat/2273.gff\n",
      "../Data/ecoli_viruses/562_rep_viruses_concat/6767.gff\n",
      "../Data/ecoli_viruses/562_rep_viruses_concat/211.gff\n",
      "../Data/ecoli_viruses/562_rep_viruses_concat/205.gff\n",
      "../Data/ecoli_viruses/562_rep_viruses_concat/1949.gff\n",
      "../Data/ecoli_viruses/562_rep_viruses_concat/12686.gff\n",
      "../Data/ecoli_viruses/562_rep_viruses_concat/504.gff\n",
      "../Data/ecoli_viruses/562_rep_viruses_concat/5553.gff\n",
      "../Data/ecoli_viruses/562_rep_viruses_concat/3650.gff\n",
      "../Data/ecoli_viruses/562_rep_viruses_concat/12391.gff\n",
      "../Data/ecoli_viruses/562_rep_viruses_concat/7973.gff\n",
      "../Data/ecoli_viruses/562_rep_viruses_concat/11920.gff\n",
      "../Data/ecoli_viruses/562_rep_viruses_concat/3240.gff\n",
      "../Data/ecoli_viruses/562_rep_viruses_concat/6462.gff\n",
      "../Data/ecoli_viruses/562_rep_viruses_concat/3081.gff\n",
      "../Data/ecoli_viruses/562_rep_viruses_concat/16295.gff\n",
      "../Data/ecoli_viruses/562_rep_viruses_concat/1872.gff\n",
      "../Data/ecoli_viruses/562_rep_viruses_concat/15763.gff\n",
      "../Data/ecoli_viruses/562_rep_viruses_concat/2413.gff\n",
      "../Data/ecoli_viruses/562_rep_viruses_concat/5397.gff\n",
      "../Data/ecoli_viruses/562_rep_viruses_concat/1683.gff\n",
      "../Data/ecoli_viruses/562_rep_viruses_concat/4248.gff\n",
      "../Data/ecoli_viruses/562_rep_viruses_concat/5142.gff\n",
      "../Data/ecoli_viruses/562_rep_viruses_concat/8466.gff\n",
      "../Data/ecoli_viruses/562_rep_viruses_concat/2822.gff\n",
      "../Data/ecoli_viruses/562_rep_viruses_concat/667.gff\n",
      "../Data/ecoli_viruses/562_rep_viruses_concat/2017.gff\n",
      "../Data/ecoli_viruses/562_rep_viruses_concat/8248.gff\n",
      "../Data/ecoli_viruses/562_rep_viruses_concat/5988.gff\n",
      "../Data/ecoli_viruses/562_rep_viruses_concat/9340.gff\n",
      "../Data/ecoli_viruses/562_rep_viruses_concat/7437.gff\n",
      "../Data/ecoli_viruses/562_rep_viruses_concat/9397.gff\n",
      "../Data/ecoli_viruses/562_rep_viruses_concat/12192.gff\n",
      "../Data/ecoli_viruses/562_rep_viruses_concat/1085.gff\n",
      "../Data/ecoli_viruses/562_rep_viruses_concat/5593.gff\n",
      "../Data/ecoli_viruses/562_rep_viruses_concat/3874.gff\n",
      "../Data/ecoli_viruses/562_rep_viruses_concat/2940.gff\n",
      "../Data/ecoli_viruses/562_rep_viruses_concat/6501.gff\n",
      "../Data/ecoli_viruses/562_rep_viruses_concat/922.gff\n",
      "../Data/ecoli_viruses/562_rep_viruses_concat/1695.gff\n",
      "../Data/ecoli_viruses/562_rep_viruses_concat/13463.gff\n",
      "../Data/ecoli_viruses/562_rep_viruses_concat/4074.gff\n",
      "../Data/ecoli_viruses/562_rep_viruses_concat/4061.gff\n",
      "../Data/ecoli_viruses/562_rep_viruses_concat/2404.gff\n",
      "../Data/ecoli_viruses/562_rep_viruses_concat/11513.gff\n",
      "../Data/ecoli_viruses/562_rep_viruses_concat/15761.gff\n",
      "../Data/ecoli_viruses/562_rep_viruses_concat/1858.gff\n",
      "../Data/ecoli_viruses/562_rep_viruses_concat/5380.gff\n",
      "../Data/ecoli_viruses/562_rep_viruses_concat/6312.gff\n",
      "../Data/ecoli_viruses/562_rep_viruses_concat/1469.gff\n",
      "../Data/ecoli_viruses/562_rep_viruses_concat/6306.gff\n",
      "../Data/ecoli_viruses/562_rep_viruses_concat/18047.gff\n",
      "../Data/ecoli_viruses/562_rep_viruses_concat/10221.gff\n",
      "../Data/ecoli_viruses/562_rep_viruses_concat/937.gff\n"
     ]
    },
    {
     "name": "stdout",
     "output_type": "stream",
     "text": [
      "../Data/ecoli_viruses/562_rep_viruses_concat/2982.gff\n",
      "../Data/ecoli_viruses/562_rep_viruses_concat/5753.gff\n",
      "../Data/ecoli_viruses/562_rep_viruses_concat/2996.gff\n",
      "../Data/ecoli_viruses/562_rep_viruses_concat/710.gff\n",
      "../Data/ecoli_viruses/562_rep_viruses_concat/3861.gff\n",
      "../Data/ecoli_viruses/562_rep_viruses_concat/1086.gff\n",
      "../Data/ecoli_viruses/562_rep_viruses_concat/4844.gff\n",
      "../Data/ecoli_viruses/562_rep_viruses_concat/648.gff\n",
      "../Data/ecoli_viruses/562_rep_viruses_concat/2170.gff\n",
      "../Data/ecoli_viruses/562_rep_viruses_concat/476.gff\n",
      "../Data/ecoli_viruses/562_rep_viruses_concat/489.gff\n",
      "../Data/ecoli_viruses/562_rep_viruses_concat/4058.gff\n",
      "../Data/ecoli_viruses/562_rep_viruses_concat/5434.gff\n",
      "../Data/ecoli_viruses/562_rep_viruses_concat/4925.gff\n",
      "../Data/ecoli_viruses/562_rep_viruses_concat/3910.gff\n",
      "../Data/ecoli_viruses/562_rep_viruses_concat/8689.gff\n",
      "../Data/ecoli_viruses/562_rep_viruses_concat/3247.gff\n",
      "../Data/ecoli_viruses/562_rep_viruses_concat/11884.gff\n",
      "../Data/ecoli_viruses/562_rep_viruses_concat/4312.gff\n",
      "../Data/ecoli_viruses/562_rep_viruses_concat/6277.gff\n",
      "../Data/ecoli_viruses/562_rep_viruses_concat/14095.gff\n",
      "../Data/ecoli_viruses/562_rep_viruses_concat/1732.gff\n",
      "../Data/ecoli_viruses/562_rep_viruses_concat/4689.gff\n",
      "../Data/ecoli_viruses/562_rep_viruses_concat/4851.gff\n",
      "../Data/ecoli_viruses/562_rep_viruses_concat/5595.gff\n",
      "../Data/ecoli_viruses/562_rep_viruses_concat/3682.gff\n",
      "../Data/ecoli_viruses/562_rep_viruses_concat/6088.gff\n",
      "../Data/ecoli_viruses/562_rep_viruses_concat/703.gff\n",
      "../Data/ecoli_viruses/562_rep_viruses_concat/924.gff\n",
      "../Data/ecoli_viruses/562_rep_viruses_concat/3325.gff\n",
      "../Data/ecoli_viruses/562_rep_viruses_concat/2749.gff\n",
      "../Data/ecoli_viruses/562_rep_viruses_concat/2832.gff\n",
      "../Data/ecoli_viruses/562_rep_viruses_concat/688.gff\n",
      "../Data/ecoli_viruses/562_rep_viruses_concat/4516.gff\n",
      "../Data/ecoli_viruses/562_rep_viruses_concat/9032.gff\n",
      "../Data/ecoli_viruses/562_rep_viruses_concat/3251.gff\n",
      "../Data/ecoli_viruses/562_rep_viruses_concat/5634.gff\n",
      "../Data/ecoli_viruses/562_rep_viruses_concat/11064.gff\n",
      "../Data/ecoli_viruses/562_rep_viruses_concat/12790.gff\n",
      "../Data/ecoli_viruses/562_rep_viruses_concat/1137.gff\n",
      "../Data/ecoli_viruses/562_rep_viruses_concat/7750.gff\n",
      "../Data/ecoli_viruses/562_rep_viruses_concat/4517.gff\n",
      "../Data/ecoli_viruses/562_rep_viruses_concat/16911.gff\n",
      "../Data/ecoli_viruses/562_rep_viruses_concat/1255.gff\n",
      "../Data/ecoli_viruses/562_rep_viruses_concat/6274.gff\n",
      "../Data/ecoli_viruses/562_rep_viruses_concat/7618.gff\n",
      "../Data/ecoli_viruses/562_rep_viruses_concat/7340.gff\n",
      "../Data/ecoli_viruses/562_rep_viruses_concat/2210.gff\n",
      "../Data/ecoli_viruses/562_rep_viruses_concat/4113.gff\n",
      "../Data/ecoli_viruses/562_rep_viruses_concat/4852.gff\n",
      "../Data/ecoli_viruses/562_rep_viruses_concat/2584.gff\n",
      "../Data/ecoli_viruses/562_rep_viruses_concat/1072.gff\n",
      "../Data/ecoli_viruses/562_rep_viruses_concat/3659.gff\n",
      "../Data/ecoli_viruses/562_rep_viruses_concat/1264.gff\n",
      "../Data/ecoli_viruses/562_rep_viruses_concat/2745.gff\n",
      "../Data/ecoli_viruses/562_rep_viruses_concat/3329.gff\n",
      "../Data/ecoli_viruses/562_rep_viruses_concat/337.gff\n",
      "../Data/ecoli_viruses/562_rep_viruses_concat/2396.gff\n",
      "../Data/ecoli_viruses/562_rep_viruses_concat/12010.gff\n",
      "../Data/ecoli_viruses/562_rep_viruses_concat/16060.gff\n",
      "../Data/ecoli_viruses/562_rep_viruses_concat/7990.gff\n",
      "../Data/ecoli_viruses/562_rep_viruses_concat/849.gff\n",
      "../Data/ecoli_viruses/562_rep_viruses_concat/5188.gff\n",
      "../Data/ecoli_viruses/562_rep_viruses_concat/652.gff\n",
      "../Data/ecoli_viruses/562_rep_viruses_concat/10203.gff\n",
      "../Data/ecoli_viruses/562_rep_viruses_concat/6720.gff\n",
      "../Data/ecoli_viruses/562_rep_viruses_concat/13091.gff\n",
      "../Data/ecoli_viruses/562_rep_viruses_concat/14846.gff\n",
      "../Data/ecoli_viruses/562_rep_viruses_concat/5175.gff\n",
      "../Data/ecoli_viruses/562_rep_viruses_concat/3538.gff\n",
      "../Data/ecoli_viruses/562_rep_viruses_concat/12576.gff\n",
      "../Data/ecoli_viruses/562_rep_viruses_concat/4928.gff\n",
      "../Data/ecoli_viruses/562_rep_viruses_concat/1111.gff\n",
      "../Data/ecoli_viruses/562_rep_viruses_concat/6118.gff\n",
      "../Data/ecoli_viruses/562_rep_viruses_concat/1663.gff\n",
      "../Data/ecoli_viruses/562_rep_viruses_concat/13442.gff\n",
      "../Data/ecoli_viruses/562_rep_viruses_concat/11268.gff\n",
      "../Data/ecoli_viruses/562_rep_viruses_concat/16275.gff\n",
      "../Data/ecoli_viruses/562_rep_viruses_concat/11532.gff\n",
      "../Data/ecoli_viruses/562_rep_viruses_concat/335.gff\n",
      "../Data/ecoli_viruses/562_rep_viruses_concat/4524.gff\n",
      "../Data/ecoli_viruses/562_rep_viruses_concat/1306.gff\n",
      "../Data/ecoli_viruses/562_rep_viruses_concat/8444.gff\n",
      "../Data/ecoli_viruses/562_rep_viruses_concat/5564.gff\n",
      "../Data/ecoli_viruses/562_rep_viruses_concat/3868.gff\n",
      "../Data/ecoli_viruses/562_rep_viruses_concat/16488.gff\n",
      "../Data/ecoli_viruses/562_rep_viruses_concat/3677.gff\n",
      "../Data/ecoli_viruses/562_rep_viruses_concat/4332.gff\n",
      "../Data/ecoli_viruses/562_rep_viruses_concat/15340.gff\n",
      "../Data/ecoli_viruses/562_rep_viruses_concat/7940.gff\n",
      "../Data/ecoli_viruses/562_rep_viruses_concat/13679.gff\n",
      "../Data/ecoli_viruses/562_rep_viruses_concat/8695.gff\n",
      "../Data/ecoli_viruses/562_rep_viruses_concat/1128.gff\n",
      "../Data/ecoli_viruses/562_rep_viruses_concat/8642.gff\n",
      "../Data/ecoli_viruses/562_rep_viruses_concat/3071.gff\n",
      "../Data/ecoli_viruses/562_rep_viruses_concat/11286.gff\n",
      "../Data/ecoli_viruses/562_rep_viruses_concat/4509.gff\n",
      "../Data/ecoli_viruses/562_rep_viruses_concat/15584.gff\n",
      "../Data/ecoli_viruses/562_rep_viruses_concat/8521.gff\n",
      "../Data/ecoli_viruses/562_rep_viruses_concat/19221.gff\n",
      "../Data/ecoli_viruses/562_rep_viruses_concat/13917.gff\n",
      "../Data/ecoli_viruses/562_rep_viruses_concat/3851.gff\n",
      "../Data/ecoli_viruses/562_rep_viruses_concat/6903.gff\n",
      "../Data/ecoli_viruses/562_rep_viruses_concat/534.gff\n",
      "../Data/ecoli_viruses/562_rep_viruses_concat/11455.gff\n",
      "../Data/ecoli_viruses/562_rep_viruses_concat/5946.gff\n",
      "../Data/ecoli_viruses/562_rep_viruses_concat/2797.gff\n",
      "../Data/ecoli_viruses/562_rep_viruses_concat/5749.gff\n",
      "../Data/ecoli_viruses/562_rep_viruses_concat/939.gff\n",
      "../Data/ecoli_viruses/562_rep_viruses_concat/3310.gff\n",
      "../Data/ecoli_viruses/562_rep_viruses_concat/6446.gff\n",
      "../Data/ecoli_viruses/562_rep_viruses_concat/8866.gff\n",
      "../Data/ecoli_viruses/562_rep_viruses_concat/1856.gff\n",
      "../Data/ecoli_viruses/562_rep_viruses_concat/12799.gff\n",
      "../Data/ecoli_viruses/562_rep_viruses_concat/4913.gff\n",
      "../Data/ecoli_viruses/562_rep_viruses_concat/8873.gff\n",
      "../Data/ecoli_viruses/562_rep_viruses_concat/3098.gff\n",
      "../Data/ecoli_viruses/562_rep_viruses_concat/5166.gff\n",
      "../Data/ecoli_viruses/562_rep_viruses_concat/3271.gff\n",
      "../Data/ecoli_viruses/562_rep_viruses_concat/8046.gff\n",
      "../Data/ecoli_viruses/562_rep_viruses_concat/5210.gff\n",
      "../Data/ecoli_viruses/562_rep_viruses_concat/509.gff\n",
      "../Data/ecoli_viruses/562_rep_viruses_concat/4697.gff\n",
      "../Data/ecoli_viruses/562_rep_viruses_concat/220.gff\n",
      "../Data/ecoli_viruses/562_rep_viruses_concat/4169.gff\n",
      "../Data/ecoli_viruses/562_rep_viruses_concat/2242.gff\n",
      "../Data/ecoli_viruses/562_rep_viruses_concat/2530.gff\n",
      "../Data/ecoli_viruses/562_rep_viruses_concat/1213.gff\n",
      "../Data/ecoli_viruses/562_rep_viruses_concat/7886.gff\n",
      "../Data/ecoli_viruses/562_rep_viruses_concat/16758.gff\n",
      "../Data/ecoli_viruses/562_rep_viruses_concat/181.gff\n",
      "../Data/ecoli_viruses/562_rep_viruses_concat/4974.gff\n",
      "../Data/ecoli_viruses/562_rep_viruses_concat/2445.gff\n",
      "../Data/ecoli_viruses/562_rep_viruses_concat/8168.gff\n",
      "../Data/ecoli_viruses/562_rep_viruses_concat/15708.gff\n",
      "../Data/ecoli_viruses/562_rep_viruses_concat/5316.gff\n",
      "../Data/ecoli_viruses/562_rep_viruses_concat/382.gff\n",
      "../Data/ecoli_viruses/562_rep_viruses_concat/10658.gff\n",
      "../Data/ecoli_viruses/562_rep_viruses_concat/4785.gff\n",
      "../Data/ecoli_viruses/562_rep_viruses_concat/10857.gff\n",
      "../Data/ecoli_viruses/562_rep_viruses_concat/2121.gff\n",
      "../Data/ecoli_viruses/562_rep_viruses_concat/14172.gff\n",
      "../Data/ecoli_viruses/562_rep_viruses_concat/2135.gff\n",
      "../Data/ecoli_viruses/562_rep_viruses_concat/2690.gff\n",
      "../Data/ecoli_viruses/562_rep_viruses_concat/1399.gff\n",
      "../Data/ecoli_viruses/562_rep_viruses_concat/631.gff\n",
      "../Data/ecoli_viruses/562_rep_viruses_concat/2874.gff\n",
      "../Data/ecoli_viruses/562_rep_viruses_concat/11793.gff\n",
      "../Data/ecoli_viruses/562_rep_viruses_concat/7139.gff\n",
      "../Data/ecoli_viruses/562_rep_viruses_concat/2928.gff\n",
      "../Data/ecoli_viruses/562_rep_viruses_concat/4803.gff\n",
      "../Data/ecoli_viruses/562_rep_viruses_concat/11395.gff\n"
     ]
    },
    {
     "name": "stdout",
     "output_type": "stream",
     "text": [
      "../Data/ecoli_viruses/562_rep_viruses_concat/6999.gff\n",
      "../Data/ecoli_viruses/562_rep_viruses_concat/747.gff\n",
      "../Data/ecoli_viruses/562_rep_viruses_concat/6594.gff\n",
      "../Data/ecoli_viruses/562_rep_viruses_concat/2725.gff\n",
      "../Data/ecoli_viruses/562_rep_viruses_concat/6386.gff\n",
      "../Data/ecoli_viruses/562_rep_viruses_concat/4591.gff\n",
      "../Data/ecoli_viruses/562_rep_viruses_concat/12529.gff\n",
      "../Data/ecoli_viruses/562_rep_viruses_concat/4546.gff\n",
      "../Data/ecoli_viruses/562_rep_viruses_concat/2447.gff\n",
      "../Data/ecoli_viruses/562_rep_viruses_concat/5328.gff\n",
      "../Data/ecoli_viruses/562_rep_viruses_concat/9275.gff\n",
      "../Data/ecoli_viruses/562_rep_viruses_concat/3758.gff\n",
      "../Data/ecoli_viruses/562_rep_viruses_concat/7516.gff\n",
      "../Data/ecoli_viruses/562_rep_viruses_concat/197.gff\n",
      "../Data/ecoli_viruses/562_rep_viruses_concat/5077.gff\n",
      "../Data/ecoli_viruses/562_rep_viruses_concat/785.gff\n",
      "../Data/ecoli_viruses/562_rep_viruses_concat/12110.gff\n",
      "../Data/ecoli_viruses/562_rep_viruses_concat/587.gff\n",
      "../Data/ecoli_viruses/562_rep_viruses_concat/8023.gff\n",
      "../Data/ecoli_viruses/562_rep_viruses_concat/544.gff\n",
      "../Data/ecoli_viruses/562_rep_viruses_concat/18613.gff\n",
      "../Data/ecoli_viruses/562_rep_viruses_concat/2708.gff\n",
      "../Data/ecoli_viruses/562_rep_viruses_concat/9649.gff\n",
      "../Data/ecoli_viruses/562_rep_viruses_concat/5852.gff\n",
      "../Data/ecoli_viruses/562_rep_viruses_concat/8392.gff\n",
      "../Data/ecoli_viruses/562_rep_viruses_concat/622.gff\n",
      "../Data/ecoli_viruses/562_rep_viruses_concat/2898.gff\n",
      "../Data/ecoli_viruses/562_rep_viruses_concat/11582.gff\n",
      "../Data/ecoli_viruses/562_rep_viruses_concat/4755.gff\n",
      "../Data/ecoli_viruses/562_rep_viruses_concat/6630.gff\n",
      "../Data/ecoli_viruses/562_rep_viruses_concat/3748.gff\n",
      "../Data/ecoli_viruses/562_rep_viruses_concat/10111.gff\n",
      "../Data/ecoli_viruses/562_rep_viruses_concat/15727.gff\n",
      "../Data/ecoli_viruses/562_rep_viruses_concat/391.gff\n",
      "../Data/ecoli_viruses/562_rep_viruses_concat/16549.gff\n",
      "../Data/ecoli_viruses/562_rep_viruses_concat/2319.gff\n",
      "../Data/ecoli_viruses/562_rep_viruses_concat/637.gff\n",
      "../Data/ecoli_viruses/562_rep_viruses_concat/6382.gff\n",
      "../Data/ecoli_viruses/562_rep_viruses_concat/179.gff\n",
      "../Data/ecoli_viruses/562_rep_viruses_concat/2709.gff\n",
      "../Data/ecoli_viruses/562_rep_viruses_concat/6751.gff\n",
      "../Data/ecoli_viruses/562_rep_viruses_concat/15108.gff\n",
      "../Data/ecoli_viruses/562_rep_viruses_concat/1758.gff\n",
      "../Data/ecoli_viruses/562_rep_viruses_concat/14566.gff\n",
      "../Data/ecoli_viruses/562_rep_viruses_concat/8024.gff\n",
      "../Data/ecoli_viruses/562_rep_viruses_concat/16198.gff\n",
      "../Data/ecoli_viruses/562_rep_viruses_concat/609.gff\n",
      "../Data/ecoli_viruses/562_rep_viruses_concat/7934.gff\n",
      "../Data/ecoli_viruses/562_rep_viruses_concat/635.gff\n",
      "../Data/ecoli_viruses/562_rep_viruses_concat/7049.gff\n",
      "../Data/ecoli_viruses/562_rep_viruses_concat/7707.gff\n",
      "../Data/ecoli_viruses/562_rep_viruses_concat/8811.gff\n",
      "../Data/ecoli_viruses/562_rep_viruses_concat/2482.gff\n",
      "../Data/ecoli_viruses/562_rep_viruses_concat/2441.gff\n",
      "../Data/ecoli_viruses/562_rep_viruses_concat/5461.gff\n",
      "../Data/ecoli_viruses/562_rep_viruses_concat/2440.gff\n",
      "../Data/ecoli_viruses/562_rep_viruses_concat/2454.gff\n",
      "../Data/ecoli_viruses/562_rep_viruses_concat/6829.gff\n",
      "../Data/ecoli_viruses/562_rep_viruses_concat/185.gff\n",
      "../Data/ecoli_viruses/562_rep_viruses_concat/191.gff\n",
      "../Data/ecoli_viruses/562_rep_viruses_concat/15255.gff\n",
      "../Data/ecoli_viruses/562_rep_viruses_concat/146.gff\n",
      "../Data/ecoli_viruses/562_rep_viruses_concat/2871.gff\n",
      "../Data/ecoli_viruses/562_rep_viruses_concat/8227.gff\n",
      "../Data/ecoli_viruses/562_rep_viruses_concat/8233.gff\n",
      "../Data/ecoli_viruses/562_rep_viruses_concat/4390.gff\n",
      "../Data/ecoli_viruses/562_rep_viruses_concat/7841.gff\n",
      "../Data/ecoli_viruses/562_rep_viruses_concat/13977.gff\n"
     ]
    }
   ],
   "source": [
    "mean_difs = []\n",
    "\n",
    "p_values = []\n",
    "for gff_file in glob.glob(\"../Data/ecoli_viruses/562_rep_viruses_concat/*.gff\"):\n",
    "    print(gff_file)\n",
    "    fasta_file = \"../Data/ecoli_viruses/562_rep_viruses/\" + gff_file.split(\"/\")[-1].replace(\"gff\", \"fasta\")\n",
    "    \n",
    "    viral_df, viral_genome = gff3_parsing.compile_sequences(gff_file,fasta_file, 20)\n",
    "    viral_df = analyze_genome(viral_df, energy_dict)\n",
    "\n",
    "    #print(stats.ranksums(host_df[\"energy_binding\"], viral_df[\"energy_binding\"]))\n",
    "    rstat, p_value = stats.ranksums(host_df[\"energy_binding\"], viral_df[\"energy_binding\"])\n",
    "    p_values.append(p_value)\n",
    "    \n",
    "    mean_difs.append(np.mean(viral_df[\"energy_binding\"]) - np.mean(host_df[\"energy_binding\"]))\n",
    "    "
   ]
  },
  {
   "cell_type": "code",
   "execution_count": 38,
   "metadata": {},
   "outputs": [
    {
     "name": "stdout",
     "output_type": "stream",
     "text": [
      "373\n",
      "373\n"
     ]
    }
   ],
   "source": [
    "print(len(mean_difs))\n",
    "print(len(p_values))"
   ]
  },
  {
   "cell_type": "code",
   "execution_count": null,
   "metadata": {},
   "outputs": [],
   "source": []
  },
  {
   "cell_type": "markdown",
   "metadata": {},
   "source": [
    "# To-Do: \n",
    "\n",
    "1. How many/what percent/proportion of p-values are < 0.01\n",
    "2. distribution of p-values, mean_difs\n",
    "3. Count the negatives (put as fraction /373)\n",
    "4. How many cases where host is stronger, is the p_value still significant?\n",
    "5. Scatterplot of p_values, mean_difs\n"
   ]
  },
  {
   "cell_type": "code",
   "execution_count": 92,
   "metadata": {},
   "outputs": [],
   "source": [
    "#1\n",
    "significant_pvalues = []\n",
    "for p in p_values:\n",
    "    if p <= 0.01:\n",
    "        significant_pvalues.append(p)"
   ]
  },
  {
   "cell_type": "code",
   "execution_count": 99,
   "metadata": {},
   "outputs": [
    {
     "data": {
      "text/plain": [
       "0.2680965147453083"
      ]
     },
     "execution_count": 99,
     "metadata": {},
     "output_type": "execute_result"
    }
   ],
   "source": [
    "#proportion of significant p-values\n",
    "len(significant_pvalues)/len(p_values)"
   ]
  },
  {
   "cell_type": "code",
   "execution_count": 91,
   "metadata": {},
   "outputs": [
    {
     "data": {
      "text/plain": [
       "<matplotlib.lines.Line2D at 0x1a2222a438>"
      ]
     },
     "execution_count": 91,
     "metadata": {},
     "output_type": "execute_result"
    },
    {
     "data": {
      "image/png": "[encoded data removed]",
      "text/plain": [
       "<Figure size 432x288 with 1 Axes>"
      ]
     },
     "metadata": {
      "needs_background": "light"
     },
     "output_type": "display_data"
    },
    {
     "data": {
      "image/png": "[encoded data removed]",
      "text/plain": [
       "<Figure size 432x288 with 1 Axes>"
      ]
     },
     "metadata": {
      "needs_background": "light"
     },
     "output_type": "display_data"
    }
   ],
   "source": [
    "#2\n",
    "fig, ax = plt.subplots()\n",
    "ax.hist(p_values, 20, density = True)\n",
    "\n",
    "\n",
    "fig2, ax2 = plt.subplots()\n",
    "ax2.hist(mean_difs, density= True, alpha = 0.3)\n",
    "ax2.axvline(0.0, color = \"r\")"
   ]
  },
  {
   "cell_type": "code",
   "execution_count": 84,
   "metadata": {},
   "outputs": [
    {
     "data": {
      "text/plain": [
       "343"
      ]
     },
     "execution_count": 84,
     "metadata": {},
     "output_type": "execute_result"
    }
   ],
   "source": [
    "#3\n",
    "\n",
    "negative_values = []\n",
    "for neg in mean_difs:\n",
    "    if neg < 0:\n",
    "        negative_values.append(neg)\n",
    "        \n",
    "len(negative_values)"
   ]
  },
  {
   "cell_type": "code",
   "execution_count": null,
   "metadata": {},
   "outputs": [],
   "source": []
  },
  {
   "cell_type": "code",
   "execution_count": 96,
   "metadata": {},
   "outputs": [
    {
     "data": {
      "text/plain": [
       "[<matplotlib.lines.Line2D at 0x1a212c3208>]"
      ]
     },
     "execution_count": 96,
     "metadata": {},
     "output_type": "execute_result"
    },
    {
     "data": {
      "image/png": "[encoded data removed]",
      "text/plain": [
       "<Figure size 432x288 with 1 Axes>"
      ]
     },
     "metadata": {
      "needs_background": "light"
     },
     "output_type": "display_data"
    }
   ],
   "source": [
    "fig, ax = plt.subplots()\n",
    "ax.set_xlabel(\"P-Values for ranked sums comparrison of example virus to E.coli\")\n",
    "ax.set_ylabel(\"Mean difference in energy binding strength\")\n",
    "ax.tick_params(labelsize = 15)\n",
    "ax.semilogx(p_values,mean_difs, marker = \"o\", linestyle = \"\")\n",
    "\n"
   ]
  },
  {
   "cell_type": "code",
   "execution_count": null,
   "metadata": {},
   "outputs": [],
   "source": []
  }
 ],
 "metadata": {
  "kernelspec": {
   "display_name": "Python 3",
   "language": "python",
   "name": "python3"
  },
  "language_info": {
   "codemirror_mode": {
    "name": "ipython",
    "version": 3
   },
   "file_extension": ".py",
   "mimetype": "text/x-python",
   "name": "python",
   "nbconvert_exporter": "python",
   "pygments_lexer": "ipython3",
   "version": "3.7.1"
  }
 },
 "nbformat": 4,
 "nbformat_minor": 2
}

{
 "cells": [
  {
   "cell_type": "code",
   "execution_count": 33,
   "metadata": {},
   "outputs": [
    {
     "name": "stdout",
     "output_type": "stream",
     "text": [
      "The autoreload extension is already loaded. To reload it, use:\n",
      "  %reload_ext autoreload\n"
     ]
    }
   ],
   "source": [
    "%matplotlib inline\n",
    "%load_ext autoreload\n",
    "\n",
    "%autoreload 2"
   ]
  },
  {
   "cell_type": "code",
   "execution_count": 32,
   "metadata": {},
   "outputs": [],
   "source": [
    "import json\n",
    "import gff3_parsing2\n",
    "import gff3_parsing\n",
    "from matplotlib import pyplot as plt\n",
    "import pandas as pd\n",
    "import numpy as np\n",
    "from scipy import stats\n",
    "import glob"
   ]
  },
  {
   "cell_type": "code",
   "execution_count": 20,
   "metadata": {},
   "outputs": [],
   "source": [
    "test_df, test_genome = gff3_parsing2.compile_sequences([\"../Data/host_genomes/562.gff3\"],\\\n",
    "                                                       [\"../Data/host_genomes/562.fasta\"])"
   ]
  },
  {
   "cell_type": "code",
   "execution_count": 24,
   "metadata": {},
   "outputs": [
    {
     "data": {
      "text/plain": [
       "5727"
      ]
     },
     "execution_count": 24,
     "metadata": {},
     "output_type": "execute_result"
    }
   ],
   "source": [
    "3399+2328"
   ]
  },
  {
   "cell_type": "code",
   "execution_count": 29,
   "metadata": {},
   "outputs": [
    {
     "data": {
      "text/html": [
       "<div>\n",
       "<style scoped>\n",
       "    .dataframe tbody tr th:only-of-type {\n",
       "        vertical-align: middle;\n",
       "    }\n",
       "\n",
       "    .dataframe tbody tr th {\n",
       "        vertical-align: top;\n",
       "    }\n",
       "\n",
       "    .dataframe thead th {\n",
       "        text-align: right;\n",
       "    }\n",
       "</style>\n",
       "<table border=\"1\" class=\"dataframe\">\n",
       "  <thead>\n",
       "    <tr style=\"text-align: right;\">\n",
       "      <th></th>\n",
       "      <th>genome_id</th>\n",
       "      <th>source</th>\n",
       "      <th>type</th>\n",
       "      <th>start</th>\n",
       "      <th>stop</th>\n",
       "      <th>idk</th>\n",
       "      <th>strand</th>\n",
       "      <th>trash</th>\n",
       "      <th>qualifiers</th>\n",
       "      <th>coding_sequence</th>\n",
       "      <th>upstream_sequence</th>\n",
       "    </tr>\n",
       "  </thead>\n",
       "  <tbody>\n",
       "    <tr>\n",
       "      <th>3390</th>\n",
       "      <td>NC_006350.1</td>\n",
       "      <td>RefSeq</td>\n",
       "      <td>CDS</td>\n",
       "      <td>4065400</td>\n",
       "      <td>4065951</td>\n",
       "      <td>.</td>\n",
       "      <td>-</td>\n",
       "      <td>0</td>\n",
       "      <td>ID=cds-YP_110016.1;Parent=gene-BPSL3423;Dbxref...</td>\n",
       "      <td>TTGTGTATGGATAAATGCGATAATTGCGCATCAAAACGCATAATCA...</td>\n",
       "      <td>AAATGGGCGA</td>\n",
       "    </tr>\n",
       "    <tr>\n",
       "      <th>3391</th>\n",
       "      <td>NC_006350.1</td>\n",
       "      <td>RefSeq</td>\n",
       "      <td>CDS</td>\n",
       "      <td>4066035</td>\n",
       "      <td>4066928</td>\n",
       "      <td>.</td>\n",
       "      <td>+</td>\n",
       "      <td>0</td>\n",
       "      <td>ID=cds-YP_110017.1;Parent=gene-BPSL3424;Dbxref...</td>\n",
       "      <td>ATGTCCACGGTCGTTACCGCGAAACTGAAGGAACAGTTCGACGCGG...</td>\n",
       "      <td>GGGCTACCCC</td>\n",
       "    </tr>\n",
       "    <tr>\n",
       "      <th>3392</th>\n",
       "      <td>NC_006350.1</td>\n",
       "      <td>RefSeq</td>\n",
       "      <td>CDS</td>\n",
       "      <td>4067012</td>\n",
       "      <td>4067317</td>\n",
       "      <td>.</td>\n",
       "      <td>+</td>\n",
       "      <td>0</td>\n",
       "      <td>ID=cds-YP_110018.1;Parent=gene-BPSL3425;Dbxref...</td>\n",
       "      <td>ATGATTCACAAGCTCACATCGGAAGAACGCAAGACGCAGCTTGAAA...</td>\n",
       "      <td>AGGGACGAAA</td>\n",
       "    </tr>\n",
       "    <tr>\n",
       "      <th>3393</th>\n",
       "      <td>NC_006350.1</td>\n",
       "      <td>RefSeq</td>\n",
       "      <td>CDS</td>\n",
       "      <td>4067752</td>\n",
       "      <td>4068444</td>\n",
       "      <td>.</td>\n",
       "      <td>+</td>\n",
       "      <td>0</td>\n",
       "      <td>ID=cds-YP_110019.1;Parent=gene-BPSL3426;Dbxref...</td>\n",
       "      <td>ATGCGACTCCTTCTGATCGAAGACGACCGCCCCATCGCACGCGGCA...</td>\n",
       "      <td>AGCGAATCTC</td>\n",
       "    </tr>\n",
       "    <tr>\n",
       "      <th>3394</th>\n",
       "      <td>NC_006350.1</td>\n",
       "      <td>RefSeq</td>\n",
       "      <td>CDS</td>\n",
       "      <td>4068551</td>\n",
       "      <td>4070035</td>\n",
       "      <td>.</td>\n",
       "      <td>+</td>\n",
       "      <td>0</td>\n",
       "      <td>ID=cds-YP_110020.1;Parent=gene-BPSL3427;Dbxref...</td>\n",
       "      <td>ATGTCCCCTGATCCGGCTGTGACCAGCCTGCGCCGCACGCTGCTGC...</td>\n",
       "      <td>CTTTCGCGCG</td>\n",
       "    </tr>\n",
       "    <tr>\n",
       "      <th>3395</th>\n",
       "      <td>NC_006350.1</td>\n",
       "      <td>RefSeq</td>\n",
       "      <td>CDS</td>\n",
       "      <td>4070477</td>\n",
       "      <td>4070989</td>\n",
       "      <td>.</td>\n",
       "      <td>-</td>\n",
       "      <td>0</td>\n",
       "      <td>ID=cds-YP_110021.1;Parent=gene-BPSL3428;Dbxref...</td>\n",
       "      <td>ATGAGTTCACGCAGGATCGTGGTACGCCGCTCGGGCGTTCACGGCA...</td>\n",
       "      <td>GATTCGTTCG</td>\n",
       "    </tr>\n",
       "    <tr>\n",
       "      <th>3396</th>\n",
       "      <td>NC_006350.1</td>\n",
       "      <td>RefSeq</td>\n",
       "      <td>CDS</td>\n",
       "      <td>4071299</td>\n",
       "      <td>4072411</td>\n",
       "      <td>.</td>\n",
       "      <td>-</td>\n",
       "      <td>0</td>\n",
       "      <td>ID=cds-YP_110022.1;Parent=gene-BPSL3429;Dbxref...</td>\n",
       "      <td>ATGAGTGCATTGTTTTCTCCATTCACGCTGCGCGGCGTGACCCTTC...</td>\n",
       "      <td>GGCGGCTGCC</td>\n",
       "    </tr>\n",
       "    <tr>\n",
       "      <th>3397</th>\n",
       "      <td>NC_006350.1</td>\n",
       "      <td>RefSeq</td>\n",
       "      <td>CDS</td>\n",
       "      <td>4072638</td>\n",
       "      <td>4073348</td>\n",
       "      <td>.</td>\n",
       "      <td>-</td>\n",
       "      <td>0</td>\n",
       "      <td>ID=cds-YP_110023.1;Parent=gene-BPSL3430;Dbxref...</td>\n",
       "      <td>ATGAACGCTGAAGTCGTTGCGATTCGCCACGTGCATTTCGAGGATC...</td>\n",
       "      <td>GGAGGCGCCG</td>\n",
       "    </tr>\n",
       "    <tr>\n",
       "      <th>3398</th>\n",
       "      <td>NC_006350.1</td>\n",
       "      <td>RefSeq</td>\n",
       "      <td>CDS</td>\n",
       "      <td>4073388</td>\n",
       "      <td>4074029</td>\n",
       "      <td>.</td>\n",
       "      <td>-</td>\n",
       "      <td>0</td>\n",
       "      <td>ID=cds-YP_110024.1;Parent=gene-BPSL3431;Dbxref...</td>\n",
       "      <td>ATGAGCGATGGTGTTTACGGGAACCAGGCTGCGGGGCGAGTGACCC...</td>\n",
       "      <td>CGAAAAGACT</td>\n",
       "    </tr>\n",
       "    <tr>\n",
       "      <th>3399</th>\n",
       "      <td>NC_006351.1</td>\n",
       "      <td>RefSeq</td>\n",
       "      <td>CDS</td>\n",
       "      <td>1</td>\n",
       "      <td>1188</td>\n",
       "      <td>.</td>\n",
       "      <td>+</td>\n",
       "      <td>0</td>\n",
       "      <td>ID=cds-YP_110025.1;Parent=gene-BPSS0001;Dbxref...</td>\n",
       "      <td>ATGACTCTCGACGAGATCCGGCAATCCATCCGTGAAGAACTCGATG...</td>\n",
       "      <td></td>\n",
       "    </tr>\n",
       "    <tr>\n",
       "      <th>3400</th>\n",
       "      <td>NC_006351.1</td>\n",
       "      <td>RefSeq</td>\n",
       "      <td>CDS</td>\n",
       "      <td>1282</td>\n",
       "      <td>2325</td>\n",
       "      <td>.</td>\n",
       "      <td>-</td>\n",
       "      <td>0</td>\n",
       "      <td>ID=cds-YP_110026.1;Parent=gene-BPSS0002;Dbxref...</td>\n",
       "      <td>ATGTCGCTGCCCATTCTGACGAGTCCCCCTTCGCCGCCCGATATCC...</td>\n",
       "      <td>GATAAATGAC</td>\n",
       "    </tr>\n",
       "    <tr>\n",
       "      <th>3401</th>\n",
       "      <td>NC_006351.1</td>\n",
       "      <td>RefSeq</td>\n",
       "      <td>CDS</td>\n",
       "      <td>2471</td>\n",
       "      <td>2917</td>\n",
       "      <td>.</td>\n",
       "      <td>-</td>\n",
       "      <td>0</td>\n",
       "      <td>ID=cds-YP_110027.1;Parent=gene-BPSS0003;Dbxref...</td>\n",
       "      <td>TTGCGCAAAATACTGTATATTCGTACAGTATACGCAAAACAGGAGC...</td>\n",
       "      <td>GAATGGGCAG</td>\n",
       "    </tr>\n",
       "    <tr>\n",
       "      <th>3402</th>\n",
       "      <td>NC_006351.1</td>\n",
       "      <td>RefSeq</td>\n",
       "      <td>CDS</td>\n",
       "      <td>2946</td>\n",
       "      <td>3554</td>\n",
       "      <td>.</td>\n",
       "      <td>-</td>\n",
       "      <td>0</td>\n",
       "      <td>ID=cds-YP_110028.1;Parent=gene-BPSS0004;Dbxref...</td>\n",
       "      <td>ATGGCAAGCTCTTCCGGCGCGCGGCGCACCACCGCGCCCGCTTCCC...</td>\n",
       "      <td>CGGAATTCAA</td>\n",
       "    </tr>\n",
       "    <tr>\n",
       "      <th>3403</th>\n",
       "      <td>NC_006351.1</td>\n",
       "      <td>RefSeq</td>\n",
       "      <td>CDS</td>\n",
       "      <td>3722</td>\n",
       "      <td>4921</td>\n",
       "      <td>.</td>\n",
       "      <td>+</td>\n",
       "      <td>0</td>\n",
       "      <td>ID=cds-YP_110029.1;Parent=gene-BPSS0005;Dbxref...</td>\n",
       "      <td>ATGCGTGATGCCTATCTCGCTCATCTACGCGGCACCCTCGAGCAGA...</td>\n",
       "      <td>GCTTATTGCG</td>\n",
       "    </tr>\n",
       "    <tr>\n",
       "      <th>3404</th>\n",
       "      <td>NC_006351.1</td>\n",
       "      <td>RefSeq</td>\n",
       "      <td>CDS</td>\n",
       "      <td>4934</td>\n",
       "      <td>5965</td>\n",
       "      <td>.</td>\n",
       "      <td>+</td>\n",
       "      <td>0</td>\n",
       "      <td>ID=cds-YP_110030.1;Parent=gene-BPSS0006;Dbxref...</td>\n",
       "      <td>ATGAAAGCGCTGGCGAAACTCGAACGCGGGCCGGGCCTCACGCTCA...</td>\n",
       "      <td>GGAGTTCGCG</td>\n",
       "    </tr>\n",
       "    <tr>\n",
       "      <th>3405</th>\n",
       "      <td>NC_006351.1</td>\n",
       "      <td>RefSeq</td>\n",
       "      <td>CDS</td>\n",
       "      <td>6300</td>\n",
       "      <td>6953</td>\n",
       "      <td>.</td>\n",
       "      <td>-</td>\n",
       "      <td>0</td>\n",
       "      <td>ID=cds-YP_110031.1;Parent=gene-BPSS0007;Dbxref...</td>\n",
       "      <td>ATGAAACCGGTCAGATGGGCGGGACGTTTCGCGTGCGCGATCGCGC...</td>\n",
       "      <td>GGGAGGACGG</td>\n",
       "    </tr>\n",
       "    <tr>\n",
       "      <th>3406</th>\n",
       "      <td>NC_006351.1</td>\n",
       "      <td>RefSeq</td>\n",
       "      <td>CDS</td>\n",
       "      <td>7043</td>\n",
       "      <td>7660</td>\n",
       "      <td>.</td>\n",
       "      <td>+</td>\n",
       "      <td>0</td>\n",
       "      <td>ID=cds-YP_110032.1;Parent=gene-BPSS0008;Dbxref...</td>\n",
       "      <td>ATGGACACGAAACCTGACCTTGCTCCGGCCGCCGGCGCGCGCGAGC...</td>\n",
       "      <td>CCGTAAACGC</td>\n",
       "    </tr>\n",
       "    <tr>\n",
       "      <th>3407</th>\n",
       "      <td>NC_006351.1</td>\n",
       "      <td>RefSeq</td>\n",
       "      <td>CDS</td>\n",
       "      <td>7761</td>\n",
       "      <td>8240</td>\n",
       "      <td>.</td>\n",
       "      <td>+</td>\n",
       "      <td>0</td>\n",
       "      <td>ID=cds-YP_110033.1;Parent=gene-BPSS0009;Dbxref...</td>\n",
       "      <td>ATGTCCGATTCAACCGAAATCCGCCCACCCGTTCCACCGTTCACGC...</td>\n",
       "      <td>GGAGAACACG</td>\n",
       "    </tr>\n",
       "    <tr>\n",
       "      <th>3408</th>\n",
       "      <td>NC_006351.1</td>\n",
       "      <td>RefSeq</td>\n",
       "      <td>CDS</td>\n",
       "      <td>8455</td>\n",
       "      <td>9471</td>\n",
       "      <td>.</td>\n",
       "      <td>-</td>\n",
       "      <td>0</td>\n",
       "      <td>ID=cds-YP_110034.1;Parent=gene-BPSS0010;Dbxref...</td>\n",
       "      <td>ATGACCGAATCGGCTCCCGTATTTCCTCACTATTCGATCGAGGTCG...</td>\n",
       "      <td>AAAGCTCACC</td>\n",
       "    </tr>\n",
       "    <tr>\n",
       "      <th>3409</th>\n",
       "      <td>NC_006351.1</td>\n",
       "      <td>RefSeq</td>\n",
       "      <td>CDS</td>\n",
       "      <td>9774</td>\n",
       "      <td>10859</td>\n",
       "      <td>.</td>\n",
       "      <td>-</td>\n",
       "      <td>0</td>\n",
       "      <td>ID=cds-YP_110035.1;Parent=gene-BPSS0011;Dbxref...</td>\n",
       "      <td>ATGAGCGAGAAGGTGTACAGGATCGCCGTCATCCCCGGCGACGGGA...</td>\n",
       "      <td>GGACCTCAGC</td>\n",
       "    </tr>\n",
       "  </tbody>\n",
       "</table>\n",
       "</div>"
      ],
      "text/plain": [
       "        genome_id  source type    start     stop idk strand trash  \\\n",
       "3390  NC_006350.1  RefSeq  CDS  4065400  4065951   .      -     0   \n",
       "3391  NC_006350.1  RefSeq  CDS  4066035  4066928   .      +     0   \n",
       "3392  NC_006350.1  RefSeq  CDS  4067012  4067317   .      +     0   \n",
       "3393  NC_006350.1  RefSeq  CDS  4067752  4068444   .      +     0   \n",
       "3394  NC_006350.1  RefSeq  CDS  4068551  4070035   .      +     0   \n",
       "3395  NC_006350.1  RefSeq  CDS  4070477  4070989   .      -     0   \n",
       "3396  NC_006350.1  RefSeq  CDS  4071299  4072411   .      -     0   \n",
       "3397  NC_006350.1  RefSeq  CDS  4072638  4073348   .      -     0   \n",
       "3398  NC_006350.1  RefSeq  CDS  4073388  4074029   .      -     0   \n",
       "3399  NC_006351.1  RefSeq  CDS        1     1188   .      +     0   \n",
       "3400  NC_006351.1  RefSeq  CDS     1282     2325   .      -     0   \n",
       "3401  NC_006351.1  RefSeq  CDS     2471     2917   .      -     0   \n",
       "3402  NC_006351.1  RefSeq  CDS     2946     3554   .      -     0   \n",
       "3403  NC_006351.1  RefSeq  CDS     3722     4921   .      +     0   \n",
       "3404  NC_006351.1  RefSeq  CDS     4934     5965   .      +     0   \n",
       "3405  NC_006351.1  RefSeq  CDS     6300     6953   .      -     0   \n",
       "3406  NC_006351.1  RefSeq  CDS     7043     7660   .      +     0   \n",
       "3407  NC_006351.1  RefSeq  CDS     7761     8240   .      +     0   \n",
       "3408  NC_006351.1  RefSeq  CDS     8455     9471   .      -     0   \n",
       "3409  NC_006351.1  RefSeq  CDS     9774    10859   .      -     0   \n",
       "\n",
       "                                             qualifiers  \\\n",
       "3390  ID=cds-YP_110016.1;Parent=gene-BPSL3423;Dbxref...   \n",
       "3391  ID=cds-YP_110017.1;Parent=gene-BPSL3424;Dbxref...   \n",
       "3392  ID=cds-YP_110018.1;Parent=gene-BPSL3425;Dbxref...   \n",
       "3393  ID=cds-YP_110019.1;Parent=gene-BPSL3426;Dbxref...   \n",
       "3394  ID=cds-YP_110020.1;Parent=gene-BPSL3427;Dbxref...   \n",
       "3395  ID=cds-YP_110021.1;Parent=gene-BPSL3428;Dbxref...   \n",
       "3396  ID=cds-YP_110022.1;Parent=gene-BPSL3429;Dbxref...   \n",
       "3397  ID=cds-YP_110023.1;Parent=gene-BPSL3430;Dbxref...   \n",
       "3398  ID=cds-YP_110024.1;Parent=gene-BPSL3431;Dbxref...   \n",
       "3399  ID=cds-YP_110025.1;Parent=gene-BPSS0001;Dbxref...   \n",
       "3400  ID=cds-YP_110026.1;Parent=gene-BPSS0002;Dbxref...   \n",
       "3401  ID=cds-YP_110027.1;Parent=gene-BPSS0003;Dbxref...   \n",
       "3402  ID=cds-YP_110028.1;Parent=gene-BPSS0004;Dbxref...   \n",
       "3403  ID=cds-YP_110029.1;Parent=gene-BPSS0005;Dbxref...   \n",
       "3404  ID=cds-YP_110030.1;Parent=gene-BPSS0006;Dbxref...   \n",
       "3405  ID=cds-YP_110031.1;Parent=gene-BPSS0007;Dbxref...   \n",
       "3406  ID=cds-YP_110032.1;Parent=gene-BPSS0008;Dbxref...   \n",
       "3407  ID=cds-YP_110033.1;Parent=gene-BPSS0009;Dbxref...   \n",
       "3408  ID=cds-YP_110034.1;Parent=gene-BPSS0010;Dbxref...   \n",
       "3409  ID=cds-YP_110035.1;Parent=gene-BPSS0011;Dbxref...   \n",
       "\n",
       "                                        coding_sequence upstream_sequence  \n",
       "3390  TTGTGTATGGATAAATGCGATAATTGCGCATCAAAACGCATAATCA...        AAATGGGCGA  \n",
       "3391  ATGTCCACGGTCGTTACCGCGAAACTGAAGGAACAGTTCGACGCGG...        GGGCTACCCC  \n",
       "3392  ATGATTCACAAGCTCACATCGGAAGAACGCAAGACGCAGCTTGAAA...        AGGGACGAAA  \n",
       "3393  ATGCGACTCCTTCTGATCGAAGACGACCGCCCCATCGCACGCGGCA...        AGCGAATCTC  \n",
       "3394  ATGTCCCCTGATCCGGCTGTGACCAGCCTGCGCCGCACGCTGCTGC...        CTTTCGCGCG  \n",
       "3395  ATGAGTTCACGCAGGATCGTGGTACGCCGCTCGGGCGTTCACGGCA...        GATTCGTTCG  \n",
       "3396  ATGAGTGCATTGTTTTCTCCATTCACGCTGCGCGGCGTGACCCTTC...        GGCGGCTGCC  \n",
       "3397  ATGAACGCTGAAGTCGTTGCGATTCGCCACGTGCATTTCGAGGATC...        GGAGGCGCCG  \n",
       "3398  ATGAGCGATGGTGTTTACGGGAACCAGGCTGCGGGGCGAGTGACCC...        CGAAAAGACT  \n",
       "3399  ATGACTCTCGACGAGATCCGGCAATCCATCCGTGAAGAACTCGATG...                    \n",
       "3400  ATGTCGCTGCCCATTCTGACGAGTCCCCCTTCGCCGCCCGATATCC...        GATAAATGAC  \n",
       "3401  TTGCGCAAAATACTGTATATTCGTACAGTATACGCAAAACAGGAGC...        GAATGGGCAG  \n",
       "3402  ATGGCAAGCTCTTCCGGCGCGCGGCGCACCACCGCGCCCGCTTCCC...        CGGAATTCAA  \n",
       "3403  ATGCGTGATGCCTATCTCGCTCATCTACGCGGCACCCTCGAGCAGA...        GCTTATTGCG  \n",
       "3404  ATGAAAGCGCTGGCGAAACTCGAACGCGGGCCGGGCCTCACGCTCA...        GGAGTTCGCG  \n",
       "3405  ATGAAACCGGTCAGATGGGCGGGACGTTTCGCGTGCGCGATCGCGC...        GGGAGGACGG  \n",
       "3406  ATGGACACGAAACCTGACCTTGCTCCGGCCGCCGGCGCGCGCGAGC...        CCGTAAACGC  \n",
       "3407  ATGTCCGATTCAACCGAAATCCGCCCACCCGTTCCACCGTTCACGC...        GGAGAACACG  \n",
       "3408  ATGACCGAATCGGCTCCCGTATTTCCTCACTATTCGATCGAGGTCG...        AAAGCTCACC  \n",
       "3409  ATGAGCGAGAAGGTGTACAGGATCGCCGTCATCCCCGGCGACGGGA...        GGACCTCAGC  "
      ]
     },
     "execution_count": 29,
     "metadata": {},
     "output_type": "execute_result"
    }
   ],
   "source": [
    "test_df.iloc[3390:3410]"
   ]
  },
  {
   "cell_type": "code",
   "execution_count": 26,
   "metadata": {},
   "outputs": [
    {
     "data": {
      "text/html": [
       "<div>\n",
       "<style scoped>\n",
       "    .dataframe tbody tr th:only-of-type {\n",
       "        vertical-align: middle;\n",
       "    }\n",
       "\n",
       "    .dataframe tbody tr th {\n",
       "        vertical-align: top;\n",
       "    }\n",
       "\n",
       "    .dataframe thead th {\n",
       "        text-align: right;\n",
       "    }\n",
       "</style>\n",
       "<table border=\"1\" class=\"dataframe\">\n",
       "  <thead>\n",
       "    <tr style=\"text-align: right;\">\n",
       "      <th></th>\n",
       "      <th>genome_id</th>\n",
       "      <th>source</th>\n",
       "      <th>type</th>\n",
       "      <th>start</th>\n",
       "      <th>stop</th>\n",
       "      <th>idk</th>\n",
       "      <th>strand</th>\n",
       "      <th>trash</th>\n",
       "      <th>qualifiers</th>\n",
       "      <th>coding_sequence</th>\n",
       "      <th>upstream_sequence</th>\n",
       "    </tr>\n",
       "  </thead>\n",
       "  <tbody>\n",
       "    <tr>\n",
       "      <th>2</th>\n",
       "      <td>NC_006350.1</td>\n",
       "      <td>RefSeq</td>\n",
       "      <td>CDS</td>\n",
       "      <td>1</td>\n",
       "      <td>1116</td>\n",
       "      <td>.</td>\n",
       "      <td>-</td>\n",
       "      <td>0</td>\n",
       "      <td>ID=cds-YP_106626.1;Parent=gene-BPSL0001;Dbxref...</td>\n",
       "      <td>ATGGCACTCGAAACCTTCGTCAATTCCGAACCGTTCACGTTCGGCG...</td>\n",
       "      <td>GAATCACGCC</td>\n",
       "    </tr>\n",
       "    <tr>\n",
       "      <th>4</th>\n",
       "      <td>NC_006350.1</td>\n",
       "      <td>RefSeq</td>\n",
       "      <td>CDS</td>\n",
       "      <td>1161</td>\n",
       "      <td>2375</td>\n",
       "      <td>.</td>\n",
       "      <td>-</td>\n",
       "      <td>0</td>\n",
       "      <td>ID=cds-YP_106627.1;Parent=gene-BPSL0002;Dbxref...</td>\n",
       "      <td>ATGAAGTCAGCGTTCTCGTTTCTACCCAACTGGCCGCTCGCCCCGG...</td>\n",
       "      <td>AGTCACCACG</td>\n",
       "    </tr>\n",
       "    <tr>\n",
       "      <th>18</th>\n",
       "      <td>NC_006350.1</td>\n",
       "      <td>RefSeq</td>\n",
       "      <td>CDS</td>\n",
       "      <td>3114</td>\n",
       "      <td>5096</td>\n",
       "      <td>.</td>\n",
       "      <td>-</td>\n",
       "      <td>0</td>\n",
       "      <td>ID=cds-YP_106628.2;Parent=gene-BPSL0003;Dbxref...</td>\n",
       "      <td>ATGACCGATCGAATCGTTCCGGCGACGCTCGTCTTCCGCGAGGACG...</td>\n",
       "      <td>TTTGTTTCGC</td>\n",
       "    </tr>\n",
       "    <tr>\n",
       "      <th>21</th>\n",
       "      <td>NC_006350.1</td>\n",
       "      <td>RefSeq</td>\n",
       "      <td>CDS</td>\n",
       "      <td>5488</td>\n",
       "      <td>5766</td>\n",
       "      <td>.</td>\n",
       "      <td>+</td>\n",
       "      <td>0</td>\n",
       "      <td>ID=cds-YP_106629.1;Parent=gene-BPSL0004;Dbxref...</td>\n",
       "      <td>ATGAACAAACAGGAACTGATCGACGCCGTCGCCGCCCAGACGGGCG...</td>\n",
       "      <td>AGGAACCTTA</td>\n",
       "    </tr>\n",
       "    <tr>\n",
       "      <th>25</th>\n",
       "      <td>NC_006350.1</td>\n",
       "      <td>RefSeq</td>\n",
       "      <td>CDS</td>\n",
       "      <td>5869</td>\n",
       "      <td>7209</td>\n",
       "      <td>.</td>\n",
       "      <td>-</td>\n",
       "      <td>0</td>\n",
       "      <td>ID=cds-YP_106630.1;Parent=gene-BPSL0005;Dbxref...</td>\n",
       "      <td>ATGAACCAGCCGTTGCCCGTCACCGTGCTGTCCGGCTTCCTCGGCG...</td>\n",
       "      <td>GCGCACCGCA</td>\n",
       "    </tr>\n",
       "  </tbody>\n",
       "</table>\n",
       "</div>"
      ],
      "text/plain": [
       "      genome_id  source type  start  stop idk strand trash  \\\n",
       "2   NC_006350.1  RefSeq  CDS      1  1116   .      -     0   \n",
       "4   NC_006350.1  RefSeq  CDS   1161  2375   .      -     0   \n",
       "18  NC_006350.1  RefSeq  CDS   3114  5096   .      -     0   \n",
       "21  NC_006350.1  RefSeq  CDS   5488  5766   .      +     0   \n",
       "25  NC_006350.1  RefSeq  CDS   5869  7209   .      -     0   \n",
       "\n",
       "                                           qualifiers  \\\n",
       "2   ID=cds-YP_106626.1;Parent=gene-BPSL0001;Dbxref...   \n",
       "4   ID=cds-YP_106627.1;Parent=gene-BPSL0002;Dbxref...   \n",
       "18  ID=cds-YP_106628.2;Parent=gene-BPSL0003;Dbxref...   \n",
       "21  ID=cds-YP_106629.1;Parent=gene-BPSL0004;Dbxref...   \n",
       "25  ID=cds-YP_106630.1;Parent=gene-BPSL0005;Dbxref...   \n",
       "\n",
       "                                      coding_sequence upstream_sequence  \n",
       "2   ATGGCACTCGAAACCTTCGTCAATTCCGAACCGTTCACGTTCGGCG...        GAATCACGCC  \n",
       "4   ATGAAGTCAGCGTTCTCGTTTCTACCCAACTGGCCGCTCGCCCCGG...        AGTCACCACG  \n",
       "18  ATGACCGATCGAATCGTTCCGGCGACGCTCGTCTTCCGCGAGGACG...        TTTGTTTCGC  \n",
       "21  ATGAACAAACAGGAACTGATCGACGCCGTCGCCGCCCAGACGGGCG...        AGGAACCTTA  \n",
       "25  ATGAACCAGCCGTTGCCCGTCACCGTGCTGTCCGGCTTCCTCGGCG...        GCGCACCGCA  "
      ]
     },
     "execution_count": 26,
     "metadata": {},
     "output_type": "execute_result"
    }
   ],
   "source": [
    "test_df.head()"
   ]
  },
  {
   "cell_type": "code",
   "execution_count": 28,
   "metadata": {},
   "outputs": [],
   "source": [
    "test_df, test_genome = gff3_parsing2.compile_sequences([\"../Data/host_genomes/28450.1.gff3\",\"../Data/host_genomes/28450.2.gff3\"],\\\n",
    "                                                       [\"../Data/host_genomes/28450.1.fasta\", \"../Data/host_genomes/28450.2.fasta\"])\n"
   ]
  },
  {
   "cell_type": "code",
   "execution_count": 7,
   "metadata": {},
   "outputs": [],
   "source": [
    "test_df, test_genome = gff3_parsing2.compile_sequences([\"../Data/host_genomes/28450.1.gff3\",\"../Data/host_genomes/28450.2.gff3\"],\\\n",
    "                                                       [\"../Data/host_genomes/28450.1.fasta\", \"../Data/host_genomes/28450.2.fasta\"])"
   ]
  },
  {
   "cell_type": "code",
   "execution_count": 36,
   "metadata": {},
   "outputs": [],
   "source": [
    "def analyze_genome(dataframe, energy_dict, gaps = (4,10), expected_len = 20):\n",
    "    \n",
    "    for index in dataframe.index:\n",
    "        upstream = dataframe.loc[index,\"upstream_sequence\"]\n",
    "        test_string = upstream.replace(\"T\", \"U\")\n",
    "        if len(test_string) != expected_len:\n",
    "            continue\n",
    "        if test_string.count(\"A\") + test_string.count(\"U\") +\\\n",
    "                                    test_string.count(\"C\") + test_string.count(\"G\") != expected_len:\n",
    "            continue\n",
    "            \n",
    "        energy_list = []\n",
    "        for gap in range(gaps[0],gaps[1]+1):\n",
    "             energy_list.append(energy_dict[test_string[-gap - 6: -gap]])\n",
    "\n",
    "        dataframe.at[index, \"energy_binding\"] = min(energy_list)\n",
    "    return dataframe"
   ]
  },
  {
   "cell_type": "code",
   "execution_count": 58,
   "metadata": {},
   "outputs": [],
   "source": [
    "with open('../Data/energy_files/energyRef_CCUCCU_ensemble_noneConstraint.json', 'r') as infile:\n",
    "       energy_dict = json.load(infile)\n",
    "\n",
    "host_id = 717959\n",
    "\n",
    "host_df, host_genome = gff3_parsing.compile_sequences([\"../Data/host_genomes/{}.gff3\".format(host_id)],\n",
    "                                                    [\"../Data/host_genomes/{}.fasta\".format(host_id)], 20)\n",
    "#combined_id = 28450\n",
    "host_df = analyze_genome(host_df, energy_dict)\n",
    "host_df.to_csv(\"../Data/host_genomes/{}.tsv\".format(host_id), sep = \"\")"
   ]
  },
  {
   "cell_type": "code",
   "execution_count": null,
   "metadata": {},
   "outputs": [],
   "source": [
    "viral_means = []\n",
    "\n",
    "p_values = []\n",
    "host_id = 657318\n",
    "\n",
    "for gff_file in glob.glob(\"../Data/{}_rep_viruses/*.gff\".format(host_id)):\n",
    "    \n",
    "   \n",
    "    fasta_file = gff_file.replace(\"gff\", \"fasta\")\n",
    "    tsv_file = gff_file.replace(\"gff\", \"tsv\")\n",
    "\n",
    "    viral_df, viral_genome = gff3_parsing.compile_sequences([gff_file],[fasta_file], 20)\n",
    "    \n",
    "#     if viral_df.shape[0] < 50:\n",
    "#         print(\"ignoring one\")\n",
    "#         continue\n",
    "    viral_df = analyze_genome(viral_df, energy_dict)\n",
    "    viral_df.to_csv(tsv_file, sep = \"\\t\")\n",
    "\n",
    "#     #print(stats.ranksums(host_df[\"energy_binding\"], viral_df[\"energy_binding\"]))\n",
    "#     rstat, p_value = stats.ranksums(host_df[\"energy_binding\"], viral_df[\"energy_binding\"])\n",
    "#     p_values.append(p_value)\n",
    "    \n",
    "#     viral_means.append(np.mean(viral_df[\"energy_binding\"]))\n",
    "    "
   ]
  },
  {
   "cell_type": "code",
   "execution_count": 16,
   "metadata": {},
   "outputs": [],
   "source": [
    "# print(len(mean_difs))\n",
    "# print(len(p_values))\n",
    "# print(mean_difs)\n",
    "# print(p_values)\n",
    "\n",
    "# combined_dict = {\"p_values\":p_values, \"mean_difs\":mean_difs}\n",
    "\n",
    "\n",
    "\n",
    "# combined_df = pd.DataFrame(combined_dict)\n",
    "# combined_df.head()\n",
    "\n",
    "# combined_df.to_csv(\"stats_df.tsv\", sep = \",\")"
   ]
  },
  {
   "cell_type": "markdown",
   "metadata": {},
   "source": [
    "# To-Do: \n",
    "\n",
    "1. How many/what percent/proportion of p-values are < 0.01\n",
    "2. distribution of p-values, mean_difs\n",
    "3. Count the negatives (put as fraction /373)\n",
    "4. How many cases where host is stronger, is the p_value still significant?\n",
    "5. Scatterplot of p_values, mean_difs\n"
   ]
  },
  {
   "cell_type": "code",
   "execution_count": 62,
   "metadata": {},
   "outputs": [
    {
     "name": "stdout",
     "output_type": "stream",
     "text": [
      "4\n"
     ]
    }
   ],
   "source": [
    "#1\n",
    "significant_pvalues = []\n",
    "for p in p_values:\n",
    "    if p <= 0.01:\n",
    "        significant_pvalues.append(p)\n",
    "        \n",
    "print(len(significant_pvalues))"
   ]
  },
  {
   "cell_type": "code",
   "execution_count": 63,
   "metadata": {},
   "outputs": [
    {
     "data": {
      "text/plain": [
       "37"
      ]
     },
     "execution_count": 63,
     "metadata": {},
     "output_type": "execute_result"
    }
   ],
   "source": [
    "len(p_values)"
   ]
  },
  {
   "cell_type": "code",
   "execution_count": 31,
   "metadata": {},
   "outputs": [
    {
     "data": {
      "text/plain": [
       "0.6049382716049383"
      ]
     },
     "execution_count": 31,
     "metadata": {},
     "output_type": "execute_result"
    }
   ],
   "source": [
    "#proportion of significant p-values\n",
    "len(significant_pvalues)/len(p_values)"
   ]
  },
  {
   "cell_type": "code",
   "execution_count": 50,
   "metadata": {},
   "outputs": [
    {
     "data": {
      "text/plain": [
       "4"
      ]
     },
     "execution_count": 50,
     "metadata": {},
     "output_type": "execute_result"
    }
   ],
   "source": [
    "zippy = zip(mean_difs, p_values)\n",
    "len([i for i in zippy if i[1] < 0.01 and i[0]>0])"
   ]
  },
  {
   "cell_type": "code",
   "execution_count": 33,
   "metadata": {},
   "outputs": [],
   "source": [
    "# list(zippy)"
   ]
  },
  {
   "cell_type": "code",
   "execution_count": 64,
   "metadata": {},
   "outputs": [
    {
     "data": {
      "text/plain": [
       "<matplotlib.lines.Line2D at 0x1a20a122e8>"
      ]
     },
     "execution_count": 64,
     "metadata": {},
     "output_type": "execute_result"
    },
    {
     "data": {
      "image/png": "[encoded data removed]",
      "text/plain": [
       "<Figure size 432x288 with 1 Axes>"
      ]
     },
     "metadata": {
      "needs_background": "light"
     },
     "output_type": "display_data"
    },
    {
     "data": {
      "image/png": "[encoded data removed]",
      "text/plain": [
       "<Figure size 432x288 with 1 Axes>"
      ]
     },
     "metadata": {
      "needs_background": "light"
     },
     "output_type": "display_data"
    }
   ],
   "source": [
    "#2\n",
    "fig, ax = plt.subplots()\n",
    "ax.hist(p_values, 20, density = True)\n",
    "ax.axvline(0.01, color = \"r\")\n",
    "\n",
    "\n",
    "fig2, ax2 = plt.subplots()\n",
    "ax2.hist(viral_means, density= True, alpha = 0.3)\n",
    "ax2.axvline(host_mean, color = \"r\")"
   ]
  },
  {
   "cell_type": "code",
   "execution_count": 24,
   "metadata": {},
   "outputs": [
    {
     "data": {
      "text/plain": [
       "344"
      ]
     },
     "execution_count": 24,
     "metadata": {},
     "output_type": "execute_result"
    }
   ],
   "source": [
    "#3\n",
    "\n",
    "negative_values = []\n",
    "for neg in mean_difs:\n",
    "    if neg < 0:\n",
    "        negative_values.append(neg)\n",
    "        \n",
    "len(negative_values)"
   ]
  },
  {
   "cell_type": "code",
   "execution_count": null,
   "metadata": {},
   "outputs": [],
   "source": []
  },
  {
   "cell_type": "code",
   "execution_count": 39,
   "metadata": {},
   "outputs": [
    {
     "data": {
      "text/plain": [
       "<matplotlib.lines.Line2D at 0x1a20a5e0b8>"
      ]
     },
     "execution_count": 39,
     "metadata": {},
     "output_type": "execute_result"
    },
    {
     "data": {
      "image/png": "[encoded data removed]",
      "text/plain": [
       "<Figure size 432x288 with 1 Axes>"
      ]
     },
     "metadata": {
      "needs_background": "light"
     },
     "output_type": "display_data"
    }
   ],
   "source": [
    "fig, ax = plt.subplots()\n",
    "ax.set_ylabel(\"P-Values for ranked sums comparrison of example virus to E.coli\")\n",
    "ax.set_xlabel(\"Mean difference in energy binding strength\")\n",
    "ax.tick_params(labelsize = 15)\n",
    "ax.semilogy(mean_difs,p_values, marker = \"o\", linestyle = \"\")\n",
    "ax.axvline(0, color = \"r\")\n",
    "ax.axhline(.01, color = \"r\")\n",
    "#ax.set_ylim(10e-12, 10)\n",
    "\n",
    "#hides 2 data points "
   ]
  },
  {
   "cell_type": "code",
   "execution_count": 13,
   "metadata": {},
   "outputs": [
    {
     "name": "stdout",
     "output_type": "stream",
     "text": [
      "Reset css and font defaults in:\r\n",
      "/Users/ChaseWeaver/.jupyter/custom &\r\n",
      "/Users/ChaseWeaver/Library/Jupyter/nbextensions\r\n"
     ]
    }
   ],
   "source": [
    "!jt -r"
   ]
  },
  {
   "cell_type": "code",
   "execution_count": null,
   "metadata": {},
   "outputs": [],
   "source": []
  }
 ],
 "metadata": {
  "kernelspec": {
   "display_name": "Python 3",
   "language": "python",
   "name": "python3"
  },
  "language_info": {
   "codemirror_mode": {
    "name": "ipython",
    "version": 3
   },
   "file_extension": ".py",
   "mimetype": "text/x-python",
   "name": "python",
   "nbconvert_exporter": "python",
   "pygments_lexer": "ipython3",
   "version": "3.7.1"
  }
 },
 "nbformat": 4,
 "nbformat_minor": 2
}

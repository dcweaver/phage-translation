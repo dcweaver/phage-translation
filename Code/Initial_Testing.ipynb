{
 "cells": [
  {
   "cell_type": "code",
   "execution_count": 1,
   "metadata": {},
   "outputs": [],
   "source": [
    "%matplotlib inline"
   ]
  },
  {
   "cell_type": "code",
   "execution_count": 53,
   "metadata": {},
   "outputs": [],
   "source": [
    "from Bio import SeqIO\n",
    "from matplotlib import pyplot as plt\n",
    "import numpy as np"
   ]
  },
  {
   "cell_type": "code",
   "execution_count": 70,
   "metadata": {},
   "outputs": [
    {
     "ename": "AssertionError",
     "evalue": "",
     "output_type": "error",
     "traceback": [
      "\u001b[0;31m---------------------------------------------------------------------------\u001b[0m",
      "\u001b[0;31mAssertionError\u001b[0m                            Traceback (most recent call last)",
      "\u001b[0;32m<ipython-input-70-088a4620eae1>\u001b[0m in \u001b[0;36m<module>\u001b[0;34m\u001b[0m\n\u001b[1;32m      1\u001b[0m \u001b[0mgenome\u001b[0m \u001b[0;34m=\u001b[0m \u001b[0mlist\u001b[0m\u001b[0;34m(\u001b[0m\u001b[0mSeqIO\u001b[0m\u001b[0;34m.\u001b[0m\u001b[0mparse\u001b[0m\u001b[0;34m(\u001b[0m\u001b[0;34m'../Data/examples_for_testing/ecoli_PRODIGAL.gbk'\u001b[0m\u001b[0;34m,\u001b[0m \u001b[0;34m\"genbank\"\u001b[0m\u001b[0;34m)\u001b[0m\u001b[0;34m)\u001b[0m\u001b[0;34m\u001b[0m\u001b[0;34m\u001b[0m\u001b[0m\n\u001b[0;32m----> 2\u001b[0;31m \u001b[0;32massert\u001b[0m \u001b[0mlen\u001b[0m\u001b[0;34m(\u001b[0m\u001b[0mgenome\u001b[0m\u001b[0;34m)\u001b[0m\u001b[0;34m==\u001b[0m \u001b[0;36m1\u001b[0m\u001b[0;34m\u001b[0m\u001b[0;34m\u001b[0m\u001b[0m\n\u001b[0m\u001b[1;32m      3\u001b[0m \u001b[0mgenome\u001b[0m \u001b[0;34m=\u001b[0m \u001b[0mgenome\u001b[0m \u001b[0;34m[\u001b[0m\u001b[0;36m0\u001b[0m\u001b[0;34m]\u001b[0m\u001b[0;34m\u001b[0m\u001b[0;34m\u001b[0m\u001b[0m\n",
      "\u001b[0;31mAssertionError\u001b[0m: "
     ]
    }
   ],
   "source": [
    "genome = list(SeqIO.parse('../Data/examples_for_testing/ecoli_PRODIGAL.gbk', \"genbank\"))\n",
    "assert len(genome)== 1\n",
    "genome = genome [0]"
   ]
  },
  {
   "cell_type": "code",
   "execution_count": 14,
   "metadata": {},
   "outputs": [
    {
     "name": "stdout",
     "output_type": "stream",
     "text": [
      "ID: NC_000913.3\n",
      "Name: NC_000913\n",
      "Description: Escherichia coli str. K-12 substr. MG1655, complete genome\n",
      "Database cross-references: BioProject:PRJNA57779, BioSample:SAMN02604091, Assembly:GCF_000005845.2\n",
      "Number of features: 9900\n",
      "/molecule_type=DNA\n",
      "/topology=circular\n",
      "/data_file_division=CON\n",
      "/date=11-OCT-2018\n",
      "/accessions=['NC_000913']\n",
      "/sequence_version=3\n",
      "/keywords=['RefSeq']\n",
      "/source=Escherichia coli str. K-12 substr. MG1655\n",
      "/organism=Escherichia coli str. K-12 substr. MG1655\n",
      "/taxonomy=['Bacteria', 'Proteobacteria', 'Gammaproteobacteria', 'Enterobacterales', 'Enterobacteriaceae', 'Escherichia']\n",
      "/references=[Reference(title='Escherichia coli K-12: a cooperatively developed annotation snapshot--2005', ...), Reference(title='Highly accurate genome sequences of Escherichia coli K-12 strains MG1655 and W3110', ...), Reference(title='The complete genome sequence of Escherichia coli K-12', ...), Reference(title='Workshop on Annotation of Escherichia coli K-12', ...), Reference(title='ASAP: Escherichia coli K-12 strain MG1655 version m56', ...), Reference(title='A more accurate sequence comparison between genomes of Escherichia coli K12 W3110 and MG1655 strains', ...), Reference(title='Escherichia coli K-12 MG1655 yqiK-rfaE intergenic region, genomic sequence correction', ...), Reference(title='A manual approach to accurate translation start site annotation: an E. coli K-12 case study', ...), Reference(title='Direct Submission', ...), Reference(title='Direct Submission', ...), Reference(title='Direct Submission', ...), Reference(title='Direct Submission', ...), Reference(title='Direct Submission', ...), Reference(title='Direct Submission', ...), Reference(title='Direct Submission', ...), Reference(title='Direct Submission', ...), Reference(title='Direct Submission', ...), Reference(title='Direct Submission', ...), Reference(title='Direct Submission', ...)]\n",
      "/comment=PROVISIONAL REFSEQ: This record has not yet been subject to final\n",
      "NCBI review. The reference sequence is identical to U00096.\n",
      "On Nov 3, 2013 this sequence version replaced NC_000913.2.\n",
      "Changes to proteins and annotation made on September 24, 2018.\n",
      "Current U00096 annotation updates are derived from EcoCyc\n",
      "https://ecocyc.org/.  Suggestions for updates can be sent to\n",
      "biocyc-support@ai.sri.com. These updates are being generated from a\n",
      "collaboration  that includes EcoCyc, the University of Wisconsin,\n",
      "UniProtKB/Swiss-Prot, and the National Center for Biotechnology\n",
      "Information (NCBI).\n",
      "COMPLETENESS: full length.\n",
      "Seq('AGCTTTTCATTCTGACTGCAACGGGCAATATGTCTCTGTGTGGATTAAAAAAAG...TTC', IUPACAmbiguousDNA())\n"
     ]
    }
   ],
   "source": [
    "print(genome)"
   ]
  },
  {
   "cell_type": "code",
   "execution_count": 15,
   "metadata": {},
   "outputs": [],
   "source": [
    "example_feature = genome.features[2]"
   ]
  },
  {
   "cell_type": "code",
   "execution_count": 16,
   "metadata": {},
   "outputs": [
    {
     "name": "stdout",
     "output_type": "stream",
     "text": [
      "type: CDS\n",
      "location: [189:255](+)\n",
      "qualifiers:\n",
      "    Key: codon_start, Value: ['1']\n",
      "    Key: db_xref, Value: ['UniProtKB/Swiss-Prot:P0AD86', 'ASAP:ABE-0000006', 'ECOCYC:EG11277', 'EcoGene:EG11277', 'GeneID:944742']\n",
      "    Key: gene, Value: ['thrL']\n",
      "    Key: gene_synonym, Value: ['ECK0001']\n",
      "    Key: locus_tag, Value: ['b0001']\n",
      "    Key: product, Value: ['thr operon leader peptide']\n",
      "    Key: protein_id, Value: ['NP_414542.1']\n",
      "    Key: transl_table, Value: ['11']\n",
      "    Key: translation, Value: ['MKRISTTITTTITITTGNGAG']\n",
      "\n"
     ]
    }
   ],
   "source": [
    "print(example_feature)"
   ]
  },
  {
   "cell_type": "code",
   "execution_count": 26,
   "metadata": {},
   "outputs": [
    {
     "data": {
      "text/plain": [
       "Seq('ATGAAACGCATTAGCACCACCATTACCACCACCATCACCATTACCACAGGTAAC...TGA', IUPACAmbiguousDNA())"
      ]
     },
     "execution_count": 26,
     "metadata": {},
     "output_type": "execute_result"
    }
   ],
   "source": [
    "# example_feature.qualifiers[\"translation\"]\n",
    "# assert len(example_feature.qualifiers[\"translation\"]) == 1\n",
    "# len(example_feature.qualifiers[\"translation\"][0])\n",
    "\n",
    "# example_feature.location.end - example_feature.location.start\n",
    "example_feature.extract(genome.seq)\n",
    "# len(example_feature.extract(genome.seq))"
   ]
  },
  {
   "cell_type": "code",
   "execution_count": 31,
   "metadata": {},
   "outputs": [
    {
     "data": {
      "text/plain": [
       "Seq('ATGAAACGCATTAGCACCACCATTACCACCACCATCACCATTACCACAGGTAAC...TGA', IUPACAmbiguousDNA())"
      ]
     },
     "execution_count": 31,
     "metadata": {},
     "output_type": "execute_result"
    }
   ],
   "source": [
    "#genome.seq[189:255]#.reverse_complement()"
   ]
  },
  {
   "cell_type": "code",
   "execution_count": 68,
   "metadata": {},
   "outputs": [
    {
     "name": "stdout",
     "output_type": "stream",
     "text": [
      "Error on this gene: ['crl']\n",
      "Error on this gene: ['insN']\n",
      "Error on this gene: ['afuB']\n",
      "Error on this gene: ['yaiX']\n",
      "Error on this gene: ['yaiT']\n",
      "Error on this gene: ['dnaX']\n",
      "Error on this gene: ['copA']\n",
      "Error on this gene: ['ybbD']\n",
      "Error on this gene: ['renD']\n",
      "Error on this gene: ['nmpC']\n",
      "Error on this gene: ['ybcY']\n",
      "Error on this gene: ['ybeM']\n",
      "Error on this gene: ['efeU']\n",
      "Error on this gene: ['ycgH']\n",
      "Error on this gene: ['ycgI']\n",
      "Error on this gene: ['gapC']\n",
      "Error on this gene: ['yncI']\n",
      "Error on this gene: ['yneL']\n",
      "Error on this gene: ['yneO']\n",
      "Error on this gene: ['arpB']\n",
      "Error on this gene: ['yedN']\n",
      "Error on this gene: ['yedS']\n",
      "Error on this gene: ['yoeA']\n",
      "Error on this gene: ['wbbL']\n",
      "Error on this gene: ['gatR']\n",
      "Error on this gene: ['gatC']\n",
      "Error on this gene: ['mdtQ']\n",
      "Error on this gene: ['yejO']\n",
      "Error on this gene: ['yfjV']\n",
      "Error on this gene: ['ypjI']\n",
      "Error on this gene: ['ygaY']\n",
      "Error on this gene: ['ygeF']\n",
      "Error on this gene: ['pbl']\n",
      "Error on this gene: ['ygeN']\n",
      "Error on this gene: ['prfB']\n",
      "Error on this gene: ['yghX']\n",
      "Error on this gene: ['yqiG']\n",
      "Error on this gene: ['yhcE']\n",
      "Error on this gene: ['yhdW']\n",
      "Error on this gene: ['glpR']\n",
      "Error on this gene: ['yhiL']\n",
      "Error on this gene: ['yhiS']\n",
      "Error on this gene: ['ilvG']\n",
      "Error on this gene: ['yifN']\n",
      "Error on this gene: ['phnE']\n",
      "Error on this gene: ['yjgX']\n",
      "Error on this gene: ['insO']\n"
     ]
    }
   ],
   "source": [
    "cds_length = []\n",
    "for feature in genome.features:\n",
    "    if feature.type == \"CDS\":\n",
    "        tmp_len = feature.location.end - feature.location.start\n",
    "        try:\n",
    "            assert tmp_len % 3 == 0\n",
    "            cds_length.append(tmp_len)\n",
    "        except AssertionError:\n",
    "            print('Error on this gene:', feature.qualifiers['gene'])\n",
    "#         print(tmp_len)\n",
    "#         assert tmp_len % 3 == 0\n",
    "#         cds_length.append(tmp_len)"
   ]
  },
  {
   "cell_type": "code",
   "execution_count": 69,
   "metadata": {},
   "outputs": [
    {
     "data": {
      "text/plain": [
       "4310"
      ]
     },
     "execution_count": 69,
     "metadata": {},
     "output_type": "execute_result"
    }
   ],
   "source": [
    "len(cds_length)"
   ]
  },
  {
   "cell_type": "code",
   "execution_count": 60,
   "metadata": {},
   "outputs": [
    {
     "data": {
      "text/plain": [
       "2"
      ]
     },
     "execution_count": 60,
     "metadata": {},
     "output_type": "execute_result"
    }
   ],
   "source": [
    "1178%3"
   ]
  },
  {
   "cell_type": "code",
   "execution_count": 64,
   "metadata": {},
   "outputs": [
    {
     "data": {
      "image/png": "[encoded data removed]",
      "text/plain": [
       "<Figure size 864x288 with 2 Axes>"
      ]
     },
     "metadata": {
      "needs_background": "light"
     },
     "output_type": "display_data"
    }
   ],
   "source": [
    "fig, ax_arr = plt.subplots(ncols=2, figsize=(12, 4))\n",
    "ax_arr[1].hist(cds_length)\n",
    "ax_arr[1].set_xlabel('Length in nucleotides', fontsize = 8)\n",
    "ax_arr[1].tick_params(labelsize=25)\n",
    "ax_arr[1].axvline(np.median(cds_length), c='r')\n",
    "plt.tight_layout()"
   ]
  },
  {
   "cell_type": "code",
   "execution_count": 65,
   "metadata": {},
   "outputs": [
    {
     "data": {
      "text/plain": [
       "47"
      ]
     },
     "execution_count": 65,
     "metadata": {},
     "output_type": "execute_result"
    }
   ],
   "source": [
    "len(cds_length)"
   ]
  },
  {
   "cell_type": "code",
   "execution_count": null,
   "metadata": {},
   "outputs": [],
   "source": []
  },
  {
   "cell_type": "code",
   "execution_count": null,
   "metadata": {},
   "outputs": [],
   "source": []
  },
  {
   "cell_type": "code",
   "execution_count": null,
   "metadata": {},
   "outputs": [],
   "source": []
  },
  {
   "cell_type": "code",
   "execution_count": null,
   "metadata": {},
   "outputs": [],
   "source": []
  },
  {
   "cell_type": "code",
   "execution_count": null,
   "metadata": {},
   "outputs": [],
   "source": []
  },
  {
   "cell_type": "markdown",
   "metadata": {},
   "source": [
    "# Find how many of each different start codon are used in the E coli genome"
   ]
  },
  {
   "cell_type": "code",
   "execution_count": null,
   "metadata": {},
   "outputs": [],
   "source": []
  },
  {
   "cell_type": "code",
   "execution_count": null,
   "metadata": {},
   "outputs": [],
   "source": []
  },
  {
   "cell_type": "markdown",
   "metadata": {},
   "source": [
    "# Find how many of each different start codon are used in the E coli genome"
   ]
  },
  {
   "cell_type": "code",
   "execution_count": null,
   "metadata": {},
   "outputs": [],
   "source": []
  },
  {
   "cell_type": "code",
   "execution_count": null,
   "metadata": {},
   "outputs": [],
   "source": []
  },
  {
   "cell_type": "markdown",
   "metadata": {},
   "source": [
    "# Extract all the upstream regions (-10 to 0)"
   ]
  },
  {
   "cell_type": "code",
   "execution_count": null,
   "metadata": {},
   "outputs": [],
   "source": []
  },
  {
   "cell_type": "code",
   "execution_count": null,
   "metadata": {},
   "outputs": [],
   "source": []
  },
  {
   "cell_type": "code",
   "execution_count": null,
   "metadata": {},
   "outputs": [],
   "source": []
  }
 ],
 "metadata": {
  "kernelspec": {
   "display_name": "Python 3",
   "language": "python",
   "name": "python3"
  },
  "language_info": {
   "codemirror_mode": {
    "name": "ipython",
    "version": 3
   },
   "file_extension": ".py",
   "mimetype": "text/x-python",
   "name": "python",
   "nbconvert_exporter": "python",
   "pygments_lexer": "ipython3",
   "version": "3.7.1"
  }
 },
 "nbformat": 4,
 "nbformat_minor": 2
}

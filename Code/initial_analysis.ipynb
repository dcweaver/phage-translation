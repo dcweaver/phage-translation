{
 "cells": [
  {
   "cell_type": "code",
   "execution_count": 1,
   "metadata": {},
   "outputs": [],
   "source": [
    "%matplotlib inline\n",
    "%load_ext autoreload\n",
    "\n",
    "%autoreload 2"
   ]
  },
  {
   "cell_type": "code",
   "execution_count": 2,
   "metadata": {},
   "outputs": [],
   "source": [
    "import json\n",
    "import gff3_parsing\n",
    "from matplotlib import pyplot as plt\n",
    "import pandas as pd\n",
    "import numpy as np\n",
    "from scipy import stats\n",
    "import glob\n",
    "import statsmodels.stats.multitest as multi"
   ]
  },
  {
   "cell_type": "markdown",
   "metadata": {},
   "source": [
    "# Stats/Visualization for single bacteria virus pair"
   ]
  },
  {
   "cell_type": "code",
   "execution_count": null,
   "metadata": {},
   "outputs": [],
   "source": [
    "host_ids = [36809,\\\n",
    "           717959,\\\n",
    "           305,\\\n",
    "           1590,\\\n",
    "           435591,\\\n",
    "           90371,\\\n",
    "           1314,\\\n",
    "           357276,\\\n",
    "           657318,\\\n",
    "           1639,\\\n",
    "           1428,\\\n",
    "           470,\\\n",
    "           573,\\\n",
    "           1280,\\\n",
    "           287,\\\n",
    "           562,\\\n",
    "           28450]"
   ]
  },
  {
   "cell_type": "code",
   "execution_count": null,
   "metadata": {},
   "outputs": [],
   "source": [
    "host_id = 562\n",
    "p_values = []\n",
    "viral_means = []\n",
    "viral_ids = []\n",
    "sep = \"\\t\"\n",
    "\n",
    "host_df = pd.read_csv(\"../Data/host_genomes/{}.clean.tsv\".format(host_id), sep = sep)\n",
    "host_mean = np.mean(host_df[\"energy_binding\"])\n",
    "# host_mean = host_df[\"energy_binding\"].mean()\n",
    "print(host_df.shape)\n",
    "for tsv_file in glob.glob(\"../Data/{}_rep_viruses/*.clean.tsv\".format(host_id)):\n",
    "    viral_df = pd.read_csv(tsv_file, sep = sep)\n",
    "    viral_ids.append(tsv_file.split('rep_viruses/')[1].split('.')[0])\n",
    "    rstat, p_value = stats.ranksums(host_df[\"energy_binding\"], viral_df[\"energy_binding\"])\n",
    "    p_values.append(p_value)\n",
    "    viral_means.append(np.mean(viral_df[\"energy_binding\"]))"
   ]
  },
  {
   "cell_type": "code",
   "execution_count": null,
   "metadata": {},
   "outputs": [],
   "source": [
    "viral_df.columns"
   ]
  },
  {
   "cell_type": "code",
   "execution_count": null,
   "metadata": {},
   "outputs": [],
   "source": []
  },
  {
   "cell_type": "code",
   "execution_count": null,
   "metadata": {},
   "outputs": [],
   "source": [
    "sep = \"\\t\"\n",
    "host_means =[]\n",
    "viral_ids = []\n",
    "p_values = []\n",
    "viral_means = []\n",
    "host_ids_final = []\n",
    "\n",
    "for host_id in host_ids:\n",
    "    \n",
    "    df = pd.read_csv('../Data/host_genomes/{}.clean.tsv'.format(host_id), sep = sep)\n",
    "    host_avg = np.mean(df['energy_binding'])\n",
    "    host_means.append(host_avg)\n",
    "    \n",
    "    for tsv_file in glob.glob('../Data/{}_rep_viruses/*.clean.tsv'.format(host_id)):\n",
    "        \n",
    "        host_ids_final.append(host_id)\n",
    "        df_2 = pd.read_csv(tsv_file, sep = sep)\n",
    "        viral_ids.append(tsv_file.split('rep_viruses/')[1].split('.')[0])\n",
    "        rstat, p_value = stats.ranksums(df[\"energy_binding\"], df_2[\"energy_binding\"])\n",
    "        p_values.append(p_value)\n",
    "        viral_means.append(np.mean(df_2[\"energy_binding\"]))\n"
   ]
  },
  {
   "cell_type": "code",
   "execution_count": null,
   "metadata": {},
   "outputs": [],
   "source": [
    "# viruses_df = pd.DataFrame(columns = ['virus_id','host_id', 'mean_rbs_energy','p_value'])\n",
    "# hosts_df = pd.DataFrame(columns = ['host_id', 'mean_rbs_energy'])\n",
    "\n",
    "viruses_df = pd.DataFrame()\n",
    "viruses_df['virus_id'] = viral_ids\n",
    "viruses_df['host_id'] = host_ids_final\n",
    "viruses_df['mean_rbs_energy'] = viral_means\n",
    "viruses_df['rs_p_value'] = p_values\n",
    "\n",
    "\n",
    "\n",
    "hosts_df = pd.DataFrame()\n",
    "hosts_df['host_id'] = host_ids\n",
    "hosts_df['mean_rbs_energy'] = host_means\n",
    "\n",
    "viruses_df"
   ]
  },
  {
   "cell_type": "markdown",
   "metadata": {},
   "source": [
    "# Export dfs as tsv"
   ]
  },
  {
   "cell_type": "code",
   "execution_count": null,
   "metadata": {},
   "outputs": [],
   "source": [
    "location = '../Data/compiled_tsvs/'\n",
    "viruses_df.to_csv(location + 'all_viruses.tsv', sep = '\\t')\n",
    "hosts_df.to_csv(location + 'all_hosts.tsv', sep = '\\t')"
   ]
  },
  {
   "cell_type": "code",
   "execution_count": null,
   "metadata": {},
   "outputs": [],
   "source": []
  },
  {
   "cell_type": "code",
   "execution_count": null,
   "metadata": {},
   "outputs": [],
   "source": [
    "hosts_df"
   ]
  },
  {
   "cell_type": "code",
   "execution_count": null,
   "metadata": {},
   "outputs": [],
   "source": []
  },
  {
   "cell_type": "code",
   "execution_count": null,
   "metadata": {},
   "outputs": [],
   "source": [
    "ecoli_df = pd.DataFrame(columns = ['virus_id','host_id', 'mean_rbs_energy','p_value'])"
   ]
  },
  {
   "cell_type": "code",
   "execution_count": null,
   "metadata": {},
   "outputs": [],
   "source": [
    "# ecoli_df['virus_id'] = viral_ids\n",
    "# ecoli_df['host_id'] = host_id\n",
    "# ecoli_df['mean_rbs_energy'] = viral_means\n",
    "# ecoli_df['p_value'] = p_values\n",
    "# ecoli_df"
   ]
  },
  {
   "cell_type": "markdown",
   "metadata": {},
   "source": [
    "**Proportion of viruses that are significantly different than host**"
   ]
  },
  {
   "cell_type": "code",
   "execution_count": null,
   "metadata": {},
   "outputs": [],
   "source": [
    "significant_pvalues = []\n",
    "for p in p_values:\n",
    "    if p <= 0.01:\n",
    "        significant_pvalues.append(p)\n",
    "        \n",
    "print(len(significant_pvalues), len(p_values), len(significant_pvalues)/len(p_values))\n"
   ]
  },
  {
   "cell_type": "markdown",
   "metadata": {},
   "source": [
    "**Visualizing p-values**"
   ]
  },
  {
   "cell_type": "code",
   "execution_count": null,
   "metadata": {},
   "outputs": [],
   "source": [
    "#2\n",
    "fig, ax = plt.subplots()\n",
    "ax.hist(p_values, 20, density = True)\n",
    "ax.axvline(0.01, color = \"r\")\n",
    "\n",
    "\n",
    "fig2, ax2 = plt.subplots()\n",
    "ax2.hist(viral_means, density= True, alpha = 0.3)\n",
    "ax2.axvline(host_mean, color = \"r\")\n",
    "\n",
    "fig3, ax = plt.subplots()\n",
    "ax.set_ylabel(\"P-Values for ranked sums\")\n",
    "ax.set_xlabel(\"Mean difference in energy binding strength\")\n",
    "ax.tick_params(labelsize = 15)\n",
    "ax.semilogy(np.array(viral_means)-host_mean,p_values, marker = \"o\", linestyle = \"\")\n",
    "ax.axvline(0, color = \"r\")\n",
    "ax.axhline(.01, color = \"r\")"
   ]
  },
  {
   "cell_type": "markdown",
   "metadata": {},
   "source": [
    "**Correcting for multiple hypotheses**"
   ]
  },
  {
   "cell_type": "code",
   "execution_count": null,
   "metadata": {},
   "outputs": [],
   "source": [
    "truth_array, corrected_p_values = multi.fdrcorrection(p_values)\n",
    "\n",
    "fig, ax = plt.subplots()\n",
    "ax.hist(corrected_p_values, 20, density = True)\n",
    "ax.axvline(0.01, color = \"r\")\n",
    "\n",
    "\n",
    "significant_pvalues = []\n",
    "for p in corrected_p_values:\n",
    "    if p <= 0.01:\n",
    "        significant_pvalues.append(p)\n",
    "        \n",
    "print(len(significant_pvalues), len(corrected_p_values), len(significant_pvalues)/len(corrected_p_values))"
   ]
  },
  {
   "cell_type": "code",
   "execution_count": null,
   "metadata": {},
   "outputs": [],
   "source": [
    "stats.combine_pvalues(p_values)"
   ]
  },
  {
   "cell_type": "markdown",
   "metadata": {},
   "source": [
    "# Stats/Visualization for all bacteria"
   ]
  },
  {
   "cell_type": "code",
   "execution_count": 3,
   "metadata": {},
   "outputs": [],
   "source": [
    "all_hosts = pd.read_csv('../Data/compiled_tsvs/all_hosts.tsv', sep = '\\t', index_col = 0)\n",
    "all_viruses = pd.read_csv('../Data/compiled_tsvs/all_viruses.tsv', sep = '\\t', index_col = 0)"
   ]
  },
  {
   "cell_type": "code",
   "execution_count": 17,
   "metadata": {},
   "outputs": [
    {
     "data": {
      "text/html": [
       "<div>\n",
       "<style scoped>\n",
       "    .dataframe tbody tr th:only-of-type {\n",
       "        vertical-align: middle;\n",
       "    }\n",
       "\n",
       "    .dataframe tbody tr th {\n",
       "        vertical-align: top;\n",
       "    }\n",
       "\n",
       "    .dataframe thead th {\n",
       "        text-align: right;\n",
       "    }\n",
       "</style>\n",
       "<table border=\"1\" class=\"dataframe\">\n",
       "  <thead>\n",
       "    <tr style=\"text-align: right;\">\n",
       "      <th></th>\n",
       "      <th>host_id</th>\n",
       "      <th>mean_rbs_energy</th>\n",
       "    </tr>\n",
       "  </thead>\n",
       "  <tbody>\n",
       "    <tr>\n",
       "      <th>0</th>\n",
       "      <td>36809</td>\n",
       "      <td>-3.836585</td>\n",
       "    </tr>\n",
       "    <tr>\n",
       "      <th>1</th>\n",
       "      <td>717959</td>\n",
       "      <td>-1.069793</td>\n",
       "    </tr>\n",
       "    <tr>\n",
       "      <th>2</th>\n",
       "      <td>305</td>\n",
       "      <td>-3.987150</td>\n",
       "    </tr>\n",
       "    <tr>\n",
       "      <th>3</th>\n",
       "      <td>1590</td>\n",
       "      <td>-6.304009</td>\n",
       "    </tr>\n",
       "    <tr>\n",
       "      <th>4</th>\n",
       "      <td>435591</td>\n",
       "      <td>-1.099638</td>\n",
       "    </tr>\n",
       "    <tr>\n",
       "      <th>5</th>\n",
       "      <td>90371</td>\n",
       "      <td>-4.585393</td>\n",
       "    </tr>\n",
       "    <tr>\n",
       "      <th>6</th>\n",
       "      <td>1314</td>\n",
       "      <td>-5.154862</td>\n",
       "    </tr>\n",
       "    <tr>\n",
       "      <th>7</th>\n",
       "      <td>357276</td>\n",
       "      <td>-1.004225</td>\n",
       "    </tr>\n",
       "    <tr>\n",
       "      <th>8</th>\n",
       "      <td>657318</td>\n",
       "      <td>-5.883323</td>\n",
       "    </tr>\n",
       "    <tr>\n",
       "      <th>9</th>\n",
       "      <td>1639</td>\n",
       "      <td>-6.670049</td>\n",
       "    </tr>\n",
       "    <tr>\n",
       "      <th>10</th>\n",
       "      <td>1428</td>\n",
       "      <td>-6.072687</td>\n",
       "    </tr>\n",
       "    <tr>\n",
       "      <th>11</th>\n",
       "      <td>470</td>\n",
       "      <td>-3.766341</td>\n",
       "    </tr>\n",
       "    <tr>\n",
       "      <th>12</th>\n",
       "      <td>573</td>\n",
       "      <td>-4.620658</td>\n",
       "    </tr>\n",
       "    <tr>\n",
       "      <th>13</th>\n",
       "      <td>1280</td>\n",
       "      <td>-5.501948</td>\n",
       "    </tr>\n",
       "    <tr>\n",
       "      <th>14</th>\n",
       "      <td>287</td>\n",
       "      <td>-5.060722</td>\n",
       "    </tr>\n",
       "    <tr>\n",
       "      <th>15</th>\n",
       "      <td>562</td>\n",
       "      <td>-4.767184</td>\n",
       "    </tr>\n",
       "    <tr>\n",
       "      <th>16</th>\n",
       "      <td>28450</td>\n",
       "      <td>-4.585393</td>\n",
       "    </tr>\n",
       "  </tbody>\n",
       "</table>\n",
       "</div>"
      ],
      "text/plain": [
       "    host_id  mean_rbs_energy\n",
       "0     36809        -3.836585\n",
       "1    717959        -1.069793\n",
       "2       305        -3.987150\n",
       "3      1590        -6.304009\n",
       "4    435591        -1.099638\n",
       "5     90371        -4.585393\n",
       "6      1314        -5.154862\n",
       "7    357276        -1.004225\n",
       "8    657318        -5.883323\n",
       "9      1639        -6.670049\n",
       "10     1428        -6.072687\n",
       "11      470        -3.766341\n",
       "12      573        -4.620658\n",
       "13     1280        -5.501948\n",
       "14      287        -5.060722\n",
       "15      562        -4.767184\n",
       "16    28450        -4.585393"
      ]
     },
     "execution_count": 17,
     "metadata": {},
     "output_type": "execute_result"
    }
   ],
   "source": [
    "all_hosts\n",
    "#all_viruses\n"
   ]
  },
  {
   "cell_type": "code",
   "execution_count": null,
   "metadata": {},
   "outputs": [],
   "source": [
    "\n",
    "    "
   ]
  },
  {
   "cell_type": "code",
   "execution_count": null,
   "metadata": {},
   "outputs": [],
   "source": []
  }
 ],
 "metadata": {
  "kernelspec": {
   "display_name": "Python 3",
   "language": "python",
   "name": "python3"
  },
  "language_info": {
   "codemirror_mode": {
    "name": "ipython",
    "version": 3
   },
   "file_extension": ".py",
   "mimetype": "text/x-python",
   "name": "python",
   "nbconvert_exporter": "python",
   "pygments_lexer": "ipython3",
   "version": "3.7.1"
  }
 },
 "nbformat": 4,
 "nbformat_minor": 2
}

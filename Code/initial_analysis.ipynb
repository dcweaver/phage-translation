{
 "cells": [
  {
   "cell_type": "code",
   "execution_count": 1,
   "metadata": {},
   "outputs": [],
   "source": [
    "%matplotlib inline\n",
    "%load_ext autoreload\n",
    "\n",
    "%autoreload 2"
   ]
  },
  {
   "cell_type": "code",
   "execution_count": 2,
   "metadata": {},
   "outputs": [],
   "source": [
    "import json\n",
    "import gff3_parsing\n",
    "from matplotlib import pyplot as plt\n",
    "import pandas as pd\n",
    "import numpy as np\n",
    "from scipy import stats\n",
    "import glob\n",
    "import statsmodels.stats.multitest as multi"
   ]
  },
  {
   "cell_type": "markdown",
   "metadata": {},
   "source": [
    "# Stats/Visualization for single bacteria virus pair"
   ]
  },
  {
   "cell_type": "code",
   "execution_count": 4,
   "metadata": {},
   "outputs": [
    {
     "name": "stdout",
     "output_type": "stream",
     "text": [
      "(4379, 13)\n"
     ]
    }
   ],
   "source": [
    "host_id = 562\n",
    "p_values = []\n",
    "viral_means = []\n",
    "sep = \"\\t\"\n",
    "\n",
    "host_df = pd.read_csv(\"../Data/host_genomes/{}.tsv\".format(host_id), sep = sep)\n",
    "host_mean = np.mean(host_df[\"energy_binding\"])\n",
    "print(host_df.shape)\n",
    "for tsv_file in glob.glob(\"../Data/{}_rep_viruses/*tsv\".format(host_id)):\n",
    "    viral_df = pd.read_csv(tsv_file, sep = sep)\n",
    "    \n",
    "    rstat, p_value = stats.ranksums(host_df[\"energy_binding\"], viral_df[\"energy_binding\"])\n",
    "    p_values.append(p_value)\n",
    "    viral_means.append(np.mean(viral_df[\"energy_binding\"]))"
   ]
  },
  {
   "cell_type": "markdown",
   "metadata": {},
   "source": [
    "**Proportion of viruses that are significantly different than host**"
   ]
  },
  {
   "cell_type": "code",
   "execution_count": 5,
   "metadata": {},
   "outputs": [
    {
     "name": "stdout",
     "output_type": "stream",
     "text": [
      "126 373 0.3378016085790885\n"
     ]
    }
   ],
   "source": [
    "significant_pvalues = []\n",
    "for p in p_values:\n",
    "    if p <= 0.01:\n",
    "        significant_pvalues.append(p)\n",
    "        \n",
    "print(len(significant_pvalues), len(p_values), len(significant_pvalues)/len(p_values))\n"
   ]
  },
  {
   "cell_type": "markdown",
   "metadata": {},
   "source": [
    "**Visualizing p-values**"
   ]
  },
  {
   "cell_type": "code",
   "execution_count": 6,
   "metadata": {},
   "outputs": [
    {
     "data": {
      "text/plain": [
       "<matplotlib.lines.Line2D at 0x1a1ae51240>"
      ]
     },
     "execution_count": 6,
     "metadata": {},
     "output_type": "execute_result"
    },
    {
     "data": {
      "image/png": "[encoded data removed]",
      "text/plain": [
       "<Figure size 432x288 with 1 Axes>"
      ]
     },
     "metadata": {
      "needs_background": "light"
     },
     "output_type": "display_data"
    },
    {
     "data": {
      "image/png": "[encoded data removed]",
      "text/plain": [
       "<Figure size 432x288 with 1 Axes>"
      ]
     },
     "metadata": {
      "needs_background": "light"
     },
     "output_type": "display_data"
    },
    {
     "data": {
      "image/png": "[encoded data removed]",
      "text/plain": [
       "<Figure size 432x288 with 1 Axes>"
      ]
     },
     "metadata": {
      "needs_background": "light"
     },
     "output_type": "display_data"
    }
   ],
   "source": [
    "#2\n",
    "fig, ax = plt.subplots()\n",
    "ax.hist(p_values, 20, density = True)\n",
    "ax.axvline(0.01, color = \"r\")\n",
    "\n",
    "\n",
    "fig2, ax2 = plt.subplots()\n",
    "ax2.hist(viral_means, density= True, alpha = 0.3)\n",
    "ax2.axvline(host_mean, color = \"r\")\n",
    "\n",
    "fig3, ax = plt.subplots()\n",
    "ax.set_ylabel(\"P-Values for ranked sums\")\n",
    "ax.set_xlabel(\"Mean difference in energy binding strength\")\n",
    "ax.tick_params(labelsize = 15)\n",
    "ax.semilogy(np.array(viral_means)-host_mean,p_values, marker = \"o\", linestyle = \"\")\n",
    "ax.axvline(0, color = \"r\")\n",
    "ax.axhline(.01, color = \"r\")"
   ]
  },
  {
   "cell_type": "markdown",
   "metadata": {},
   "source": [
    "**Correcting for multiple hypotheses**"
   ]
  },
  {
   "cell_type": "code",
   "execution_count": 7,
   "metadata": {},
   "outputs": [
    {
     "name": "stdout",
     "output_type": "stream",
     "text": [
      "85 373 0.22788203753351208\n"
     ]
    },
    {
     "data": {
      "image/png": "[encoded data removed]",
      "text/plain": [
       "<Figure size 432x288 with 1 Axes>"
      ]
     },
     "metadata": {
      "needs_background": "light"
     },
     "output_type": "display_data"
    }
   ],
   "source": [
    "truth_array, corrected_p_values = multi.fdrcorrection(p_values)\n",
    "\n",
    "fig, ax = plt.subplots()\n",
    "ax.hist(corrected_p_values, 20, density = True)\n",
    "ax.axvline(0.01, color = \"r\")\n",
    "\n",
    "\n",
    "significant_pvalues = []\n",
    "for p in corrected_p_values:\n",
    "    if p <= 0.01:\n",
    "        significant_pvalues.append(p)\n",
    "        \n",
    "print(len(significant_pvalues), len(corrected_p_values), len(significant_pvalues)/len(corrected_p_values))"
   ]
  },
  {
   "cell_type": "code",
   "execution_count": 8,
   "metadata": {},
   "outputs": [
    {
     "data": {
      "text/plain": [
       "(3624.7470661588354, 0.0)"
      ]
     },
     "execution_count": 8,
     "metadata": {},
     "output_type": "execute_result"
    }
   ],
   "source": [
    "stats.combine_pvalues(p_values)"
   ]
  },
  {
   "cell_type": "markdown",
   "metadata": {},
   "source": [
    "# Stats/Visualization for all bacteria"
   ]
  },
  {
   "cell_type": "code",
   "execution_count": null,
   "metadata": {},
   "outputs": [],
   "source": []
  }
 ],
 "metadata": {
  "kernelspec": {
   "display_name": "Python 3",
   "language": "python",
   "name": "python3"
  },
  "language_info": {
   "codemirror_mode": {
    "name": "ipython",
    "version": 3
   },
   "file_extension": ".py",
   "mimetype": "text/x-python",
   "name": "python",
   "nbconvert_exporter": "python",
   "pygments_lexer": "ipython3",
   "version": "3.7.1"
  }
 },
 "nbformat": 4,
 "nbformat_minor": 2
}

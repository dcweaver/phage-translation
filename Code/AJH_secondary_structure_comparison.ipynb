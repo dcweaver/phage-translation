{
 "cells": [
  {
   "cell_type": "code",
   "execution_count": 1,
   "metadata": {
    "collapsed": true
   },
   "outputs": [],
   "source": [
    "%matplotlib inline"
   ]
  },
  {
   "cell_type": "code",
   "execution_count": 2,
   "metadata": {
    "collapsed": true
   },
   "outputs": [],
   "source": [
    "import json\n",
    "import gff3_parsing\n",
    "import subprocess\n",
    "from matplotlib import pyplot as plt\n",
    "# import pandas as pd\n",
    "import numpy as np\n",
    "from scipy import stats\n",
    "import glob"
   ]
  },
  {
   "cell_type": "code",
   "execution_count": 42,
   "metadata": {
    "collapsed": false
   },
   "outputs": [],
   "source": [
    "def analyze_secondary(dataframe, energy_dict, constraint, expected_len=50):\n",
    "    for index in dataframe.index[:]:\n",
    "#         upstream = dataframe.loc[index,\"upstream_sequence\"]\n",
    "#         downstream = dataframe.loc[index,\"coding_sequence\"][:expected_len]\n",
    "#         if len(upstream) != expected_len:\n",
    "#             continue\n",
    "#         if len(downstream) != expected_len:\n",
    "#             continue\n",
    "#         test_string = upstream.replace(\"T\", \"U\")+downstream.replace(\"T\", \"U\")\n",
    "        cds = dataframe.loc[index, \"coding_sequence\"]\n",
    "        mp = len(cds)//2\n",
    "        test_string = cds[mp-50:mp+50]\n",
    "        if len(test_string) != 100:\n",
    "            continue\n",
    "        test_string = test_string.replace('T', 'U')\n",
    "        if test_string.count(\"A\") + test_string.count(\"U\") +\\\n",
    "                                    test_string.count(\"C\") + test_string.count(\"G\") != len(test_string):\n",
    "            continue\n",
    "        RNA_out = call_RNAfold(test_string)\n",
    "        ensemble, mfe = get_energy_RNAfold(RNA_out)\n",
    "        dataframe.at[index, \"secondary_structure\"] = ensemble\n",
    "        \n",
    "        ###Now call it in the constrained form such that the SD region is unpaired\n",
    "        RNA_out = call_RNAfold(str(test_string)+'\\n'+constraint)\n",
    "        ensemble, mfe = get_energy_RNAfold(RNA_out)\n",
    "        dataframe.at[index, 'secondary_structure_constrained'] = ensemble\n",
    "    return dataframe\n",
    "\n",
    "def call_RNAfold(sequence):\n",
    "    MyOut = subprocess.Popen(['RNAfold', '-p', '--noPS', '--constraint'],\n",
    "            stdin=subprocess.PIPE,\n",
    "            stdout=subprocess.PIPE, \n",
    "            stderr=subprocess.STDOUT)\n",
    "    stdout, stderr = MyOut.communicate(input=str.encode(sequence))\n",
    "    return stdout\n",
    "\n",
    "def get_energy_RNAfold(stdout_string):\n",
    "    temp = stdout_string.decode(\"utf-8\") \n",
    "    energy_line = temp.split('\\n')[-5]\n",
    "    energy_val = energy_line[energy_line.index(' '):]\n",
    "    energy_val = energy_val.strip().strip('()').strip()\n",
    "    \n",
    "    mfe_line = temp.split('\\n')[-4]\n",
    "    mfe_val = mfe_line[energy_line.index(' '):]\n",
    "    mfe_val = mfe_val.strip().strip('[]').strip()\n",
    "    return float(energy_val), float(mfe_val)    \n",
    "\n",
    "\n"
   ]
  },
  {
   "cell_type": "code",
   "execution_count": 35,
   "metadata": {
    "collapsed": false
   },
   "outputs": [
    {
     "name": "stdout",
     "output_type": "stream",
     "text": [
      "100\n"
     ]
    }
   ],
   "source": [
    "constraint = ('.'*37) + ('x'*25)+ ('.'*38)\n",
    "print(len(constraint))"
   ]
  },
  {
   "cell_type": "code",
   "execution_count": 49,
   "metadata": {
    "collapsed": false
   },
   "outputs": [],
   "source": [
    "with open('../Data/energy_files/energyRef_CCUCCU_mfe_noneConstraint.json', 'r') as infile:\n",
    "       energy_dict = json.load(infile)\n",
    "\n",
    "\n",
    "host_df, host_genome = gff3_parsing.compile_sequences([\"../Data/host_genomes/562.gff3\"],\\\n",
    "                                                    [\"../Data/host_genomes/562.fasta\"], 50)\n",
    "host_df = host_df.head(n=400)\n",
    "host_df = analyze_secondary(host_df, energy_dict, constraint, 50)\n",
    "host_df = host_df[host_df['secondary_structure'].isnull()==False]"
   ]
  },
  {
   "cell_type": "code",
   "execution_count": 52,
   "metadata": {
    "collapsed": false
   },
   "outputs": [
    {
     "name": "stdout",
     "output_type": "stream",
     "text": [
      "(390, 15)\n"
     ]
    },
    {
     "data": {
      "text/html": [
       "<div>\n",
       "<style>\n",
       "    .dataframe thead tr:only-child th {\n",
       "        text-align: right;\n",
       "    }\n",
       "\n",
       "    .dataframe thead th {\n",
       "        text-align: left;\n",
       "    }\n",
       "\n",
       "    .dataframe tbody tr th {\n",
       "        vertical-align: top;\n",
       "    }\n",
       "</style>\n",
       "<table border=\"1\" class=\"dataframe\">\n",
       "  <thead>\n",
       "    <tr style=\"text-align: right;\">\n",
       "      <th></th>\n",
       "      <th>genome_id</th>\n",
       "      <th>source</th>\n",
       "      <th>type</th>\n",
       "      <th>start</th>\n",
       "      <th>stop</th>\n",
       "      <th>idk</th>\n",
       "      <th>strand</th>\n",
       "      <th>trash</th>\n",
       "      <th>qualifiers</th>\n",
       "      <th>coding_sequence</th>\n",
       "      <th>upstream_sequence</th>\n",
       "      <th>secondary_structure</th>\n",
       "      <th>secondary_structure_constrained</th>\n",
       "      <th>ss_diff</th>\n",
       "      <th>ss_ratio</th>\n",
       "    </tr>\n",
       "  </thead>\n",
       "  <tbody>\n",
       "    <tr>\n",
       "      <th>4</th>\n",
       "      <td>NC_000913.3</td>\n",
       "      <td>RefSeq</td>\n",
       "      <td>CDS</td>\n",
       "      <td>337</td>\n",
       "      <td>2799</td>\n",
       "      <td>.</td>\n",
       "      <td>+</td>\n",
       "      <td>0</td>\n",
       "      <td>ID=cds-NP_414543.1;Parent=gene-b0002;Dbxref=Un...</td>\n",
       "      <td>ATGCGAGTGTTGAAGTTCGGCGGTACATCAGTGGCAAATGCAGAAC...</td>\n",
       "      <td>CCTGACAGTGCGGGCTTTTTTTTTCGACCAAAGGTAACGAGGTAAC...</td>\n",
       "      <td>-37.0</td>\n",
       "      <td>-19.00</td>\n",
       "      <td>-18.00</td>\n",
       "      <td>0.486486</td>\n",
       "    </tr>\n",
       "    <tr>\n",
       "      <th>6</th>\n",
       "      <td>NC_000913.3</td>\n",
       "      <td>RefSeq</td>\n",
       "      <td>CDS</td>\n",
       "      <td>2801</td>\n",
       "      <td>3733</td>\n",
       "      <td>.</td>\n",
       "      <td>+</td>\n",
       "      <td>0</td>\n",
       "      <td>ID=cds-NP_414544.1;Parent=gene-b0003;Dbxref=Un...</td>\n",
       "      <td>ATGGTTAAAGTTTATGCCCCGGCTTCCAGTGCCAATATGAGCGTCG...</td>\n",
       "      <td>TGTCTTTGCTGATCTGCTACGTACCCTCTCATGGAAGTTAGGAGTC...</td>\n",
       "      <td>-28.9</td>\n",
       "      <td>-22.40</td>\n",
       "      <td>-6.50</td>\n",
       "      <td>0.224913</td>\n",
       "    </tr>\n",
       "    <tr>\n",
       "      <th>8</th>\n",
       "      <td>NC_000913.3</td>\n",
       "      <td>RefSeq</td>\n",
       "      <td>CDS</td>\n",
       "      <td>3734</td>\n",
       "      <td>5020</td>\n",
       "      <td>.</td>\n",
       "      <td>+</td>\n",
       "      <td>0</td>\n",
       "      <td>ID=cds-NP_414545.1;Parent=gene-b0004;Dbxref=Un...</td>\n",
       "      <td>ATGAAACTCTACAATCTGAAAGATCACAACGAGCAGGTCAGCTTTG...</td>\n",
       "      <td>TTCATATTTGCCGGCTGGATACGGCGGGCGCACGAGTACTGGAAAA...</td>\n",
       "      <td>-19.7</td>\n",
       "      <td>-13.07</td>\n",
       "      <td>-6.63</td>\n",
       "      <td>0.336548</td>\n",
       "    </tr>\n",
       "    <tr>\n",
       "      <th>10</th>\n",
       "      <td>NC_000913.3</td>\n",
       "      <td>RefSeq</td>\n",
       "      <td>CDS</td>\n",
       "      <td>5234</td>\n",
       "      <td>5530</td>\n",
       "      <td>.</td>\n",
       "      <td>+</td>\n",
       "      <td>0</td>\n",
       "      <td>ID=cds-NP_414546.1;Parent=gene-b0005;Dbxref=Un...</td>\n",
       "      <td>GTGAAAAAGATGCAATCTATCGTACTCGCACTTTCCCTGGTTCTGG...</td>\n",
       "      <td>GTAATCTCCGGATATCGACCCATAACGGGCAATGATAAAAGGAGTA...</td>\n",
       "      <td>-23.6</td>\n",
       "      <td>-9.87</td>\n",
       "      <td>-13.73</td>\n",
       "      <td>0.581780</td>\n",
       "    </tr>\n",
       "    <tr>\n",
       "      <th>14</th>\n",
       "      <td>NC_000913.3</td>\n",
       "      <td>RefSeq</td>\n",
       "      <td>CDS</td>\n",
       "      <td>5683</td>\n",
       "      <td>6459</td>\n",
       "      <td>.</td>\n",
       "      <td>-</td>\n",
       "      <td>0</td>\n",
       "      <td>ID=cds-NP_414547.1;Parent=gene-b0006;Dbxref=Un...</td>\n",
       "      <td>ATGCTGATTCTTATTTCACCTGCGAAAACGCTTGATTACCAAAGCC...</td>\n",
       "      <td>CATTCTCATTTTTTGCTAAAGTCGGCATAAATTTCCTGCAAGGACT...</td>\n",
       "      <td>-19.2</td>\n",
       "      <td>-9.40</td>\n",
       "      <td>-9.80</td>\n",
       "      <td>0.510417</td>\n",
       "    </tr>\n",
       "  </tbody>\n",
       "</table>\n",
       "</div>"
      ],
      "text/plain": [
       "      genome_id  source type  start  stop idk strand trash  \\\n",
       "4   NC_000913.3  RefSeq  CDS    337  2799   .      +     0   \n",
       "6   NC_000913.3  RefSeq  CDS   2801  3733   .      +     0   \n",
       "8   NC_000913.3  RefSeq  CDS   3734  5020   .      +     0   \n",
       "10  NC_000913.3  RefSeq  CDS   5234  5530   .      +     0   \n",
       "14  NC_000913.3  RefSeq  CDS   5683  6459   .      -     0   \n",
       "\n",
       "                                           qualifiers  \\\n",
       "4   ID=cds-NP_414543.1;Parent=gene-b0002;Dbxref=Un...   \n",
       "6   ID=cds-NP_414544.1;Parent=gene-b0003;Dbxref=Un...   \n",
       "8   ID=cds-NP_414545.1;Parent=gene-b0004;Dbxref=Un...   \n",
       "10  ID=cds-NP_414546.1;Parent=gene-b0005;Dbxref=Un...   \n",
       "14  ID=cds-NP_414547.1;Parent=gene-b0006;Dbxref=Un...   \n",
       "\n",
       "                                      coding_sequence  \\\n",
       "4   ATGCGAGTGTTGAAGTTCGGCGGTACATCAGTGGCAAATGCAGAAC...   \n",
       "6   ATGGTTAAAGTTTATGCCCCGGCTTCCAGTGCCAATATGAGCGTCG...   \n",
       "8   ATGAAACTCTACAATCTGAAAGATCACAACGAGCAGGTCAGCTTTG...   \n",
       "10  GTGAAAAAGATGCAATCTATCGTACTCGCACTTTCCCTGGTTCTGG...   \n",
       "14  ATGCTGATTCTTATTTCACCTGCGAAAACGCTTGATTACCAAAGCC...   \n",
       "\n",
       "                                    upstream_sequence  secondary_structure  \\\n",
       "4   CCTGACAGTGCGGGCTTTTTTTTTCGACCAAAGGTAACGAGGTAAC...                -37.0   \n",
       "6   TGTCTTTGCTGATCTGCTACGTACCCTCTCATGGAAGTTAGGAGTC...                -28.9   \n",
       "8   TTCATATTTGCCGGCTGGATACGGCGGGCGCACGAGTACTGGAAAA...                -19.7   \n",
       "10  GTAATCTCCGGATATCGACCCATAACGGGCAATGATAAAAGGAGTA...                -23.6   \n",
       "14  CATTCTCATTTTTTGCTAAAGTCGGCATAAATTTCCTGCAAGGACT...                -19.2   \n",
       "\n",
       "    secondary_structure_constrained  ss_diff  ss_ratio  \n",
       "4                            -19.00   -18.00  0.486486  \n",
       "6                            -22.40    -6.50  0.224913  \n",
       "8                            -13.07    -6.63  0.336548  \n",
       "10                            -9.87   -13.73  0.581780  \n",
       "14                            -9.40    -9.80  0.510417  "
      ]
     },
     "execution_count": 52,
     "metadata": {},
     "output_type": "execute_result"
    }
   ],
   "source": [
    "print(host_df.shape)\n",
    "host_df.head()"
   ]
  },
  {
   "cell_type": "code",
   "execution_count": 53,
   "metadata": {
    "collapsed": false
   },
   "outputs": [],
   "source": [
    "host_df['ss_diff'] = host_df['secondary_structure'] - host_df['secondary_structure_constrained']\n",
    "host_df['ss_ratio'] = (host_df['secondary_structure'] - host_df['secondary_structure_constrained'])/\\\n",
    "                        host_df['secondary_structure']"
   ]
  },
  {
   "cell_type": "code",
   "execution_count": 54,
   "metadata": {
    "collapsed": false
   },
   "outputs": [
    {
     "name": "stdout",
     "output_type": "stream",
     "text": [
      "-26.880000000000003 -10.578410256410256 0.3923606130090835\n"
     ]
    }
   ],
   "source": [
    "print(np.mean(host_df['secondary_structure']), np.mean(host_df['ss_diff']), np.mean(host_df['ss_ratio']))"
   ]
  },
  {
   "cell_type": "code",
   "execution_count": 55,
   "metadata": {
    "collapsed": false
   },
   "outputs": [
    {
     "name": "stdout",
     "output_type": "stream",
     "text": [
      "-24.0561797752809 -9.826179775280899 0.40930001496730317\n",
      "-25.4271186440678 -9.752542372881358 0.3755356796583343\n",
      "-26.770833333333332 -10.920416666666668 0.3996246994827932\n",
      "-25.519672131147544 -10.200163934426229 0.40021579223173037\n",
      "-25.72278481012658 -9.939746835443037 0.3875234948974587\n",
      "-25.66153846153846 -9.63153846153846 0.37411334678543745\n",
      "-27.4703125 -11.075 0.40372473422497546\n",
      "-25.333333333333332 -10.105897435897438 0.40523292482295137\n",
      "-27.659523809523808 -10.567142857142859 0.38302196252450266\n",
      "-25.750909090909087 -10.098363636363633 0.40242699660443987\n"
     ]
    }
   ],
   "source": [
    "mean_difs = []\n",
    "mean_dif_difs = []\n",
    "p_values_difs = []\n",
    "p_values_dif_difs = []\n",
    "\n",
    "for gff_file in glob.glob(\"../Data/562_rep_viruses/*.gff\")[:10]:\n",
    "    #print(gff_file)\n",
    "    fasta_file = \"../Data/562_rep_viruses/\" + gff_file.split(\"/\")[-1].replace(\"gff\", \"fasta\")\n",
    "    \n",
    "    viral_df, viral_genome = gff3_parsing.compile_sequences([gff_file],[fasta_file], 50)\n",
    "    viral_df = analyze_secondary(viral_df, energy_dict, constraint, 50)\n",
    "    viral_df = viral_df[viral_df['secondary_structure'].isnull()==False]\n",
    "    viral_df['ss_diff'] = viral_df['secondary_structure'] - viral_df['secondary_structure_constrained']\n",
    "    viral_df['ss_ratio'] = (viral_df['secondary_structure'] - viral_df['secondary_structure_constrained'])/\\\n",
    "                        viral_df['secondary_structure']\n",
    "    print(np.mean(viral_df['secondary_structure']), np.mean(viral_df['ss_diff']), np.mean(viral_df['ss_ratio']))\n",
    "    \n",
    "    rstat, p_value = stats.ranksums(viral_df[\"secondary_structure\"], host_df[\"secondary_structure\"])\n",
    "    p_values.append(p_value)\n",
    "    mean_difs.append(np.mean(viral_df[\"secondary_structure\"]) - np.mean(host_df[\"secondary_structure\"]))\n",
    "    \n",
    "        \n",
    "    rstat, p_value = stats.ranksums(viral_df[\"ss_diff\"], host_df[\"ss_diff\"])\n",
    "    p_values_difs.append(p_value)\n",
    "    mean_dif_difs.append(np.mean(viral_df[\"ss_diff\"]) - np.mean(host_df[\"ss_diff\"]))"
   ]
  },
  {
   "cell_type": "code",
   "execution_count": null,
   "metadata": {
    "collapsed": false
   },
   "outputs": [],
   "source": [
    "np.mean(viral_df['secondary_structure']), np.mean(host_df['secondary_structure'])"
   ]
  },
  {
   "cell_type": "code",
   "execution_count": null,
   "metadata": {
    "collapsed": false
   },
   "outputs": [],
   "source": [
    "np.mean(viral_df['secondary_structure_constrained']), np.mean(host_df['secondary_structure_constrained'])"
   ]
  },
  {
   "cell_type": "code",
   "execution_count": null,
   "metadata": {
    "collapsed": false
   },
   "outputs": [],
   "source": [
    "host_df['secondary_structure'].isnull().sum(),viral_df['secondary_structure'].isnull().sum() "
   ]
  },
  {
   "cell_type": "code",
   "execution_count": 56,
   "metadata": {
    "collapsed": false
   },
   "outputs": [
    {
     "data": {
      "text/plain": [
       "(array([1., 1., 0., 1., 0., 0., 3., 1., 1., 2.]),\n",
       " array([-0.49658974, -0.35224359, -0.20789744, -0.06355128,  0.08079487,\n",
       "         0.22514103,  0.36948718,  0.51383333,  0.65817949,  0.80252564,\n",
       "         0.94687179]),\n",
       " <a list of 10 Patch objects>)"
      ]
     },
     "execution_count": 56,
     "metadata": {},
     "output_type": "execute_result"
    },
    {
     "data": {
      "image/png": "[encoded data removed]",
      "text/plain": [
       "<matplotlib.figure.Figure at 0x118326828>"
      ]
     },
     "metadata": {},
     "output_type": "display_data"
    },
    {
     "data": {
      "image/png": "[encoded data removed]",
      "text/plain": [
       "<matplotlib.figure.Figure at 0x11ba616a0>"
      ]
     },
     "metadata": {},
     "output_type": "display_data"
    }
   ],
   "source": [
    "fig, ax = plt.subplots()\n",
    "ax.hist(mean_difs)\n",
    "fig, ax = plt.subplots()\n",
    "ax.hist(mean_dif_difs)\n",
    "# ax.semilogy(mean_difs, p_values, 'bo')"
   ]
  },
  {
   "cell_type": "code",
   "execution_count": null,
   "metadata": {
    "collapsed": true
   },
   "outputs": [],
   "source": []
  }
 ],
 "metadata": {
  "kernelspec": {
   "display_name": "Python 3",
   "language": "python",
   "name": "python3"
  },
  "language_info": {
   "codemirror_mode": {
    "name": "ipython",
    "version": 3
   },
   "file_extension": ".py",
   "mimetype": "text/x-python",
   "name": "python",
   "nbconvert_exporter": "python",
   "pygments_lexer": "ipython3",
   "version": "3.4.5"
  },
  "toc": {
   "colors": {
    "hover_highlight": "#DAA520",
    "navigate_num": "#000000",
    "navigate_text": "#333333",
    "running_highlight": "#FF0000",
    "selected_highlight": "#FFD700",
    "sidebar_border": "#EEEEEE",
    "wrapper_background": "#FFFFFF"
   },
   "moveMenuLeft": true,
   "nav_menu": {
    "height": "12px",
    "width": "252px"
   },
   "navigate_menu": true,
   "number_sections": true,
   "sideBar": true,
   "threshold": 4,
   "toc_cell": false,
   "toc_section_display": "block",
   "toc_window_display": false,
   "widenNotebook": false
  }
 },
 "nbformat": 4,
 "nbformat_minor": 2
}
